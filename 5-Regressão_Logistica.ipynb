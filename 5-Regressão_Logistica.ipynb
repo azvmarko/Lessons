{
 "cells": [
  {
   "cell_type": "markdown",
   "metadata": {},
   "source": [
    "# Regressão Logística"
   ]
  },
  {
   "cell_type": "markdown",
   "metadata": {},
   "source": [
    "Essa técnica estatística tem como objetivo a predição de valores a partir de uma variável categórica, binária, e de outras variáveis explicativas contínuas ou binárias.\n",
    "\n",
    "Também conhecida como modelo logístico, modelo logit, e classificador de máxima entropia é muito usada em ciências médicas e ciências sociais para:\n",
    "\n",
    "- Medicina, permite determinar os fatores que caracterizam um grupo de indivíduos doentes em relação a indivíduos sãos.\n",
    "- Seguros, permite encontrar fracções da clientela que sejam sensíveis a determinada política securitária em relação a um dado risco particular.\n",
    "- Instituições financeiras, pode detectar os grupos de risco para a subscrição de um crédito.\n",
    "- Econometria, permite explicar uma variável discreta, como por exemplo as intenções de voto em atos eleitorais.\n",
    "\n",
    "Existem uma série de ferramentas que ajudam a interpretar os resultados e por ter como resposta uma variável categórica, pode-se comparar seus resultados com outras técnicas preditivas como árvores de decisão, redes neurais etc.\n"
   ]
  },
  {
   "cell_type": "markdown",
   "metadata": {},
   "source": [
    "### Exemplo"
   ]
  },
  {
   "cell_type": "markdown",
   "metadata": {},
   "source": [
    "Analisando as correlações parciais e os impactos causais em variaveis dependentes binárias.\n",
    "\n",
    "Cerca de um em cada sete adultos dos EUA tem diabetes agora, de acordo com os Centros para Controle e Prevenção de Doenças. Mas até 2050, essa taxa pode disparar para até um em três. Com isto em mente: Aprender a usar o Aprendizado de Máquina para ajudar a prever o Diabetes. \n",
    "\n",
    "Dataset 1: Diabetes\n",
    "    1. preg = Number of times pregnant\n",
    "    2. plas = Plasma glucose concentration a 2 hours in an oral glucose tolerance test\n",
    "    3. pres = Diastolic blood pressure (mm Hg)\n",
    "    4. skin = Triceps skin fold thickness (mm)\n",
    "    5. insu = 2-Hour serum insulin (mu U/ml)\n",
    "    6. mass = Body mass index (weight in kg/(height in m)^2)\n",
    "    7. pedi = Diabetes pedigree function\n",
    "    8. age = Age (years)\n",
    "    9. class = Class variable (0 or 1)"
   ]
  },
  {
   "cell_type": "code",
   "execution_count": 1,
   "metadata": {},
   "outputs": [
    {
     "data": {
      "text/html": [
       "\n",
       "    <div class=\"bk-root\">\n",
       "        <a href=\"https://bokeh.pydata.org\" target=\"_blank\" class=\"bk-logo bk-logo-small bk-logo-notebook\"></a>\n",
       "        <span id=\"1001\">Loading BokehJS ...</span>\n",
       "    </div>"
      ]
     },
     "metadata": {},
     "output_type": "display_data"
    },
    {
     "data": {
      "application/javascript": [
       "\n",
       "(function(root) {\n",
       "  function now() {\n",
       "    return new Date();\n",
       "  }\n",
       "\n",
       "  var force = true;\n",
       "\n",
       "  if (typeof root._bokeh_onload_callbacks === \"undefined\" || force === true) {\n",
       "    root._bokeh_onload_callbacks = [];\n",
       "    root._bokeh_is_loading = undefined;\n",
       "  }\n",
       "\n",
       "  var JS_MIME_TYPE = 'application/javascript';\n",
       "  var HTML_MIME_TYPE = 'text/html';\n",
       "  var EXEC_MIME_TYPE = 'application/vnd.bokehjs_exec.v0+json';\n",
       "  var CLASS_NAME = 'output_bokeh rendered_html';\n",
       "\n",
       "  /**\n",
       "   * Render data to the DOM node\n",
       "   */\n",
       "  function render(props, node) {\n",
       "    var script = document.createElement(\"script\");\n",
       "    node.appendChild(script);\n",
       "  }\n",
       "\n",
       "  /**\n",
       "   * Handle when an output is cleared or removed\n",
       "   */\n",
       "  function handleClearOutput(event, handle) {\n",
       "    var cell = handle.cell;\n",
       "\n",
       "    var id = cell.output_area._bokeh_element_id;\n",
       "    var server_id = cell.output_area._bokeh_server_id;\n",
       "    // Clean up Bokeh references\n",
       "    if (id != null && id in Bokeh.index) {\n",
       "      Bokeh.index[id].model.document.clear();\n",
       "      delete Bokeh.index[id];\n",
       "    }\n",
       "\n",
       "    if (server_id !== undefined) {\n",
       "      // Clean up Bokeh references\n",
       "      var cmd = \"from bokeh.io.state import curstate; print(curstate().uuid_to_server['\" + server_id + \"'].get_sessions()[0].document.roots[0]._id)\";\n",
       "      cell.notebook.kernel.execute(cmd, {\n",
       "        iopub: {\n",
       "          output: function(msg) {\n",
       "            var id = msg.content.text.trim();\n",
       "            if (id in Bokeh.index) {\n",
       "              Bokeh.index[id].model.document.clear();\n",
       "              delete Bokeh.index[id];\n",
       "            }\n",
       "          }\n",
       "        }\n",
       "      });\n",
       "      // Destroy server and session\n",
       "      var cmd = \"import bokeh.io.notebook as ion; ion.destroy_server('\" + server_id + \"')\";\n",
       "      cell.notebook.kernel.execute(cmd);\n",
       "    }\n",
       "  }\n",
       "\n",
       "  /**\n",
       "   * Handle when a new output is added\n",
       "   */\n",
       "  function handleAddOutput(event, handle) {\n",
       "    var output_area = handle.output_area;\n",
       "    var output = handle.output;\n",
       "\n",
       "    // limit handleAddOutput to display_data with EXEC_MIME_TYPE content only\n",
       "    if ((output.output_type != \"display_data\") || (!output.data.hasOwnProperty(EXEC_MIME_TYPE))) {\n",
       "      return\n",
       "    }\n",
       "\n",
       "    var toinsert = output_area.element.find(\".\" + CLASS_NAME.split(' ')[0]);\n",
       "\n",
       "    if (output.metadata[EXEC_MIME_TYPE][\"id\"] !== undefined) {\n",
       "      toinsert[toinsert.length - 1].firstChild.textContent = output.data[JS_MIME_TYPE];\n",
       "      // store reference to embed id on output_area\n",
       "      output_area._bokeh_element_id = output.metadata[EXEC_MIME_TYPE][\"id\"];\n",
       "    }\n",
       "    if (output.metadata[EXEC_MIME_TYPE][\"server_id\"] !== undefined) {\n",
       "      var bk_div = document.createElement(\"div\");\n",
       "      bk_div.innerHTML = output.data[HTML_MIME_TYPE];\n",
       "      var script_attrs = bk_div.children[0].attributes;\n",
       "      for (var i = 0; i < script_attrs.length; i++) {\n",
       "        toinsert[toinsert.length - 1].firstChild.setAttribute(script_attrs[i].name, script_attrs[i].value);\n",
       "      }\n",
       "      // store reference to server id on output_area\n",
       "      output_area._bokeh_server_id = output.metadata[EXEC_MIME_TYPE][\"server_id\"];\n",
       "    }\n",
       "  }\n",
       "\n",
       "  function register_renderer(events, OutputArea) {\n",
       "\n",
       "    function append_mime(data, metadata, element) {\n",
       "      // create a DOM node to render to\n",
       "      var toinsert = this.create_output_subarea(\n",
       "        metadata,\n",
       "        CLASS_NAME,\n",
       "        EXEC_MIME_TYPE\n",
       "      );\n",
       "      this.keyboard_manager.register_events(toinsert);\n",
       "      // Render to node\n",
       "      var props = {data: data, metadata: metadata[EXEC_MIME_TYPE]};\n",
       "      render(props, toinsert[toinsert.length - 1]);\n",
       "      element.append(toinsert);\n",
       "      return toinsert\n",
       "    }\n",
       "\n",
       "    /* Handle when an output is cleared or removed */\n",
       "    events.on('clear_output.CodeCell', handleClearOutput);\n",
       "    events.on('delete.Cell', handleClearOutput);\n",
       "\n",
       "    /* Handle when a new output is added */\n",
       "    events.on('output_added.OutputArea', handleAddOutput);\n",
       "\n",
       "    /**\n",
       "     * Register the mime type and append_mime function with output_area\n",
       "     */\n",
       "    OutputArea.prototype.register_mime_type(EXEC_MIME_TYPE, append_mime, {\n",
       "      /* Is output safe? */\n",
       "      safe: true,\n",
       "      /* Index of renderer in `output_area.display_order` */\n",
       "      index: 0\n",
       "    });\n",
       "  }\n",
       "\n",
       "  // register the mime type if in Jupyter Notebook environment and previously unregistered\n",
       "  if (root.Jupyter !== undefined) {\n",
       "    var events = require('base/js/events');\n",
       "    var OutputArea = require('notebook/js/outputarea').OutputArea;\n",
       "\n",
       "    if (OutputArea.prototype.mime_types().indexOf(EXEC_MIME_TYPE) == -1) {\n",
       "      register_renderer(events, OutputArea);\n",
       "    }\n",
       "  }\n",
       "\n",
       "  \n",
       "  if (typeof (root._bokeh_timeout) === \"undefined\" || force === true) {\n",
       "    root._bokeh_timeout = Date.now() + 5000;\n",
       "    root._bokeh_failed_load = false;\n",
       "  }\n",
       "\n",
       "  var NB_LOAD_WARNING = {'data': {'text/html':\n",
       "     \"<div style='background-color: #fdd'>\\n\"+\n",
       "     \"<p>\\n\"+\n",
       "     \"BokehJS does not appear to have successfully loaded. If loading BokehJS from CDN, this \\n\"+\n",
       "     \"may be due to a slow or bad network connection. Possible fixes:\\n\"+\n",
       "     \"</p>\\n\"+\n",
       "     \"<ul>\\n\"+\n",
       "     \"<li>re-rerun `output_notebook()` to attempt to load from CDN again, or</li>\\n\"+\n",
       "     \"<li>use INLINE resources instead, as so:</li>\\n\"+\n",
       "     \"</ul>\\n\"+\n",
       "     \"<code>\\n\"+\n",
       "     \"from bokeh.resources import INLINE\\n\"+\n",
       "     \"output_notebook(resources=INLINE)\\n\"+\n",
       "     \"</code>\\n\"+\n",
       "     \"</div>\"}};\n",
       "\n",
       "  function display_loaded() {\n",
       "    var el = document.getElementById(\"1001\");\n",
       "    if (el != null) {\n",
       "      el.textContent = \"BokehJS is loading...\";\n",
       "    }\n",
       "    if (root.Bokeh !== undefined) {\n",
       "      if (el != null) {\n",
       "        el.textContent = \"BokehJS \" + root.Bokeh.version + \" successfully loaded.\";\n",
       "      }\n",
       "    } else if (Date.now() < root._bokeh_timeout) {\n",
       "      setTimeout(display_loaded, 100)\n",
       "    }\n",
       "  }\n",
       "\n",
       "\n",
       "  function run_callbacks() {\n",
       "    try {\n",
       "      root._bokeh_onload_callbacks.forEach(function(callback) {\n",
       "        if (callback != null)\n",
       "          callback();\n",
       "      });\n",
       "    } finally {\n",
       "      delete root._bokeh_onload_callbacks\n",
       "    }\n",
       "    console.debug(\"Bokeh: all callbacks have finished\");\n",
       "  }\n",
       "\n",
       "  function load_libs(css_urls, js_urls, callback) {\n",
       "    if (css_urls == null) css_urls = [];\n",
       "    if (js_urls == null) js_urls = [];\n",
       "\n",
       "    root._bokeh_onload_callbacks.push(callback);\n",
       "    if (root._bokeh_is_loading > 0) {\n",
       "      console.debug(\"Bokeh: BokehJS is being loaded, scheduling callback at\", now());\n",
       "      return null;\n",
       "    }\n",
       "    if (js_urls == null || js_urls.length === 0) {\n",
       "      run_callbacks();\n",
       "      return null;\n",
       "    }\n",
       "    console.debug(\"Bokeh: BokehJS not loaded, scheduling load and callback at\", now());\n",
       "    root._bokeh_is_loading = css_urls.length + js_urls.length;\n",
       "\n",
       "    function on_load() {\n",
       "      root._bokeh_is_loading--;\n",
       "      if (root._bokeh_is_loading === 0) {\n",
       "        console.debug(\"Bokeh: all BokehJS libraries/stylesheets loaded\");\n",
       "        run_callbacks()\n",
       "      }\n",
       "    }\n",
       "\n",
       "    function on_error() {\n",
       "      console.error(\"failed to load \" + url);\n",
       "    }\n",
       "\n",
       "    for (var i = 0; i < css_urls.length; i++) {\n",
       "      var url = css_urls[i];\n",
       "      const element = document.createElement(\"link\");\n",
       "      element.onload = on_load;\n",
       "      element.onerror = on_error;\n",
       "      element.rel = \"stylesheet\";\n",
       "      element.type = \"text/css\";\n",
       "      element.href = url;\n",
       "      console.debug(\"Bokeh: injecting link tag for BokehJS stylesheet: \", url);\n",
       "      document.body.appendChild(element);\n",
       "    }\n",
       "\n",
       "    for (var i = 0; i < js_urls.length; i++) {\n",
       "      var url = js_urls[i];\n",
       "      var element = document.createElement('script');\n",
       "      element.onload = on_load;\n",
       "      element.onerror = on_error;\n",
       "      element.async = false;\n",
       "      element.src = url;\n",
       "      console.debug(\"Bokeh: injecting script tag for BokehJS library: \", url);\n",
       "      document.head.appendChild(element);\n",
       "    }\n",
       "  };var element = document.getElementById(\"1001\");\n",
       "  if (element == null) {\n",
       "    console.error(\"Bokeh: ERROR: autoload.js configured with elementid '1001' but no matching script tag was found. \")\n",
       "    return false;\n",
       "  }\n",
       "\n",
       "  function inject_raw_css(css) {\n",
       "    const element = document.createElement(\"style\");\n",
       "    element.appendChild(document.createTextNode(css));\n",
       "    document.body.appendChild(element);\n",
       "  }\n",
       "\n",
       "  var js_urls = [\"https://cdn.pydata.org/bokeh/release/bokeh-1.2.0.min.js\", \"https://cdn.pydata.org/bokeh/release/bokeh-widgets-1.2.0.min.js\", \"https://cdn.pydata.org/bokeh/release/bokeh-tables-1.2.0.min.js\", \"https://cdn.pydata.org/bokeh/release/bokeh-gl-1.2.0.min.js\"];\n",
       "  var css_urls = [\"https://cdn.pydata.org/bokeh/release/bokeh-1.2.0.min.css\", \"https://cdn.pydata.org/bokeh/release/bokeh-widgets-1.2.0.min.css\", \"https://cdn.pydata.org/bokeh/release/bokeh-tables-1.2.0.min.css\"];\n",
       "\n",
       "  var inline_js = [\n",
       "    function(Bokeh) {\n",
       "      Bokeh.set_log_level(\"info\");\n",
       "    },\n",
       "    \n",
       "    function(Bokeh) {\n",
       "      \n",
       "    },\n",
       "    function(Bokeh) {} // ensure no trailing comma for IE\n",
       "  ];\n",
       "\n",
       "  function run_inline_js() {\n",
       "    \n",
       "    if ((root.Bokeh !== undefined) || (force === true)) {\n",
       "      for (var i = 0; i < inline_js.length; i++) {\n",
       "        inline_js[i].call(root, root.Bokeh);\n",
       "      }if (force === true) {\n",
       "        display_loaded();\n",
       "      }} else if (Date.now() < root._bokeh_timeout) {\n",
       "      setTimeout(run_inline_js, 100);\n",
       "    } else if (!root._bokeh_failed_load) {\n",
       "      console.log(\"Bokeh: BokehJS failed to load within specified timeout.\");\n",
       "      root._bokeh_failed_load = true;\n",
       "    } else if (force !== true) {\n",
       "      var cell = $(document.getElementById(\"1001\")).parents('.cell').data().cell;\n",
       "      cell.output_area.append_execute_result(NB_LOAD_WARNING)\n",
       "    }\n",
       "\n",
       "  }\n",
       "\n",
       "  if (root._bokeh_is_loading === 0) {\n",
       "    console.debug(\"Bokeh: BokehJS loaded, going straight to plotting\");\n",
       "    run_inline_js();\n",
       "  } else {\n",
       "    load_libs(css_urls, js_urls, function() {\n",
       "      console.debug(\"Bokeh: BokehJS plotting callback run at\", now());\n",
       "      run_inline_js();\n",
       "    });\n",
       "  }\n",
       "}(window));"
      ],
      "application/vnd.bokehjs_load.v0+json": "\n(function(root) {\n  function now() {\n    return new Date();\n  }\n\n  var force = true;\n\n  if (typeof root._bokeh_onload_callbacks === \"undefined\" || force === true) {\n    root._bokeh_onload_callbacks = [];\n    root._bokeh_is_loading = undefined;\n  }\n\n  \n\n  \n  if (typeof (root._bokeh_timeout) === \"undefined\" || force === true) {\n    root._bokeh_timeout = Date.now() + 5000;\n    root._bokeh_failed_load = false;\n  }\n\n  var NB_LOAD_WARNING = {'data': {'text/html':\n     \"<div style='background-color: #fdd'>\\n\"+\n     \"<p>\\n\"+\n     \"BokehJS does not appear to have successfully loaded. If loading BokehJS from CDN, this \\n\"+\n     \"may be due to a slow or bad network connection. Possible fixes:\\n\"+\n     \"</p>\\n\"+\n     \"<ul>\\n\"+\n     \"<li>re-rerun `output_notebook()` to attempt to load from CDN again, or</li>\\n\"+\n     \"<li>use INLINE resources instead, as so:</li>\\n\"+\n     \"</ul>\\n\"+\n     \"<code>\\n\"+\n     \"from bokeh.resources import INLINE\\n\"+\n     \"output_notebook(resources=INLINE)\\n\"+\n     \"</code>\\n\"+\n     \"</div>\"}};\n\n  function display_loaded() {\n    var el = document.getElementById(\"1001\");\n    if (el != null) {\n      el.textContent = \"BokehJS is loading...\";\n    }\n    if (root.Bokeh !== undefined) {\n      if (el != null) {\n        el.textContent = \"BokehJS \" + root.Bokeh.version + \" successfully loaded.\";\n      }\n    } else if (Date.now() < root._bokeh_timeout) {\n      setTimeout(display_loaded, 100)\n    }\n  }\n\n\n  function run_callbacks() {\n    try {\n      root._bokeh_onload_callbacks.forEach(function(callback) {\n        if (callback != null)\n          callback();\n      });\n    } finally {\n      delete root._bokeh_onload_callbacks\n    }\n    console.debug(\"Bokeh: all callbacks have finished\");\n  }\n\n  function load_libs(css_urls, js_urls, callback) {\n    if (css_urls == null) css_urls = [];\n    if (js_urls == null) js_urls = [];\n\n    root._bokeh_onload_callbacks.push(callback);\n    if (root._bokeh_is_loading > 0) {\n      console.debug(\"Bokeh: BokehJS is being loaded, scheduling callback at\", now());\n      return null;\n    }\n    if (js_urls == null || js_urls.length === 0) {\n      run_callbacks();\n      return null;\n    }\n    console.debug(\"Bokeh: BokehJS not loaded, scheduling load and callback at\", now());\n    root._bokeh_is_loading = css_urls.length + js_urls.length;\n\n    function on_load() {\n      root._bokeh_is_loading--;\n      if (root._bokeh_is_loading === 0) {\n        console.debug(\"Bokeh: all BokehJS libraries/stylesheets loaded\");\n        run_callbacks()\n      }\n    }\n\n    function on_error() {\n      console.error(\"failed to load \" + url);\n    }\n\n    for (var i = 0; i < css_urls.length; i++) {\n      var url = css_urls[i];\n      const element = document.createElement(\"link\");\n      element.onload = on_load;\n      element.onerror = on_error;\n      element.rel = \"stylesheet\";\n      element.type = \"text/css\";\n      element.href = url;\n      console.debug(\"Bokeh: injecting link tag for BokehJS stylesheet: \", url);\n      document.body.appendChild(element);\n    }\n\n    for (var i = 0; i < js_urls.length; i++) {\n      var url = js_urls[i];\n      var element = document.createElement('script');\n      element.onload = on_load;\n      element.onerror = on_error;\n      element.async = false;\n      element.src = url;\n      console.debug(\"Bokeh: injecting script tag for BokehJS library: \", url);\n      document.head.appendChild(element);\n    }\n  };var element = document.getElementById(\"1001\");\n  if (element == null) {\n    console.error(\"Bokeh: ERROR: autoload.js configured with elementid '1001' but no matching script tag was found. \")\n    return false;\n  }\n\n  function inject_raw_css(css) {\n    const element = document.createElement(\"style\");\n    element.appendChild(document.createTextNode(css));\n    document.body.appendChild(element);\n  }\n\n  var js_urls = [\"https://cdn.pydata.org/bokeh/release/bokeh-1.2.0.min.js\", \"https://cdn.pydata.org/bokeh/release/bokeh-widgets-1.2.0.min.js\", \"https://cdn.pydata.org/bokeh/release/bokeh-tables-1.2.0.min.js\", \"https://cdn.pydata.org/bokeh/release/bokeh-gl-1.2.0.min.js\"];\n  var css_urls = [\"https://cdn.pydata.org/bokeh/release/bokeh-1.2.0.min.css\", \"https://cdn.pydata.org/bokeh/release/bokeh-widgets-1.2.0.min.css\", \"https://cdn.pydata.org/bokeh/release/bokeh-tables-1.2.0.min.css\"];\n\n  var inline_js = [\n    function(Bokeh) {\n      Bokeh.set_log_level(\"info\");\n    },\n    \n    function(Bokeh) {\n      \n    },\n    function(Bokeh) {} // ensure no trailing comma for IE\n  ];\n\n  function run_inline_js() {\n    \n    if ((root.Bokeh !== undefined) || (force === true)) {\n      for (var i = 0; i < inline_js.length; i++) {\n        inline_js[i].call(root, root.Bokeh);\n      }if (force === true) {\n        display_loaded();\n      }} else if (Date.now() < root._bokeh_timeout) {\n      setTimeout(run_inline_js, 100);\n    } else if (!root._bokeh_failed_load) {\n      console.log(\"Bokeh: BokehJS failed to load within specified timeout.\");\n      root._bokeh_failed_load = true;\n    } else if (force !== true) {\n      var cell = $(document.getElementById(\"1001\")).parents('.cell').data().cell;\n      cell.output_area.append_execute_result(NB_LOAD_WARNING)\n    }\n\n  }\n\n  if (root._bokeh_is_loading === 0) {\n    console.debug(\"Bokeh: BokehJS loaded, going straight to plotting\");\n    run_inline_js();\n  } else {\n    load_libs(css_urls, js_urls, function() {\n      console.debug(\"Bokeh: BokehJS plotting callback run at\", now());\n      run_inline_js();\n    });\n  }\n}(window));"
     },
     "metadata": {},
     "output_type": "display_data"
    }
   ],
   "source": [
    "import matplotlib.pyplot as plt \n",
    "import pandas as pd  \n",
    "import statsmodels.api as sm  \n",
    "import numpy as np  \n",
    "from bokeh.plotting import figure, show, output_file\n",
    "from bokeh.io import output_notebook, push_notebook, show\n",
    "from ipywidgets import interact\n",
    "import scipy.special\n",
    "import statsmodels.formula.api as smf\n",
    "from scipy import stats\n",
    "import seaborn as sns\n",
    "import numpy as np\n",
    "from bokeh.plotting import figure\n",
    "from bokeh.io import show\n",
    "\n",
    "output_notebook()"
   ]
  },
  {
   "cell_type": "markdown",
   "metadata": {},
   "source": [
    "# Importando o dataset"
   ]
  },
  {
   "cell_type": "code",
   "execution_count": 2,
   "metadata": {},
   "outputs": [],
   "source": [
    "df = pd.read_csv('./dados/diabetes.csv.zip')  "
   ]
  },
  {
   "cell_type": "code",
   "execution_count": 3,
   "metadata": {},
   "outputs": [
    {
     "data": {
      "text/html": [
       "<div>\n",
       "<style scoped>\n",
       "    .dataframe tbody tr th:only-of-type {\n",
       "        vertical-align: middle;\n",
       "    }\n",
       "\n",
       "    .dataframe tbody tr th {\n",
       "        vertical-align: top;\n",
       "    }\n",
       "\n",
       "    .dataframe thead th {\n",
       "        text-align: right;\n",
       "    }\n",
       "</style>\n",
       "<table border=\"1\" class=\"dataframe\">\n",
       "  <thead>\n",
       "    <tr style=\"text-align: right;\">\n",
       "      <th></th>\n",
       "      <th>preg</th>\n",
       "      <th>plas</th>\n",
       "      <th>pres</th>\n",
       "      <th>skin</th>\n",
       "      <th>insu</th>\n",
       "      <th>mass</th>\n",
       "      <th>pedi</th>\n",
       "      <th>age</th>\n",
       "      <th>class</th>\n",
       "    </tr>\n",
       "  </thead>\n",
       "  <tbody>\n",
       "    <tr>\n",
       "      <th>0</th>\n",
       "      <td>6</td>\n",
       "      <td>148</td>\n",
       "      <td>72</td>\n",
       "      <td>35</td>\n",
       "      <td>0</td>\n",
       "      <td>33.6</td>\n",
       "      <td>0.627</td>\n",
       "      <td>50</td>\n",
       "      <td>tested_positive</td>\n",
       "    </tr>\n",
       "    <tr>\n",
       "      <th>1</th>\n",
       "      <td>1</td>\n",
       "      <td>85</td>\n",
       "      <td>66</td>\n",
       "      <td>29</td>\n",
       "      <td>0</td>\n",
       "      <td>26.6</td>\n",
       "      <td>0.351</td>\n",
       "      <td>31</td>\n",
       "      <td>tested_negative</td>\n",
       "    </tr>\n",
       "    <tr>\n",
       "      <th>2</th>\n",
       "      <td>8</td>\n",
       "      <td>183</td>\n",
       "      <td>64</td>\n",
       "      <td>0</td>\n",
       "      <td>0</td>\n",
       "      <td>23.3</td>\n",
       "      <td>0.672</td>\n",
       "      <td>32</td>\n",
       "      <td>tested_positive</td>\n",
       "    </tr>\n",
       "    <tr>\n",
       "      <th>3</th>\n",
       "      <td>1</td>\n",
       "      <td>89</td>\n",
       "      <td>66</td>\n",
       "      <td>23</td>\n",
       "      <td>94</td>\n",
       "      <td>28.1</td>\n",
       "      <td>0.167</td>\n",
       "      <td>21</td>\n",
       "      <td>tested_negative</td>\n",
       "    </tr>\n",
       "    <tr>\n",
       "      <th>4</th>\n",
       "      <td>0</td>\n",
       "      <td>137</td>\n",
       "      <td>40</td>\n",
       "      <td>35</td>\n",
       "      <td>168</td>\n",
       "      <td>43.1</td>\n",
       "      <td>2.288</td>\n",
       "      <td>33</td>\n",
       "      <td>tested_positive</td>\n",
       "    </tr>\n",
       "  </tbody>\n",
       "</table>\n",
       "</div>"
      ],
      "text/plain": [
       "   preg  plas  pres  skin  insu  mass   pedi  age            class\n",
       "0     6   148    72    35     0  33.6  0.627   50  tested_positive\n",
       "1     1    85    66    29     0  26.6  0.351   31  tested_negative\n",
       "2     8   183    64     0     0  23.3  0.672   32  tested_positive\n",
       "3     1    89    66    23    94  28.1  0.167   21  tested_negative\n",
       "4     0   137    40    35   168  43.1  2.288   33  tested_positive"
      ]
     },
     "execution_count": 3,
     "metadata": {},
     "output_type": "execute_result"
    }
   ],
   "source": [
    "df.head()"
   ]
  },
  {
   "cell_type": "markdown",
   "metadata": {},
   "source": [
    "# Analisando os dados"
   ]
  },
  {
   "cell_type": "code",
   "execution_count": 4,
   "metadata": {},
   "outputs": [
    {
     "data": {
      "text/plain": [
       "(768, 9)"
      ]
     },
     "execution_count": 4,
     "metadata": {},
     "output_type": "execute_result"
    }
   ],
   "source": [
    "df.shape"
   ]
  },
  {
   "cell_type": "code",
   "execution_count": 5,
   "metadata": {},
   "outputs": [
    {
     "data": {
      "text/html": [
       "<div>\n",
       "<style scoped>\n",
       "    .dataframe tbody tr th:only-of-type {\n",
       "        vertical-align: middle;\n",
       "    }\n",
       "\n",
       "    .dataframe tbody tr th {\n",
       "        vertical-align: top;\n",
       "    }\n",
       "\n",
       "    .dataframe thead th {\n",
       "        text-align: right;\n",
       "    }\n",
       "</style>\n",
       "<table border=\"1\" class=\"dataframe\">\n",
       "  <thead>\n",
       "    <tr style=\"text-align: right;\">\n",
       "      <th></th>\n",
       "      <th>count</th>\n",
       "      <th>mean</th>\n",
       "      <th>std</th>\n",
       "      <th>min</th>\n",
       "      <th>25%</th>\n",
       "      <th>50%</th>\n",
       "      <th>75%</th>\n",
       "      <th>max</th>\n",
       "    </tr>\n",
       "  </thead>\n",
       "  <tbody>\n",
       "    <tr>\n",
       "      <th>preg</th>\n",
       "      <td>768.0</td>\n",
       "      <td>3.845052</td>\n",
       "      <td>3.369578</td>\n",
       "      <td>0.000</td>\n",
       "      <td>1.00000</td>\n",
       "      <td>3.0000</td>\n",
       "      <td>6.00000</td>\n",
       "      <td>17.00</td>\n",
       "    </tr>\n",
       "    <tr>\n",
       "      <th>plas</th>\n",
       "      <td>768.0</td>\n",
       "      <td>120.894531</td>\n",
       "      <td>31.972618</td>\n",
       "      <td>0.000</td>\n",
       "      <td>99.00000</td>\n",
       "      <td>117.0000</td>\n",
       "      <td>140.25000</td>\n",
       "      <td>199.00</td>\n",
       "    </tr>\n",
       "    <tr>\n",
       "      <th>pres</th>\n",
       "      <td>768.0</td>\n",
       "      <td>69.105469</td>\n",
       "      <td>19.355807</td>\n",
       "      <td>0.000</td>\n",
       "      <td>62.00000</td>\n",
       "      <td>72.0000</td>\n",
       "      <td>80.00000</td>\n",
       "      <td>122.00</td>\n",
       "    </tr>\n",
       "    <tr>\n",
       "      <th>skin</th>\n",
       "      <td>768.0</td>\n",
       "      <td>20.536458</td>\n",
       "      <td>15.952218</td>\n",
       "      <td>0.000</td>\n",
       "      <td>0.00000</td>\n",
       "      <td>23.0000</td>\n",
       "      <td>32.00000</td>\n",
       "      <td>99.00</td>\n",
       "    </tr>\n",
       "    <tr>\n",
       "      <th>insu</th>\n",
       "      <td>768.0</td>\n",
       "      <td>79.799479</td>\n",
       "      <td>115.244002</td>\n",
       "      <td>0.000</td>\n",
       "      <td>0.00000</td>\n",
       "      <td>30.5000</td>\n",
       "      <td>127.25000</td>\n",
       "      <td>846.00</td>\n",
       "    </tr>\n",
       "    <tr>\n",
       "      <th>mass</th>\n",
       "      <td>768.0</td>\n",
       "      <td>31.992578</td>\n",
       "      <td>7.884160</td>\n",
       "      <td>0.000</td>\n",
       "      <td>27.30000</td>\n",
       "      <td>32.0000</td>\n",
       "      <td>36.60000</td>\n",
       "      <td>67.10</td>\n",
       "    </tr>\n",
       "    <tr>\n",
       "      <th>pedi</th>\n",
       "      <td>768.0</td>\n",
       "      <td>0.471876</td>\n",
       "      <td>0.331329</td>\n",
       "      <td>0.078</td>\n",
       "      <td>0.24375</td>\n",
       "      <td>0.3725</td>\n",
       "      <td>0.62625</td>\n",
       "      <td>2.42</td>\n",
       "    </tr>\n",
       "    <tr>\n",
       "      <th>age</th>\n",
       "      <td>768.0</td>\n",
       "      <td>33.240885</td>\n",
       "      <td>11.760232</td>\n",
       "      <td>21.000</td>\n",
       "      <td>24.00000</td>\n",
       "      <td>29.0000</td>\n",
       "      <td>41.00000</td>\n",
       "      <td>81.00</td>\n",
       "    </tr>\n",
       "  </tbody>\n",
       "</table>\n",
       "</div>"
      ],
      "text/plain": [
       "      count        mean         std     min       25%       50%        75%  \\\n",
       "preg  768.0    3.845052    3.369578   0.000   1.00000    3.0000    6.00000   \n",
       "plas  768.0  120.894531   31.972618   0.000  99.00000  117.0000  140.25000   \n",
       "pres  768.0   69.105469   19.355807   0.000  62.00000   72.0000   80.00000   \n",
       "skin  768.0   20.536458   15.952218   0.000   0.00000   23.0000   32.00000   \n",
       "insu  768.0   79.799479  115.244002   0.000   0.00000   30.5000  127.25000   \n",
       "mass  768.0   31.992578    7.884160   0.000  27.30000   32.0000   36.60000   \n",
       "pedi  768.0    0.471876    0.331329   0.078   0.24375    0.3725    0.62625   \n",
       "age   768.0   33.240885   11.760232  21.000  24.00000   29.0000   41.00000   \n",
       "\n",
       "         max  \n",
       "preg   17.00  \n",
       "plas  199.00  \n",
       "pres  122.00  \n",
       "skin   99.00  \n",
       "insu  846.00  \n",
       "mass   67.10  \n",
       "pedi    2.42  \n",
       "age    81.00  "
      ]
     },
     "execution_count": 5,
     "metadata": {},
     "output_type": "execute_result"
    }
   ],
   "source": [
    "df.describe().T"
   ]
  },
  {
   "cell_type": "code",
   "execution_count": 6,
   "metadata": {},
   "outputs": [
    {
     "data": {
      "text/html": [
       "<div>\n",
       "<style scoped>\n",
       "    .dataframe tbody tr th:only-of-type {\n",
       "        vertical-align: middle;\n",
       "    }\n",
       "\n",
       "    .dataframe tbody tr th {\n",
       "        vertical-align: top;\n",
       "    }\n",
       "\n",
       "    .dataframe thead th {\n",
       "        text-align: right;\n",
       "    }\n",
       "</style>\n",
       "<table border=\"1\" class=\"dataframe\">\n",
       "  <thead>\n",
       "    <tr style=\"text-align: right;\">\n",
       "      <th></th>\n",
       "      <th>preg</th>\n",
       "      <th>plas</th>\n",
       "      <th>pres</th>\n",
       "      <th>skin</th>\n",
       "      <th>insu</th>\n",
       "      <th>mass</th>\n",
       "      <th>pedi</th>\n",
       "      <th>age</th>\n",
       "    </tr>\n",
       "  </thead>\n",
       "  <tbody>\n",
       "    <tr>\n",
       "      <th>preg</th>\n",
       "      <td>1.00</td>\n",
       "      <td>0.13</td>\n",
       "      <td>0.14</td>\n",
       "      <td>-0.08</td>\n",
       "      <td>-0.07</td>\n",
       "      <td>0.02</td>\n",
       "      <td>-0.03</td>\n",
       "      <td>0.54</td>\n",
       "    </tr>\n",
       "    <tr>\n",
       "      <th>plas</th>\n",
       "      <td>0.13</td>\n",
       "      <td>1.00</td>\n",
       "      <td>0.15</td>\n",
       "      <td>0.06</td>\n",
       "      <td>0.33</td>\n",
       "      <td>0.22</td>\n",
       "      <td>0.14</td>\n",
       "      <td>0.26</td>\n",
       "    </tr>\n",
       "    <tr>\n",
       "      <th>pres</th>\n",
       "      <td>0.14</td>\n",
       "      <td>0.15</td>\n",
       "      <td>1.00</td>\n",
       "      <td>0.21</td>\n",
       "      <td>0.09</td>\n",
       "      <td>0.28</td>\n",
       "      <td>0.04</td>\n",
       "      <td>0.24</td>\n",
       "    </tr>\n",
       "    <tr>\n",
       "      <th>skin</th>\n",
       "      <td>-0.08</td>\n",
       "      <td>0.06</td>\n",
       "      <td>0.21</td>\n",
       "      <td>1.00</td>\n",
       "      <td>0.44</td>\n",
       "      <td>0.39</td>\n",
       "      <td>0.18</td>\n",
       "      <td>-0.11</td>\n",
       "    </tr>\n",
       "    <tr>\n",
       "      <th>insu</th>\n",
       "      <td>-0.07</td>\n",
       "      <td>0.33</td>\n",
       "      <td>0.09</td>\n",
       "      <td>0.44</td>\n",
       "      <td>1.00</td>\n",
       "      <td>0.20</td>\n",
       "      <td>0.19</td>\n",
       "      <td>-0.04</td>\n",
       "    </tr>\n",
       "    <tr>\n",
       "      <th>mass</th>\n",
       "      <td>0.02</td>\n",
       "      <td>0.22</td>\n",
       "      <td>0.28</td>\n",
       "      <td>0.39</td>\n",
       "      <td>0.20</td>\n",
       "      <td>1.00</td>\n",
       "      <td>0.14</td>\n",
       "      <td>0.04</td>\n",
       "    </tr>\n",
       "    <tr>\n",
       "      <th>pedi</th>\n",
       "      <td>-0.03</td>\n",
       "      <td>0.14</td>\n",
       "      <td>0.04</td>\n",
       "      <td>0.18</td>\n",
       "      <td>0.19</td>\n",
       "      <td>0.14</td>\n",
       "      <td>1.00</td>\n",
       "      <td>0.03</td>\n",
       "    </tr>\n",
       "    <tr>\n",
       "      <th>age</th>\n",
       "      <td>0.54</td>\n",
       "      <td>0.26</td>\n",
       "      <td>0.24</td>\n",
       "      <td>-0.11</td>\n",
       "      <td>-0.04</td>\n",
       "      <td>0.04</td>\n",
       "      <td>0.03</td>\n",
       "      <td>1.00</td>\n",
       "    </tr>\n",
       "  </tbody>\n",
       "</table>\n",
       "</div>"
      ],
      "text/plain": [
       "      preg  plas  pres  skin  insu  mass  pedi   age\n",
       "preg  1.00  0.13  0.14 -0.08 -0.07  0.02 -0.03  0.54\n",
       "plas  0.13  1.00  0.15  0.06  0.33  0.22  0.14  0.26\n",
       "pres  0.14  0.15  1.00  0.21  0.09  0.28  0.04  0.24\n",
       "skin -0.08  0.06  0.21  1.00  0.44  0.39  0.18 -0.11\n",
       "insu -0.07  0.33  0.09  0.44  1.00  0.20  0.19 -0.04\n",
       "mass  0.02  0.22  0.28  0.39  0.20  1.00  0.14  0.04\n",
       "pedi -0.03  0.14  0.04  0.18  0.19  0.14  1.00  0.03\n",
       "age   0.54  0.26  0.24 -0.11 -0.04  0.04  0.03  1.00"
      ]
     },
     "execution_count": 6,
     "metadata": {},
     "output_type": "execute_result"
    }
   ],
   "source": [
    "df.corr().round(2)"
   ]
  },
  {
   "cell_type": "code",
   "execution_count": 7,
   "metadata": {},
   "outputs": [
    {
     "data": {
      "text/plain": [
       "tested_negative    500\n",
       "tested_positive    268\n",
       "Name: class, dtype: int64"
      ]
     },
     "execution_count": 7,
     "metadata": {},
     "output_type": "execute_result"
    }
   ],
   "source": [
    "df['class'].value_counts()"
   ]
  },
  {
   "cell_type": "code",
   "execution_count": 8,
   "metadata": {},
   "outputs": [
    {
     "data": {
      "text/plain": [
       "<matplotlib.axes._subplots.AxesSubplot at 0x2812a056ef0>"
      ]
     },
     "execution_count": 8,
     "metadata": {},
     "output_type": "execute_result"
    },
    {
     "data": {
      "image/png": "[encoded data removed]",
      "text/plain": [
       "<Figure size 432x288 with 2 Axes>"
      ]
     },
     "metadata": {
      "needs_background": "light"
     },
     "output_type": "display_data"
    }
   ],
   "source": [
    "corr = df.corr()\n",
    "sns.heatmap(corr, cmap='coolwarm_r', annot_kws={'size':20})"
   ]
  },
  {
   "cell_type": "markdown",
   "metadata": {},
   "source": [
    "# Identificando a correlação de teste positivo com as demais variáveis"
   ]
  },
  {
   "cell_type": "code",
   "execution_count": 9,
   "metadata": {},
   "outputs": [
    {
     "data": {
      "text/plain": [
       "array(['tested_positive', 'tested_negative'], dtype=object)"
      ]
     },
     "execution_count": 9,
     "metadata": {},
     "output_type": "execute_result"
    }
   ],
   "source": [
    "df['class'].unique()"
   ]
  },
  {
   "cell_type": "code",
   "execution_count": 10,
   "metadata": {},
   "outputs": [],
   "source": [
    "df['y'] = df['class'] == 'tested_positive'"
   ]
  },
  {
   "cell_type": "code",
   "execution_count": 11,
   "metadata": {},
   "outputs": [
    {
     "data": {
      "text/html": [
       "<div>\n",
       "<style scoped>\n",
       "    .dataframe tbody tr th:only-of-type {\n",
       "        vertical-align: middle;\n",
       "    }\n",
       "\n",
       "    .dataframe tbody tr th {\n",
       "        vertical-align: top;\n",
       "    }\n",
       "\n",
       "    .dataframe thead th {\n",
       "        text-align: right;\n",
       "    }\n",
       "</style>\n",
       "<table border=\"1\" class=\"dataframe\">\n",
       "  <thead>\n",
       "    <tr style=\"text-align: right;\">\n",
       "      <th></th>\n",
       "      <th>preg</th>\n",
       "      <th>plas</th>\n",
       "      <th>pres</th>\n",
       "      <th>skin</th>\n",
       "      <th>insu</th>\n",
       "      <th>mass</th>\n",
       "      <th>pedi</th>\n",
       "      <th>age</th>\n",
       "      <th>class</th>\n",
       "      <th>y</th>\n",
       "    </tr>\n",
       "  </thead>\n",
       "  <tbody>\n",
       "    <tr>\n",
       "      <th>0</th>\n",
       "      <td>6</td>\n",
       "      <td>148</td>\n",
       "      <td>72</td>\n",
       "      <td>35</td>\n",
       "      <td>0</td>\n",
       "      <td>33.6</td>\n",
       "      <td>0.627</td>\n",
       "      <td>50</td>\n",
       "      <td>tested_positive</td>\n",
       "      <td>True</td>\n",
       "    </tr>\n",
       "    <tr>\n",
       "      <th>1</th>\n",
       "      <td>1</td>\n",
       "      <td>85</td>\n",
       "      <td>66</td>\n",
       "      <td>29</td>\n",
       "      <td>0</td>\n",
       "      <td>26.6</td>\n",
       "      <td>0.351</td>\n",
       "      <td>31</td>\n",
       "      <td>tested_negative</td>\n",
       "      <td>False</td>\n",
       "    </tr>\n",
       "    <tr>\n",
       "      <th>2</th>\n",
       "      <td>8</td>\n",
       "      <td>183</td>\n",
       "      <td>64</td>\n",
       "      <td>0</td>\n",
       "      <td>0</td>\n",
       "      <td>23.3</td>\n",
       "      <td>0.672</td>\n",
       "      <td>32</td>\n",
       "      <td>tested_positive</td>\n",
       "      <td>True</td>\n",
       "    </tr>\n",
       "    <tr>\n",
       "      <th>3</th>\n",
       "      <td>1</td>\n",
       "      <td>89</td>\n",
       "      <td>66</td>\n",
       "      <td>23</td>\n",
       "      <td>94</td>\n",
       "      <td>28.1</td>\n",
       "      <td>0.167</td>\n",
       "      <td>21</td>\n",
       "      <td>tested_negative</td>\n",
       "      <td>False</td>\n",
       "    </tr>\n",
       "    <tr>\n",
       "      <th>4</th>\n",
       "      <td>0</td>\n",
       "      <td>137</td>\n",
       "      <td>40</td>\n",
       "      <td>35</td>\n",
       "      <td>168</td>\n",
       "      <td>43.1</td>\n",
       "      <td>2.288</td>\n",
       "      <td>33</td>\n",
       "      <td>tested_positive</td>\n",
       "      <td>True</td>\n",
       "    </tr>\n",
       "  </tbody>\n",
       "</table>\n",
       "</div>"
      ],
      "text/plain": [
       "   preg  plas  pres  skin  insu  mass   pedi  age            class      y\n",
       "0     6   148    72    35     0  33.6  0.627   50  tested_positive   True\n",
       "1     1    85    66    29     0  26.6  0.351   31  tested_negative  False\n",
       "2     8   183    64     0     0  23.3  0.672   32  tested_positive   True\n",
       "3     1    89    66    23    94  28.1  0.167   21  tested_negative  False\n",
       "4     0   137    40    35   168  43.1  2.288   33  tested_positive   True"
      ]
     },
     "execution_count": 11,
     "metadata": {},
     "output_type": "execute_result"
    }
   ],
   "source": [
    "df.head()"
   ]
  },
  {
   "cell_type": "code",
   "execution_count": 12,
   "metadata": {},
   "outputs": [
    {
     "data": {
      "text/plain": [
       "preg    0.22\n",
       "plas    0.47\n",
       "pres    0.07\n",
       "skin    0.07\n",
       "insu    0.13\n",
       "mass    0.29\n",
       "pedi    0.17\n",
       "age     0.24\n",
       "y       1.00\n",
       "Name: y, dtype: float64"
      ]
     },
     "execution_count": 12,
     "metadata": {},
     "output_type": "execute_result"
    }
   ],
   "source": [
    "df.corr().round(2)['y']"
   ]
  },
  {
   "cell_type": "markdown",
   "metadata": {},
   "source": [
    "# Plotando"
   ]
  },
  {
   "cell_type": "markdown",
   "metadata": {},
   "source": [
    "## 1 - Plotando os testes por cores, buscando uma relação nos resultados entre Idade x IMC"
   ]
  },
  {
   "cell_type": "code",
   "execution_count": 13,
   "metadata": {},
   "outputs": [],
   "source": [
    "colormap = {'tested_positive': 'red', 'tested_negative': 'blue'}\n",
    "colors = [colormap[x] for x in df['class']]"
   ]
  },
  {
   "cell_type": "code",
   "execution_count": 14,
   "metadata": {},
   "outputs": [
    {
     "data": {
      "text/html": [
       "\n",
       "\n",
       "\n",
       "\n",
       "\n",
       "\n",
       "  <div class=\"bk-root\" id=\"5791db63-cba9-444b-a8c2-0241a4378d5f\" data-root-id=\"1002\"></div>\n"
      ]
     },
     "metadata": {},
     "output_type": "display_data"
    },
    {
     "data": {
      "application/javascript": [
       "(function(root) {\n",
       "  function embed_document(root) {\n",
       "    \n",
       "  var docs_json = {\"fbe31014-6423-47c4-b9be-332dffc467ea\":{\"roots\":{\"references\":[{\"attributes\":{\"below\":[{\"id\":\"1013\",\"type\":\"LinearAxis\"}],\"center\":[{\"id\":\"1017\",\"type\":\"Grid\"},{\"id\":\"1022\",\"type\":\"Grid\"}],\"left\":[{\"id\":\"1018\",\"type\":\"LinearAxis\"}],\"renderers\":[{\"id\":\"1039\",\"type\":\"GlyphRenderer\"}],\"title\":{\"id\":\"1003\",\"type\":\"Title\"},\"toolbar\":{\"id\":\"1029\",\"type\":\"Toolbar\"},\"x_range\":{\"id\":\"1005\",\"type\":\"DataRange1d\"},\"x_scale\":{\"id\":\"1009\",\"type\":\"LinearScale\"},\"y_range\":{\"id\":\"1007\",\"type\":\"DataRange1d\"},\"y_scale\":{\"id\":\"1011\",\"type\":\"LinearScale\"}},\"id\":\"1002\",\"subtype\":\"Figure\",\"type\":\"Plot\"},{\"attributes\":{},\"id\":\"1023\",\"type\":\"PanTool\"},{\"attributes\":{\"fill_alpha\":{\"value\":0.1},\"fill_color\":{\"value\":\"#1f77b4\"},\"line_alpha\":{\"value\":0.1},\"line_color\":{\"value\":\"#1f77b4\"},\"size\":{\"units\":\"screen\",\"value\":7},\"x\":{\"field\":\"x\"},\"y\":{\"field\":\"y\"}},\"id\":\"1038\",\"type\":\"Circle\"},{\"attributes\":{},\"id\":\"1024\",\"type\":\"WheelZoomTool\"},{\"attributes\":{},\"id\":\"1047\",\"type\":\"UnionRenderers\"},{\"attributes\":{\"active_drag\":\"auto\",\"active_inspect\":\"auto\",\"active_multi\":null,\"active_scroll\":\"auto\",\"active_tap\":\"auto\",\"tools\":[{\"id\":\"1023\",\"type\":\"PanTool\"},{\"id\":\"1024\",\"type\":\"WheelZoomTool\"},{\"id\":\"1025\",\"type\":\"BoxZoomTool\"},{\"id\":\"1026\",\"type\":\"SaveTool\"},{\"id\":\"1027\",\"type\":\"ResetTool\"},{\"id\":\"1028\",\"type\":\"HelpTool\"}]},\"id\":\"1029\",\"type\":\"Toolbar\"},{\"attributes\":{\"bottom_units\":\"screen\",\"fill_alpha\":{\"value\":0.5},\"fill_color\":{\"value\":\"lightgrey\"},\"left_units\":\"screen\",\"level\":\"overlay\",\"line_alpha\":{\"value\":1.0},\"line_color\":{\"value\":\"black\"},\"line_dash\":[4,4],\"line_width\":{\"value\":2},\"render_mode\":\"css\",\"right_units\":\"screen\",\"top_units\":\"screen\"},\"id\":\"1048\",\"type\":\"BoxAnnotation\"},{\"attributes\":{\"source\":{\"id\":\"1036\",\"type\":\"ColumnDataSource\"}},\"id\":\"1040\",\"type\":\"CDSView\"},{\"attributes\":{\"text\":\"Diabetes\"},\"id\":\"1003\",\"type\":\"Title\"},{\"attributes\":{\"callback\":null},\"id\":\"1005\",\"type\":\"DataRange1d\"},{\"attributes\":{},\"id\":\"1042\",\"type\":\"BasicTickFormatter\"},{\"attributes\":{\"callback\":null},\"id\":\"1007\",\"type\":\"DataRange1d\"},{\"attributes\":{},\"id\":\"1046\",\"type\":\"Selection\"},{\"attributes\":{\"data_source\":{\"id\":\"1036\",\"type\":\"ColumnDataSource\"},\"glyph\":{\"id\":\"1037\",\"type\":\"Circle\"},\"hover_glyph\":null,\"muted_glyph\":null,\"nonselection_glyph\":{\"id\":\"1038\",\"type\":\"Circle\"},\"selection_glyph\":null,\"view\":{\"id\":\"1040\",\"type\":\"CDSView\"}},\"id\":\"1039\",\"type\":\"GlyphRenderer\"},{\"attributes\":{},\"id\":\"1044\",\"type\":\"BasicTickFormatter\"},{\"attributes\":{},\"id\":\"1009\",\"type\":\"LinearScale\"},{\"attributes\":{\"dimension\":1,\"ticker\":{\"id\":\"1019\",\"type\":\"BasicTicker\"}},\"id\":\"1022\",\"type\":\"Grid\"},{\"attributes\":{},\"id\":\"1028\",\"type\":\"HelpTool\"},{\"attributes\":{},\"id\":\"1011\",\"type\":\"LinearScale\"},{\"attributes\":{\"axis_label\":\"Age\",\"formatter\":{\"id\":\"1042\",\"type\":\"BasicTickFormatter\"},\"ticker\":{\"id\":\"1014\",\"type\":\"BasicTicker\"}},\"id\":\"1013\",\"type\":\"LinearAxis\"},{\"attributes\":{},\"id\":\"1014\",\"type\":\"BasicTicker\"},{\"attributes\":{},\"id\":\"1027\",\"type\":\"ResetTool\"},{\"attributes\":{\"ticker\":{\"id\":\"1014\",\"type\":\"BasicTicker\"}},\"id\":\"1017\",\"type\":\"Grid\"},{\"attributes\":{\"overlay\":{\"id\":\"1048\",\"type\":\"BoxAnnotation\"}},\"id\":\"1025\",\"type\":\"BoxZoomTool\"},{\"attributes\":{\"axis_label\":\"IMC\",\"formatter\":{\"id\":\"1044\",\"type\":\"BasicTickFormatter\"},\"ticker\":{\"id\":\"1019\",\"type\":\"BasicTicker\"}},\"id\":\"1018\",\"type\":\"LinearAxis\"},{\"attributes\":{\"callback\":null,\"data\":{\"fill_color\":[\"red\",\"blue\",\"red\",\"blue\",\"red\",\"blue\",\"red\",\"blue\",\"red\",\"red\",\"blue\",\"red\",\"blue\",\"red\",\"red\",\"red\",\"red\",\"red\",\"blue\",\"red\",\"blue\",\"blue\",\"red\",\"red\",\"red\",\"red\",\"red\",\"blue\",\"blue\",\"blue\",\"blue\",\"red\",\"blue\",\"blue\",\"blue\",\"blue\",\"blue\",\"red\",\"red\",\"red\",\"blue\",\"blue\",\"blue\",\"red\",\"blue\",\"red\",\"blue\",\"blue\",\"red\",\"blue\",\"blue\",\"blue\",\"blue\",\"red\",\"blue\",\"blue\",\"red\",\"blue\",\"blue\",\"blue\",\"blue\",\"red\",\"blue\",\"blue\",\"red\",\"blue\",\"red\",\"blue\",\"blue\",\"blue\",\"red\",\"blue\",\"red\",\"blue\",\"blue\",\"blue\",\"blue\",\"blue\",\"red\",\"blue\",\"blue\",\"blue\",\"blue\",\"blue\",\"red\",\"blue\",\"blue\",\"blue\",\"red\",\"blue\",\"blue\",\"blue\",\"blue\",\"red\",\"blue\",\"blue\",\"blue\",\"blue\",\"blue\",\"red\",\"red\",\"blue\",\"blue\",\"blue\",\"blue\",\"blue\",\"blue\",\"blue\",\"blue\",\"red\",\"red\",\"red\",\"blue\",\"blue\",\"red\",\"red\",\"red\",\"blue\",\"blue\",\"blue\",\"red\",\"blue\",\"blue\",\"blue\",\"red\",\"red\",\"blue\",\"blue\",\"red\",\"red\",\"red\",\"red\",\"red\",\"blue\",\"blue\",\"blue\",\"blue\",\"blue\",\"blue\",\"blue\",\"blue\",\"blue\",\"blue\",\"red\",\"blue\",\"blue\",\"blue\",\"blue\",\"blue\",\"blue\",\"blue\",\"blue\",\"red\",\"blue\",\"red\",\"red\",\"blue\",\"blue\",\"blue\",\"red\",\"blue\",\"blue\",\"blue\",\"blue\",\"red\",\"red\",\"blue\",\"blue\",\"blue\",\"blue\",\"red\",\"red\",\"blue\",\"blue\",\"blue\",\"red\",\"blue\",\"red\",\"blue\",\"red\",\"blue\",\"blue\",\"blue\",\"blue\",\"blue\",\"red\",\"red\",\"red\",\"red\",\"red\",\"blue\",\"blue\",\"red\",\"red\",\"blue\",\"red\",\"blue\",\"red\",\"red\",\"red\",\"blue\",\"blue\",\"blue\",\"blue\",\"blue\",\"blue\",\"red\",\"red\",\"blue\",\"red\",\"blue\",\"blue\",\"blue\",\"red\",\"red\",\"red\",\"red\",\"blue\",\"red\",\"red\",\"red\",\"red\",\"blue\",\"blue\",\"blue\",\"blue\",\"blue\",\"red\",\"blue\",\"blue\",\"red\",\"red\",\"blue\",\"blue\",\"blue\",\"red\",\"red\",\"red\",\"red\",\"blue\",\"blue\",\"blue\",\"red\",\"red\",\"blue\",\"red\",\"blue\",\"blue\",\"blue\",\"blue\",\"blue\",\"blue\",\"blue\",\"blue\",\"red\",\"red\",\"blue\",\"blue\",\"blue\",\"red\",\"blue\",\"red\",\"blue\",\"blue\",\"red\",\"blue\",\"red\",\"blue\",\"blue\",\"red\",\"red\",\"blue\",\"blue\",\"blue\",\"blue\",\"blue\",\"red\",\"blue\",\"blue\",\"blue\",\"red\",\"blue\",\"blue\",\"red\",\"red\",\"blue\",\"blue\",\"red\",\"blue\",\"blue\",\"blue\",\"red\",\"red\",\"red\",\"blue\",\"blue\",\"red\",\"blue\",\"red\",\"blue\",\"red\",\"red\",\"blue\",\"red\",\"blue\",\"blue\",\"red\",\"blue\",\"red\",\"red\",\"blue\",\"blue\",\"red\",\"blue\",\"red\",\"blue\",\"blue\",\"red\",\"blue\",\"red\",\"blue\",\"red\",\"red\",\"red\",\"blue\",\"blue\",\"red\",\"blue\",\"red\",\"blue\",\"blue\",\"blue\",\"red\",\"blue\",\"blue\",\"blue\",\"blue\",\"red\",\"red\",\"red\",\"blue\",\"blue\",\"blue\",\"blue\",\"blue\",\"blue\",\"blue\",\"blue\",\"blue\",\"red\",\"blue\",\"blue\",\"blue\",\"blue\",\"blue\",\"red\",\"red\",\"red\",\"blue\",\"red\",\"red\",\"blue\",\"blue\",\"red\",\"blue\",\"blue\",\"red\",\"blue\",\"blue\",\"red\",\"red\",\"blue\",\"blue\",\"blue\",\"blue\",\"red\",\"blue\",\"blue\",\"red\",\"blue\",\"blue\",\"blue\",\"blue\",\"blue\",\"blue\",\"blue\",\"red\",\"red\",\"red\",\"blue\",\"blue\",\"red\",\"blue\",\"blue\",\"red\",\"blue\",\"blue\",\"red\",\"blue\",\"red\",\"red\",\"blue\",\"red\",\"blue\",\"red\",\"blue\",\"red\",\"blue\",\"red\",\"red\",\"blue\",\"blue\",\"blue\",\"blue\",\"red\",\"red\",\"blue\",\"red\",\"blue\",\"red\",\"blue\",\"blue\",\"blue\",\"blue\",\"red\",\"red\",\"blue\",\"red\",\"blue\",\"red\",\"blue\",\"blue\",\"blue\",\"blue\",\"blue\",\"red\",\"blue\",\"blue\",\"blue\",\"blue\",\"red\",\"blue\",\"blue\",\"red\",\"red\",\"red\",\"blue\",\"blue\",\"red\",\"blue\",\"blue\",\"red\",\"blue\",\"blue\",\"blue\",\"red\",\"blue\",\"blue\",\"red\",\"blue\",\"blue\",\"blue\",\"blue\",\"blue\",\"blue\",\"blue\",\"blue\",\"blue\",\"red\",\"blue\",\"blue\",\"blue\",\"blue\",\"blue\",\"blue\",\"blue\",\"red\",\"blue\",\"blue\",\"blue\",\"red\",\"blue\",\"blue\",\"blue\",\"red\",\"red\",\"blue\",\"blue\",\"blue\",\"blue\",\"blue\",\"blue\",\"blue\",\"red\",\"blue\",\"blue\",\"blue\",\"blue\",\"red\",\"blue\",\"blue\",\"blue\",\"red\",\"blue\",\"blue\",\"blue\",\"red\",\"blue\",\"blue\",\"blue\",\"red\",\"blue\",\"blue\",\"blue\",\"blue\",\"red\",\"red\",\"blue\",\"blue\",\"blue\",\"blue\",\"blue\",\"blue\",\"red\",\"blue\",\"blue\",\"blue\",\"blue\",\"blue\",\"blue\",\"blue\",\"blue\",\"blue\",\"blue\",\"blue\",\"red\",\"blue\",\"blue\",\"blue\",\"red\",\"red\",\"red\",\"red\",\"blue\",\"blue\",\"red\",\"red\",\"blue\",\"blue\",\"blue\",\"blue\",\"blue\",\"blue\",\"blue\",\"blue\",\"blue\",\"blue\",\"blue\",\"blue\",\"blue\",\"red\",\"red\",\"blue\",\"blue\",\"blue\",\"blue\",\"blue\",\"blue\",\"blue\",\"red\",\"blue\",\"blue\",\"blue\",\"blue\",\"blue\",\"blue\",\"blue\",\"red\",\"blue\",\"red\",\"red\",\"blue\",\"blue\",\"blue\",\"red\",\"blue\",\"red\",\"blue\",\"red\",\"blue\",\"red\",\"blue\",\"red\",\"blue\",\"blue\",\"red\",\"blue\",\"blue\",\"red\",\"blue\",\"blue\",\"blue\",\"blue\",\"red\",\"red\",\"blue\",\"red\",\"blue\",\"blue\",\"blue\",\"blue\",\"red\",\"red\",\"blue\",\"red\",\"blue\",\"blue\",\"blue\",\"red\",\"red\",\"blue\",\"blue\",\"blue\",\"blue\",\"blue\",\"blue\",\"blue\",\"blue\",\"blue\",\"blue\",\"red\",\"blue\",\"blue\",\"blue\",\"blue\",\"red\",\"blue\",\"blue\",\"red\",\"blue\",\"blue\",\"blue\",\"red\",\"blue\",\"blue\",\"blue\",\"red\",\"red\",\"red\",\"blue\",\"blue\",\"blue\",\"blue\",\"blue\",\"blue\",\"red\",\"blue\",\"blue\",\"blue\",\"red\",\"blue\",\"red\",\"red\",\"red\",\"red\",\"blue\",\"red\",\"red\",\"blue\",\"blue\",\"blue\",\"blue\",\"blue\",\"blue\",\"blue\",\"red\",\"red\",\"blue\",\"red\",\"blue\",\"blue\",\"red\",\"blue\",\"red\",\"blue\",\"blue\",\"blue\",\"blue\",\"blue\",\"red\",\"blue\",\"red\",\"blue\",\"red\",\"blue\",\"red\",\"red\",\"blue\",\"blue\",\"blue\",\"blue\",\"red\",\"red\",\"blue\",\"blue\",\"blue\",\"red\",\"blue\",\"red\",\"red\",\"blue\",\"blue\",\"red\",\"blue\",\"blue\",\"red\",\"red\",\"blue\",\"blue\",\"red\",\"blue\",\"blue\",\"red\",\"blue\",\"blue\",\"blue\",\"blue\",\"blue\",\"blue\",\"blue\",\"red\",\"red\",\"red\",\"blue\",\"blue\",\"blue\",\"blue\",\"blue\",\"blue\",\"red\",\"red\",\"blue\",\"blue\",\"red\",\"blue\",\"blue\",\"red\",\"blue\",\"red\",\"red\",\"red\",\"blue\",\"blue\",\"red\",\"red\",\"red\",\"blue\",\"red\",\"blue\",\"red\",\"blue\",\"red\",\"blue\",\"blue\",\"blue\",\"blue\",\"red\",\"blue\"],\"line_color\":[\"red\",\"blue\",\"red\",\"blue\",\"red\",\"blue\",\"red\",\"blue\",\"red\",\"red\",\"blue\",\"red\",\"blue\",\"red\",\"red\",\"red\",\"red\",\"red\",\"blue\",\"red\",\"blue\",\"blue\",\"red\",\"red\",\"red\",\"red\",\"red\",\"blue\",\"blue\",\"blue\",\"blue\",\"red\",\"blue\",\"blue\",\"blue\",\"blue\",\"blue\",\"red\",\"red\",\"red\",\"blue\",\"blue\",\"blue\",\"red\",\"blue\",\"red\",\"blue\",\"blue\",\"red\",\"blue\",\"blue\",\"blue\",\"blue\",\"red\",\"blue\",\"blue\",\"red\",\"blue\",\"blue\",\"blue\",\"blue\",\"red\",\"blue\",\"blue\",\"red\",\"blue\",\"red\",\"blue\",\"blue\",\"blue\",\"red\",\"blue\",\"red\",\"blue\",\"blue\",\"blue\",\"blue\",\"blue\",\"red\",\"blue\",\"blue\",\"blue\",\"blue\",\"blue\",\"red\",\"blue\",\"blue\",\"blue\",\"red\",\"blue\",\"blue\",\"blue\",\"blue\",\"red\",\"blue\",\"blue\",\"blue\",\"blue\",\"blue\",\"red\",\"red\",\"blue\",\"blue\",\"blue\",\"blue\",\"blue\",\"blue\",\"blue\",\"blue\",\"red\",\"red\",\"red\",\"blue\",\"blue\",\"red\",\"red\",\"red\",\"blue\",\"blue\",\"blue\",\"red\",\"blue\",\"blue\",\"blue\",\"red\",\"red\",\"blue\",\"blue\",\"red\",\"red\",\"red\",\"red\",\"red\",\"blue\",\"blue\",\"blue\",\"blue\",\"blue\",\"blue\",\"blue\",\"blue\",\"blue\",\"blue\",\"red\",\"blue\",\"blue\",\"blue\",\"blue\",\"blue\",\"blue\",\"blue\",\"blue\",\"red\",\"blue\",\"red\",\"red\",\"blue\",\"blue\",\"blue\",\"red\",\"blue\",\"blue\",\"blue\",\"blue\",\"red\",\"red\",\"blue\",\"blue\",\"blue\",\"blue\",\"red\",\"red\",\"blue\",\"blue\",\"blue\",\"red\",\"blue\",\"red\",\"blue\",\"red\",\"blue\",\"blue\",\"blue\",\"blue\",\"blue\",\"red\",\"red\",\"red\",\"red\",\"red\",\"blue\",\"blue\",\"red\",\"red\",\"blue\",\"red\",\"blue\",\"red\",\"red\",\"red\",\"blue\",\"blue\",\"blue\",\"blue\",\"blue\",\"blue\",\"red\",\"red\",\"blue\",\"red\",\"blue\",\"blue\",\"blue\",\"red\",\"red\",\"red\",\"red\",\"blue\",\"red\",\"red\",\"red\",\"red\",\"blue\",\"blue\",\"blue\",\"blue\",\"blue\",\"red\",\"blue\",\"blue\",\"red\",\"red\",\"blue\",\"blue\",\"blue\",\"red\",\"red\",\"red\",\"red\",\"blue\",\"blue\",\"blue\",\"red\",\"red\",\"blue\",\"red\",\"blue\",\"blue\",\"blue\",\"blue\",\"blue\",\"blue\",\"blue\",\"blue\",\"red\",\"red\",\"blue\",\"blue\",\"blue\",\"red\",\"blue\",\"red\",\"blue\",\"blue\",\"red\",\"blue\",\"red\",\"blue\",\"blue\",\"red\",\"red\",\"blue\",\"blue\",\"blue\",\"blue\",\"blue\",\"red\",\"blue\",\"blue\",\"blue\",\"red\",\"blue\",\"blue\",\"red\",\"red\",\"blue\",\"blue\",\"red\",\"blue\",\"blue\",\"blue\",\"red\",\"red\",\"red\",\"blue\",\"blue\",\"red\",\"blue\",\"red\",\"blue\",\"red\",\"red\",\"blue\",\"red\",\"blue\",\"blue\",\"red\",\"blue\",\"red\",\"red\",\"blue\",\"blue\",\"red\",\"blue\",\"red\",\"blue\",\"blue\",\"red\",\"blue\",\"red\",\"blue\",\"red\",\"red\",\"red\",\"blue\",\"blue\",\"red\",\"blue\",\"red\",\"blue\",\"blue\",\"blue\",\"red\",\"blue\",\"blue\",\"blue\",\"blue\",\"red\",\"red\",\"red\",\"blue\",\"blue\",\"blue\",\"blue\",\"blue\",\"blue\",\"blue\",\"blue\",\"blue\",\"red\",\"blue\",\"blue\",\"blue\",\"blue\",\"blue\",\"red\",\"red\",\"red\",\"blue\",\"red\",\"red\",\"blue\",\"blue\",\"red\",\"blue\",\"blue\",\"red\",\"blue\",\"blue\",\"red\",\"red\",\"blue\",\"blue\",\"blue\",\"blue\",\"red\",\"blue\",\"blue\",\"red\",\"blue\",\"blue\",\"blue\",\"blue\",\"blue\",\"blue\",\"blue\",\"red\",\"red\",\"red\",\"blue\",\"blue\",\"red\",\"blue\",\"blue\",\"red\",\"blue\",\"blue\",\"red\",\"blue\",\"red\",\"red\",\"blue\",\"red\",\"blue\",\"red\",\"blue\",\"red\",\"blue\",\"red\",\"red\",\"blue\",\"blue\",\"blue\",\"blue\",\"red\",\"red\",\"blue\",\"red\",\"blue\",\"red\",\"blue\",\"blue\",\"blue\",\"blue\",\"red\",\"red\",\"blue\",\"red\",\"blue\",\"red\",\"blue\",\"blue\",\"blue\",\"blue\",\"blue\",\"red\",\"blue\",\"blue\",\"blue\",\"blue\",\"red\",\"blue\",\"blue\",\"red\",\"red\",\"red\",\"blue\",\"blue\",\"red\",\"blue\",\"blue\",\"red\",\"blue\",\"blue\",\"blue\",\"red\",\"blue\",\"blue\",\"red\",\"blue\",\"blue\",\"blue\",\"blue\",\"blue\",\"blue\",\"blue\",\"blue\",\"blue\",\"red\",\"blue\",\"blue\",\"blue\",\"blue\",\"blue\",\"blue\",\"blue\",\"red\",\"blue\",\"blue\",\"blue\",\"red\",\"blue\",\"blue\",\"blue\",\"red\",\"red\",\"blue\",\"blue\",\"blue\",\"blue\",\"blue\",\"blue\",\"blue\",\"red\",\"blue\",\"blue\",\"blue\",\"blue\",\"red\",\"blue\",\"blue\",\"blue\",\"red\",\"blue\",\"blue\",\"blue\",\"red\",\"blue\",\"blue\",\"blue\",\"red\",\"blue\",\"blue\",\"blue\",\"blue\",\"red\",\"red\",\"blue\",\"blue\",\"blue\",\"blue\",\"blue\",\"blue\",\"red\",\"blue\",\"blue\",\"blue\",\"blue\",\"blue\",\"blue\",\"blue\",\"blue\",\"blue\",\"blue\",\"blue\",\"red\",\"blue\",\"blue\",\"blue\",\"red\",\"red\",\"red\",\"red\",\"blue\",\"blue\",\"red\",\"red\",\"blue\",\"blue\",\"blue\",\"blue\",\"blue\",\"blue\",\"blue\",\"blue\",\"blue\",\"blue\",\"blue\",\"blue\",\"blue\",\"red\",\"red\",\"blue\",\"blue\",\"blue\",\"blue\",\"blue\",\"blue\",\"blue\",\"red\",\"blue\",\"blue\",\"blue\",\"blue\",\"blue\",\"blue\",\"blue\",\"red\",\"blue\",\"red\",\"red\",\"blue\",\"blue\",\"blue\",\"red\",\"blue\",\"red\",\"blue\",\"red\",\"blue\",\"red\",\"blue\",\"red\",\"blue\",\"blue\",\"red\",\"blue\",\"blue\",\"red\",\"blue\",\"blue\",\"blue\",\"blue\",\"red\",\"red\",\"blue\",\"red\",\"blue\",\"blue\",\"blue\",\"blue\",\"red\",\"red\",\"blue\",\"red\",\"blue\",\"blue\",\"blue\",\"red\",\"red\",\"blue\",\"blue\",\"blue\",\"blue\",\"blue\",\"blue\",\"blue\",\"blue\",\"blue\",\"blue\",\"red\",\"blue\",\"blue\",\"blue\",\"blue\",\"red\",\"blue\",\"blue\",\"red\",\"blue\",\"blue\",\"blue\",\"red\",\"blue\",\"blue\",\"blue\",\"red\",\"red\",\"red\",\"blue\",\"blue\",\"blue\",\"blue\",\"blue\",\"blue\",\"red\",\"blue\",\"blue\",\"blue\",\"red\",\"blue\",\"red\",\"red\",\"red\",\"red\",\"blue\",\"red\",\"red\",\"blue\",\"blue\",\"blue\",\"blue\",\"blue\",\"blue\",\"blue\",\"red\",\"red\",\"blue\",\"red\",\"blue\",\"blue\",\"red\",\"blue\",\"red\",\"blue\",\"blue\",\"blue\",\"blue\",\"blue\",\"red\",\"blue\",\"red\",\"blue\",\"red\",\"blue\",\"red\",\"red\",\"blue\",\"blue\",\"blue\",\"blue\",\"red\",\"red\",\"blue\",\"blue\",\"blue\",\"red\",\"blue\",\"red\",\"red\",\"blue\",\"blue\",\"red\",\"blue\",\"blue\",\"red\",\"red\",\"blue\",\"blue\",\"red\",\"blue\",\"blue\",\"red\",\"blue\",\"blue\",\"blue\",\"blue\",\"blue\",\"blue\",\"blue\",\"red\",\"red\",\"red\",\"blue\",\"blue\",\"blue\",\"blue\",\"blue\",\"blue\",\"red\",\"red\",\"blue\",\"blue\",\"red\",\"blue\",\"blue\",\"red\",\"blue\",\"red\",\"red\",\"red\",\"blue\",\"blue\",\"red\",\"red\",\"red\",\"blue\",\"red\",\"blue\",\"red\",\"blue\",\"red\",\"blue\",\"blue\",\"blue\",\"blue\",\"red\",\"blue\"],\"x\":[50,31,32,21,33,30,26,29,53,54,30,34,57,59,51,32,31,31,33,32,27,50,41,29,51,41,43,22,57,38,60,28,22,28,45,33,35,46,27,56,26,37,48,54,40,25,29,22,31,24,22,26,30,58,42,21,41,31,44,22,21,39,36,24,42,32,38,54,25,27,28,26,42,23,22,22,41,27,26,24,22,22,36,22,37,27,45,26,43,24,21,34,42,60,21,40,24,22,23,31,33,22,21,24,27,21,27,37,25,24,24,46,23,25,39,61,38,25,22,21,25,24,23,69,23,26,30,23,40,62,33,33,30,39,26,31,21,22,29,28,55,38,22,42,23,21,41,34,65,22,24,37,42,23,43,36,21,23,22,47,36,45,27,21,32,41,22,34,29,29,36,29,25,23,33,36,42,26,47,37,32,23,21,27,40,41,60,33,31,25,21,40,36,40,42,29,21,23,26,29,21,28,32,27,55,27,57,52,21,41,25,24,60,24,36,38,25,32,32,41,21,66,37,61,26,22,26,24,31,24,22,46,22,29,23,26,51,23,32,27,21,22,22,33,29,49,41,23,34,23,42,27,24,25,44,21,30,25,24,51,34,27,24,63,35,43,25,24,21,28,38,21,40,21,52,25,29,23,57,22,28,39,37,47,52,51,34,29,26,33,21,25,31,24,65,28,29,24,46,58,30,25,35,28,37,29,47,21,25,30,41,22,27,25,43,26,30,29,28,59,31,25,36,43,21,24,30,37,23,37,46,25,41,44,22,26,44,44,33,41,22,36,22,33,57,49,22,23,26,37,29,30,46,24,21,49,28,44,48,29,29,63,65,67,30,30,29,21,22,45,25,21,21,25,28,58,22,22,32,35,24,22,21,25,25,24,35,45,58,28,42,27,21,37,31,25,39,22,25,25,31,55,35,38,41,26,46,25,39,28,28,25,22,21,21,22,22,37,27,28,26,21,21,21,36,31,25,38,26,43,23,38,22,29,36,29,41,28,21,31,41,22,24,33,30,25,28,26,22,26,23,23,25,72,24,38,62,24,51,81,48,26,39,37,34,21,22,25,38,27,28,22,22,50,24,59,29,31,39,63,35,29,28,23,31,24,21,58,28,67,24,42,33,45,22,66,30,25,55,39,21,28,41,41,40,38,35,21,21,64,46,21,58,22,24,28,53,51,41,60,25,26,26,45,24,21,21,24,22,31,22,24,29,31,24,23,46,67,23,32,43,27,56,25,29,37,53,28,50,37,21,25,66,23,28,37,30,58,42,35,54,28,24,32,27,22,21,46,37,33,39,21,22,22,23,25,35,21,36,62,21,27,62,42,52,22,41,29,52,25,45,24,44,25,34,22,46,21,38,26,24,28,30,54,36,21,22,25,27,23,24,36,40,26,50,27,30,23,50,24,28,28,45,21,21,29,21,21,45,21,34,24,23,22,31,38,48,23,32,28,27,24,50,31,27,30,33,22,42,23,23,27,28,27,22,25,22,41,51,27,54,22,43,40,40,24,70,40,43,45,49,21,47,22,68,31,53,25,25,23,22,26,22,27,69,25,22,29,23,46,34,44,23,43,25,43,31,22,28,26,26,49,52,41,27,28,30,22,45,23,24,40,38,21,32,34,31,56,24,52,34,21,42,42,45,38,25,22,22,22,34,22,24,22,53,28,21,42,21,42,48,26,22,45,39,46,27,32,36,50,22,28,25,26,45,37,39,52,26,66,22,43,33,63,27,30,47,23],\"y\":{\"__ndarray__\":\"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\",\"dtype\":\"float64\",\"shape\":[768]}},\"selected\":{\"id\":\"1046\",\"type\":\"Selection\"},\"selection_policy\":{\"id\":\"1047\",\"type\":\"UnionRenderers\"}},\"id\":\"1036\",\"type\":\"ColumnDataSource\"},{\"attributes\":{},\"id\":\"1019\",\"type\":\"BasicTicker\"},{\"attributes\":{},\"id\":\"1026\",\"type\":\"SaveTool\"},{\"attributes\":{\"fill_alpha\":{\"value\":0.3},\"fill_color\":{\"field\":\"fill_color\"},\"line_color\":{\"field\":\"line_color\"},\"size\":{\"units\":\"screen\",\"value\":7},\"x\":{\"field\":\"x\"},\"y\":{\"field\":\"y\"}},\"id\":\"1037\",\"type\":\"Circle\"}],\"root_ids\":[\"1002\"]},\"title\":\"Bokeh Application\",\"version\":\"1.2.0\"}};\n",
       "  var render_items = [{\"docid\":\"fbe31014-6423-47c4-b9be-332dffc467ea\",\"roots\":{\"1002\":\"5791db63-cba9-444b-a8c2-0241a4378d5f\"}}];\n",
       "  root.Bokeh.embed.embed_items_notebook(docs_json, render_items);\n",
       "\n",
       "  }\n",
       "  if (root.Bokeh !== undefined) {\n",
       "    embed_document(root);\n",
       "  } else {\n",
       "    var attempts = 0;\n",
       "    var timer = setInterval(function(root) {\n",
       "      if (root.Bokeh !== undefined) {\n",
       "        embed_document(root);\n",
       "        clearInterval(timer);\n",
       "      }\n",
       "      attempts++;\n",
       "      if (attempts > 100) {\n",
       "        console.log(\"Bokeh: ERROR: Unable to run BokehJS code because BokehJS library is missing\");\n",
       "        clearInterval(timer);\n",
       "      }\n",
       "    }, 10, root)\n",
       "  }\n",
       "})(window);"
      ],
      "application/vnd.bokehjs_exec.v0+json": ""
     },
     "metadata": {
      "application/vnd.bokehjs_exec.v0+json": {
       "id": "1002"
      }
     },
     "output_type": "display_data"
    }
   ],
   "source": [
    "p = figure(title = \"Diabetes\")\n",
    "p.xaxis.axis_label = 'Age'\n",
    "p.yaxis.axis_label = 'IMC'\n",
    "\n",
    "p.circle(df[\"age\"], df[\"mass\"],\n",
    "         color=colors, fill_alpha=0.3, size=7)\n",
    "\n",
    "show(p)"
   ]
  },
  {
   "cell_type": "markdown",
   "metadata": {},
   "source": [
    "## 2 - Dispersão com reta de tendência, Nível de Gordura da Pele x Insulina"
   ]
  },
  {
   "cell_type": "code",
   "execution_count": 15,
   "metadata": {},
   "outputs": [
    {
     "data": {
      "text/html": [
       "\n",
       "\n",
       "\n",
       "\n",
       "\n",
       "\n",
       "  <div class=\"bk-root\" id=\"c5b5fb7d-a9fb-4d70-8e03-b8c9a5c118da\" data-root-id=\"1097\"></div>\n"
      ]
     },
     "metadata": {},
     "output_type": "display_data"
    },
    {
     "data": {
      "application/javascript": [
       "(function(root) {\n",
       "  function embed_document(root) {\n",
       "    \n",
       "  var docs_json = {\"f4e4b6c2-61cf-486a-8644-8dcca771d446\":{\"roots\":{\"references\":[{\"attributes\":{\"below\":[{\"id\":\"1106\",\"type\":\"LinearAxis\"}],\"center\":[{\"id\":\"1110\",\"type\":\"Grid\"},{\"id\":\"1115\",\"type\":\"Grid\"},{\"id\":\"1148\",\"type\":\"Legend\"}],\"left\":[{\"id\":\"1111\",\"type\":\"LinearAxis\"}],\"renderers\":[{\"id\":\"1132\",\"type\":\"GlyphRenderer\"},{\"id\":\"1137\",\"type\":\"GlyphRenderer\"}],\"title\":{\"id\":\"1139\",\"type\":\"Title\"},\"toolbar\":{\"id\":\"1122\",\"type\":\"Toolbar\"},\"x_range\":{\"id\":\"1098\",\"type\":\"DataRange1d\"},\"x_scale\":{\"id\":\"1102\",\"type\":\"LinearScale\"},\"y_range\":{\"id\":\"1100\",\"type\":\"DataRange1d\"},\"y_scale\":{\"id\":\"1104\",\"type\":\"LinearScale\"}},\"id\":\"1097\",\"subtype\":\"Figure\",\"type\":\"Plot\"},{\"attributes\":{},\"id\":\"1120\",\"type\":\"ResetTool\"},{\"attributes\":{},\"id\":\"1121\",\"type\":\"HelpTool\"},{\"attributes\":{\"overlay\":{\"id\":\"1147\",\"type\":\"BoxAnnotation\"}},\"id\":\"1118\",\"type\":\"BoxZoomTool\"},{\"attributes\":{\"active_drag\":\"auto\",\"active_inspect\":\"auto\",\"active_multi\":null,\"active_scroll\":\"auto\",\"active_tap\":\"auto\",\"tools\":[{\"id\":\"1116\",\"type\":\"PanTool\"},{\"id\":\"1117\",\"type\":\"WheelZoomTool\"},{\"id\":\"1118\",\"type\":\"BoxZoomTool\"},{\"id\":\"1119\",\"type\":\"SaveTool\"},{\"id\":\"1120\",\"type\":\"ResetTool\"},{\"id\":\"1121\",\"type\":\"HelpTool\"}]},\"id\":\"1122\",\"type\":\"Toolbar\"},{\"attributes\":{},\"id\":\"1119\",\"type\":\"SaveTool\"},{\"attributes\":{\"fill_alpha\":{\"value\":0.1},\"fill_color\":{\"value\":\"#1f77b4\"},\"line_alpha\":{\"value\":0.1},\"line_color\":{\"value\":\"#1f77b4\"},\"x\":{\"field\":\"x\"},\"y\":{\"field\":\"y\"}},\"id\":\"1131\",\"type\":\"Circle\"},{\"attributes\":{\"line_color\":\"red\",\"x\":{\"field\":\"x\"},\"y\":{\"field\":\"y\"}},\"id\":\"1135\",\"type\":\"Line\"},{\"attributes\":{\"data_source\":{\"id\":\"1129\",\"type\":\"ColumnDataSource\"},\"glyph\":{\"id\":\"1130\",\"type\":\"Circle\"},\"hover_glyph\":null,\"muted_glyph\":null,\"nonselection_glyph\":{\"id\":\"1131\",\"type\":\"Circle\"},\"selection_glyph\":null,\"view\":{\"id\":\"1133\",\"type\":\"CDSView\"}},\"id\":\"1132\",\"type\":\"GlyphRenderer\"},{\"attributes\":{},\"id\":\"1107\",\"type\":\"BasicTicker\"},{\"attributes\":{\"source\":{\"id\":\"1129\",\"type\":\"ColumnDataSource\"}},\"id\":\"1133\",\"type\":\"CDSView\"},{\"attributes\":{},\"id\":\"1112\",\"type\":\"BasicTicker\"},{\"attributes\":{\"source\":{\"id\":\"1134\",\"type\":\"ColumnDataSource\"}},\"id\":\"1138\",\"type\":\"CDSView\"},{\"attributes\":{},\"id\":\"1102\",\"type\":\"LinearScale\"},{\"attributes\":{\"text\":\"\"},\"id\":\"1139\",\"type\":\"Title\"},{\"attributes\":{\"formatter\":{\"id\":\"1141\",\"type\":\"BasicTickFormatter\"},\"ticker\":{\"id\":\"1107\",\"type\":\"BasicTicker\"}},\"id\":\"1106\",\"type\":\"LinearAxis\"},{\"attributes\":{},\"id\":\"1141\",\"type\":\"BasicTickFormatter\"},{\"attributes\":{},\"id\":\"1143\",\"type\":\"BasicTickFormatter\"},{\"attributes\":{\"callback\":null,\"data\":{\"x\":[35,29,0,23,35,0,32,0,45,0,0,0,0,23,19,0,47,0,38,30,41,0,0,35,33,26,0,15,19,0,26,36,11,0,31,33,0,37,42,47,25,0,18,24,0,39,0,27,32,0,11,15,21,34,42,10,39,60,0,41,0,0,0,34,0,27,30,0,13,27,20,35,0,20,30,20,0,33,0,22,13,0,26,28,0,29,54,25,32,19,0,15,40,0,18,27,28,18,30,51,0,0,0,18,0,29,0,28,31,25,33,26,34,0,32,0,0,0,23,15,56,39,30,0,0,42,30,36,24,0,14,0,37,31,13,20,26,25,0,29,0,30,26,0,31,23,37,35,0,17,50,0,28,42,0,44,15,21,19,41,38,40,34,23,0,18,25,0,0,12,0,23,23,42,24,42,0,46,0,0,0,18,20,0,0,28,36,41,39,35,0,44,0,0,20,41,0,13,44,27,16,0,20,16,32,28,29,0,27,33,22,54,31,26,32,40,41,30,22,0,29,0,0,33,15,27,0,38,39,31,0,37,25,0,28,0,21,27,21,0,24,32,0,22,35,15,0,33,33,19,0,0,14,32,7,35,39,22,16,28,15,0,32,15,0,18,0,42,0,0,37,32,0,50,0,52,24,23,0,10,0,28,15,0,0,26,44,39,17,43,29,30,37,45,0,31,38,29,25,0,0,33,41,0,0,37,23,14,19,28,30,37,17,10,31,22,11,0,39,0,12,30,20,33,32,21,32,0,36,32,19,16,0,0,18,43,0,0,34,0,13,21,35,0,0,36,19,0,19,32,0,0,28,12,0,0,40,30,40,36,33,0,37,0,25,28,0,17,16,28,48,23,22,40,43,43,15,37,0,39,30,22,8,18,24,13,29,36,26,23,29,0,14,12,0,24,34,40,0,31,0,0,41,25,0,32,0,0,0,49,39,30,23,22,35,33,21,32,0,29,41,18,46,22,32,39,0,30,46,25,0,16,11,0,8,0,33,0,15,0,25,23,27,0,12,63,12,45,37,18,13,0,32,0,28,30,0,28,48,33,22,0,40,30,0,13,10,36,0,41,40,38,27,0,0,27,45,17,38,31,30,37,22,31,0,42,41,32,17,0,28,30,38,18,0,0,0,15,33,32,19,32,41,25,39,0,26,23,23,0,31,17,0,0,19,18,34,0,0,7,32,33,0,0,0,18,19,15,31,0,18,0,52,0,30,0,0,0,37,49,40,25,32,23,29,35,27,21,43,31,28,30,0,24,23,33,40,0,40,0,0,32,34,19,0,14,30,32,29,30,0,0,31,17,30,47,20,0,0,99,46,27,17,0,24,11,0,0,27,0,40,50,0,22,45,14,0,19,0,18,19,0,36,29,0,32,42,25,39,13,21,22,42,28,26,0,0,13,24,0,42,20,0,27,0,47,0,0,0,22,0,40,0,17,0,0,0,18,32,12,17,0,0,0,30,35,17,36,35,25,25,23,40,0,28,27,35,48,0,31,0,43,46,46,39,45,18,27,33,30,26,10,23,35,0,0,0,0,0,17,28,36,39,0,0,26,0,19,26,46,0,0,32,49,0,24,19,0,11,0,27,31,29,0,20,36,0,21,0,32,13,27,36,20,0,33,39,18,46,27,19,36,29,30,0,40,29,26,0,0,23,0,37,27,0,32,27,23,17,0,37,20,18,0,37,33,41,41,22,0,0,39,24,44,32,39,41,0,0,0,26,31,0,48,27,23,0,31],\"y\":[0,0,0,94,168,0,88,0,543,0,0,0,0,846,175,0,230,0,83,96,235,0,0,0,146,115,0,140,110,0,0,245,54,0,0,192,0,0,0,207,70,0,0,240,0,0,0,0,0,0,82,36,23,300,342,0,304,110,0,142,0,0,0,128,0,0,0,0,38,100,90,140,0,270,0,0,0,0,0,0,0,0,71,0,0,125,0,71,110,0,0,176,48,0,64,228,0,76,64,220,0,0,0,40,0,152,0,140,18,36,135,495,37,0,175,0,0,0,0,51,100,0,100,0,0,99,135,94,145,0,168,0,225,0,49,140,50,92,0,325,0,0,63,0,284,0,0,119,0,0,204,0,155,485,0,0,94,135,53,114,0,105,285,0,0,156,0,0,0,78,0,130,0,48,55,130,0,130,0,0,0,92,23,0,0,0,495,58,114,160,0,94,0,0,0,210,0,48,99,318,0,0,0,44,190,0,280,0,87,0,0,0,0,130,175,271,129,120,0,0,478,0,0,190,56,32,0,0,744,53,0,370,37,0,45,0,192,0,0,0,0,88,0,176,194,0,0,680,402,0,0,0,55,0,258,0,0,0,375,150,130,0,0,0,0,67,0,0,0,0,0,56,0,45,0,57,0,116,0,278,0,122,155,0,0,135,545,220,49,75,40,74,182,194,0,120,360,215,184,0,0,135,42,0,0,105,132,148,180,205,0,148,96,85,0,94,64,0,140,0,231,0,0,29,0,168,156,0,120,68,0,52,0,0,58,255,0,0,171,0,105,73,0,0,0,108,83,0,74,0,0,0,0,43,0,0,167,0,54,249,325,0,0,0,293,83,0,0,66,140,465,89,66,94,158,325,84,75,0,72,82,0,182,59,110,50,0,0,285,81,196,0,415,87,0,275,115,0,0,0,0,0,88,0,0,165,0,0,0,579,0,176,310,61,167,474,0,0,0,115,170,76,78,0,210,277,0,180,145,180,0,85,60,0,0,0,0,0,0,0,0,50,120,0,0,14,70,92,64,63,95,0,210,0,105,0,0,71,237,60,56,0,49,0,0,105,36,100,0,140,0,0,0,0,0,0,191,110,75,0,328,0,49,125,0,250,480,265,0,0,66,0,0,122,0,0,0,76,145,193,71,0,0,79,0,0,90,170,76,0,0,210,0,0,86,105,165,0,0,326,66,130,0,0,0,0,82,105,188,0,106,0,65,0,56,0,0,0,210,155,215,190,0,56,76,225,207,166,67,0,0,106,0,44,115,215,0,0,0,0,0,274,77,54,0,88,18,126,126,165,0,0,44,120,330,63,130,0,0,0,0,0,0,0,600,0,0,0,156,0,0,140,0,115,230,185,0,25,0,120,0,0,0,126,0,0,293,41,272,182,158,194,321,0,144,0,0,15,0,0,160,0,0,115,0,54,0,0,0,0,0,90,0,183,0,0,0,66,91,46,105,0,0,0,152,440,144,159,130,0,100,106,77,0,135,540,90,200,0,70,0,0,231,130,0,132,0,0,190,100,168,0,49,240,0,0,0,0,0,265,45,0,105,0,0,205,0,0,180,180,0,0,95,125,0,480,125,0,155,0,200,0,0,0,100,0,0,335,0,160,387,22,0,291,0,392,185,0,178,0,0,200,127,105,0,0,180,0,0,0,79,0,120,165,0,0,120,0,160,0,150,94,116,0,140,105,0,57,200,0,0,74,0,510,0,110,0,0,0,0,16,0,0,180,0,112,0,0]},\"selected\":{\"id\":\"1145\",\"type\":\"Selection\"},\"selection_policy\":{\"id\":\"1146\",\"type\":\"UnionRenderers\"}},\"id\":\"1129\",\"type\":\"ColumnDataSource\"},{\"attributes\":{\"fill_color\":{\"value\":\"#1f77b4\"},\"line_color\":{\"value\":\"#1f77b4\"},\"x\":{\"field\":\"x\"},\"y\":{\"field\":\"y\"}},\"id\":\"1130\",\"type\":\"Circle\"},{\"attributes\":{},\"id\":\"1145\",\"type\":\"Selection\"},{\"attributes\":{\"formatter\":{\"id\":\"1143\",\"type\":\"BasicTickFormatter\"},\"ticker\":{\"id\":\"1112\",\"type\":\"BasicTicker\"}},\"id\":\"1111\",\"type\":\"LinearAxis\"},{\"attributes\":{\"callback\":null},\"id\":\"1098\",\"type\":\"DataRange1d\"},{\"attributes\":{\"ticker\":{\"id\":\"1107\",\"type\":\"BasicTicker\"}},\"id\":\"1110\",\"type\":\"Grid\"},{\"attributes\":{\"line_alpha\":0.1,\"line_color\":\"#1f77b4\",\"x\":{\"field\":\"x\"},\"y\":{\"field\":\"y\"}},\"id\":\"1136\",\"type\":\"Line\"},{\"attributes\":{},\"id\":\"1146\",\"type\":\"UnionRenderers\"},{\"attributes\":{},\"id\":\"1104\",\"type\":\"LinearScale\"},{\"attributes\":{\"bottom_units\":\"screen\",\"fill_alpha\":{\"value\":0.5},\"fill_color\":{\"value\":\"lightgrey\"},\"left_units\":\"screen\",\"level\":\"overlay\",\"line_alpha\":{\"value\":1.0},\"line_color\":{\"value\":\"black\"},\"line_dash\":[4,4],\"line_width\":{\"value\":2},\"render_mode\":\"css\",\"right_units\":\"screen\",\"top_units\":\"screen\"},\"id\":\"1147\",\"type\":\"BoxAnnotation\"},{\"attributes\":{\"dimension\":1,\"ticker\":{\"id\":\"1112\",\"type\":\"BasicTicker\"}},\"id\":\"1115\",\"type\":\"Grid\"},{\"attributes\":{\"items\":[{\"id\":\"1149\",\"type\":\"LegendItem\"}]},\"id\":\"1148\",\"type\":\"Legend\"},{\"attributes\":{\"data_source\":{\"id\":\"1134\",\"type\":\"ColumnDataSource\"},\"glyph\":{\"id\":\"1135\",\"type\":\"Line\"},\"hover_glyph\":null,\"muted_glyph\":null,\"nonselection_glyph\":{\"id\":\"1136\",\"type\":\"Line\"},\"selection_glyph\":null,\"view\":{\"id\":\"1138\",\"type\":\"CDSView\"}},\"id\":\"1137\",\"type\":\"GlyphRenderer\"},{\"attributes\":{\"label\":{\"value\":\"y=3.16x+15.0\"},\"renderers\":[{\"id\":\"1137\",\"type\":\"GlyphRenderer\"}]},\"id\":\"1149\",\"type\":\"LegendItem\"},{\"attributes\":{},\"id\":\"1166\",\"type\":\"Selection\"},{\"attributes\":{\"callback\":null,\"data\":{\"x\":[35,29,0,23,35,0,32,0,45,0,0,0,0,23,19,0,47,0,38,30,41,0,0,35,33,26,0,15,19,0,26,36,11,0,31,33,0,37,42,47,25,0,18,24,0,39,0,27,32,0,11,15,21,34,42,10,39,60,0,41,0,0,0,34,0,27,30,0,13,27,20,35,0,20,30,20,0,33,0,22,13,0,26,28,0,29,54,25,32,19,0,15,40,0,18,27,28,18,30,51,0,0,0,18,0,29,0,28,31,25,33,26,34,0,32,0,0,0,23,15,56,39,30,0,0,42,30,36,24,0,14,0,37,31,13,20,26,25,0,29,0,30,26,0,31,23,37,35,0,17,50,0,28,42,0,44,15,21,19,41,38,40,34,23,0,18,25,0,0,12,0,23,23,42,24,42,0,46,0,0,0,18,20,0,0,28,36,41,39,35,0,44,0,0,20,41,0,13,44,27,16,0,20,16,32,28,29,0,27,33,22,54,31,26,32,40,41,30,22,0,29,0,0,33,15,27,0,38,39,31,0,37,25,0,28,0,21,27,21,0,24,32,0,22,35,15,0,33,33,19,0,0,14,32,7,35,39,22,16,28,15,0,32,15,0,18,0,42,0,0,37,32,0,50,0,52,24,23,0,10,0,28,15,0,0,26,44,39,17,43,29,30,37,45,0,31,38,29,25,0,0,33,41,0,0,37,23,14,19,28,30,37,17,10,31,22,11,0,39,0,12,30,20,33,32,21,32,0,36,32,19,16,0,0,18,43,0,0,34,0,13,21,35,0,0,36,19,0,19,32,0,0,28,12,0,0,40,30,40,36,33,0,37,0,25,28,0,17,16,28,48,23,22,40,43,43,15,37,0,39,30,22,8,18,24,13,29,36,26,23,29,0,14,12,0,24,34,40,0,31,0,0,41,25,0,32,0,0,0,49,39,30,23,22,35,33,21,32,0,29,41,18,46,22,32,39,0,30,46,25,0,16,11,0,8,0,33,0,15,0,25,23,27,0,12,63,12,45,37,18,13,0,32,0,28,30,0,28,48,33,22,0,40,30,0,13,10,36,0,41,40,38,27,0,0,27,45,17,38,31,30,37,22,31,0,42,41,32,17,0,28,30,38,18,0,0,0,15,33,32,19,32,41,25,39,0,26,23,23,0,31,17,0,0,19,18,34,0,0,7,32,33,0,0,0,18,19,15,31,0,18,0,52,0,30,0,0,0,37,49,40,25,32,23,29,35,27,21,43,31,28,30,0,24,23,33,40,0,40,0,0,32,34,19,0,14,30,32,29,30,0,0,31,17,30,47,20,0,0,99,46,27,17,0,24,11,0,0,27,0,40,50,0,22,45,14,0,19,0,18,19,0,36,29,0,32,42,25,39,13,21,22,42,28,26,0,0,13,24,0,42,20,0,27,0,47,0,0,0,22,0,40,0,17,0,0,0,18,32,12,17,0,0,0,30,35,17,36,35,25,25,23,40,0,28,27,35,48,0,31,0,43,46,46,39,45,18,27,33,30,26,10,23,35,0,0,0,0,0,17,28,36,39,0,0,26,0,19,26,46,0,0,32,49,0,24,19,0,11,0,27,31,29,0,20,36,0,21,0,32,13,27,36,20,0,33,39,18,46,27,19,36,29,30,0,40,29,26,0,0,23,0,37,27,0,32,27,23,17,0,37,20,18,0,37,33,41,41,22,0,0,39,24,44,32,39,41,0,0,0,26,31,0,48,27,23,0,31],\"y\":[125.43859465045642,106.50583950557859,14.997522972002384,87.57308436070076,125.43859465045642,14.997522972002384,115.97221707801751,14.997522972002384,156.99318655858613,14.997522972002384,14.997522972002384,14.997522972002384,14.997522972002384,87.57308436070076,74.95124759744886,14.997522972002384,163.30410494021208,14.997522972002384,134.90497222289534,109.66129869639157,144.37134979533425,14.997522972002384,14.997522972002384,125.43859465045642,119.12767626883048,97.03946193313968,14.997522972002384,62.32941083419698,74.95124759744886,14.997522972002384,97.03946193313968,128.59405384126939,49.707574070945086,14.997522972002384,112.81675788720453,119.12767626883048,14.997522972002384,131.74951303208238,147.52680898614722,163.30410494021208,93.8840027423267,14.997522972002384,71.7957884066359,90.72854355151372,14.997522972002384,138.0604314137083,14.997522972002384,100.19492112395264,115.97221707801751,14.997522972002384,49.707574070945086,62.32941083419698,81.26216597907481,122.28313545964345,147.52680898614722,46.55211488013211,138.0604314137083,204.32507442078074,14.997522972002384,144.37134979533425,14.997522972002384,14.997522972002384,14.997522972002384,122.28313545964345,14.997522972002384,100.19492112395264,109.66129869639157,14.997522972002384,56.01849245257103,100.19492112395264,78.10670678826183,125.43859465045642,14.997522972002384,78.10670678826183,109.66129869639157,78.10670678826183,14.997522972002384,119.12767626883048,14.997522972002384,84.41762516988778,56.01849245257103,14.997522972002384,97.03946193313968,103.35038031476562,14.997522972002384,106.50583950557859,185.39231927590288,93.8840027423267,115.97221707801751,74.95124759744886,14.997522972002384,62.32941083419698,141.2158906045213,14.997522972002384,71.7957884066359,100.19492112395264,103.35038031476562,71.7957884066359,109.66129869639157,175.92594170346396,14.997522972002384,14.997522972002384,14.997522972002384,71.7957884066359,14.997522972002384,106.50583950557859,14.997522972002384,103.35038031476562,112.81675788720453,93.8840027423267,119.12767626883048,97.03946193313968,122.28313545964345,14.997522972002384,115.97221707801751,14.997522972002384,14.997522972002384,14.997522972002384,87.57308436070076,62.32941083419698,191.70323765752883,138.0604314137083,109.66129869639157,14.997522972002384,14.997522972002384,147.52680898614722,109.66129869639157,128.59405384126939,90.72854355151372,14.997522972002384,59.173951643384,14.997522972002384,131.74951303208238,112.81675788720453,56.01849245257103,78.10670678826183,97.03946193313968,93.8840027423267,14.997522972002384,106.50583950557859,14.997522972002384,109.66129869639157,97.03946193313968,14.997522972002384,112.81675788720453,87.57308436070076,131.74951303208238,125.43859465045642,14.997522972002384,68.64032921582292,172.770482512651,14.997522972002384,103.35038031476562,147.52680898614722,14.997522972002384,153.83772736777317,62.32941083419698,81.26216597907481,74.95124759744886,144.37134979533425,134.90497222289534,141.2158906045213,122.28313545964345,87.57308436070076,14.997522972002384,71.7957884066359,93.8840027423267,14.997522972002384,14.997522972002384,52.863033261758055,14.997522972002384,87.57308436070076,87.57308436070076,147.52680898614722,90.72854355151372,147.52680898614722,14.997522972002384,160.14864574939912,14.997522972002384,14.997522972002384,14.997522972002384,71.7957884066359,78.10670678826183,14.997522972002384,14.997522972002384,103.35038031476562,128.59405384126939,144.37134979533425,138.0604314137083,125.43859465045642,14.997522972002384,153.83772736777317,14.997522972002384,14.997522972002384,78.10670678826183,144.37134979533425,14.997522972002384,56.01849245257103,153.83772736777317,100.19492112395264,65.48487002500994,14.997522972002384,78.10670678826183,65.48487002500994,115.97221707801751,103.35038031476562,106.50583950557859,14.997522972002384,100.19492112395264,119.12767626883048,84.41762516988778,185.39231927590288,112.81675788720453,97.03946193313968,115.97221707801751,141.2158906045213,144.37134979533425,109.66129869639157,84.41762516988778,14.997522972002384,106.50583950557859,14.997522972002384,14.997522972002384,119.12767626883048,62.32941083419698,100.19492112395264,14.997522972002384,134.90497222289534,138.0604314137083,112.81675788720453,14.997522972002384,131.74951303208238,93.8840027423267,14.997522972002384,103.35038031476562,14.997522972002384,81.26216597907481,100.19492112395264,81.26216597907481,14.997522972002384,90.72854355151372,115.97221707801751,14.997522972002384,84.41762516988778,125.43859465045642,62.32941083419698,14.997522972002384,119.12767626883048,119.12767626883048,74.95124759744886,14.997522972002384,14.997522972002384,59.173951643384,115.97221707801751,37.08573730769319,125.43859465045642,138.0604314137083,84.41762516988778,65.48487002500994,103.35038031476562,62.32941083419698,14.997522972002384,115.97221707801751,62.32941083419698,14.997522972002384,71.7957884066359,14.997522972002384,147.52680898614722,14.997522972002384,14.997522972002384,131.74951303208238,115.97221707801751,14.997522972002384,172.770482512651,14.997522972002384,179.08140089427695,90.72854355151372,87.57308436070076,14.997522972002384,46.55211488013211,14.997522972002384,103.35038031476562,62.32941083419698,14.997522972002384,14.997522972002384,97.03946193313968,153.83772736777317,138.0604314137083,68.64032921582292,150.68226817696018,106.50583950557859,109.66129869639157,131.74951303208238,156.99318655858613,14.997522972002384,112.81675788720453,134.90497222289534,106.50583950557859,93.8840027423267,14.997522972002384,14.997522972002384,119.12767626883048,144.37134979533425,14.997522972002384,14.997522972002384,131.74951303208238,87.57308436070076,59.173951643384,74.95124759744886,103.35038031476562,109.66129869639157,131.74951303208238,68.64032921582292,46.55211488013211,112.81675788720453,84.41762516988778,49.707574070945086,14.997522972002384,138.0604314137083,14.997522972002384,52.863033261758055,109.66129869639157,78.10670678826183,119.12767626883048,115.97221707801751,81.26216597907481,115.97221707801751,14.997522972002384,128.59405384126939,115.97221707801751,74.95124759744886,65.48487002500994,14.997522972002384,14.997522972002384,71.7957884066359,150.68226817696018,14.997522972002384,14.997522972002384,122.28313545964345,14.997522972002384,56.01849245257103,81.26216597907481,125.43859465045642,14.997522972002384,14.997522972002384,128.59405384126939,74.95124759744886,14.997522972002384,74.95124759744886,115.97221707801751,14.997522972002384,14.997522972002384,103.35038031476562,52.863033261758055,14.997522972002384,14.997522972002384,141.2158906045213,109.66129869639157,141.2158906045213,128.59405384126939,119.12767626883048,14.997522972002384,131.74951303208238,14.997522972002384,93.8840027423267,103.35038031476562,14.997522972002384,68.64032921582292,65.48487002500994,103.35038031476562,166.45956413102505,87.57308436070076,84.41762516988778,141.2158906045213,150.68226817696018,150.68226817696018,62.32941083419698,131.74951303208238,14.997522972002384,138.0604314137083,109.66129869639157,84.41762516988778,40.24119649850616,71.7957884066359,90.72854355151372,56.01849245257103,106.50583950557859,128.59405384126939,97.03946193313968,87.57308436070076,106.50583950557859,14.997522972002384,59.173951643384,52.863033261758055,14.997522972002384,90.72854355151372,122.28313545964345,141.2158906045213,14.997522972002384,112.81675788720453,14.997522972002384,14.997522972002384,144.37134979533425,93.8840027423267,14.997522972002384,115.97221707801751,14.997522972002384,14.997522972002384,14.997522972002384,169.61502332183804,138.0604314137083,109.66129869639157,87.57308436070076,84.41762516988778,125.43859465045642,119.12767626883048,81.26216597907481,115.97221707801751,14.997522972002384,106.50583950557859,144.37134979533425,71.7957884066359,160.14864574939912,84.41762516988778,115.97221707801751,138.0604314137083,14.997522972002384,109.66129869639157,160.14864574939912,93.8840027423267,14.997522972002384,65.48487002500994,49.707574070945086,14.997522972002384,40.24119649850616,14.997522972002384,119.12767626883048,14.997522972002384,62.32941083419698,14.997522972002384,93.8840027423267,87.57308436070076,100.19492112395264,14.997522972002384,52.863033261758055,213.79145199321965,52.863033261758055,156.99318655858613,131.74951303208238,71.7957884066359,56.01849245257103,14.997522972002384,115.97221707801751,14.997522972002384,103.35038031476562,109.66129869639157,14.997522972002384,103.35038031476562,166.45956413102505,119.12767626883048,84.41762516988778,14.997522972002384,141.2158906045213,109.66129869639157,14.997522972002384,56.01849245257103,46.55211488013211,128.59405384126939,14.997522972002384,144.37134979533425,141.2158906045213,134.90497222289534,100.19492112395264,14.997522972002384,14.997522972002384,100.19492112395264,156.99318655858613,68.64032921582292,134.90497222289534,112.81675788720453,109.66129869639157,131.74951303208238,84.41762516988778,112.81675788720453,14.997522972002384,147.52680898614722,144.37134979533425,115.97221707801751,68.64032921582292,14.997522972002384,103.35038031476562,109.66129869639157,134.90497222289534,71.7957884066359,14.997522972002384,14.997522972002384,14.997522972002384,62.32941083419698,119.12767626883048,115.97221707801751,74.95124759744886,115.97221707801751,144.37134979533425,93.8840027423267,138.0604314137083,14.997522972002384,97.03946193313968,87.57308436070076,87.57308436070076,14.997522972002384,112.81675788720453,68.64032921582292,14.997522972002384,14.997522972002384,74.95124759744886,71.7957884066359,122.28313545964345,14.997522972002384,14.997522972002384,37.08573730769319,115.97221707801751,119.12767626883048,14.997522972002384,14.997522972002384,14.997522972002384,71.7957884066359,74.95124759744886,62.32941083419698,112.81675788720453,14.997522972002384,71.7957884066359,14.997522972002384,179.08140089427695,14.997522972002384,109.66129869639157,14.997522972002384,14.997522972002384,14.997522972002384,131.74951303208238,169.61502332183804,141.2158906045213,93.8840027423267,115.97221707801751,87.57308436070076,106.50583950557859,125.43859465045642,100.19492112395264,81.26216597907481,150.68226817696018,112.81675788720453,103.35038031476562,109.66129869639157,14.997522972002384,90.72854355151372,87.57308436070076,119.12767626883048,141.2158906045213,14.997522972002384,141.2158906045213,14.997522972002384,14.997522972002384,115.97221707801751,122.28313545964345,74.95124759744886,14.997522972002384,59.173951643384,109.66129869639157,115.97221707801751,106.50583950557859,109.66129869639157,14.997522972002384,14.997522972002384,112.81675788720453,68.64032921582292,109.66129869639157,163.30410494021208,78.10670678826183,14.997522972002384,14.997522972002384,327.3879828624867,160.14864574939912,100.19492112395264,68.64032921582292,14.997522972002384,90.72854355151372,49.707574070945086,14.997522972002384,14.997522972002384,100.19492112395264,14.997522972002384,141.2158906045213,172.770482512651,14.997522972002384,84.41762516988778,156.99318655858613,59.173951643384,14.997522972002384,74.95124759744886,14.997522972002384,71.7957884066359,74.95124759744886,14.997522972002384,128.59405384126939,106.50583950557859,14.997522972002384,115.97221707801751,147.52680898614722,93.8840027423267,138.0604314137083,56.01849245257103,81.26216597907481,84.41762516988778,147.52680898614722,103.35038031476562,97.03946193313968,14.997522972002384,14.997522972002384,56.01849245257103,90.72854355151372,14.997522972002384,147.52680898614722,78.10670678826183,14.997522972002384,100.19492112395264,14.997522972002384,163.30410494021208,14.997522972002384,14.997522972002384,14.997522972002384,84.41762516988778,14.997522972002384,141.2158906045213,14.997522972002384,68.64032921582292,14.997522972002384,14.997522972002384,14.997522972002384,71.7957884066359,115.97221707801751,52.863033261758055,68.64032921582292,14.997522972002384,14.997522972002384,14.997522972002384,109.66129869639157,125.43859465045642,68.64032921582292,128.59405384126939,125.43859465045642,93.8840027423267,93.8840027423267,87.57308436070076,141.2158906045213,14.997522972002384,103.35038031476562,100.19492112395264,125.43859465045642,166.45956413102505,14.997522972002384,112.81675788720453,14.997522972002384,150.68226817696018,160.14864574939912,160.14864574939912,138.0604314137083,156.99318655858613,71.7957884066359,100.19492112395264,119.12767626883048,109.66129869639157,97.03946193313968,46.55211488013211,87.57308436070076,125.43859465045642,14.997522972002384,14.997522972002384,14.997522972002384,14.997522972002384,14.997522972002384,68.64032921582292,103.35038031476562,128.59405384126939,138.0604314137083,14.997522972002384,14.997522972002384,97.03946193313968,14.997522972002384,74.95124759744886,97.03946193313968,160.14864574939912,14.997522972002384,14.997522972002384,115.97221707801751,169.61502332183804,14.997522972002384,90.72854355151372,74.95124759744886,14.997522972002384,49.707574070945086,14.997522972002384,100.19492112395264,112.81675788720453,106.50583950557859,14.997522972002384,78.10670678826183,128.59405384126939,14.997522972002384,81.26216597907481,14.997522972002384,115.97221707801751,56.01849245257103,100.19492112395264,128.59405384126939,78.10670678826183,14.997522972002384,119.12767626883048,138.0604314137083,71.7957884066359,160.14864574939912,100.19492112395264,74.95124759744886,128.59405384126939,106.50583950557859,109.66129869639157,14.997522972002384,141.2158906045213,106.50583950557859,97.03946193313968,14.997522972002384,14.997522972002384,87.57308436070076,14.997522972002384,131.74951303208238,100.19492112395264,14.997522972002384,115.97221707801751,100.19492112395264,87.57308436070076,68.64032921582292,14.997522972002384,131.74951303208238,78.10670678826183,71.7957884066359,14.997522972002384,131.74951303208238,119.12767626883048,144.37134979533425,144.37134979533425,84.41762516988778,14.997522972002384,14.997522972002384,138.0604314137083,90.72854355151372,153.83772736777317,115.97221707801751,138.0604314137083,144.37134979533425,14.997522972002384,14.997522972002384,14.997522972002384,97.03946193313968,112.81675788720453,14.997522972002384,166.45956413102505,100.19492112395264,87.57308436070076,14.997522972002384,112.81675788720453]},\"selected\":{\"id\":\"1166\",\"type\":\"Selection\"},\"selection_policy\":{\"id\":\"1167\",\"type\":\"UnionRenderers\"}},\"id\":\"1134\",\"type\":\"ColumnDataSource\"},{\"attributes\":{\"callback\":null},\"id\":\"1100\",\"type\":\"DataRange1d\"},{\"attributes\":{},\"id\":\"1116\",\"type\":\"PanTool\"},{\"attributes\":{},\"id\":\"1167\",\"type\":\"UnionRenderers\"},{\"attributes\":{},\"id\":\"1117\",\"type\":\"WheelZoomTool\"}],\"root_ids\":[\"1097\"]},\"title\":\"Bokeh Application\",\"version\":\"1.2.0\"}};\n",
       "  var render_items = [{\"docid\":\"f4e4b6c2-61cf-486a-8644-8dcca771d446\",\"roots\":{\"1097\":\"c5b5fb7d-a9fb-4d70-8e03-b8c9a5c118da\"}}];\n",
       "  root.Bokeh.embed.embed_items_notebook(docs_json, render_items);\n",
       "\n",
       "  }\n",
       "  if (root.Bokeh !== undefined) {\n",
       "    embed_document(root);\n",
       "  } else {\n",
       "    var attempts = 0;\n",
       "    var timer = setInterval(function(root) {\n",
       "      if (root.Bokeh !== undefined) {\n",
       "        embed_document(root);\n",
       "        clearInterval(timer);\n",
       "      }\n",
       "      attempts++;\n",
       "      if (attempts > 100) {\n",
       "        console.log(\"Bokeh: ERROR: Unable to run BokehJS code because BokehJS library is missing\");\n",
       "        clearInterval(timer);\n",
       "      }\n",
       "    }, 10, root)\n",
       "  }\n",
       "})(window);"
      ],
      "application/vnd.bokehjs_exec.v0+json": ""
     },
     "metadata": {
      "application/vnd.bokehjs_exec.v0+json": {
       "id": "1097"
      }
     },
     "output_type": "display_data"
    }
   ],
   "source": [
    "x=df['skin']\n",
    "y=df['insu']\n",
    "\n",
    "best_fit_line = np.polyfit(x, y, 1, full=True)\n",
    "slope=best_fit_line[0][0]\n",
    "intercept=best_fit_line[0][1]\n",
    "y_predicted = [slope*i + intercept  for i in x]\n",
    "\n",
    "fig=figure()\n",
    "fig.circle(x,y)\n",
    "fig.line(x,y_predicted,color='red',legend='y='+str(round(slope,2))+'x+'+str(round(intercept,2)))\n",
    "show(fig)"
   ]
  },
  {
   "cell_type": "markdown",
   "metadata": {},
   "source": [
    "## 3 - Dispersão da concentração de glicose"
   ]
  },
  {
   "cell_type": "code",
   "execution_count": 16,
   "metadata": {},
   "outputs": [
    {
     "data": {
      "text/html": [
       "\n",
       "\n",
       "\n",
       "\n",
       "\n",
       "\n",
       "  <div class=\"bk-root\" id=\"1afab031-6dc6-48bf-8b9e-d4db54867396\" data-root-id=\"1235\"></div>\n"
      ]
     },
     "metadata": {},
     "output_type": "display_data"
    },
    {
     "data": {
      "application/javascript": [
       "(function(root) {\n",
       "  function embed_document(root) {\n",
       "    \n",
       "  var docs_json = {\"d4f3fffe-b0bf-4e39-8f29-8e0f09582e86\":{\"roots\":{\"references\":[{\"attributes\":{\"below\":[{\"id\":\"1244\",\"type\":\"LinearAxis\"}],\"center\":[{\"id\":\"1248\",\"type\":\"Grid\"},{\"id\":\"1253\",\"type\":\"Grid\"}],\"left\":[{\"id\":\"1249\",\"type\":\"LinearAxis\"}],\"renderers\":[{\"id\":\"1270\",\"type\":\"GlyphRenderer\"}],\"title\":{\"id\":\"1291\",\"type\":\"Title\"},\"toolbar\":{\"id\":\"1260\",\"type\":\"Toolbar\"},\"x_range\":{\"id\":\"1236\",\"type\":\"DataRange1d\"},\"x_scale\":{\"id\":\"1240\",\"type\":\"LinearScale\"},\"y_range\":{\"id\":\"1238\",\"type\":\"DataRange1d\"},\"y_scale\":{\"id\":\"1242\",\"type\":\"LinearScale\"}},\"id\":\"1235\",\"subtype\":\"Figure\",\"type\":\"Plot\"},{\"attributes\":{\"overlay\":{\"id\":\"1299\",\"type\":\"BoxAnnotation\"}},\"id\":\"1256\",\"type\":\"BoxZoomTool\"},{\"attributes\":{},\"id\":\"1250\",\"type\":\"BasicTicker\"},{\"attributes\":{},\"id\":\"1298\",\"type\":\"UnionRenderers\"},{\"attributes\":{\"text\":\"\"},\"id\":\"1291\",\"type\":\"Title\"},{\"attributes\":{},\"id\":\"1297\",\"type\":\"Selection\"},{\"attributes\":{\"callback\":null},\"id\":\"1238\",\"type\":\"DataRange1d\"},{\"attributes\":{\"callback\":null,\"data\":{\"x\":[148,85,183,89,137,116,78,115,197,125,110,168,139,189,166,100,118,107,103,115,126,99,196,119,143,125,147,97,145,117,109,158,88,92,122,103,138,102,90,111,180,133,106,171,159,180,146,71,103,105,103,101,88,176,150,73,187,100,146,105,84,133,44,141,114,99,109,109,95,146,100,139,126,129,79,0,62,95,131,112,113,74,83,101,137,110,106,100,136,107,80,123,81,134,142,144,92,71,93,122,163,151,125,81,85,126,96,144,83,95,171,155,89,76,160,146,124,78,97,99,162,111,107,132,113,88,120,118,117,105,173,122,170,84,96,125,100,93,129,105,128,106,108,108,154,102,57,106,147,90,136,114,156,153,188,152,99,109,88,163,151,102,114,100,131,104,148,120,110,111,102,134,87,79,75,179,85,129,143,130,87,119,0,73,141,194,181,128,109,139,111,123,159,135,85,158,105,107,109,148,113,138,108,99,103,111,196,162,96,184,81,147,179,140,112,151,109,125,85,112,177,158,119,142,100,87,101,162,197,117,142,134,79,122,74,171,181,179,164,104,91,91,139,119,146,184,122,165,124,111,106,129,90,86,92,113,111,114,193,155,191,141,95,142,123,96,138,128,102,146,101,108,122,71,106,100,106,104,114,108,146,129,133,161,108,136,155,119,96,108,78,107,128,128,161,151,146,126,100,112,167,144,77,115,150,120,161,137,128,124,80,106,155,113,109,112,99,182,115,194,129,112,124,152,112,157,122,179,102,105,118,87,180,106,95,165,117,115,152,178,130,95,0,122,95,126,139,116,99,0,92,137,61,90,90,165,125,129,88,196,189,158,103,146,147,99,124,101,81,133,173,118,84,105,122,140,98,87,156,93,107,105,109,90,125,119,116,105,144,100,100,166,131,116,158,127,96,131,82,193,95,137,136,72,168,123,115,101,197,172,102,112,143,143,138,173,97,144,83,129,119,94,102,115,151,184,94,181,135,95,99,89,80,139,90,141,140,147,97,107,189,83,117,108,117,180,100,95,104,120,82,134,91,119,100,175,135,86,148,134,120,71,74,88,115,124,74,97,120,154,144,137,119,136,114,137,105,114,126,132,158,123,85,84,145,135,139,173,99,194,83,89,99,125,80,166,110,81,195,154,117,84,0,94,96,75,180,130,84,120,84,139,91,91,99,163,145,125,76,129,68,124,114,130,125,87,97,116,117,111,122,107,86,91,77,132,105,57,127,129,100,128,90,84,88,186,187,131,164,189,116,84,114,88,84,124,97,110,103,85,125,198,87,99,91,95,99,92,154,121,78,130,111,98,143,119,108,118,133,197,151,109,121,100,124,93,143,103,176,73,111,112,132,82,123,188,67,89,173,109,108,96,124,150,183,124,181,92,152,111,106,174,168,105,138,106,117,68,112,119,112,92,183,94,108,90,125,132,128,94,114,102,111,128,92,104,104,94,97,100,102,128,147,90,103,157,167,179,136,107,91,117,123,120,106,155,101,120,127,80,162,199,167,145,115,112,145,111,98,154,165,99,68,123,91,195,156,93,121,101,56,162,95,125,136,129,130,107,140,144,107,158,121,129,90,142,169,99,127,118,122,125,168,129,110,80,115,127,164,93,158,126,129,134,102,187,173,94,108,97,83,114,149,117,111,112,116,141,175,92,130,120,174,106,105,95,126,65,99,102,120,102,109,140,153,100,147,81,187,162,136,121,108,181,154,128,137,123,106,190,88,170,89,101,122,121,126,93],\"y\":[true,false,true,false,true,false,true,false,true,true,false,true,false,true,true,true,true,true,false,true,false,false,true,true,true,true,true,false,false,false,false,true,false,false,false,false,false,true,true,true,false,false,false,true,false,true,false,false,true,false,false,false,false,true,false,false,true,false,false,false,false,true,false,false,true,false,true,false,false,false,true,false,true,false,false,false,false,false,true,false,false,false,false,false,true,false,false,false,true,false,false,false,false,true,false,false,false,false,false,true,true,false,false,false,false,false,false,false,false,true,true,true,false,false,true,true,true,false,false,false,true,false,false,false,true,true,false,false,true,true,true,true,true,false,false,false,false,false,false,false,false,false,false,true,false,false,false,false,false,false,false,false,true,false,true,true,false,false,false,true,false,false,false,false,true,true,false,false,false,false,true,true,false,false,false,true,false,true,false,true,false,false,false,false,false,true,true,true,true,true,false,false,true,true,false,true,false,true,true,true,false,false,false,false,false,false,true,true,false,true,false,false,false,true,true,true,true,false,true,true,true,true,false,false,false,false,false,true,false,false,true,true,false,false,false,true,true,true,true,false,false,false,true,true,false,true,false,false,false,false,false,false,false,false,true,true,false,false,false,true,false,true,false,false,true,false,true,false,false,true,true,false,false,false,false,false,true,false,false,false,true,false,false,true,true,false,false,true,false,false,false,true,true,true,false,false,true,false,true,false,true,true,false,true,false,false,true,false,true,true,false,false,true,false,true,false,false,true,false,true,false,true,true,true,false,false,true,false,true,false,false,false,true,false,false,false,false,true,true,true,false,false,false,false,false,false,false,false,false,true,false,false,false,false,false,true,true,true,false,true,true,false,false,true,false,false,true,false,false,true,true,false,false,false,false,true,false,false,true,false,false,false,false,false,false,false,true,true,true,false,false,true,false,false,true,false,false,true,false,true,true,false,true,false,true,false,true,false,true,true,false,false,false,false,true,true,false,true,false,true,false,false,false,false,true,true,false,true,false,true,false,false,false,false,false,true,false,false,false,false,true,false,false,true,true,true,false,false,true,false,false,true,false,false,false,true,false,false,true,false,false,false,false,false,false,false,false,false,true,false,false,false,false,false,false,false,true,false,false,false,true,false,false,false,true,true,false,false,false,false,false,false,false,true,false,false,false,false,true,false,false,false,true,false,false,false,true,false,false,false,true,false,false,false,false,true,true,false,false,false,false,false,false,true,false,false,false,false,false,false,false,false,false,false,false,true,false,false,false,true,true,true,true,false,false,true,true,false,false,false,false,false,false,false,false,false,false,false,false,false,true,true,false,false,false,false,false,false,false,true,false,false,false,false,false,false,false,true,false,true,true,false,false,false,true,false,true,false,true,false,true,false,true,false,false,true,false,false,true,false,false,false,false,true,true,false,true,false,false,false,false,true,true,false,true,false,false,false,true,true,false,false,false,false,false,false,false,false,false,false,true,false,false,false,false,true,false,false,true,false,false,false,true,false,false,false,true,true,true,false,false,false,false,false,false,true,false,false,false,true,false,true,true,true,true,false,true,true,false,false,false,false,false,false,false,true,true,false,true,false,false,true,false,true,false,false,false,false,false,true,false,true,false,true,false,true,true,false,false,false,false,true,true,false,false,false,true,false,true,true,false,false,true,false,false,true,true,false,false,true,false,false,true,false,false,false,false,false,false,false,true,true,true,false,false,false,false,false,false,true,true,false,false,true,false,false,true,false,true,true,true,false,false,true,true,true,false,true,false,true,false,true,false,false,false,false,true,false]},\"selected\":{\"id\":\"1297\",\"type\":\"Selection\"},\"selection_policy\":{\"id\":\"1298\",\"type\":\"UnionRenderers\"}},\"id\":\"1267\",\"type\":\"ColumnDataSource\"},{\"attributes\":{},\"id\":\"1293\",\"type\":\"BasicTickFormatter\"},{\"attributes\":{\"active_drag\":\"auto\",\"active_inspect\":\"auto\",\"active_multi\":null,\"active_scroll\":\"auto\",\"active_tap\":\"auto\",\"tools\":[{\"id\":\"1254\",\"type\":\"PanTool\"},{\"id\":\"1255\",\"type\":\"WheelZoomTool\"},{\"id\":\"1256\",\"type\":\"BoxZoomTool\"},{\"id\":\"1257\",\"type\":\"SaveTool\"},{\"id\":\"1258\",\"type\":\"ResetTool\"},{\"id\":\"1259\",\"type\":\"HelpTool\"}]},\"id\":\"1260\",\"type\":\"Toolbar\"},{\"attributes\":{\"data_source\":{\"id\":\"1267\",\"type\":\"ColumnDataSource\"},\"glyph\":{\"id\":\"1268\",\"type\":\"Circle\"},\"hover_glyph\":null,\"muted_glyph\":null,\"nonselection_glyph\":{\"id\":\"1269\",\"type\":\"Circle\"},\"selection_glyph\":null,\"view\":{\"id\":\"1271\",\"type\":\"CDSView\"}},\"id\":\"1270\",\"type\":\"GlyphRenderer\"},{\"attributes\":{},\"id\":\"1295\",\"type\":\"BasicTickFormatter\"},{\"attributes\":{},\"id\":\"1258\",\"type\":\"ResetTool\"},{\"attributes\":{\"formatter\":{\"id\":\"1295\",\"type\":\"BasicTickFormatter\"},\"ticker\":{\"id\":\"1250\",\"type\":\"BasicTicker\"}},\"id\":\"1249\",\"type\":\"LinearAxis\"},{\"attributes\":{\"dimension\":1,\"ticker\":{\"id\":\"1250\",\"type\":\"BasicTicker\"}},\"id\":\"1253\",\"type\":\"Grid\"},{\"attributes\":{\"fill_alpha\":{\"value\":0.1},\"fill_color\":{\"value\":\"#1f77b4\"},\"line_alpha\":{\"value\":0.1},\"line_color\":{\"value\":\"#1f77b4\"},\"x\":{\"field\":\"x\"},\"y\":{\"field\":\"y\"}},\"id\":\"1269\",\"type\":\"Circle\"},{\"attributes\":{},\"id\":\"1255\",\"type\":\"WheelZoomTool\"},{\"attributes\":{\"bottom_units\":\"screen\",\"fill_alpha\":{\"value\":0.5},\"fill_color\":{\"value\":\"lightgrey\"},\"left_units\":\"screen\",\"level\":\"overlay\",\"line_alpha\":{\"value\":1.0},\"line_color\":{\"value\":\"black\"},\"line_dash\":[4,4],\"line_width\":{\"value\":2},\"render_mode\":\"css\",\"right_units\":\"screen\",\"top_units\":\"screen\"},\"id\":\"1299\",\"type\":\"BoxAnnotation\"},{\"attributes\":{},\"id\":\"1259\",\"type\":\"HelpTool\"},{\"attributes\":{},\"id\":\"1254\",\"type\":\"PanTool\"},{\"attributes\":{\"fill_color\":{\"value\":\"#1f77b4\"},\"line_color\":{\"value\":\"#1f77b4\"},\"x\":{\"field\":\"x\"},\"y\":{\"field\":\"y\"}},\"id\":\"1268\",\"type\":\"Circle\"},{\"attributes\":{\"callback\":null},\"id\":\"1236\",\"type\":\"DataRange1d\"},{\"attributes\":{\"source\":{\"id\":\"1267\",\"type\":\"ColumnDataSource\"}},\"id\":\"1271\",\"type\":\"CDSView\"},{\"attributes\":{\"formatter\":{\"id\":\"1293\",\"type\":\"BasicTickFormatter\"},\"ticker\":{\"id\":\"1245\",\"type\":\"BasicTicker\"}},\"id\":\"1244\",\"type\":\"LinearAxis\"},{\"attributes\":{},\"id\":\"1257\",\"type\":\"SaveTool\"},{\"attributes\":{\"ticker\":{\"id\":\"1245\",\"type\":\"BasicTicker\"}},\"id\":\"1248\",\"type\":\"Grid\"},{\"attributes\":{},\"id\":\"1245\",\"type\":\"BasicTicker\"},{\"attributes\":{},\"id\":\"1240\",\"type\":\"LinearScale\"},{\"attributes\":{},\"id\":\"1242\",\"type\":\"LinearScale\"}],\"root_ids\":[\"1235\"]},\"title\":\"Bokeh Application\",\"version\":\"1.2.0\"}};\n",
       "  var render_items = [{\"docid\":\"d4f3fffe-b0bf-4e39-8f29-8e0f09582e86\",\"roots\":{\"1235\":\"1afab031-6dc6-48bf-8b9e-d4db54867396\"}}];\n",
       "  root.Bokeh.embed.embed_items_notebook(docs_json, render_items);\n",
       "\n",
       "  }\n",
       "  if (root.Bokeh !== undefined) {\n",
       "    embed_document(root);\n",
       "  } else {\n",
       "    var attempts = 0;\n",
       "    var timer = setInterval(function(root) {\n",
       "      if (root.Bokeh !== undefined) {\n",
       "        embed_document(root);\n",
       "        clearInterval(timer);\n",
       "      }\n",
       "      attempts++;\n",
       "      if (attempts > 100) {\n",
       "        console.log(\"Bokeh: ERROR: Unable to run BokehJS code because BokehJS library is missing\");\n",
       "        clearInterval(timer);\n",
       "      }\n",
       "    }, 10, root)\n",
       "  }\n",
       "})(window);"
      ],
      "application/vnd.bokehjs_exec.v0+json": ""
     },
     "metadata": {
      "application/vnd.bokehjs_exec.v0+json": {
       "id": "1235"
      }
     },
     "output_type": "display_data"
    }
   ],
   "source": [
    "x=df['plas']   #  2. plas = Plasma glucose concentration a 2 hours in an oral glucose tolerance test\n",
    "y=df['y']      # y são todos os casos positivos para diabetes no dataset\n",
    "\n",
    "fig=figure()\n",
    "fig.circle(x,y)\n",
    "show(fig)"
   ]
  },
  {
   "cell_type": "code",
   "execution_count": 17,
   "metadata": {},
   "outputs": [
    {
     "data": {
      "text/html": [
       "\n",
       "\n",
       "\n",
       "\n",
       "\n",
       "\n",
       "  <div class=\"bk-root\" id=\"d33f7a5c-d04f-4704-b474-c565a75568e8\" data-root-id=\"1354\"></div>\n"
      ]
     },
     "metadata": {},
     "output_type": "display_data"
    },
    {
     "data": {
      "application/javascript": [
       "(function(root) {\n",
       "  function embed_document(root) {\n",
       "    \n",
       "  var docs_json = {\"f7905d2c-ddfd-46b4-ab03-e828806e8763\":{\"roots\":{\"references\":[{\"attributes\":{\"below\":[{\"id\":\"1363\",\"type\":\"LinearAxis\"}],\"center\":[{\"id\":\"1367\",\"type\":\"Grid\"},{\"id\":\"1372\",\"type\":\"Grid\"},{\"id\":\"1405\",\"type\":\"Legend\"}],\"left\":[{\"id\":\"1368\",\"type\":\"LinearAxis\"}],\"renderers\":[{\"id\":\"1389\",\"type\":\"GlyphRenderer\"},{\"id\":\"1394\",\"type\":\"GlyphRenderer\"}],\"title\":{\"id\":\"1396\",\"type\":\"Title\"},\"toolbar\":{\"id\":\"1379\",\"type\":\"Toolbar\"},\"x_range\":{\"id\":\"1355\",\"type\":\"DataRange1d\"},\"x_scale\":{\"id\":\"1359\",\"type\":\"LinearScale\"},\"y_range\":{\"id\":\"1357\",\"type\":\"DataRange1d\"},\"y_scale\":{\"id\":\"1361\",\"type\":\"LinearScale\"}},\"id\":\"1354\",\"subtype\":\"Figure\",\"type\":\"Plot\"},{\"attributes\":{\"overlay\":{\"id\":\"1404\",\"type\":\"BoxAnnotation\"}},\"id\":\"1375\",\"type\":\"BoxZoomTool\"},{\"attributes\":{},\"id\":\"1444\",\"type\":\"UnionRenderers\"},{\"attributes\":{},\"id\":\"1376\",\"type\":\"SaveTool\"},{\"attributes\":{},\"id\":\"1377\",\"type\":\"ResetTool\"},{\"attributes\":{\"callback\":null},\"id\":\"1355\",\"type\":\"DataRange1d\"},{\"attributes\":{},\"id\":\"1378\",\"type\":\"HelpTool\"},{\"attributes\":{\"callback\":null,\"data\":{\"x\":[148,85,183,89,137,116,78,115,197,125,110,168,139,189,166,100,118,107,103,115,126,99,196,119,143,125,147,97,145,117,109,158,88,92,122,103,138,102,90,111,180,133,106,171,159,180,146,71,103,105,103,101,88,176,150,73,187,100,146,105,84,133,44,141,114,99,109,109,95,146,100,139,126,129,79,0,62,95,131,112,113,74,83,101,137,110,106,100,136,107,80,123,81,134,142,144,92,71,93,122,163,151,125,81,85,126,96,144,83,95,171,155,89,76,160,146,124,78,97,99,162,111,107,132,113,88,120,118,117,105,173,122,170,84,96,125,100,93,129,105,128,106,108,108,154,102,57,106,147,90,136,114,156,153,188,152,99,109,88,163,151,102,114,100,131,104,148,120,110,111,102,134,87,79,75,179,85,129,143,130,87,119,0,73,141,194,181,128,109,139,111,123,159,135,85,158,105,107,109,148,113,138,108,99,103,111,196,162,96,184,81,147,179,140,112,151,109,125,85,112,177,158,119,142,100,87,101,162,197,117,142,134,79,122,74,171,181,179,164,104,91,91,139,119,146,184,122,165,124,111,106,129,90,86,92,113,111,114,193,155,191,141,95,142,123,96,138,128,102,146,101,108,122,71,106,100,106,104,114,108,146,129,133,161,108,136,155,119,96,108,78,107,128,128,161,151,146,126,100,112,167,144,77,115,150,120,161,137,128,124,80,106,155,113,109,112,99,182,115,194,129,112,124,152,112,157,122,179,102,105,118,87,180,106,95,165,117,115,152,178,130,95,0,122,95,126,139,116,99,0,92,137,61,90,90,165,125,129,88,196,189,158,103,146,147,99,124,101,81,133,173,118,84,105,122,140,98,87,156,93,107,105,109,90,125,119,116,105,144,100,100,166,131,116,158,127,96,131,82,193,95,137,136,72,168,123,115,101,197,172,102,112,143,143,138,173,97,144,83,129,119,94,102,115,151,184,94,181,135,95,99,89,80,139,90,141,140,147,97,107,189,83,117,108,117,180,100,95,104,120,82,134,91,119,100,175,135,86,148,134,120,71,74,88,115,124,74,97,120,154,144,137,119,136,114,137,105,114,126,132,158,123,85,84,145,135,139,173,99,194,83,89,99,125,80,166,110,81,195,154,117,84,0,94,96,75,180,130,84,120,84,139,91,91,99,163,145,125,76,129,68,124,114,130,125,87,97,116,117,111,122,107,86,91,77,132,105,57,127,129,100,128,90,84,88,186,187,131,164,189,116,84,114,88,84,124,97,110,103,85,125,198,87,99,91,95,99,92,154,121,78,130,111,98,143,119,108,118,133,197,151,109,121,100,124,93,143,103,176,73,111,112,132,82,123,188,67,89,173,109,108,96,124,150,183,124,181,92,152,111,106,174,168,105,138,106,117,68,112,119,112,92,183,94,108,90,125,132,128,94,114,102,111,128,92,104,104,94,97,100,102,128,147,90,103,157,167,179,136,107,91,117,123,120,106,155,101,120,127,80,162,199,167,145,115,112,145,111,98,154,165,99,68,123,91,195,156,93,121,101,56,162,95,125,136,129,130,107,140,144,107,158,121,129,90,142,169,99,127,118,122,125,168,129,110,80,115,127,164,93,158,126,129,134,102,187,173,94,108,97,83,114,149,117,111,112,116,141,175,92,130,120,174,106,105,95,126,65,99,102,120,102,109,140,153,100,147,81,187,162,136,121,108,181,154,128,137,123,106,190,88,170,89,101,122,121,126,93],\"y\":[true,false,true,false,true,false,true,false,true,true,false,true,false,true,true,true,true,true,false,true,false,false,true,true,true,true,true,false,false,false,false,true,false,false,false,false,false,true,true,true,false,false,false,true,false,true,false,false,true,false,false,false,false,true,false,false,true,false,false,false,false,true,false,false,true,false,true,false,false,false,true,false,true,false,false,false,false,false,true,false,false,false,false,false,true,false,false,false,true,false,false,false,false,true,false,false,false,false,false,true,true,false,false,false,false,false,false,false,false,true,true,true,false,false,true,true,true,false,false,false,true,false,false,false,true,true,false,false,true,true,true,true,true,false,false,false,false,false,false,false,false,false,false,true,false,false,false,false,false,false,false,false,true,false,true,true,false,false,false,true,false,false,false,false,true,true,false,false,false,false,true,true,false,false,false,true,false,true,false,true,false,false,false,false,false,true,true,true,true,true,false,false,true,true,false,true,false,true,true,true,false,false,false,false,false,false,true,true,false,true,false,false,false,true,true,true,true,false,true,true,true,true,false,false,false,false,false,true,false,false,true,true,false,false,false,true,true,true,true,false,false,false,true,true,false,true,false,false,false,false,false,false,false,false,true,true,false,false,false,true,false,true,false,false,true,false,true,false,false,true,true,false,false,false,false,false,true,false,false,false,true,false,false,true,true,false,false,true,false,false,false,true,true,true,false,false,true,false,true,false,true,true,false,true,false,false,true,false,true,true,false,false,true,false,true,false,false,true,false,true,false,true,true,true,false,false,true,false,true,false,false,false,true,false,false,false,false,true,true,true,false,false,false,false,false,false,false,false,false,true,false,false,false,false,false,true,true,true,false,true,true,false,false,true,false,false,true,false,false,true,true,false,false,false,false,true,false,false,true,false,false,false,false,false,false,false,true,true,true,false,false,true,false,false,true,false,false,true,false,true,true,false,true,false,true,false,true,false,true,true,false,false,false,false,true,true,false,true,false,true,false,false,false,false,true,true,false,true,false,true,false,false,false,false,false,true,false,false,false,false,true,false,false,true,true,true,false,false,true,false,false,true,false,false,false,true,false,false,true,false,false,false,false,false,false,false,false,false,true,false,false,false,false,false,false,false,true,false,false,false,true,false,false,false,true,true,false,false,false,false,false,false,false,true,false,false,false,false,true,false,false,false,true,false,false,false,true,false,false,false,true,false,false,false,false,true,true,false,false,false,false,false,false,true,false,false,false,false,false,false,false,false,false,false,false,true,false,false,false,true,true,true,true,false,false,true,true,false,false,false,false,false,false,false,false,false,false,false,false,false,true,true,false,false,false,false,false,false,false,true,false,false,false,false,false,false,false,true,false,true,true,false,false,false,true,false,true,false,true,false,true,false,true,false,false,true,false,false,true,false,false,false,false,true,true,false,true,false,false,false,false,true,true,false,true,false,false,false,true,true,false,false,false,false,false,false,false,false,false,false,true,false,false,false,false,true,false,false,true,false,false,false,true,false,false,false,true,true,true,false,false,false,false,false,false,true,false,false,false,true,false,true,true,true,true,false,true,true,false,false,false,false,false,false,false,true,true,false,true,false,false,true,false,true,false,false,false,false,false,true,false,true,false,true,false,true,true,false,false,false,false,true,true,false,false,false,true,false,true,true,false,false,true,false,false,true,true,false,false,true,false,false,true,false,false,false,false,false,false,false,true,true,true,false,false,false,false,false,false,true,true,false,false,true,false,false,true,false,true,true,true,false,false,true,true,true,false,true,false,true,false,true,false,false,false,false,true,false]},\"selected\":{\"id\":\"1402\",\"type\":\"Selection\"},\"selection_policy\":{\"id\":\"1403\",\"type\":\"UnionRenderers\"}},\"id\":\"1386\",\"type\":\"ColumnDataSource\"},{\"attributes\":{},\"id\":\"1398\",\"type\":\"BasicTickFormatter\"},{\"attributes\":{\"active_drag\":\"auto\",\"active_inspect\":\"auto\",\"active_multi\":null,\"active_scroll\":\"auto\",\"active_tap\":\"auto\",\"tools\":[{\"id\":\"1373\",\"type\":\"PanTool\"},{\"id\":\"1374\",\"type\":\"WheelZoomTool\"},{\"id\":\"1375\",\"type\":\"BoxZoomTool\"},{\"id\":\"1376\",\"type\":\"SaveTool\"},{\"id\":\"1377\",\"type\":\"ResetTool\"},{\"id\":\"1378\",\"type\":\"HelpTool\"}]},\"id\":\"1379\",\"type\":\"Toolbar\"},{\"attributes\":{\"fill_alpha\":{\"value\":0.1},\"fill_color\":{\"value\":\"#1f77b4\"},\"line_alpha\":{\"value\":0.1},\"line_color\":{\"value\":\"#1f77b4\"},\"x\":{\"field\":\"x\"},\"y\":{\"field\":\"y\"}},\"id\":\"1388\",\"type\":\"Circle\"},{\"attributes\":{\"callback\":null},\"id\":\"1357\",\"type\":\"DataRange1d\"},{\"attributes\":{\"data_source\":{\"id\":\"1386\",\"type\":\"ColumnDataSource\"},\"glyph\":{\"id\":\"1387\",\"type\":\"Circle\"},\"hover_glyph\":null,\"muted_glyph\":null,\"nonselection_glyph\":{\"id\":\"1388\",\"type\":\"Circle\"},\"selection_glyph\":null,\"view\":{\"id\":\"1390\",\"type\":\"CDSView\"}},\"id\":\"1389\",\"type\":\"GlyphRenderer\"},{\"attributes\":{},\"id\":\"1359\",\"type\":\"LinearScale\"},{\"attributes\":{\"source\":{\"id\":\"1386\",\"type\":\"ColumnDataSource\"}},\"id\":\"1390\",\"type\":\"CDSView\"},{\"attributes\":{},\"id\":\"1361\",\"type\":\"LinearScale\"},{\"attributes\":{},\"id\":\"1402\",\"type\":\"Selection\"},{\"attributes\":{},\"id\":\"1400\",\"type\":\"BasicTickFormatter\"},{\"attributes\":{\"formatter\":{\"id\":\"1398\",\"type\":\"BasicTickFormatter\"},\"ticker\":{\"id\":\"1364\",\"type\":\"BasicTicker\"}},\"id\":\"1363\",\"type\":\"LinearAxis\"},{\"attributes\":{\"line_color\":\"red\",\"x\":{\"field\":\"x\"},\"y\":{\"field\":\"y\"}},\"id\":\"1392\",\"type\":\"Line\"},{\"attributes\":{},\"id\":\"1364\",\"type\":\"BasicTicker\"},{\"attributes\":{\"line_alpha\":0.1,\"line_color\":\"#1f77b4\",\"x\":{\"field\":\"x\"},\"y\":{\"field\":\"y\"}},\"id\":\"1393\",\"type\":\"Line\"},{\"attributes\":{\"ticker\":{\"id\":\"1364\",\"type\":\"BasicTicker\"}},\"id\":\"1367\",\"type\":\"Grid\"},{\"attributes\":{},\"id\":\"1443\",\"type\":\"Selection\"},{\"attributes\":{\"data_source\":{\"id\":\"1391\",\"type\":\"ColumnDataSource\"},\"glyph\":{\"id\":\"1392\",\"type\":\"Line\"},\"hover_glyph\":null,\"muted_glyph\":null,\"nonselection_glyph\":{\"id\":\"1393\",\"type\":\"Line\"},\"selection_glyph\":null,\"view\":{\"id\":\"1395\",\"type\":\"CDSView\"}},\"id\":\"1394\",\"type\":\"GlyphRenderer\"},{\"attributes\":{\"formatter\":{\"id\":\"1400\",\"type\":\"BasicTickFormatter\"},\"ticker\":{\"id\":\"1369\",\"type\":\"BasicTicker\"}},\"id\":\"1368\",\"type\":\"LinearAxis\"},{\"attributes\":{\"source\":{\"id\":\"1391\",\"type\":\"ColumnDataSource\"}},\"id\":\"1395\",\"type\":\"CDSView\"},{\"attributes\":{},\"id\":\"1369\",\"type\":\"BasicTicker\"},{\"attributes\":{\"text\":\"\"},\"id\":\"1396\",\"type\":\"Title\"},{\"attributes\":{\"dimension\":1,\"ticker\":{\"id\":\"1369\",\"type\":\"BasicTicker\"}},\"id\":\"1372\",\"type\":\"Grid\"},{\"attributes\":{\"fill_color\":{\"value\":\"#1f77b4\"},\"line_color\":{\"value\":\"#1f77b4\"},\"x\":{\"field\":\"x\"},\"y\":{\"field\":\"y\"}},\"id\":\"1387\",\"type\":\"Circle\"},{\"attributes\":{\"bottom_units\":\"screen\",\"fill_alpha\":{\"value\":0.5},\"fill_color\":{\"value\":\"lightgrey\"},\"left_units\":\"screen\",\"level\":\"overlay\",\"line_alpha\":{\"value\":1.0},\"line_color\":{\"value\":\"black\"},\"line_dash\":[4,4],\"line_width\":{\"value\":2},\"render_mode\":\"css\",\"right_units\":\"screen\",\"top_units\":\"screen\"},\"id\":\"1404\",\"type\":\"BoxAnnotation\"},{\"attributes\":{\"callback\":null,\"data\":{\"x\":[148,85,183,89,137,116,78,115,197,125,110,168,139,189,166,100,118,107,103,115,126,99,196,119,143,125,147,97,145,117,109,158,88,92,122,103,138,102,90,111,180,133,106,171,159,180,146,71,103,105,103,101,88,176,150,73,187,100,146,105,84,133,44,141,114,99,109,109,95,146,100,139,126,129,79,0,62,95,131,112,113,74,83,101,137,110,106,100,136,107,80,123,81,134,142,144,92,71,93,122,163,151,125,81,85,126,96,144,83,95,171,155,89,76,160,146,124,78,97,99,162,111,107,132,113,88,120,118,117,105,173,122,170,84,96,125,100,93,129,105,128,106,108,108,154,102,57,106,147,90,136,114,156,153,188,152,99,109,88,163,151,102,114,100,131,104,148,120,110,111,102,134,87,79,75,179,85,129,143,130,87,119,0,73,141,194,181,128,109,139,111,123,159,135,85,158,105,107,109,148,113,138,108,99,103,111,196,162,96,184,81,147,179,140,112,151,109,125,85,112,177,158,119,142,100,87,101,162,197,117,142,134,79,122,74,171,181,179,164,104,91,91,139,119,146,184,122,165,124,111,106,129,90,86,92,113,111,114,193,155,191,141,95,142,123,96,138,128,102,146,101,108,122,71,106,100,106,104,114,108,146,129,133,161,108,136,155,119,96,108,78,107,128,128,161,151,146,126,100,112,167,144,77,115,150,120,161,137,128,124,80,106,155,113,109,112,99,182,115,194,129,112,124,152,112,157,122,179,102,105,118,87,180,106,95,165,117,115,152,178,130,95,0,122,95,126,139,116,99,0,92,137,61,90,90,165,125,129,88,196,189,158,103,146,147,99,124,101,81,133,173,118,84,105,122,140,98,87,156,93,107,105,109,90,125,119,116,105,144,100,100,166,131,116,158,127,96,131,82,193,95,137,136,72,168,123,115,101,197,172,102,112,143,143,138,173,97,144,83,129,119,94,102,115,151,184,94,181,135,95,99,89,80,139,90,141,140,147,97,107,189,83,117,108,117,180,100,95,104,120,82,134,91,119,100,175,135,86,148,134,120,71,74,88,115,124,74,97,120,154,144,137,119,136,114,137,105,114,126,132,158,123,85,84,145,135,139,173,99,194,83,89,99,125,80,166,110,81,195,154,117,84,0,94,96,75,180,130,84,120,84,139,91,91,99,163,145,125,76,129,68,124,114,130,125,87,97,116,117,111,122,107,86,91,77,132,105,57,127,129,100,128,90,84,88,186,187,131,164,189,116,84,114,88,84,124,97,110,103,85,125,198,87,99,91,95,99,92,154,121,78,130,111,98,143,119,108,118,133,197,151,109,121,100,124,93,143,103,176,73,111,112,132,82,123,188,67,89,173,109,108,96,124,150,183,124,181,92,152,111,106,174,168,105,138,106,117,68,112,119,112,92,183,94,108,90,125,132,128,94,114,102,111,128,92,104,104,94,97,100,102,128,147,90,103,157,167,179,136,107,91,117,123,120,106,155,101,120,127,80,162,199,167,145,115,112,145,111,98,154,165,99,68,123,91,195,156,93,121,101,56,162,95,125,136,129,130,107,140,144,107,158,121,129,90,142,169,99,127,118,122,125,168,129,110,80,115,127,164,93,158,126,129,134,102,187,173,94,108,97,83,114,149,117,111,112,116,141,175,92,130,120,174,106,105,95,126,65,99,102,120,102,109,140,153,100,147,81,187,162,136,121,108,181,154,128,137,123,106,190,88,170,89,101,122,121,126,93],\"y\":[0.5376185149451511,0.09912429257371547,0.7812264162626152,0.1269651955814256,0.46105603167394804,0.31489129088346945,0.05040271231022253,0.3079310651315419,0.8786695767896011,0.3775333226508174,0.2731299363719042,0.6768230299837021,0.47497648317780317,0.8229877707741806,0.662902578479847,0.20352767885262868,0.3288117423873246,0.2522492591161215,0.22440835610841137,0.3079310651315419,0.38449354840274497,0.19656745310070112,0.8717093510376734,0.33577196813925214,0.5028173861855133,0.3775333226508174,0.5306582891932234,0.182647001596846,0.5167378376893685,0.321851516635397,0.26616971061997663,0.6072207724644265,0.12000496982949804,0.1478458728372083,0.35665264539503483,0.22440835610841137,0.4680162574258756,0.2174481303564838,0.13392542133335317,0.28009016212383175,0.7603457390068327,0.4332151286662378,0.24528903336419394,0.6977037072394847,0.6141809982163542,0.7603457390068327,0.523698063441296,0.0016811320467297053,0.22440835610841137,0.2383288076122665,0.22440835610841137,0.21048790460455624,0.12000496982949804,0.7325048359991224,0.5515389664490062,0.01560158355058483,0.8090673192703255,0.20352767885262868,0.523698063441296,0.2383288076122665,0.0921640668217879,0.4332151286662378,-0.18624496325531414,0.4888969346816583,0.30097083937961444,0.19656745310070112,0.26616971061997663,0.26616971061997663,0.16872655009299098,0.523698063441296,0.20352767885262868,0.47497648317780317,0.38449354840274497,0.40537422565852765,0.05736293806215009,-0.49249489634012633,-0.060960899720618245,0.16872655009299098,0.4192946771623828,0.2870503878757593,0.2940106136276869,0.022561809302512392,0.08520384106986034,0.21048790460455624,0.46105603167394804,0.2731299363719042,0.24528903336419394,0.20352767885262868,0.4540958059220205,0.2522492591161215,0.06432316381407766,0.3636128711469624,0.07128338956600522,0.44017535441816535,0.49585716043358574,0.5097776119374409,0.1478458728372083,0.0016811320467297053,0.15480609858913585,0.35665264539503483,0.6420219012240644,0.5584991922009337,0.3775333226508174,0.07128338956600522,0.09912429257371547,0.38449354840274497,0.17568677584491854,0.5097776119374409,0.08520384106986034,0.16872655009299098,0.6977037072394847,0.5863400952086439,0.1269651955814256,0.03648226080636752,0.6211412239682816,0.523698063441296,0.37057309689888984,0.05040271231022253,0.182647001596846,0.19656745310070112,0.6350616754721368,0.28009016212383175,0.2522492591161215,0.42625490291431034,0.2940106136276869,0.12000496982949804,0.3427321938911797,0.3288117423873246,0.321851516635397,0.2383288076122665,0.7116241587433398,0.35665264539503483,0.6907434814875573,0.0921640668217879,0.17568677584491854,0.3775333226508174,0.20352767885262868,0.15480609858913585,0.40537422565852765,0.2383288076122665,0.3984139999066001,0.24528903336419394,0.25920948486804907,0.25920948486804907,0.5793798694567165,0.2174481303564838,-0.09576202848025595,0.24528903336419394,0.5306582891932234,0.13392542133335317,0.4540958059220205,0.30097083937961444,0.5933003209605714,0.5724196437047888,0.8160275450222532,0.5654594179528614,0.19656745310070112,0.26616971061997663,0.12000496982949804,0.6420219012240644,0.5584991922009337,0.2174481303564838,0.30097083937961444,0.20352767885262868,0.4192946771623828,0.23136858186033893,0.5376185149451511,0.3427321938911797,0.2731299363719042,0.28009016212383175,0.2174481303564838,0.44017535441816535,0.11304474407757048,0.05736293806215009,0.029522035054439955,0.7533855132549052,0.09912429257371547,0.40537422565852765,0.5028173861855133,0.4123344514104552,0.11304474407757048,0.33577196813925214,-0.49249489634012633,0.01560158355058483,0.4888969346816583,0.8577888995338183,0.7673059647587603,0.3984139999066001,0.26616971061997663,0.47497648317780317,0.28009016212383175,0.3636128711469624,0.6141809982163542,0.4471355801700929,0.09912429257371547,0.6072207724644265,0.2383288076122665,0.2522492591161215,0.26616971061997663,0.5376185149451511,0.2940106136276869,0.4680162574258756,0.25920948486804907,0.19656745310070112,0.22440835610841137,0.28009016212383175,0.8717093510376734,0.6350616754721368,0.17568677584491854,0.7881866420145429,0.07128338956600522,0.5306582891932234,0.7533855132549052,0.48193670892973073,0.2870503878757593,0.5584991922009337,0.26616971061997663,0.3775333226508174,0.09912429257371547,0.2870503878757593,0.7394650617510501,0.6072207724644265,0.33577196813925214,0.49585716043358574,0.20352767885262868,0.11304474407757048,0.21048790460455624,0.6350616754721368,0.8786695767896011,0.321851516635397,0.49585716043358574,0.44017535441816535,0.05736293806215009,0.35665264539503483,0.022561809302512392,0.6977037072394847,0.7673059647587603,0.7533855132549052,0.6489821269759919,0.23136858186033893,0.14088564708528073,0.14088564708528073,0.47497648317780317,0.33577196813925214,0.523698063441296,0.7881866420145429,0.35665264539503483,0.6559423527279193,0.37057309689888984,0.28009016212383175,0.24528903336419394,0.40537422565852765,0.13392542133335317,0.10608451832564303,0.1478458728372083,0.2940106136276869,0.28009016212383175,0.30097083937961444,0.8508286737818909,0.5863400952086439,0.8369082222780357,0.4888969346816583,0.16872655009299098,0.49585716043358574,0.3636128711469624,0.17568677584491854,0.4680162574258756,0.3984139999066001,0.2174481303564838,0.523698063441296,0.21048790460455624,0.25920948486804907,0.35665264539503483,0.0016811320467297053,0.24528903336419394,0.20352767885262868,0.24528903336419394,0.23136858186033893,0.30097083937961444,0.25920948486804907,0.523698063441296,0.40537422565852765,0.4332151286662378,0.6281014497202093,0.25920948486804907,0.4540958059220205,0.5863400952086439,0.33577196813925214,0.17568677584491854,0.25920948486804907,0.05040271231022253,0.2522492591161215,0.3984139999066001,0.3984139999066001,0.6281014497202093,0.5584991922009337,0.523698063441296,0.38449354840274497,0.20352767885262868,0.2870503878757593,0.6698628042317745,0.5097776119374409,0.04344248655829508,0.3079310651315419,0.5515389664490062,0.3427321938911797,0.6281014497202093,0.46105603167394804,0.3984139999066001,0.37057309689888984,0.06432316381407766,0.24528903336419394,0.5863400952086439,0.2940106136276869,0.26616971061997663,0.2870503878757593,0.19656745310070112,0.7742661905106878,0.3079310651315419,0.8577888995338183,0.40537422565852765,0.2870503878757593,0.37057309689888984,0.5654594179528614,0.2870503878757593,0.6002605467124991,0.35665264539503483,0.7533855132549052,0.2174481303564838,0.2383288076122665,0.3288117423873246,0.11304474407757048,0.7603457390068327,0.24528903336419394,0.16872655009299098,0.6559423527279193,0.321851516635397,0.3079310651315419,0.5654594179528614,0.7464252875029775,0.4123344514104552,0.16872655009299098,-0.49249489634012633,0.35665264539503483,0.16872655009299098,0.38449354840274497,0.47497648317780317,0.31489129088346945,0.19656745310070112,-0.49249489634012633,0.1478458728372083,0.46105603167394804,-0.06792112547254575,0.13392542133335317,0.13392542133335317,0.6559423527279193,0.3775333226508174,0.40537422565852765,0.12000496982949804,0.8717093510376734,0.8229877707741806,0.6072207724644265,0.22440835610841137,0.523698063441296,0.5306582891932234,0.19656745310070112,0.37057309689888984,0.21048790460455624,0.07128338956600522,0.4332151286662378,0.7116241587433398,0.3288117423873246,0.0921640668217879,0.2383288076122665,0.35665264539503483,0.48193670892973073,0.18960722734877355,0.11304474407757048,0.5933003209605714,0.15480609858913585,0.2522492591161215,0.2383288076122665,0.26616971061997663,0.13392542133335317,0.3775333226508174,0.33577196813925214,0.31489129088346945,0.2383288076122665,0.5097776119374409,0.20352767885262868,0.20352767885262868,0.662902578479847,0.4192946771623828,0.31489129088346945,0.6072207724644265,0.39145377415467253,0.17568677584491854,0.4192946771623828,0.07824361531793278,0.8508286737818909,0.16872655009299098,0.46105603167394804,0.4540958059220205,0.008641357798657268,0.6768230299837021,0.3636128711469624,0.3079310651315419,0.21048790460455624,0.8786695767896011,0.7046639329914124,0.2174481303564838,0.2870503878757593,0.5028173861855133,0.5028173861855133,0.4680162574258756,0.7116241587433398,0.182647001596846,0.5097776119374409,0.08520384106986034,0.40537422565852765,0.33577196813925214,0.16176632434106342,0.2174481303564838,0.3079310651315419,0.5584991922009337,0.7881866420145429,0.16176632434106342,0.7673059647587603,0.4471355801700929,0.16872655009299098,0.19656745310070112,0.1269651955814256,0.06432316381407766,0.47497648317780317,0.13392542133335317,0.4888969346816583,0.48193670892973073,0.5306582891932234,0.182647001596846,0.2522492591161215,0.8229877707741806,0.08520384106986034,0.321851516635397,0.25920948486804907,0.321851516635397,0.7603457390068327,0.20352767885262868,0.16872655009299098,0.23136858186033893,0.3427321938911797,0.07824361531793278,0.44017535441816535,0.14088564708528073,0.33577196813925214,0.20352767885262868,0.725544610247195,0.4471355801700929,0.10608451832564303,0.5376185149451511,0.44017535441816535,0.3427321938911797,0.0016811320467297053,0.022561809302512392,0.12000496982949804,0.3079310651315419,0.37057309689888984,0.022561809302512392,0.182647001596846,0.3427321938911797,0.5793798694567165,0.5097776119374409,0.46105603167394804,0.33577196813925214,0.4540958059220205,0.30097083937961444,0.46105603167394804,0.2383288076122665,0.30097083937961444,0.38449354840274497,0.42625490291431034,0.6072207724644265,0.3636128711469624,0.09912429257371547,0.0921640668217879,0.5167378376893685,0.4471355801700929,0.47497648317780317,0.7116241587433398,0.19656745310070112,0.8577888995338183,0.08520384106986034,0.1269651955814256,0.19656745310070112,0.3775333226508174,0.06432316381407766,0.662902578479847,0.2731299363719042,0.07128338956600522,0.864749125285746,0.5793798694567165,0.321851516635397,0.0921640668217879,-0.49249489634012633,0.16176632434106342,0.17568677584491854,0.029522035054439955,0.7603457390068327,0.4123344514104552,0.0921640668217879,0.3427321938911797,0.0921640668217879,0.47497648317780317,0.14088564708528073,0.14088564708528073,0.19656745310070112,0.6420219012240644,0.5167378376893685,0.3775333226508174,0.03648226080636752,0.40537422565852765,-0.019199545209052926,0.37057309689888984,0.30097083937961444,0.4123344514104552,0.3775333226508174,0.11304474407757048,0.182647001596846,0.31489129088346945,0.321851516635397,0.28009016212383175,0.35665264539503483,0.2522492591161215,0.10608451832564303,0.14088564708528073,0.04344248655829508,0.42625490291431034,0.2383288076122665,-0.09576202848025595,0.39145377415467253,0.40537422565852765,0.20352767885262868,0.3984139999066001,0.13392542133335317,0.0921640668217879,0.12000496982949804,0.802107093518398,0.8090673192703255,0.4192946771623828,0.6489821269759919,0.8229877707741806,0.31489129088346945,0.0921640668217879,0.30097083937961444,0.12000496982949804,0.0921640668217879,0.37057309689888984,0.182647001596846,0.2731299363719042,0.22440835610841137,0.09912429257371547,0.3775333226508174,0.8856298025415286,0.11304474407757048,0.19656745310070112,0.14088564708528073,0.16872655009299098,0.19656745310070112,0.1478458728372083,0.5793798694567165,0.34969241964310727,0.05040271231022253,0.4123344514104552,0.28009016212383175,0.18960722734877355,0.5028173861855133,0.33577196813925214,0.25920948486804907,0.3288117423873246,0.4332151286662378,0.8786695767896011,0.5584991922009337,0.26616971061997663,0.34969241964310727,0.20352767885262868,0.37057309689888984,0.15480609858913585,0.5028173861855133,0.22440835610841137,0.7325048359991224,0.01560158355058483,0.28009016212383175,0.2870503878757593,0.42625490291431034,0.07824361531793278,0.3636128711469624,0.8160275450222532,-0.02615977096098049,0.1269651955814256,0.7116241587433398,0.26616971061997663,0.25920948486804907,0.17568677584491854,0.37057309689888984,0.5515389664490062,0.7812264162626152,0.37057309689888984,0.7673059647587603,0.1478458728372083,0.5654594179528614,0.28009016212383175,0.24528903336419394,0.7185843844952673,0.6768230299837021,0.2383288076122665,0.4680162574258756,0.24528903336419394,0.321851516635397,-0.019199545209052926,0.2870503878757593,0.33577196813925214,0.2870503878757593,0.1478458728372083,0.7812264162626152,0.16176632434106342,0.25920948486804907,0.13392542133335317,0.3775333226508174,0.42625490291431034,0.3984139999066001,0.16176632434106342,0.30097083937961444,0.2174481303564838,0.28009016212383175,0.3984139999066001,0.1478458728372083,0.23136858186033893,0.23136858186033893,0.16176632434106342,0.182647001596846,0.20352767885262868,0.2174481303564838,0.3984139999066001,0.5306582891932234,0.13392542133335317,0.22440835610841137,0.6002605467124991,0.6698628042317745,0.7533855132549052,0.4540958059220205,0.2522492591161215,0.14088564708528073,0.321851516635397,0.3636128711469624,0.3427321938911797,0.24528903336419394,0.5863400952086439,0.21048790460455624,0.3427321938911797,0.39145377415467253,0.06432316381407766,0.6350616754721368,0.8925900282934562,0.6698628042317745,0.5167378376893685,0.3079310651315419,0.2870503878757593,0.5167378376893685,0.28009016212383175,0.18960722734877355,0.5793798694567165,0.6559423527279193,0.19656745310070112,-0.019199545209052926,0.3636128711469624,0.14088564708528073,0.864749125285746,0.5933003209605714,0.15480609858913585,0.34969241964310727,0.21048790460455624,-0.10272225423218351,0.6350616754721368,0.16872655009299098,0.3775333226508174,0.4540958059220205,0.40537422565852765,0.4123344514104552,0.2522492591161215,0.48193670892973073,0.5097776119374409,0.2522492591161215,0.6072207724644265,0.34969241964310727,0.40537422565852765,0.13392542133335317,0.49585716043358574,0.6837832557356296,0.19656745310070112,0.39145377415467253,0.3288117423873246,0.35665264539503483,0.3775333226508174,0.6768230299837021,0.40537422565852765,0.2731299363719042,0.06432316381407766,0.3079310651315419,0.39145377415467253,0.6489821269759919,0.15480609858913585,0.6072207724644265,0.38449354840274497,0.40537422565852765,0.44017535441816535,0.2174481303564838,0.8090673192703255,0.7116241587433398,0.16176632434106342,0.25920948486804907,0.182647001596846,0.08520384106986034,0.30097083937961444,0.5445787406970786,0.321851516635397,0.28009016212383175,0.2870503878757593,0.31489129088346945,0.4888969346816583,0.725544610247195,0.1478458728372083,0.4123344514104552,0.3427321938911797,0.7185843844952673,0.24528903336419394,0.2383288076122665,0.16872655009299098,0.38449354840274497,-0.04008022246483556,0.19656745310070112,0.2174481303564838,0.3427321938911797,0.2174481303564838,0.26616971061997663,0.48193670892973073,0.5724196437047888,0.20352767885262868,0.5306582891932234,0.07128338956600522,0.8090673192703255,0.6350616754721368,0.4540958059220205,0.34969241964310727,0.25920948486804907,0.7673059647587603,0.5793798694567165,0.3984139999066001,0.46105603167394804,0.3636128711469624,0.24528903336419394,0.8299479965261083,0.12000496982949804,0.6907434814875573,0.1269651955814256,0.21048790460455624,0.35665264539503483,0.34969241964310727,0.38449354840274497,0.15480609858913585]},\"selected\":{\"id\":\"1443\",\"type\":\"Selection\"},\"selection_policy\":{\"id\":\"1444\",\"type\":\"UnionRenderers\"}},\"id\":\"1391\",\"type\":\"ColumnDataSource\"},{\"attributes\":{\"items\":[{\"id\":\"1406\",\"type\":\"LegendItem\"}]},\"id\":\"1405\",\"type\":\"Legend\"},{\"attributes\":{},\"id\":\"1403\",\"type\":\"UnionRenderers\"},{\"attributes\":{\"label\":{\"value\":\"y=0.01x+-0.49\"},\"renderers\":[{\"id\":\"1394\",\"type\":\"GlyphRenderer\"}]},\"id\":\"1406\",\"type\":\"LegendItem\"},{\"attributes\":{},\"id\":\"1373\",\"type\":\"PanTool\"},{\"attributes\":{},\"id\":\"1374\",\"type\":\"WheelZoomTool\"}],\"root_ids\":[\"1354\"]},\"title\":\"Bokeh Application\",\"version\":\"1.2.0\"}};\n",
       "  var render_items = [{\"docid\":\"f7905d2c-ddfd-46b4-ab03-e828806e8763\",\"roots\":{\"1354\":\"d33f7a5c-d04f-4704-b474-c565a75568e8\"}}];\n",
       "  root.Bokeh.embed.embed_items_notebook(docs_json, render_items);\n",
       "\n",
       "  }\n",
       "  if (root.Bokeh !== undefined) {\n",
       "    embed_document(root);\n",
       "  } else {\n",
       "    var attempts = 0;\n",
       "    var timer = setInterval(function(root) {\n",
       "      if (root.Bokeh !== undefined) {\n",
       "        embed_document(root);\n",
       "        clearInterval(timer);\n",
       "      }\n",
       "      attempts++;\n",
       "      if (attempts > 100) {\n",
       "        console.log(\"Bokeh: ERROR: Unable to run BokehJS code because BokehJS library is missing\");\n",
       "        clearInterval(timer);\n",
       "      }\n",
       "    }, 10, root)\n",
       "  }\n",
       "})(window);"
      ],
      "application/vnd.bokehjs_exec.v0+json": ""
     },
     "metadata": {
      "application/vnd.bokehjs_exec.v0+json": {
       "id": "1354"
      }
     },
     "output_type": "display_data"
    }
   ],
   "source": [
    "par = np.polyfit(x, y, 1, full=True)\n",
    "slope=par[0][0]\n",
    "intercept=par[0][1]\n",
    "y_predicted = [slope*i + intercept  for i in x]\n",
    "\n",
    "fig=figure()\n",
    "fig.circle(x,y)\n",
    "fig.line(x,y_predicted,color='red',legend='y='+str(round(slope,2))+'x+'+str(round(intercept,2)))\n",
    "show(fig)"
   ]
  },
  {
   "cell_type": "markdown",
   "metadata": {},
   "source": [
    "# Regressão Linear OLS, concentração de Glicose x Casos Positivos"
   ]
  },
  {
   "cell_type": "code",
   "execution_count": 18,
   "metadata": {},
   "outputs": [],
   "source": [
    "df['y'] = df['y'].astype(int)"
   ]
  },
  {
   "cell_type": "code",
   "execution_count": 20,
   "metadata": {},
   "outputs": [
    {
     "name": "stdout",
     "output_type": "stream",
     "text": [
      "                 Results: Ordinary least squares\n",
      "=================================================================\n",
      "Model:              OLS              Adj. R-squared:     0.217   \n",
      "Dependent Variable: y                AIC:                856.7703\n",
      "Date:               2019-06-15 18:53 BIC:                866.0579\n",
      "No. Observations:   768              Log-Likelihood:     -426.39 \n",
      "Df Model:           1                F-statistic:        213.2   \n",
      "Df Residuals:       766              Prob (F-statistic): 8.94e-43\n",
      "R-squared:          0.218            Scale:              0.17819 \n",
      "------------------------------------------------------------------\n",
      "               Coef.   Std.Err.     t     P>|t|    [0.025   0.975]\n",
      "------------------------------------------------------------------\n",
      "Intercept     -0.4925    0.0596  -8.2616  0.0000  -0.6095  -0.3755\n",
      "plas           0.0070    0.0005  14.6001  0.0000   0.0060   0.0079\n",
      "-----------------------------------------------------------------\n",
      "Omnibus:              62.933       Durbin-Watson:          1.997 \n",
      "Prob(Omnibus):        0.000        Jarque-Bera (JB):       53.855\n",
      "Skew:                 0.570        Prob(JB):               0.000 \n",
      "Kurtosis:             2.380        Condition No.:          489   \n",
      "=================================================================\n",
      "\n"
     ]
    }
   ],
   "source": [
    "function1 = 'y ~ plas'\n",
    "\n",
    "model1 = smf.ols(function1, df).fit()\n",
    "print(model1.summary2())"
   ]
  },
  {
   "cell_type": "markdown",
   "metadata": {},
   "source": [
    "# Regressão Linear OLS com todas as variáveis"
   ]
  },
  {
   "cell_type": "code",
   "execution_count": 21,
   "metadata": {},
   "outputs": [
    {
     "data": {
      "text/plain": [
       "['preg', 'plas', 'pres', 'skin', 'insu', 'mass', 'pedi', 'age', 'class', 'y']"
      ]
     },
     "execution_count": 21,
     "metadata": {},
     "output_type": "execute_result"
    }
   ],
   "source": [
    "list(df)"
   ]
  },
  {
   "cell_type": "code",
   "execution_count": 22,
   "metadata": {},
   "outputs": [
    {
     "name": "stdout",
     "output_type": "stream",
     "text": [
      "                 Results: Ordinary least squares\n",
      "=================================================================\n",
      "Model:              OLS              Adj. R-squared:     0.296   \n",
      "Dependent Variable: y                AIC:                781.8218\n",
      "Date:               2019-06-15 18:55 BIC:                823.6159\n",
      "No. Observations:   768              Log-Likelihood:     -381.91 \n",
      "Df Model:           8                F-statistic:        41.29   \n",
      "Df Residuals:       759              Prob (F-statistic): 7.36e-55\n",
      "R-squared:          0.303            Scale:              0.16017 \n",
      "------------------------------------------------------------------\n",
      "               Coef.   Std.Err.     t     P>|t|    [0.025   0.975]\n",
      "------------------------------------------------------------------\n",
      "Intercept     -0.8539    0.0855  -9.9888  0.0000  -1.0217  -0.6861\n",
      "preg           0.0206    0.0051   4.0140  0.0001   0.0105   0.0307\n",
      "plas           0.0059    0.0005  11.4929  0.0000   0.0049   0.0069\n",
      "pres          -0.0023    0.0008  -2.8730  0.0042  -0.0039  -0.0007\n",
      "skin           0.0002    0.0011   0.1389  0.8895  -0.0020   0.0023\n",
      "insu          -0.0002    0.0001  -1.2050  0.2286  -0.0005   0.0001\n",
      "mass           0.0132    0.0021   6.3437  0.0000   0.0091   0.0173\n",
      "pedi           0.1472    0.0451   3.2680  0.0011   0.0588   0.2357\n",
      "age            0.0026    0.0015   1.6927  0.0909  -0.0004   0.0057\n",
      "-----------------------------------------------------------------\n",
      "Omnibus:              41.539       Durbin-Watson:          1.982 \n",
      "Prob(Omnibus):        0.000        Jarque-Bera (JB):       31.183\n",
      "Skew:                 0.395        Prob(JB):               0.000 \n",
      "Kurtosis:             2.408        Condition No.:          1101  \n",
      "=================================================================\n",
      "* The condition number is large (1e+03). This might indicate\n",
      "strong multicollinearity or other numerical problems.\n"
     ]
    }
   ],
   "source": [
    "function1 = 'y ~ preg + plas + pres + skin + insu + mass + pedi + age'\n",
    "\n",
    "model1 = smf.ols(function1, df).fit()\n",
    "print(model1.summary2())"
   ]
  },
  {
   "cell_type": "markdown",
   "metadata": {},
   "source": [
    "# Regressão Logística"
   ]
  },
  {
   "cell_type": "code",
   "execution_count": 23,
   "metadata": {},
   "outputs": [
    {
     "name": "stdout",
     "output_type": "stream",
     "text": [
      "Optimization terminated successfully.\n",
      "         Current function value: 0.470993\n",
      "         Iterations 6\n"
     ]
    }
   ],
   "source": [
    "logit = smf.logit(function1, df).fit()"
   ]
  },
  {
   "cell_type": "code",
   "execution_count": 24,
   "metadata": {},
   "outputs": [
    {
     "name": "stdout",
     "output_type": "stream",
     "text": [
      "                         Results: Logit\n",
      "=================================================================\n",
      "Model:              Logit            Pseudo R-squared: 0.272     \n",
      "Dependent Variable: y                AIC:              741.4454  \n",
      "Date:               2019-06-15 18:56 BIC:              783.2395  \n",
      "No. Observations:   768              Log-Likelihood:   -361.72   \n",
      "Df Model:           8                LL-Null:          -496.74   \n",
      "Df Residuals:       759              LLR p-value:      9.6516e-54\n",
      "Converged:          1.0000           Scale:            1.0000    \n",
      "No. Iterations:     6.0000                                       \n",
      "------------------------------------------------------------------\n",
      "              Coef.   Std.Err.     z      P>|z|    [0.025   0.975]\n",
      "------------------------------------------------------------------\n",
      "Intercept    -8.4047    0.7166  -11.7280  0.0000  -9.8093  -7.0001\n",
      "preg          0.1232    0.0321    3.8401  0.0001   0.0603   0.1861\n",
      "plas          0.0352    0.0037    9.4814  0.0000   0.0279   0.0424\n",
      "pres         -0.0133    0.0052   -2.5404  0.0111  -0.0236  -0.0030\n",
      "skin          0.0006    0.0069    0.0897  0.9285  -0.0129   0.0141\n",
      "insu         -0.0012    0.0009   -1.3223  0.1861  -0.0030   0.0006\n",
      "mass          0.0897    0.0151    5.9453  0.0000   0.0601   0.1193\n",
      "pedi          0.9452    0.2991    3.1596  0.0016   0.3589   1.5315\n",
      "age           0.0149    0.0093    1.5929  0.1112  -0.0034   0.0332\n",
      "=================================================================\n",
      "\n"
     ]
    }
   ],
   "source": [
    "print(logit.summary2())"
   ]
  },
  {
   "cell_type": "code",
   "execution_count": 31,
   "metadata": {},
   "outputs": [
    {
     "data": {
      "text/plain": [
       "array([0.72172655, 0.04864161, 0.79670208, 0.04162486, 0.9021839 ,\n",
       "       0.14663156, 0.06657752, 0.64456958, 0.70935795, 0.03633584,\n",
       "       0.2196353 , 0.89775311, 0.78443019, 0.6285978 , 0.62755692,\n",
       "       0.40089326, 0.37117816, 0.19661133, 0.35750465, 0.23419965,\n",
       "       0.39243613, 0.3166388 , 0.94042369, 0.29474641, 0.70199727,\n",
       "       0.44128257, 0.7374353 , 0.04577287, 0.53899926, 0.27778614,\n",
       "       0.42566271, 0.57341623, 0.04901545, 0.03645095, 0.43242084,\n",
       "       0.14935439, 0.66550024, 0.39335387, 0.1724685 , 0.57216884,\n",
       "       0.74422212, 0.69667308, 0.11354068, 0.92690571, 0.62905035,\n",
       "       0.95256495, 0.43443939, 0.03980806, 0.38110328, 0.03897446,\n",
       "       0.03616579, 0.08518856, 0.06734105, 0.82681715, 0.70864808,\n",
       "       0.02267903, 0.88312809, 0.35799557, 0.83333664, 0.18331603,\n",
       "       0.0099027 , 0.5216136 , 0.02335581, 0.30854273, 0.35417978,\n",
       "       0.11860285, 0.19234284, 0.47082253, 0.03197972, 0.30191738,\n",
       "       0.193508  , 0.36433292, 0.81746444, 0.24604527, 0.05164491,\n",
       "       0.00196114, 0.07614776, 0.22232311, 0.67230412, 0.10026045,\n",
       "       0.1024897 , 0.00586605, 0.13694173, 0.05010307, 0.67586676,\n",
       "       0.19190239, 0.5301072 , 0.18711377, 0.78502953, 0.07436828,\n",
       "       0.01925998, 0.25802927, 0.33105228, 0.29557263, 0.2547757 ,\n",
       "       0.51558034, 0.08196202, 0.01728987, 0.13412535, 0.45202655,\n",
       "       0.83711495, 0.28251399, 0.06253538, 0.03177849, 0.23129953,\n",
       "       0.24696427, 0.01942769, 0.4252049 , 0.10679388, 0.09308293,\n",
       "       0.60159179, 0.70683377, 0.0539968 , 0.09340716, 0.74050799,\n",
       "       0.55326618, 0.35673581, 0.15823681, 0.11824209, 0.05271867,\n",
       "       0.88675992, 0.28519643, 0.1489965 , 0.35318518, 0.1358883 ,\n",
       "       0.52772188, 0.45833697, 0.19507686, 0.19388555, 0.15388903,\n",
       "       0.6330057 , 0.68568368, 0.67343754, 0.27233991, 0.05487584,\n",
       "       0.24249463, 0.09768693, 0.06773625, 0.26155768, 0.17557137,\n",
       "       0.16694256, 0.31982739, 0.17249653, 0.3858478 , 0.46701121,\n",
       "       0.00704732, 0.06357151, 0.30209023, 0.63150662, 0.04489613,\n",
       "       0.35286289, 0.13650909, 0.84602317, 0.5223618 , 0.96158079,\n",
       "       0.88064464, 0.08704549, 0.12441008, 0.04953355, 0.97049245,\n",
       "       0.42603693, 0.30128975, 0.22197825, 0.10391658, 0.27775389,\n",
       "       0.23270453, 0.44804173, 0.31743357, 0.23440141, 0.12265458,\n",
       "       0.15434356, 0.52344906, 0.19938456, 0.19035466, 0.05126389,\n",
       "       0.87401705, 0.12680456, 0.77721428, 0.753533  , 0.65775735,\n",
       "       0.04592479, 0.26662422, 0.00202362, 0.04922812, 0.3460103 ,\n",
       "       0.94914712, 0.83850061, 0.37342002, 0.24230981, 0.35750844,\n",
       "       0.07708741, 0.48274865, 0.68896858, 0.97152513, 0.09908332,\n",
       "       0.68225237, 0.06346285, 0.10821166, 0.34136764, 0.37215558,\n",
       "       0.17280586, 0.42977901, 0.13821064, 0.03928393, 0.3313966 ,\n",
       "       0.13061222, 0.94930083, 0.69479581, 0.09277612, 0.87662551,\n",
       "       0.04909568, 0.55432775, 0.83519724, 0.52514757, 0.31262172,\n",
       "       0.89753934, 0.30158253, 0.3333061 , 0.17710496, 0.38203085,\n",
       "       0.71074427, 0.68518648, 0.41343624, 0.64263818, 0.07128787,\n",
       "       0.05983239, 0.11031197, 0.78642577, 0.95993645, 0.28849664,\n",
       "       0.69454723, 0.64971263, 0.03109015, 0.35825287, 0.04350567,\n",
       "       0.86921618, 0.88309153, 0.83968882, 0.80075315, 0.04085253,\n",
       "       0.05707159, 0.1181518 , 0.2969368 , 0.4564359 , 0.48109039,\n",
       "       0.93209621, 0.4663406 , 0.7000902 , 0.40671086, 0.08843852,\n",
       "       0.38278744, 0.1740032 , 0.03444931, 0.07893291, 0.30710748,\n",
       "       0.21453024, 0.2350785 , 0.11846483, 0.66874753, 0.90490805,\n",
       "       0.76697372, 0.67583762, 0.15874597, 0.48396385, 0.30859472,\n",
       "       0.29525904, 0.72264489, 0.62322115, 0.05356033, 0.52136761,\n",
       "       0.7285458 , 0.07322281, 0.13189909, 0.04087769, 0.5178775 ,\n",
       "       0.27610039, 0.18095448, 0.07887   , 0.27295315, 0.11097492,\n",
       "       0.48255873, 0.57188212, 0.37590139, 0.63581094, 0.12085288,\n",
       "       0.45345116, 0.61882487, 0.45184655, 0.05980845, 0.26237117,\n",
       "       0.05576494, 0.23760812, 0.64873301, 0.48676797, 0.44100028,\n",
       "       0.72126787, 0.24987954, 0.15097297, 0.4879573 , 0.33964308,\n",
       "       0.83258524, 0.40102154, 0.08973053, 0.57716221, 0.24203991,\n",
       "       0.2982111 , 0.67604739, 0.12056647, 0.35704019, 0.33074194,\n",
       "       0.07901495, 0.20943564, 0.35458729, 0.22935698, 0.54260105,\n",
       "       0.18552311, 0.0376402 , 0.70556567, 0.26195915, 0.77316641,\n",
       "       0.26588337, 0.15847234, 0.15064664, 0.74366492, 0.17611488,\n",
       "       0.24308508, 0.31866461, 0.88878958, 0.21545498, 0.17696096,\n",
       "       0.48393384, 0.07867782, 0.94311607, 0.20389433, 0.04394178,\n",
       "       0.73839812, 0.56868666, 0.27322603, 0.77408736, 0.89104378,\n",
       "       0.15956031, 0.07556551, 0.00368893, 0.31759945, 0.39435958,\n",
       "       0.56141272, 0.36058636, 0.20925035, 0.05473766, 0.01368471,\n",
       "       0.21417183, 0.32553748, 0.04909297, 0.06660851, 0.22502281,\n",
       "       0.74590388, 0.39832603, 0.92570238, 0.35020662, 0.86506143,\n",
       "       0.80538184, 0.6551788 , 0.30812569, 0.75511598, 0.47005162,\n",
       "       0.24239953, 0.26740919, 0.03699061, 0.03502857, 0.21790388,\n",
       "       0.90632784, 0.03733541, 0.088812  , 0.16664552, 0.42883006,\n",
       "       0.80584348, 0.03663197, 0.12549536, 0.83337307, 0.24099676,\n",
       "       0.15979048, 0.03701244, 0.12210984, 0.10169193, 0.10223573,\n",
       "       0.08984079, 0.34657254, 0.43652809, 0.50526696, 0.20467813,\n",
       "       0.12524383, 0.86530729, 0.09920985, 0.12826992, 0.68523326,\n",
       "       0.39943634, 0.13797292, 0.25695022, 0.03075924, 0.82778708,\n",
       "       0.12578138, 0.37100187, 0.43227699, 0.10701282, 0.72235924,\n",
       "       0.50157345, 0.23259793, 0.04636534, 0.92777471, 0.74763768,\n",
       "       0.26979648, 0.17724375, 0.60404146, 0.19914141, 0.35284479,\n",
       "       0.53996626, 0.12349125, 0.64758711, 0.0255009 , 0.1857889 ,\n",
       "       0.37402279, 0.06526865, 0.21240737, 0.18560228, 0.81670018,\n",
       "       0.77635417, 0.01114435, 0.72514154, 0.31977288, 0.09699228,\n",
       "       0.09606816, 0.10265057, 0.04739319, 0.20063177, 0.09909215,\n",
       "       0.72743975, 0.74683162, 0.472955  , 0.02393262, 0.34886937,\n",
       "       0.72542009, 0.07746103, 0.22746169, 0.39578913, 0.24133915,\n",
       "       0.99258883, 0.07651142, 0.09647836, 0.13837655, 0.13693226,\n",
       "       0.02370053, 0.28283348, 0.11624928, 0.4112615 , 0.22279277,\n",
       "       0.9203494 , 0.42894925, 0.08897528, 0.85056111, 0.58500713,\n",
       "       0.30693281, 0.02035339, 0.20282044, 0.0799442 , 0.30838794,\n",
       "       0.09876019, 0.0306022 , 0.15423168, 0.55710646, 0.83854909,\n",
       "       0.60139736, 0.26336255, 0.26333794, 0.41756987, 0.15631422,\n",
       "       0.24178152, 0.16750696, 0.16403501, 0.27248089, 0.36582237,\n",
       "       0.56160102, 0.1897262 , 0.0731198 , 0.06403414, 0.84751309,\n",
       "       0.4164357 , 0.42677419, 0.92233766, 0.08417274, 0.89998803,\n",
       "       0.12865481, 0.09101384, 0.14913317, 0.44060965, 0.00874515,\n",
       "       0.69897851, 0.14546952, 0.05953012, 0.81073593, 0.63568479,\n",
       "       0.07979968, 0.11781369, 0.02299512, 0.29475473, 0.18141548,\n",
       "       0.13881313, 0.67443216, 0.23784053, 0.12008796, 0.34165541,\n",
       "       0.21720371, 0.11000348, 0.1445437 , 0.07511955, 0.0715003 ,\n",
       "       0.53893393, 0.66637156, 0.53196569, 0.23029192, 0.18095809,\n",
       "       0.01860153, 0.22792915, 0.04345067, 0.66767198, 0.25413141,\n",
       "       0.0441458 , 0.02711728, 0.09632455, 0.1397921 , 0.11161667,\n",
       "       0.24910913, 0.35802717, 0.23547788, 0.2977278 , 0.13701503,\n",
       "       0.57645474, 0.08441777, 0.02763479, 0.2948702 , 0.4450362 ,\n",
       "       0.42071365, 0.29406054, 0.40722422, 0.10507022, 0.06597938,\n",
       "       0.84848823, 0.96168089, 0.29780368, 0.58657399, 0.7388511 ,\n",
       "       0.10405046, 0.09100224, 0.24629954, 0.06747752, 0.10621417,\n",
       "       0.20441986, 0.1535744 , 0.27257559, 0.64120743, 0.1764368 ,\n",
       "       0.41789661, 0.87749902, 0.11022406, 0.15759924, 0.08373761,\n",
       "       0.09477872, 0.16849283, 0.14798838, 0.52274072, 0.19059287,\n",
       "       0.07779454, 0.09358542, 0.17412907, 0.1175732 , 0.29191014,\n",
       "       0.28756046, 0.23979614, 0.43604551, 0.44734171, 0.92254861,\n",
       "       0.54394117, 0.14491122, 0.4614581 , 0.34573991, 0.31591292,\n",
       "       0.0469985 , 0.6442339 , 0.11155435, 0.84448992, 0.03732408,\n",
       "       0.81799406, 0.20809327, 0.41647252, 0.17427308, 0.41783509,\n",
       "       0.67835233, 0.10636736, 0.10388565, 0.68290011, 0.0960081 ,\n",
       "       0.07753955, 0.1724936 , 0.13604604, 0.76447008, 0.85889743,\n",
       "       0.33408353, 0.86141438, 0.03463334, 0.48230809, 0.05807102,\n",
       "       0.14228536, 0.75796602, 0.83253913, 0.29152648, 0.7634413 ,\n",
       "       0.08677413, 0.15990444, 0.01457932, 0.5129068 , 0.30496261,\n",
       "       0.19236362, 0.15067183, 0.96192535, 0.16685116, 0.12055465,\n",
       "       0.14216558, 0.1005834 , 0.22967937, 0.39111959, 0.05789849,\n",
       "       0.32531598, 0.09440039, 0.11541921, 0.10194833, 0.13942232,\n",
       "       0.42546495, 0.15790272, 0.10517942, 0.4346731 , 0.02959607,\n",
       "       0.08398311, 0.34939238, 0.49942264, 0.23181216, 0.12282516,\n",
       "       0.49569001, 0.36773379, 0.7695027 , 0.4728451 , 0.06987338,\n",
       "       0.04395462, 0.23087687, 0.31321485, 0.19448299, 0.10916583,\n",
       "       0.51096473, 0.04589466, 0.46584184, 0.60897695, 0.15628814,\n",
       "       0.70401446, 0.96176759, 0.72413028, 0.77013916, 0.36676584,\n",
       "       0.135554  , 0.57099382, 0.27113531, 0.2495395 , 0.64046372,\n",
       "       0.80013575, 0.07916033, 0.11079739, 0.730041  , 0.36579308,\n",
       "       0.85855643, 0.56858968, 0.10475697, 0.32066649, 0.06977666,\n",
       "       0.01539302, 0.81509375, 0.20712713, 0.31545771, 0.07828514,\n",
       "       0.28375934, 0.16537255, 0.1159661 , 0.22192422, 0.65511882,\n",
       "       0.23163529, 0.87306629, 0.44006683, 0.61745433, 0.04184236,\n",
       "       0.306683  , 0.54556129, 0.10767473, 0.32786546, 0.63167112,\n",
       "       0.26171629, 0.36594597, 0.7759192 , 0.67441863, 0.10902794,\n",
       "       0.14929529, 0.08044737, 0.24765227, 0.76583208, 0.17913614,\n",
       "       0.41362879, 0.32303213, 0.77534305, 0.14365639, 0.10011319,\n",
       "       0.90454908, 0.77284608, 0.20644585, 0.17774135, 0.25964137,\n",
       "       0.06346912, 0.20368814, 0.37824377, 0.36457529, 0.14599639,\n",
       "       0.33992636, 0.20466443, 0.28809522, 0.38100353, 0.07912825,\n",
       "       0.22750022, 0.22730669, 0.83605723, 0.11666951, 0.11345584,\n",
       "       0.18404743, 0.12057949, 0.11767824, 0.16362016, 0.22547136,\n",
       "       0.76861143, 0.16719494, 0.09480601, 0.66221302, 0.93048537,\n",
       "       0.31100719, 0.69534823, 0.31114047, 0.82793853, 0.57395868,\n",
       "       0.54552372, 0.27559036, 0.10600522, 0.66593841, 0.7256891 ,\n",
       "       0.44171112, 0.48092787, 0.31785455, 0.1640989 , 0.90210289,\n",
       "       0.09626709, 0.93608849, 0.08725318, 0.31711535, 0.31896879,\n",
       "       0.17041566, 0.2849765 , 0.07201369])"
      ]
     },
     "execution_count": 31,
     "metadata": {},
     "output_type": "execute_result"
    }
   ],
   "source": [
    "logit.predict()"
   ]
  },
  {
   "cell_type": "markdown",
   "metadata": {},
   "source": [
    "# Plotando a distribuição da predição"
   ]
  },
  {
   "cell_type": "code",
   "execution_count": 32,
   "metadata": {},
   "outputs": [],
   "source": [
    "df['yhat'] = logit.predict()"
   ]
  },
  {
   "cell_type": "code",
   "execution_count": 33,
   "metadata": {},
   "outputs": [
    {
     "data": {
      "text/plain": [
       "<matplotlib.axes._subplots.AxesSubplot at 0x2812a7cceb8>"
      ]
     },
     "execution_count": 33,
     "metadata": {},
     "output_type": "execute_result"
    },
    {
     "data": {
      "image/png": "[encoded data removed]",
      "text/plain": [
       "<Figure size 432x288 with 1 Axes>"
      ]
     },
     "metadata": {
      "needs_background": "light"
     },
     "output_type": "display_data"
    }
   ],
   "source": [
    "df['yhat'].plot.hist()"
   ]
  },
  {
   "cell_type": "code",
   "execution_count": 34,
   "metadata": {},
   "outputs": [
    {
     "data": {
      "text/plain": [
       "<matplotlib.axes._subplots.AxesSubplot at 0x2812a172ac8>"
      ]
     },
     "execution_count": 34,
     "metadata": {},
     "output_type": "execute_result"
    },
    {
     "data": {
      "image/png": "[encoded data removed]",
      "text/plain": [
       "<Figure size 432x288 with 1 Axes>"
      ]
     },
     "metadata": {
      "needs_background": "light"
     },
     "output_type": "display_data"
    }
   ],
   "source": [
    "df['yhat'].plot.kde()"
   ]
  },
  {
   "cell_type": "markdown",
   "metadata": {},
   "source": [
    "# Probabilidade condicional"
   ]
  },
  {
   "cell_type": "code",
   "execution_count": 35,
   "metadata": {},
   "outputs": [
    {
     "data": {
      "text/html": [
       "<div>\n",
       "<style scoped>\n",
       "    .dataframe tbody tr th:only-of-type {\n",
       "        vertical-align: middle;\n",
       "    }\n",
       "\n",
       "    .dataframe tbody tr th {\n",
       "        vertical-align: top;\n",
       "    }\n",
       "\n",
       "    .dataframe thead th {\n",
       "        text-align: right;\n",
       "    }\n",
       "</style>\n",
       "<table border=\"1\" class=\"dataframe\">\n",
       "  <thead>\n",
       "    <tr style=\"text-align: right;\">\n",
       "      <th></th>\n",
       "      <th>preg</th>\n",
       "      <th>plas</th>\n",
       "      <th>pres</th>\n",
       "      <th>skin</th>\n",
       "      <th>insu</th>\n",
       "      <th>mass</th>\n",
       "      <th>pedi</th>\n",
       "      <th>age</th>\n",
       "      <th>class</th>\n",
       "      <th>y</th>\n",
       "      <th>yhat</th>\n",
       "    </tr>\n",
       "  </thead>\n",
       "  <tbody>\n",
       "    <tr>\n",
       "      <th>0</th>\n",
       "      <td>6</td>\n",
       "      <td>148</td>\n",
       "      <td>72</td>\n",
       "      <td>35</td>\n",
       "      <td>0</td>\n",
       "      <td>33.6</td>\n",
       "      <td>0.627</td>\n",
       "      <td>50</td>\n",
       "      <td>tested_positive</td>\n",
       "      <td>1</td>\n",
       "      <td>0.721727</td>\n",
       "    </tr>\n",
       "    <tr>\n",
       "      <th>1</th>\n",
       "      <td>1</td>\n",
       "      <td>85</td>\n",
       "      <td>66</td>\n",
       "      <td>29</td>\n",
       "      <td>0</td>\n",
       "      <td>26.6</td>\n",
       "      <td>0.351</td>\n",
       "      <td>31</td>\n",
       "      <td>tested_negative</td>\n",
       "      <td>0</td>\n",
       "      <td>0.048642</td>\n",
       "    </tr>\n",
       "    <tr>\n",
       "      <th>2</th>\n",
       "      <td>8</td>\n",
       "      <td>183</td>\n",
       "      <td>64</td>\n",
       "      <td>0</td>\n",
       "      <td>0</td>\n",
       "      <td>23.3</td>\n",
       "      <td>0.672</td>\n",
       "      <td>32</td>\n",
       "      <td>tested_positive</td>\n",
       "      <td>1</td>\n",
       "      <td>0.796702</td>\n",
       "    </tr>\n",
       "    <tr>\n",
       "      <th>3</th>\n",
       "      <td>1</td>\n",
       "      <td>89</td>\n",
       "      <td>66</td>\n",
       "      <td>23</td>\n",
       "      <td>94</td>\n",
       "      <td>28.1</td>\n",
       "      <td>0.167</td>\n",
       "      <td>21</td>\n",
       "      <td>tested_negative</td>\n",
       "      <td>0</td>\n",
       "      <td>0.041625</td>\n",
       "    </tr>\n",
       "    <tr>\n",
       "      <th>4</th>\n",
       "      <td>0</td>\n",
       "      <td>137</td>\n",
       "      <td>40</td>\n",
       "      <td>35</td>\n",
       "      <td>168</td>\n",
       "      <td>43.1</td>\n",
       "      <td>2.288</td>\n",
       "      <td>33</td>\n",
       "      <td>tested_positive</td>\n",
       "      <td>1</td>\n",
       "      <td>0.902184</td>\n",
       "    </tr>\n",
       "  </tbody>\n",
       "</table>\n",
       "</div>"
      ],
      "text/plain": [
       "   preg  plas  pres  skin  insu  mass   pedi  age            class  y  \\\n",
       "0     6   148    72    35     0  33.6  0.627   50  tested_positive  1   \n",
       "1     1    85    66    29     0  26.6  0.351   31  tested_negative  0   \n",
       "2     8   183    64     0     0  23.3  0.672   32  tested_positive  1   \n",
       "3     1    89    66    23    94  28.1  0.167   21  tested_negative  0   \n",
       "4     0   137    40    35   168  43.1  2.288   33  tested_positive  1   \n",
       "\n",
       "       yhat  \n",
       "0  0.721727  \n",
       "1  0.048642  \n",
       "2  0.796702  \n",
       "3  0.041625  \n",
       "4  0.902184  "
      ]
     },
     "execution_count": 35,
     "metadata": {},
     "output_type": "execute_result"
    }
   ],
   "source": [
    "df.head()"
   ]
  },
  {
   "cell_type": "code",
   "execution_count": 36,
   "metadata": {},
   "outputs": [
    {
     "name": "stderr",
     "output_type": "stream",
     "text": [
      "C:\\Users\\Marcos\\Anaconda3\\lib\\site-packages\\ipykernel_launcher.py:7: SettingWithCopyWarning: \n",
      "A value is trying to be set on a copy of a slice from a DataFrame\n",
      "\n",
      "See the caveats in the documentation: http://pandas.pydata.org/pandas-docs/stable/indexing.html#indexing-view-versus-copy\n",
      "  import sys\n"
     ]
    }
   ],
   "source": [
    "df['yresult'] = 0\n",
    "\n",
    "threshold = 0.5\n",
    "\n",
    "for (i, p) in enumerate(df['yhat']):\n",
    "    if p > threshold:\n",
    "        df['yresult'][i] = 1 "
   ]
  },
  {
   "cell_type": "code",
   "execution_count": 37,
   "metadata": {},
   "outputs": [
    {
     "data": {
      "text/html": [
       "<div>\n",
       "<style scoped>\n",
       "    .dataframe tbody tr th:only-of-type {\n",
       "        vertical-align: middle;\n",
       "    }\n",
       "\n",
       "    .dataframe tbody tr th {\n",
       "        vertical-align: top;\n",
       "    }\n",
       "\n",
       "    .dataframe thead th {\n",
       "        text-align: right;\n",
       "    }\n",
       "</style>\n",
       "<table border=\"1\" class=\"dataframe\">\n",
       "  <thead>\n",
       "    <tr style=\"text-align: right;\">\n",
       "      <th></th>\n",
       "      <th>preg</th>\n",
       "      <th>plas</th>\n",
       "      <th>pres</th>\n",
       "      <th>skin</th>\n",
       "      <th>insu</th>\n",
       "      <th>mass</th>\n",
       "      <th>pedi</th>\n",
       "      <th>age</th>\n",
       "      <th>class</th>\n",
       "      <th>y</th>\n",
       "      <th>yhat</th>\n",
       "      <th>yresult</th>\n",
       "    </tr>\n",
       "  </thead>\n",
       "  <tbody>\n",
       "    <tr>\n",
       "      <th>0</th>\n",
       "      <td>6</td>\n",
       "      <td>148</td>\n",
       "      <td>72</td>\n",
       "      <td>35</td>\n",
       "      <td>0</td>\n",
       "      <td>33.6</td>\n",
       "      <td>0.627</td>\n",
       "      <td>50</td>\n",
       "      <td>tested_positive</td>\n",
       "      <td>1</td>\n",
       "      <td>0.721727</td>\n",
       "      <td>1</td>\n",
       "    </tr>\n",
       "    <tr>\n",
       "      <th>1</th>\n",
       "      <td>1</td>\n",
       "      <td>85</td>\n",
       "      <td>66</td>\n",
       "      <td>29</td>\n",
       "      <td>0</td>\n",
       "      <td>26.6</td>\n",
       "      <td>0.351</td>\n",
       "      <td>31</td>\n",
       "      <td>tested_negative</td>\n",
       "      <td>0</td>\n",
       "      <td>0.048642</td>\n",
       "      <td>0</td>\n",
       "    </tr>\n",
       "    <tr>\n",
       "      <th>2</th>\n",
       "      <td>8</td>\n",
       "      <td>183</td>\n",
       "      <td>64</td>\n",
       "      <td>0</td>\n",
       "      <td>0</td>\n",
       "      <td>23.3</td>\n",
       "      <td>0.672</td>\n",
       "      <td>32</td>\n",
       "      <td>tested_positive</td>\n",
       "      <td>1</td>\n",
       "      <td>0.796702</td>\n",
       "      <td>1</td>\n",
       "    </tr>\n",
       "    <tr>\n",
       "      <th>3</th>\n",
       "      <td>1</td>\n",
       "      <td>89</td>\n",
       "      <td>66</td>\n",
       "      <td>23</td>\n",
       "      <td>94</td>\n",
       "      <td>28.1</td>\n",
       "      <td>0.167</td>\n",
       "      <td>21</td>\n",
       "      <td>tested_negative</td>\n",
       "      <td>0</td>\n",
       "      <td>0.041625</td>\n",
       "      <td>0</td>\n",
       "    </tr>\n",
       "    <tr>\n",
       "      <th>4</th>\n",
       "      <td>0</td>\n",
       "      <td>137</td>\n",
       "      <td>40</td>\n",
       "      <td>35</td>\n",
       "      <td>168</td>\n",
       "      <td>43.1</td>\n",
       "      <td>2.288</td>\n",
       "      <td>33</td>\n",
       "      <td>tested_positive</td>\n",
       "      <td>1</td>\n",
       "      <td>0.902184</td>\n",
       "      <td>1</td>\n",
       "    </tr>\n",
       "  </tbody>\n",
       "</table>\n",
       "</div>"
      ],
      "text/plain": [
       "   preg  plas  pres  skin  insu  mass   pedi  age            class  y  \\\n",
       "0     6   148    72    35     0  33.6  0.627   50  tested_positive  1   \n",
       "1     1    85    66    29     0  26.6  0.351   31  tested_negative  0   \n",
       "2     8   183    64     0     0  23.3  0.672   32  tested_positive  1   \n",
       "3     1    89    66    23    94  28.1  0.167   21  tested_negative  0   \n",
       "4     0   137    40    35   168  43.1  2.288   33  tested_positive  1   \n",
       "\n",
       "       yhat  yresult  \n",
       "0  0.721727        1  \n",
       "1  0.048642        0  \n",
       "2  0.796702        1  \n",
       "3  0.041625        0  \n",
       "4  0.902184        1  "
      ]
     },
     "execution_count": 37,
     "metadata": {},
     "output_type": "execute_result"
    }
   ],
   "source": [
    "df.head()"
   ]
  },
  {
   "cell_type": "code",
   "execution_count": 38,
   "metadata": {},
   "outputs": [
    {
     "data": {
      "text/plain": [
       "0    557\n",
       "1    211\n",
       "Name: yresult, dtype: int64"
      ]
     },
     "execution_count": 38,
     "metadata": {},
     "output_type": "execute_result"
    }
   ],
   "source": [
    "df['yresult'].value_counts()"
   ]
  },
  {
   "cell_type": "code",
   "execution_count": 39,
   "metadata": {},
   "outputs": [
    {
     "data": {
      "text/plain": [
       "tested_negative    500\n",
       "tested_positive    268\n",
       "Name: class, dtype: int64"
      ]
     },
     "execution_count": 39,
     "metadata": {},
     "output_type": "execute_result"
    }
   ],
   "source": [
    "df['class'].value_counts()"
   ]
  },
  {
   "cell_type": "markdown",
   "metadata": {},
   "source": [
    "# Matriz de confusão"
   ]
  },
  {
   "cell_type": "code",
   "execution_count": 40,
   "metadata": {},
   "outputs": [
    {
     "data": {
      "text/plain": [
       "array([[445,  55],\n",
       "       [112, 156]], dtype=int64)"
      ]
     },
     "execution_count": 40,
     "metadata": {},
     "output_type": "execute_result"
    }
   ],
   "source": [
    "from sklearn.metrics import confusion_matrix\n",
    "\n",
    "import warnings\n",
    "warnings.filterwarnings(\"ignore\")\n",
    "\n",
    "result_matrix = confusion_matrix(df.y, df.yresult)\n",
    "result_matrix"
   ]
  },
  {
   "cell_type": "code",
   "execution_count": 41,
   "metadata": {},
   "outputs": [],
   "source": [
    "tn, fp, fn, tp = confusion_matrix(df.y, df.yresult).ravel()"
   ]
  },
  {
   "cell_type": "markdown",
   "metadata": {},
   "source": [
    "### 1 - Cálculo da Precisão"
   ]
  },
  {
   "cell_type": "code",
   "execution_count": 42,
   "metadata": {},
   "outputs": [
    {
     "data": {
      "text/plain": [
       "0.7393364928909952"
      ]
     },
     "execution_count": 42,
     "metadata": {},
     "output_type": "execute_result"
    }
   ],
   "source": [
    "precision = tp / (tp+fp)\n",
    "precision"
   ]
  },
  {
   "cell_type": "markdown",
   "metadata": {},
   "source": [
    "### 2 - Cálculo da Sensibilidade"
   ]
  },
  {
   "cell_type": "code",
   "execution_count": 43,
   "metadata": {},
   "outputs": [
    {
     "data": {
      "text/plain": [
       "0.582089552238806"
      ]
     },
     "execution_count": 43,
     "metadata": {},
     "output_type": "execute_result"
    }
   ],
   "source": [
    "recall = tp / (tp+fn)\n",
    "recall"
   ]
  },
  {
   "cell_type": "markdown",
   "metadata": {},
   "source": [
    "# Alterando o limite da condição"
   ]
  },
  {
   "cell_type": "markdown",
   "metadata": {},
   "source": [
    "__Mais precisão:__"
   ]
  },
  {
   "cell_type": "code",
   "execution_count": 45,
   "metadata": {},
   "outputs": [],
   "source": [
    "df['yresult'] = 0\n",
    "\n",
    "threshold = 0.73\n",
    "\n",
    "for (i, p) in enumerate(df['yhat']):\n",
    "    if p > threshold:\n",
    "        df['yresult'][i] = 1 "
   ]
  },
  {
   "cell_type": "code",
   "execution_count": 46,
   "metadata": {},
   "outputs": [
    {
     "data": {
      "text/plain": [
       "0    664\n",
       "1    104\n",
       "Name: yresult, dtype: int64"
      ]
     },
     "execution_count": 46,
     "metadata": {},
     "output_type": "execute_result"
    }
   ],
   "source": [
    "df['yresult'].value_counts()"
   ]
  },
  {
   "cell_type": "code",
   "execution_count": 47,
   "metadata": {},
   "outputs": [
    {
     "data": {
      "text/plain": [
       "array([[482,  18],\n",
       "       [182,  86]], dtype=int64)"
      ]
     },
     "execution_count": 47,
     "metadata": {},
     "output_type": "execute_result"
    }
   ],
   "source": [
    "result_matrix = confusion_matrix(df.y, df.yresult)\n",
    "result_matrix"
   ]
  },
  {
   "cell_type": "code",
   "execution_count": 48,
   "metadata": {},
   "outputs": [],
   "source": [
    "tn, fp, fn, tp = confusion_matrix(df.y, df.yresult).ravel()"
   ]
  },
  {
   "cell_type": "markdown",
   "metadata": {},
   "source": [
    "__Cálculo da Precisão:__"
   ]
  },
  {
   "cell_type": "code",
   "execution_count": 49,
   "metadata": {},
   "outputs": [
    {
     "data": {
      "text/plain": [
       "0.8269230769230769"
      ]
     },
     "execution_count": 49,
     "metadata": {},
     "output_type": "execute_result"
    }
   ],
   "source": [
    "precision = tp / (tp+fp)\n",
    "precision"
   ]
  },
  {
   "cell_type": "markdown",
   "metadata": {},
   "source": [
    "__Cálculo da Sensibilidae:__"
   ]
  },
  {
   "cell_type": "code",
   "execution_count": 50,
   "metadata": {},
   "outputs": [
    {
     "data": {
      "text/plain": [
       "0.3208955223880597"
      ]
     },
     "execution_count": 50,
     "metadata": {},
     "output_type": "execute_result"
    }
   ],
   "source": [
    "recall = tp / (tp+fn)\n",
    "recall"
   ]
  },
  {
   "cell_type": "markdown",
   "metadata": {},
   "source": [
    "### Obviamente, ao aumentar a precisão, a sensbilidade ficou bem mais baixa."
   ]
  },
  {
   "cell_type": "code",
   "execution_count": null,
   "metadata": {},
   "outputs": [],
   "source": []
  }
 ],
 "metadata": {
  "kernelspec": {
   "display_name": "Python 3",
   "language": "python",
   "name": "python3"
  },
  "language_info": {
   "codemirror_mode": {
    "name": "ipython",
    "version": 3
   },
   "file_extension": ".py",
   "mimetype": "text/x-python",
   "name": "python",
   "nbconvert_exporter": "python",
   "pygments_lexer": "ipython3",
   "version": "3.7.3"
  }
 },
 "nbformat": 4,
 "nbformat_minor": 2
}
