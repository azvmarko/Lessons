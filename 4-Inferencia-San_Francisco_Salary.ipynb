{
 "cells": [
  {
   "cell_type": "markdown",
   "metadata": {},
   "source": [
    "# San Francisco city employee salary data\n",
    "\n",
    "<br>\n",
    "<img src=\"img/san_francisco.png\">\n",
    "<br>\n",
    "\n",
    "Um dos conjuntos de dados mais populares que as cidades normalmente lançam é sua estrutura salarial.\n",
    "\n",
    "Foi processado e enviado o conjunto de dados de salários do SF para entender melhor como São Francisco paga a seus funcionários e o que isso pode nos informar sobre como a sede da cidade está sendo adminstrada.\n",
    "\n",
    "Inicilamente, pede-se a média salarial das 10 profissões com maior incidência no relatório, considerando o ano de 2014, com uma visualização de sua distribuição.\n",
    "\n",
    "Alguns ângulos potencialmente interessantes de exploração:\n",
    "\n",
    "- Das 10 profissões com maior incidência, quantos trabalhadores ganham acima e abaixo da média?\n",
    "- Como o orçamento é alocado com base em diferentes grupos e responsabilidades?"
   ]
  },
  {
   "cell_type": "markdown",
   "metadata": {},
   "source": [
    "## Importando as bibliotecas"
   ]
  },
  {
   "cell_type": "code",
   "execution_count": 1,
   "metadata": {
    "ExecuteTime": {
     "end_time": "2019-09-12T17:07:37.261364Z",
     "start_time": "2019-09-12T17:07:36.456614Z"
    }
   },
   "outputs": [],
   "source": [
    "import numpy as np # linear algebra\n",
    "import pandas as pd # data processing, CSV file I/O (e.g. pd.read_csv)\n",
    "import scipy\n",
    "from scipy import stats\n",
    "\n",
    "import warnings\n",
    "warnings.filterwarnings(\"ignore\")"
   ]
  },
  {
   "cell_type": "markdown",
   "metadata": {},
   "source": [
    "## Importando o dataset"
   ]
  },
  {
   "cell_type": "code",
   "execution_count": 2,
   "metadata": {
    "ExecuteTime": {
     "end_time": "2019-09-12T17:07:39.882764Z",
     "start_time": "2019-09-12T17:07:39.394194Z"
    }
   },
   "outputs": [],
   "source": [
    "df = pd.read_csv(r'./dados/salaries.csv')"
   ]
  },
  {
   "cell_type": "code",
   "execution_count": 3,
   "metadata": {
    "ExecuteTime": {
     "end_time": "2019-09-12T17:07:42.918327Z",
     "start_time": "2019-09-12T17:07:42.890742Z"
    }
   },
   "outputs": [
    {
     "data": {
      "text/html": [
       "<div>\n",
       "<style scoped>\n",
       "    .dataframe tbody tr th:only-of-type {\n",
       "        vertical-align: middle;\n",
       "    }\n",
       "\n",
       "    .dataframe tbody tr th {\n",
       "        vertical-align: top;\n",
       "    }\n",
       "\n",
       "    .dataframe thead th {\n",
       "        text-align: right;\n",
       "    }\n",
       "</style>\n",
       "<table border=\"1\" class=\"dataframe\">\n",
       "  <thead>\n",
       "    <tr style=\"text-align: right;\">\n",
       "      <th></th>\n",
       "      <th>Id</th>\n",
       "      <th>EmployeeName</th>\n",
       "      <th>JobTitle</th>\n",
       "      <th>BasePay</th>\n",
       "      <th>OvertimePay</th>\n",
       "      <th>OtherPay</th>\n",
       "      <th>Benefits</th>\n",
       "      <th>TotalPay</th>\n",
       "      <th>TotalPayBenefits</th>\n",
       "      <th>Year</th>\n",
       "      <th>Notes</th>\n",
       "      <th>Agency</th>\n",
       "      <th>Status</th>\n",
       "    </tr>\n",
       "  </thead>\n",
       "  <tbody>\n",
       "    <tr>\n",
       "      <th>0</th>\n",
       "      <td>1</td>\n",
       "      <td>NATHANIEL FORD</td>\n",
       "      <td>GENERAL MANAGER-METROPOLITAN TRANSIT AUTHORITY</td>\n",
       "      <td>167411</td>\n",
       "      <td>0</td>\n",
       "      <td>400184</td>\n",
       "      <td>NaN</td>\n",
       "      <td>567595.43</td>\n",
       "      <td>567595.43</td>\n",
       "      <td>2011</td>\n",
       "      <td>NaN</td>\n",
       "      <td>San Francisco</td>\n",
       "      <td>NaN</td>\n",
       "    </tr>\n",
       "    <tr>\n",
       "      <th>1</th>\n",
       "      <td>2</td>\n",
       "      <td>GARY JIMENEZ</td>\n",
       "      <td>CAPTAIN III (POLICE DEPARTMENT)</td>\n",
       "      <td>155966</td>\n",
       "      <td>245132</td>\n",
       "      <td>137811</td>\n",
       "      <td>NaN</td>\n",
       "      <td>538909.28</td>\n",
       "      <td>538909.28</td>\n",
       "      <td>2011</td>\n",
       "      <td>NaN</td>\n",
       "      <td>San Francisco</td>\n",
       "      <td>NaN</td>\n",
       "    </tr>\n",
       "    <tr>\n",
       "      <th>2</th>\n",
       "      <td>3</td>\n",
       "      <td>ALBERT PARDINI</td>\n",
       "      <td>CAPTAIN III (POLICE DEPARTMENT)</td>\n",
       "      <td>212739</td>\n",
       "      <td>106088</td>\n",
       "      <td>16452.6</td>\n",
       "      <td>NaN</td>\n",
       "      <td>335279.91</td>\n",
       "      <td>335279.91</td>\n",
       "      <td>2011</td>\n",
       "      <td>NaN</td>\n",
       "      <td>San Francisco</td>\n",
       "      <td>NaN</td>\n",
       "    </tr>\n",
       "    <tr>\n",
       "      <th>3</th>\n",
       "      <td>4</td>\n",
       "      <td>CHRISTOPHER CHONG</td>\n",
       "      <td>WIRE ROPE CABLE MAINTENANCE MECHANIC</td>\n",
       "      <td>77916</td>\n",
       "      <td>56120.7</td>\n",
       "      <td>198307</td>\n",
       "      <td>NaN</td>\n",
       "      <td>332343.61</td>\n",
       "      <td>332343.61</td>\n",
       "      <td>2011</td>\n",
       "      <td>NaN</td>\n",
       "      <td>San Francisco</td>\n",
       "      <td>NaN</td>\n",
       "    </tr>\n",
       "    <tr>\n",
       "      <th>4</th>\n",
       "      <td>5</td>\n",
       "      <td>PATRICK GARDNER</td>\n",
       "      <td>DEPUTY CHIEF OF DEPARTMENT,(FIRE DEPARTMENT)</td>\n",
       "      <td>134402</td>\n",
       "      <td>9737</td>\n",
       "      <td>182235</td>\n",
       "      <td>NaN</td>\n",
       "      <td>326373.19</td>\n",
       "      <td>326373.19</td>\n",
       "      <td>2011</td>\n",
       "      <td>NaN</td>\n",
       "      <td>San Francisco</td>\n",
       "      <td>NaN</td>\n",
       "    </tr>\n",
       "  </tbody>\n",
       "</table>\n",
       "</div>"
      ],
      "text/plain": [
       "   Id       EmployeeName                                        JobTitle  \\\n",
       "0   1     NATHANIEL FORD  GENERAL MANAGER-METROPOLITAN TRANSIT AUTHORITY   \n",
       "1   2       GARY JIMENEZ                 CAPTAIN III (POLICE DEPARTMENT)   \n",
       "2   3     ALBERT PARDINI                 CAPTAIN III (POLICE DEPARTMENT)   \n",
       "3   4  CHRISTOPHER CHONG            WIRE ROPE CABLE MAINTENANCE MECHANIC   \n",
       "4   5    PATRICK GARDNER    DEPUTY CHIEF OF DEPARTMENT,(FIRE DEPARTMENT)   \n",
       "\n",
       "  BasePay OvertimePay OtherPay Benefits   TotalPay  TotalPayBenefits  Year  \\\n",
       "0  167411           0   400184      NaN  567595.43         567595.43  2011   \n",
       "1  155966      245132   137811      NaN  538909.28         538909.28  2011   \n",
       "2  212739      106088  16452.6      NaN  335279.91         335279.91  2011   \n",
       "3   77916     56120.7   198307      NaN  332343.61         332343.61  2011   \n",
       "4  134402        9737   182235      NaN  326373.19         326373.19  2011   \n",
       "\n",
       "   Notes         Agency Status  \n",
       "0    NaN  San Francisco    NaN  \n",
       "1    NaN  San Francisco    NaN  \n",
       "2    NaN  San Francisco    NaN  \n",
       "3    NaN  San Francisco    NaN  \n",
       "4    NaN  San Francisco    NaN  "
      ]
     },
     "execution_count": 3,
     "metadata": {},
     "output_type": "execute_result"
    }
   ],
   "source": [
    "df.head()"
   ]
  },
  {
   "cell_type": "code",
   "execution_count": 4,
   "metadata": {
    "ExecuteTime": {
     "end_time": "2019-09-12T17:08:32.418633Z",
     "start_time": "2019-09-12T17:08:32.412629Z"
    }
   },
   "outputs": [
    {
     "data": {
      "text/plain": [
       "(148654, 13)"
      ]
     },
     "execution_count": 4,
     "metadata": {},
     "output_type": "execute_result"
    }
   ],
   "source": [
    "df.shape"
   ]
  },
  {
   "cell_type": "code",
   "execution_count": 5,
   "metadata": {
    "ExecuteTime": {
     "end_time": "2019-09-12T17:08:33.500955Z",
     "start_time": "2019-09-12T17:08:33.394380Z"
    }
   },
   "outputs": [
    {
     "name": "stdout",
     "output_type": "stream",
     "text": [
      "<class 'pandas.core.frame.DataFrame'>\n",
      "RangeIndex: 148654 entries, 0 to 148653\n",
      "Data columns (total 13 columns):\n",
      "Id                  148654 non-null int64\n",
      "EmployeeName        148654 non-null object\n",
      "JobTitle            148654 non-null object\n",
      "BasePay             148049 non-null object\n",
      "OvertimePay         148654 non-null object\n",
      "OtherPay            148654 non-null object\n",
      "Benefits            112495 non-null object\n",
      "TotalPay            148654 non-null float64\n",
      "TotalPayBenefits    148654 non-null float64\n",
      "Year                148654 non-null int64\n",
      "Notes               0 non-null float64\n",
      "Agency              148654 non-null object\n",
      "Status              38119 non-null object\n",
      "dtypes: float64(3), int64(2), object(8)\n",
      "memory usage: 14.7+ MB\n"
     ]
    }
   ],
   "source": [
    "df.info()"
   ]
  },
  {
   "cell_type": "markdown",
   "metadata": {},
   "source": [
    "## Analisando os dados"
   ]
  },
  {
   "cell_type": "markdown",
   "metadata": {},
   "source": [
    "### Criando máscara com dados de 2014"
   ]
  },
  {
   "cell_type": "code",
   "execution_count": 6,
   "metadata": {
    "ExecuteTime": {
     "end_time": "2019-09-12T17:08:57.538390Z",
     "start_time": "2019-09-12T17:08:57.524381Z"
    }
   },
   "outputs": [],
   "source": [
    "ano_2014 = df[df['Year']==2014] #máscara com o ano de 2014"
   ]
  },
  {
   "cell_type": "markdown",
   "metadata": {},
   "source": [
    "### Identificando os top 10 salários"
   ]
  },
  {
   "cell_type": "code",
   "execution_count": 7,
   "metadata": {
    "ExecuteTime": {
     "end_time": "2019-09-12T17:08:58.792259Z",
     "start_time": "2019-09-12T17:08:58.775249Z"
    }
   },
   "outputs": [
    {
     "data": {
      "text/plain": [
       "Transit Operator                2479\n",
       "Special Nurse                   1478\n",
       "Registered Nurse                1234\n",
       "Public Svc Aide-Public Works     916\n",
       "Firefighter                      815\n",
       "Custodian                        804\n",
       "Police Officer 3                 783\n",
       "Recreation Leader                690\n",
       "Patient Care Assistant           652\n",
       "Deputy Sheriff                   617\n",
       "Name: JobTitle, dtype: int64"
      ]
     },
     "execution_count": 7,
     "metadata": {},
     "output_type": "execute_result"
    }
   ],
   "source": [
    "top_10_profissoes = ano_2014['JobTitle'].value_counts().head(10) #top 10 profissões com maior incidência em 2014\n",
    "top_10_profissoes"
   ]
  },
  {
   "cell_type": "code",
   "execution_count": 8,
   "metadata": {
    "ExecuteTime": {
     "end_time": "2019-09-12T17:09:04.819075Z",
     "start_time": "2019-09-12T17:09:04.624489Z"
    }
   },
   "outputs": [
    {
     "data": {
      "text/html": [
       "<div>\n",
       "<style scoped>\n",
       "    .dataframe tbody tr th:only-of-type {\n",
       "        vertical-align: middle;\n",
       "    }\n",
       "\n",
       "    .dataframe tbody tr th {\n",
       "        vertical-align: top;\n",
       "    }\n",
       "\n",
       "    .dataframe thead th {\n",
       "        text-align: right;\n",
       "    }\n",
       "</style>\n",
       "<table border=\"1\" class=\"dataframe\">\n",
       "  <thead>\n",
       "    <tr style=\"text-align: right;\">\n",
       "      <th></th>\n",
       "      <th>JobTitle</th>\n",
       "      <th>Id</th>\n",
       "      <th>TotalPay</th>\n",
       "    </tr>\n",
       "  </thead>\n",
       "  <tbody>\n",
       "    <tr>\n",
       "      <th>939</th>\n",
       "      <td>Transit Operator</td>\n",
       "      <td>2479</td>\n",
       "      <td>61318.264522</td>\n",
       "    </tr>\n",
       "    <tr>\n",
       "      <th>843</th>\n",
       "      <td>Special Nurse</td>\n",
       "      <td>1478</td>\n",
       "      <td>33490.350629</td>\n",
       "    </tr>\n",
       "    <tr>\n",
       "      <th>724</th>\n",
       "      <td>Registered Nurse</td>\n",
       "      <td>1234</td>\n",
       "      <td>117023.096645</td>\n",
       "    </tr>\n",
       "    <tr>\n",
       "      <th>713</th>\n",
       "      <td>Public Svc Aide-Public Works</td>\n",
       "      <td>916</td>\n",
       "      <td>9318.180993</td>\n",
       "    </tr>\n",
       "    <tr>\n",
       "      <th>365</th>\n",
       "      <td>Firefighter</td>\n",
       "      <td>815</td>\n",
       "      <td>138998.251043</td>\n",
       "    </tr>\n",
       "    <tr>\n",
       "      <th>246</th>\n",
       "      <td>Custodian</td>\n",
       "      <td>804</td>\n",
       "      <td>48750.944502</td>\n",
       "    </tr>\n",
       "    <tr>\n",
       "      <th>657</th>\n",
       "      <td>Police Officer 3</td>\n",
       "      <td>783</td>\n",
       "      <td>136059.617842</td>\n",
       "    </tr>\n",
       "    <tr>\n",
       "      <th>721</th>\n",
       "      <td>Recreation Leader</td>\n",
       "      <td>690</td>\n",
       "      <td>7061.691348</td>\n",
       "    </tr>\n",
       "    <tr>\n",
       "      <th>616</th>\n",
       "      <td>Patient Care Assistant</td>\n",
       "      <td>652</td>\n",
       "      <td>47670.312377</td>\n",
       "    </tr>\n",
       "    <tr>\n",
       "      <th>271</th>\n",
       "      <td>Deputy Sheriff</td>\n",
       "      <td>617</td>\n",
       "      <td>115208.985624</td>\n",
       "    </tr>\n",
       "  </tbody>\n",
       "</table>\n",
       "</div>"
      ],
      "text/plain": [
       "                         JobTitle    Id       TotalPay\n",
       "939              Transit Operator  2479   61318.264522\n",
       "843                 Special Nurse  1478   33490.350629\n",
       "724              Registered Nurse  1234  117023.096645\n",
       "713  Public Svc Aide-Public Works   916    9318.180993\n",
       "365                   Firefighter   815  138998.251043\n",
       "246                     Custodian   804   48750.944502\n",
       "657              Police Officer 3   783  136059.617842\n",
       "721             Recreation Leader   690    7061.691348\n",
       "616        Patient Care Assistant   652   47670.312377\n",
       "271                Deputy Sheriff   617  115208.985624"
      ]
     },
     "execution_count": 8,
     "metadata": {},
     "output_type": "execute_result"
    }
   ],
   "source": [
    "media_top_10_profissoes = ano_2014.groupby('JobTitle', as_index=False).agg({\"Id\" : \"count\" , \"TotalPay\": \"mean\"})\n",
    "media_top_10_profissoes.sort_values(['Id'], ascending = False).head(10)"
   ]
  },
  {
   "cell_type": "markdown",
   "metadata": {},
   "source": [
    "### Histograma top 10 profissões"
   ]
  },
  {
   "cell_type": "code",
   "execution_count": 14,
   "metadata": {
    "ExecuteTime": {
     "end_time": "2019-09-12T17:11:33.542017Z",
     "start_time": "2019-09-12T17:11:33.133096Z"
    }
   },
   "outputs": [
    {
     "data": {
      "text/plain": [
       "<matplotlib.axes._subplots.AxesSubplot at 0x1b380be5ef0>"
      ]
     },
     "execution_count": 14,
     "metadata": {},
     "output_type": "execute_result"
    },
    {
     "data": {
      "image/png": "[encoded data removed]",
      "text/plain": [
       "<Figure size 432x288 with 1 Axes>"
      ]
     },
     "metadata": {
      "needs_background": "light"
     },
     "output_type": "display_data"
    }
   ],
   "source": [
    "top_10[\"TotalPay\"].plot(kind=\"hist\", bins=50) #histograma do top 10 profissões, pela média de salário"
   ]
  },
  {
   "cell_type": "markdown",
   "metadata": {},
   "source": [
    "## Quantos trabalhadores ganham acima e abaixo da média na função de Registered Nurse? E na de Deputy Sheriff?\n"
   ]
  },
  {
   "cell_type": "code",
   "execution_count": 16,
   "metadata": {
    "ExecuteTime": {
     "end_time": "2019-09-12T17:12:53.991569Z",
     "start_time": "2019-09-12T17:12:53.617291Z"
    }
   },
   "outputs": [
    {
     "data": {
      "text/plain": [
       "<matplotlib.axes._subplots.AxesSubplot at 0x1b3824bee80>"
      ]
     },
     "execution_count": 16,
     "metadata": {},
     "output_type": "execute_result"
    },
    {
     "data": {
      "image/png": "[encoded data removed]",
      "text/plain": [
       "<Figure size 432x288 with 1 Axes>"
      ]
     },
     "metadata": {
      "needs_background": "light"
     },
     "output_type": "display_data"
    }
   ],
   "source": [
    "df['TotalPay'].plot.hist(bins=50) #histograma para verificar a curva de salários, densidade à esquerda e assim à direita"
   ]
  },
  {
   "cell_type": "code",
   "execution_count": 17,
   "metadata": {
    "ExecuteTime": {
     "end_time": "2019-09-12T17:12:58.324593Z",
     "start_time": "2019-09-12T17:12:58.312585Z"
    }
   },
   "outputs": [],
   "source": [
    " df['TotalPay']= df['TotalPay'].replace(0.0, 1) #salários zerados alterados para 1"
   ]
  },
  {
   "cell_type": "code",
   "execution_count": 18,
   "metadata": {
    "ExecuteTime": {
     "end_time": "2019-09-12T17:13:00.168181Z",
     "start_time": "2019-09-12T17:13:00.058566Z"
    }
   },
   "outputs": [
    {
     "data": {
      "text/plain": [
       "1.0         368\n",
       "18594.0      82\n",
       "123290.7     56\n",
       "132242.5     49\n",
       "105489.0     42\n",
       "50913.3      39\n",
       "17085.0      39\n",
       "Name: TotalPay, dtype: int64"
      ]
     },
     "execution_count": 18,
     "metadata": {},
     "output_type": "execute_result"
    }
   ],
   "source": [
    "df['TotalPay'].value_counts(dropna=False).nlargest(7)"
   ]
  },
  {
   "cell_type": "markdown",
   "metadata": {},
   "source": [
    "### Normalizando a curva do salário, criando coluna log_TotalPay"
   ]
  },
  {
   "cell_type": "code",
   "execution_count": 19,
   "metadata": {
    "ExecuteTime": {
     "end_time": "2019-09-12T17:13:33.794141Z",
     "start_time": "2019-09-12T17:13:33.263204Z"
    }
   },
   "outputs": [
    {
     "data": {
      "text/plain": [
       "<matplotlib.axes._subplots.AxesSubplot at 0x1b382599b38>"
      ]
     },
     "execution_count": 19,
     "metadata": {},
     "output_type": "execute_result"
    },
    {
     "data": {
      "image/png": "[encoded data removed]",
      "text/plain": [
       "<Figure size 432x288 with 1 Axes>"
      ]
     },
     "metadata": {
      "needs_background": "light"
     },
     "output_type": "display_data"
    }
   ],
   "source": [
    "df['log_TotalPay'] = np.log(df['TotalPay']) #função log\n",
    "df['log_TotalPay'].plot.hist(bins=50) "
   ]
  },
  {
   "cell_type": "markdown",
   "metadata": {},
   "source": [
    "### Normalização pela subtração da média e divisão pelo desvio padrão, individualmente criando uma coluna normal_log_TotalPay."
   ]
  },
  {
   "cell_type": "code",
   "execution_count": 20,
   "metadata": {
    "ExecuteTime": {
     "end_time": "2019-09-12T17:13:44.051687Z",
     "start_time": "2019-09-12T17:13:43.734977Z"
    }
   },
   "outputs": [
    {
     "data": {
      "text/plain": [
       "<matplotlib.axes._subplots.AxesSubplot at 0x1b3827bd198>"
      ]
     },
     "execution_count": 20,
     "metadata": {},
     "output_type": "execute_result"
    },
    {
     "data": {
      "image/png": "[encoded data removed]",
      "text/plain": [
       "<Figure size 432x288 with 1 Axes>"
      ]
     },
     "metadata": {
      "needs_background": "light"
     },
     "output_type": "display_data"
    }
   ],
   "source": [
    "#normalização pela subtração da média e dividido pelo desvio padrão, próprios\n",
    "df['normal_log_TotalPay'] = ( df['log_TotalPay'] - df['log_TotalPay'].mean() ) / df['log_TotalPay'].std() #criando a coluna\n",
    "df['normal_log_TotalPay'].plot.hist(bins=10) "
   ]
  },
  {
   "cell_type": "markdown",
   "metadata": {},
   "source": [
    "### Estudando a coluna normalizada: média e desvio padrão"
   ]
  },
  {
   "cell_type": "code",
   "execution_count": 21,
   "metadata": {
    "ExecuteTime": {
     "end_time": "2019-09-12T17:13:56.002963Z",
     "start_time": "2019-09-12T17:13:55.993954Z"
    }
   },
   "outputs": [
    {
     "data": {
      "text/plain": [
       "(2.6881621804733866e-14, 0.999996636456419)"
      ]
     },
     "execution_count": 21,
     "metadata": {},
     "output_type": "execute_result"
    }
   ],
   "source": [
    "x = df['normal_log_TotalPay'] #estudando a coluna normalizada, \n",
    "\n",
    "mu = np.mean(x)\n",
    "std = np.std(x)\n",
    "mu,std"
   ]
  },
  {
   "cell_type": "markdown",
   "metadata": {},
   "source": [
    "### Calculando o p_value"
   ]
  },
  {
   "cell_type": "code",
   "execution_count": 22,
   "metadata": {
    "ExecuteTime": {
     "end_time": "2019-09-12T17:14:04.663675Z",
     "start_time": "2019-09-12T17:14:04.654670Z"
    }
   },
   "outputs": [
    {
     "data": {
      "text/plain": [
       "0.05399114811477063"
      ]
     },
     "execution_count": 22,
     "metadata": {},
     "output_type": "execute_result"
    }
   ],
   "source": [
    "import scipy\n",
    "from scipy import stats\n",
    "scipy.stats.norm(mu, std).pdf(2*std) #o p_value é o valor fora dos 95% , neste caso melhor se for 0,05"
   ]
  },
  {
   "cell_type": "markdown",
   "metadata": {},
   "source": [
    "### Calculando o z_score"
   ]
  },
  {
   "cell_type": "code",
   "execution_count": 23,
   "metadata": {
    "ExecuteTime": {
     "end_time": "2019-09-12T17:14:11.669680Z",
     "start_time": "2019-09-12T17:14:11.662460Z"
    }
   },
   "outputs": [
    {
     "data": {
      "text/plain": [
       "(-1.959957392115748, 1.9599573921158018)"
      ]
     },
     "execution_count": 23,
     "metadata": {},
     "output_type": "execute_result"
    }
   ],
   "source": [
    "scipy.stats.norm.interval(alpha=0.95,loc=mu,scale=std)"
   ]
  },
  {
   "cell_type": "code",
   "execution_count": 24,
   "metadata": {
    "ExecuteTime": {
     "end_time": "2019-09-12T17:14:15.756926Z",
     "start_time": "2019-09-12T17:14:15.749922Z"
    }
   },
   "outputs": [],
   "source": [
    "Z_score_inf = scipy.stats.norm.interval(alpha=0.95,loc=mu,scale=std)[0]\n",
    "Z_score_sup = scipy.stats.norm.interval(alpha=0.95,loc=mu,scale=std)[1]"
   ]
  },
  {
   "cell_type": "markdown",
   "metadata": {},
   "source": [
    "## Respondendo às perguntas: \n",
    "### Das 10 profissões com maior incidência, quantos trabalhadores ganham acima e abaixo da média?"
   ]
  },
  {
   "cell_type": "code",
   "execution_count": 27,
   "metadata": {
    "ExecuteTime": {
     "end_time": "2019-09-12T17:15:51.038692Z",
     "start_time": "2019-09-12T17:15:51.028685Z"
    }
   },
   "outputs": [
    {
     "data": {
      "text/html": [
       "<div>\n",
       "<style scoped>\n",
       "    .dataframe tbody tr th:only-of-type {\n",
       "        vertical-align: middle;\n",
       "    }\n",
       "\n",
       "    .dataframe tbody tr th {\n",
       "        vertical-align: top;\n",
       "    }\n",
       "\n",
       "    .dataframe thead th {\n",
       "        text-align: right;\n",
       "    }\n",
       "</style>\n",
       "<table border=\"1\" class=\"dataframe\">\n",
       "  <thead>\n",
       "    <tr style=\"text-align: right;\">\n",
       "      <th></th>\n",
       "      <th>JobTitle</th>\n",
       "      <th>Id</th>\n",
       "      <th>TotalPay</th>\n",
       "    </tr>\n",
       "  </thead>\n",
       "  <tbody>\n",
       "    <tr>\n",
       "      <th>939</th>\n",
       "      <td>Transit Operator</td>\n",
       "      <td>2479</td>\n",
       "      <td>61318.264522</td>\n",
       "    </tr>\n",
       "    <tr>\n",
       "      <th>843</th>\n",
       "      <td>Special Nurse</td>\n",
       "      <td>1478</td>\n",
       "      <td>33490.350629</td>\n",
       "    </tr>\n",
       "    <tr>\n",
       "      <th>724</th>\n",
       "      <td>Registered Nurse</td>\n",
       "      <td>1234</td>\n",
       "      <td>117023.096645</td>\n",
       "    </tr>\n",
       "    <tr>\n",
       "      <th>713</th>\n",
       "      <td>Public Svc Aide-Public Works</td>\n",
       "      <td>916</td>\n",
       "      <td>9318.180993</td>\n",
       "    </tr>\n",
       "    <tr>\n",
       "      <th>365</th>\n",
       "      <td>Firefighter</td>\n",
       "      <td>815</td>\n",
       "      <td>138998.251043</td>\n",
       "    </tr>\n",
       "    <tr>\n",
       "      <th>246</th>\n",
       "      <td>Custodian</td>\n",
       "      <td>804</td>\n",
       "      <td>48750.944502</td>\n",
       "    </tr>\n",
       "    <tr>\n",
       "      <th>657</th>\n",
       "      <td>Police Officer 3</td>\n",
       "      <td>783</td>\n",
       "      <td>136059.617842</td>\n",
       "    </tr>\n",
       "    <tr>\n",
       "      <th>721</th>\n",
       "      <td>Recreation Leader</td>\n",
       "      <td>690</td>\n",
       "      <td>7061.691348</td>\n",
       "    </tr>\n",
       "    <tr>\n",
       "      <th>616</th>\n",
       "      <td>Patient Care Assistant</td>\n",
       "      <td>652</td>\n",
       "      <td>47670.312377</td>\n",
       "    </tr>\n",
       "    <tr>\n",
       "      <th>271</th>\n",
       "      <td>Deputy Sheriff</td>\n",
       "      <td>617</td>\n",
       "      <td>115208.985624</td>\n",
       "    </tr>\n",
       "  </tbody>\n",
       "</table>\n",
       "</div>"
      ],
      "text/plain": [
       "                         JobTitle    Id       TotalPay\n",
       "939              Transit Operator  2479   61318.264522\n",
       "843                 Special Nurse  1478   33490.350629\n",
       "724              Registered Nurse  1234  117023.096645\n",
       "713  Public Svc Aide-Public Works   916    9318.180993\n",
       "365                   Firefighter   815  138998.251043\n",
       "246                     Custodian   804   48750.944502\n",
       "657              Police Officer 3   783  136059.617842\n",
       "721             Recreation Leader   690    7061.691348\n",
       "616        Patient Care Assistant   652   47670.312377\n",
       "271                Deputy Sheriff   617  115208.985624"
      ]
     },
     "execution_count": 27,
     "metadata": {},
     "output_type": "execute_result"
    }
   ],
   "source": [
    "top_10.head(10)"
   ]
  },
  {
   "cell_type": "code",
   "execution_count": 28,
   "metadata": {
    "ExecuteTime": {
     "end_time": "2019-09-12T17:15:54.386234Z",
     "start_time": "2019-09-12T17:15:54.353212Z"
    }
   },
   "outputs": [],
   "source": [
    "resultado_top_10 =(df.loc[df['JobTitle'].isin(['Transit Operator', 'Special Nurse', 'Registered Nurse','Public Svc Aide-Public Works',\n",
    "                                  'Firefighter','Custodian','Police Officer 3','Police Officer 3','Recreation Leader',\n",
    "                                  'Patient Care Assistant','Deputy Sheriff'])])"
   ]
  },
  {
   "cell_type": "markdown",
   "metadata": {},
   "source": [
    "#### Abaixo da média"
   ]
  },
  {
   "cell_type": "code",
   "execution_count": 29,
   "metadata": {
    "ExecuteTime": {
     "end_time": "2019-09-12T17:15:57.951258Z",
     "start_time": "2019-09-12T17:15:57.944255Z"
    }
   },
   "outputs": [],
   "source": [
    "resultado_top_10_abaixo_media = resultado_top_10[resultado_top_10['normal_log_TotalPay']<-1.96]"
   ]
  },
  {
   "cell_type": "code",
   "execution_count": 30,
   "metadata": {
    "ExecuteTime": {
     "end_time": "2019-09-12T17:15:59.545363Z",
     "start_time": "2019-09-12T17:15:59.522348Z"
    }
   },
   "outputs": [
    {
     "data": {
      "text/html": [
       "<div>\n",
       "<style scoped>\n",
       "    .dataframe tbody tr th:only-of-type {\n",
       "        vertical-align: middle;\n",
       "    }\n",
       "\n",
       "    .dataframe tbody tr th {\n",
       "        vertical-align: top;\n",
       "    }\n",
       "\n",
       "    .dataframe thead th {\n",
       "        text-align: right;\n",
       "    }\n",
       "</style>\n",
       "<table border=\"1\" class=\"dataframe\">\n",
       "  <thead>\n",
       "    <tr style=\"text-align: right;\">\n",
       "      <th></th>\n",
       "      <th>Id</th>\n",
       "      <th>EmployeeName</th>\n",
       "      <th>JobTitle</th>\n",
       "      <th>BasePay</th>\n",
       "      <th>OvertimePay</th>\n",
       "      <th>OtherPay</th>\n",
       "      <th>Benefits</th>\n",
       "      <th>TotalPay</th>\n",
       "      <th>TotalPayBenefits</th>\n",
       "      <th>Year</th>\n",
       "      <th>Notes</th>\n",
       "      <th>Agency</th>\n",
       "      <th>Status</th>\n",
       "      <th>log_TotalPay</th>\n",
       "      <th>normal_log_TotalPay</th>\n",
       "    </tr>\n",
       "  </thead>\n",
       "  <tbody>\n",
       "    <tr>\n",
       "      <th>70249</th>\n",
       "      <td>70250</td>\n",
       "      <td>Alfred Hemmitt</td>\n",
       "      <td>Custodian</td>\n",
       "      <td>0</td>\n",
       "      <td>0</td>\n",
       "      <td>1992.04</td>\n",
       "      <td>3638.22</td>\n",
       "      <td>1992.04</td>\n",
       "      <td>5630.26</td>\n",
       "      <td>2012</td>\n",
       "      <td>NaN</td>\n",
       "      <td>San Francisco</td>\n",
       "      <td>NaN</td>\n",
       "      <td>7.596915</td>\n",
       "      <td>-2.221210</td>\n",
       "    </tr>\n",
       "    <tr>\n",
       "      <th>70502</th>\n",
       "      <td>70503</td>\n",
       "      <td>Salih Abdolcader</td>\n",
       "      <td>Transit Operator</td>\n",
       "      <td>2864.03</td>\n",
       "      <td>0</td>\n",
       "      <td>0</td>\n",
       "      <td>1878.96</td>\n",
       "      <td>2864.03</td>\n",
       "      <td>4742.99</td>\n",
       "      <td>2012</td>\n",
       "      <td>NaN</td>\n",
       "      <td>San Francisco</td>\n",
       "      <td>NaN</td>\n",
       "      <td>7.959985</td>\n",
       "      <td>-1.964556</td>\n",
       "    </tr>\n",
       "    <tr>\n",
       "      <th>70528</th>\n",
       "      <td>70529</td>\n",
       "      <td>Frank Montbach</td>\n",
       "      <td>Transit Operator</td>\n",
       "      <td>2826.84</td>\n",
       "      <td>0</td>\n",
       "      <td>0</td>\n",
       "      <td>1840.22</td>\n",
       "      <td>2826.84</td>\n",
       "      <td>4667.06</td>\n",
       "      <td>2012</td>\n",
       "      <td>NaN</td>\n",
       "      <td>San Francisco</td>\n",
       "      <td>NaN</td>\n",
       "      <td>7.946915</td>\n",
       "      <td>-1.973796</td>\n",
       "    </tr>\n",
       "    <tr>\n",
       "      <th>70719</th>\n",
       "      <td>70720</td>\n",
       "      <td>Giselle Burgos</td>\n",
       "      <td>Special Nurse</td>\n",
       "      <td>0</td>\n",
       "      <td>0</td>\n",
       "      <td>452.61</td>\n",
       "      <td>3664.3</td>\n",
       "      <td>452.61</td>\n",
       "      <td>4116.91</td>\n",
       "      <td>2012</td>\n",
       "      <td>NaN</td>\n",
       "      <td>San Francisco</td>\n",
       "      <td>NaN</td>\n",
       "      <td>6.115031</td>\n",
       "      <td>-3.268750</td>\n",
       "    </tr>\n",
       "  </tbody>\n",
       "</table>\n",
       "</div>"
      ],
      "text/plain": [
       "          Id      EmployeeName          JobTitle  BasePay OvertimePay  \\\n",
       "70249  70250    Alfred Hemmitt         Custodian        0           0   \n",
       "70502  70503  Salih Abdolcader  Transit Operator  2864.03           0   \n",
       "70528  70529    Frank Montbach  Transit Operator  2826.84           0   \n",
       "70719  70720    Giselle Burgos     Special Nurse        0           0   \n",
       "\n",
       "      OtherPay Benefits  TotalPay  TotalPayBenefits  Year  Notes  \\\n",
       "70249  1992.04  3638.22   1992.04           5630.26  2012    NaN   \n",
       "70502        0  1878.96   2864.03           4742.99  2012    NaN   \n",
       "70528        0  1840.22   2826.84           4667.06  2012    NaN   \n",
       "70719   452.61   3664.3    452.61           4116.91  2012    NaN   \n",
       "\n",
       "              Agency Status  log_TotalPay  normal_log_TotalPay  \n",
       "70249  San Francisco    NaN      7.596915            -2.221210  \n",
       "70502  San Francisco    NaN      7.959985            -1.964556  \n",
       "70528  San Francisco    NaN      7.946915            -1.973796  \n",
       "70719  San Francisco    NaN      6.115031            -3.268750  "
      ]
     },
     "execution_count": 30,
     "metadata": {},
     "output_type": "execute_result"
    }
   ],
   "source": [
    "resultado_top_10_abaixo_media.head(4) #tabela de resultado mostrando apenas 4 registros"
   ]
  },
  {
   "cell_type": "code",
   "execution_count": 31,
   "metadata": {
    "ExecuteTime": {
     "end_time": "2019-09-12T17:16:02.382859Z",
     "start_time": "2019-09-12T17:16:02.377356Z"
    }
   },
   "outputs": [
    {
     "data": {
      "text/plain": [
       "(2364, 15)"
      ]
     },
     "execution_count": 31,
     "metadata": {},
     "output_type": "execute_result"
    }
   ],
   "source": [
    "resultado_top_10_abaixo_media.shape #resultado para a quantidade de salários abaixo da média em top 10"
   ]
  },
  {
   "cell_type": "markdown",
   "metadata": {},
   "source": [
    "Existem 2364 trabalhadores ganhando abaixo da média (em todas as funções)."
   ]
  },
  {
   "cell_type": "markdown",
   "metadata": {},
   "source": [
    "#### Acima da média"
   ]
  },
  {
   "cell_type": "code",
   "execution_count": 32,
   "metadata": {
    "ExecuteTime": {
     "end_time": "2019-09-12T17:17:15.054301Z",
     "start_time": "2019-09-12T17:17:15.045289Z"
    }
   },
   "outputs": [],
   "source": [
    "resultado_top_10_acima_media = resultado_top_10[resultado_top_10['normal_log_TotalPay']>1.96]"
   ]
  },
  {
   "cell_type": "code",
   "execution_count": 33,
   "metadata": {
    "ExecuteTime": {
     "end_time": "2019-09-12T17:17:16.957889Z",
     "start_time": "2019-09-12T17:17:16.942370Z"
    }
   },
   "outputs": [
    {
     "data": {
      "text/html": [
       "<div>\n",
       "<style scoped>\n",
       "    .dataframe tbody tr th:only-of-type {\n",
       "        vertical-align: middle;\n",
       "    }\n",
       "\n",
       "    .dataframe tbody tr th {\n",
       "        vertical-align: top;\n",
       "    }\n",
       "\n",
       "    .dataframe thead th {\n",
       "        text-align: right;\n",
       "    }\n",
       "</style>\n",
       "<table border=\"1\" class=\"dataframe\">\n",
       "  <thead>\n",
       "    <tr style=\"text-align: right;\">\n",
       "      <th></th>\n",
       "      <th>Id</th>\n",
       "      <th>EmployeeName</th>\n",
       "      <th>JobTitle</th>\n",
       "      <th>BasePay</th>\n",
       "      <th>OvertimePay</th>\n",
       "      <th>OtherPay</th>\n",
       "      <th>Benefits</th>\n",
       "      <th>TotalPay</th>\n",
       "      <th>TotalPayBenefits</th>\n",
       "      <th>Year</th>\n",
       "      <th>Notes</th>\n",
       "      <th>Agency</th>\n",
       "      <th>Status</th>\n",
       "      <th>log_TotalPay</th>\n",
       "      <th>normal_log_TotalPay</th>\n",
       "    </tr>\n",
       "  </thead>\n",
       "  <tbody>\n",
       "  </tbody>\n",
       "</table>\n",
       "</div>"
      ],
      "text/plain": [
       "Empty DataFrame\n",
       "Columns: [Id, EmployeeName, JobTitle, BasePay, OvertimePay, OtherPay, Benefits, TotalPay, TotalPayBenefits, Year, Notes, Agency, Status, log_TotalPay, normal_log_TotalPay]\n",
       "Index: []"
      ]
     },
     "execution_count": 33,
     "metadata": {},
     "output_type": "execute_result"
    }
   ],
   "source": [
    "resultado_top_10_acima_media.head(4) #tabela de resultado"
   ]
  },
  {
   "cell_type": "code",
   "execution_count": 34,
   "metadata": {
    "ExecuteTime": {
     "end_time": "2019-09-12T17:17:19.635367Z",
     "start_time": "2019-09-12T17:17:19.629363Z"
    }
   },
   "outputs": [
    {
     "data": {
      "text/plain": [
       "(0, 15)"
      ]
     },
     "execution_count": 34,
     "metadata": {},
     "output_type": "execute_result"
    }
   ],
   "source": [
    "resultado_top_10_acima_media.shape #resultado para a quantidade de salários acima da média em top 10"
   ]
  },
  {
   "cell_type": "markdown",
   "metadata": {},
   "source": [
    "Não existem trabalhadores ganhando acima da média (em todas as funções)."
   ]
  },
  {
   "cell_type": "markdown",
   "metadata": {},
   "source": [
    "## Verificando o salário mais alto no dataset\n",
    "Por não termos funcionários com salário acima da média, precisamos descobrir qual o nível de confiança necessário para o maior salário.\n",
    "Para isso vamos calcular o p_value da normalização e o alpha_max."
   ]
  },
  {
   "cell_type": "markdown",
   "metadata": {},
   "source": [
    "### Verificando o maior valor (salário normalizado - log)"
   ]
  },
  {
   "cell_type": "code",
   "execution_count": 35,
   "metadata": {
    "ExecuteTime": {
     "end_time": "2019-09-12T17:17:38.830248Z",
     "start_time": "2019-09-12T17:17:38.822244Z"
    }
   },
   "outputs": [
    {
     "data": {
      "text/plain": [
       "1.7743520229278988"
      ]
     },
     "execution_count": 35,
     "metadata": {},
     "output_type": "execute_result"
    }
   ],
   "source": [
    "df['normal_log_TotalPay'].max() #valor máximo da coluna"
   ]
  },
  {
   "cell_type": "markdown",
   "metadata": {},
   "source": [
    "### Calculando o p_value"
   ]
  },
  {
   "cell_type": "code",
   "execution_count": 36,
   "metadata": {
    "ExecuteTime": {
     "end_time": "2019-09-12T17:18:21.376322Z",
     "start_time": "2019-09-12T17:18:21.365314Z"
    }
   },
   "outputs": [
    {
     "data": {
      "text/plain": [
       "0.03800197694398879"
      ]
     },
     "execution_count": 36,
     "metadata": {},
     "output_type": "execute_result"
    }
   ],
   "source": [
    "scipy.stats.norm(mu, std).sf(df['normal_log_TotalPay'].max()) #p_value"
   ]
  },
  {
   "cell_type": "markdown",
   "metadata": {},
   "source": [
    "### Calculando o alpha"
   ]
  },
  {
   "cell_type": "code",
   "execution_count": 37,
   "metadata": {
    "ExecuteTime": {
     "end_time": "2019-09-12T17:19:00.637228Z",
     "start_time": "2019-09-12T17:19:00.625220Z"
    }
   },
   "outputs": [
    {
     "data": {
      "text/plain": [
       "0.9619980230560112"
      ]
     },
     "execution_count": 37,
     "metadata": {},
     "output_type": "execute_result"
    }
   ],
   "source": [
    "alpha_max = 1-scipy.stats.norm(mu, std).sf(df['normal_log_TotalPay'].max())\n",
    "#alfa máximo - são os 95%, área da curva embaixo da curva de não rejeição - \n",
    "#valores entre 2 desvios padrão para mais e 2 para menos\n",
    "alpha_max "
   ]
  },
  {
   "cell_type": "code",
   "execution_count": 39,
   "metadata": {
    "ExecuteTime": {
     "end_time": "2019-09-12T17:20:09.413794Z",
     "start_time": "2019-09-12T17:20:09.407787Z"
    }
   },
   "outputs": [
    {
     "name": "stdout",
     "output_type": "stream",
     "text": [
      "96.0 %  de certeza que não existe funcionário ganhando mais que a média.\n",
      "O melhor salário está com um nível de significância de 96.0 %\n"
     ]
    }
   ],
   "source": [
    "print (round(alpha_max*100,0), '%', ' de certeza que não existe funcionário ganhando mais que a média.' )\n",
    "print ('O melhor salário está com um nível de significância de', round(alpha_max*100,0), '%')"
   ]
  },
  {
   "cell_type": "markdown",
   "metadata": {},
   "source": [
    "## Respondendo à pergunta: \n",
    "### Quantos trabalhadores ganham acima e abaixo da média na função de Registered Nurse? E na de Deputy Sheriff?\n"
   ]
  },
  {
   "cell_type": "code",
   "execution_count": 40,
   "metadata": {
    "ExecuteTime": {
     "end_time": "2019-09-12T17:20:43.974902Z",
     "start_time": "2019-09-12T17:20:43.958367Z"
    }
   },
   "outputs": [
    {
     "name": "stdout",
     "output_type": "stream",
     "text": [
      "O cargo Registered Nurse apresenta  0 salários acima da média e 29 salários abaixo da média.\n",
      "O cargo Deputy Sheriff  0 salários acima da média e 31 salários abaixo da média.\n"
     ]
    }
   ],
   "source": [
    "registered_nurse_ac = resultado_top_10_acima_media.loc[resultado_top_10_acima_media['JobTitle']=='Registered Nurse']\n",
    "registered_nurse_ab = resultado_top_10_abaixo_media.loc[resultado_top_10_abaixo_media['JobTitle']=='Registered Nurse']\n",
    "\n",
    "deputy_sheriff_ac = resultado_top_10_acima_media.loc[resultado_top_10_acima_media['JobTitle']=='Deputy Sheriff']\n",
    "deputy_sheriff_ab = resultado_top_10_abaixo_media.loc[resultado_top_10_abaixo_media['JobTitle']=='Deputy Sheriff']\n",
    "\n",
    "\n",
    "print('O cargo Registered Nurse apresenta ', registered_nurse_ac.Id.count(), 'salários acima da média e',  registered_nurse_ab.Id.count(), 'salários abaixo da média.')\n",
    "print('O cargo Deputy Sheriff ', deputy_sheriff_ac.Id.count(), 'salários acima da média e',  deputy_sheriff_ab.Id.count(), 'salários abaixo da média.')\n"
   ]
  },
  {
   "cell_type": "code",
   "execution_count": null,
   "metadata": {},
   "outputs": [],
   "source": []
  }
 ],
 "metadata": {
  "hide_input": false,
  "kernelspec": {
   "display_name": "Python 3",
   "language": "python",
   "name": "python3"
  },
  "language_info": {
   "codemirror_mode": {
    "name": "ipython",
    "version": 3
   },
   "file_extension": ".py",
   "mimetype": "text/x-python",
   "name": "python",
   "nbconvert_exporter": "python",
   "pygments_lexer": "ipython3",
   "version": "3.7.3"
  },
  "toc": {
   "base_numbering": 1,
   "nav_menu": {},
   "number_sections": true,
   "sideBar": true,
   "skip_h1_title": true,
   "title_cell": "",
   "title_sidebar": "",
   "toc_cell": false,
   "toc_position": {},
   "toc_section_display": true,
   "toc_window_display": true
  },
  "varInspector": {
   "cols": {
    "lenName": 16,
    "lenType": 16,
    "lenVar": 40
   },
   "kernels_config": {
    "python": {
     "delete_cmd_postfix": "",
     "delete_cmd_prefix": "del ",
     "library": "var_list.py",
     "varRefreshCmd": "print(var_dic_list())"
    },
    "r": {
     "delete_cmd_postfix": ") ",
     "delete_cmd_prefix": "rm(",
     "library": "var_list.r",
     "varRefreshCmd": "cat(var_dic_list()) "
    }
   },
   "types_to_exclude": [
    "module",
    "function",
    "builtin_function_or_method",
    "instance",
    "_Feature"
   ],
   "window_display": false
  }
 },
 "nbformat": 4,
 "nbformat_minor": 2
}
