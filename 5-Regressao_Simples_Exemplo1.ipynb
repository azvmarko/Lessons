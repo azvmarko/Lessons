{
 "cells": [
  {
   "cell_type": "markdown",
   "metadata": {},
   "source": [
    "## Analisando a relação entre Salário e Educação\n",
    "Vamos testar uma hipótese:\n",
    "\n",
    " ### Será que estudar aumenta nossos salarios?\n",
    "\n",
    "Vamos usar uma regressão de Salario ~ Estudo para nos ajudar a responder."
   ]
  },
  {
   "cell_type": "code",
   "execution_count": 1,
   "metadata": {
    "ExecuteTime": {
     "end_time": "2019-09-17T15:03:28.194251Z",
     "start_time": "2019-09-17T15:03:26.447806Z"
    }
   },
   "outputs": [],
   "source": [
    "import pandas as pd\n",
    "import pandas.io.sql as sqlio\n",
    "import psycopg2\n",
    "import numpy as np\n",
    "from sqlalchemy import create_engine\n",
    "import io\n",
    "import matplotlib.pyplot as plt\n",
    "from sklearn.linear_model import LinearRegression\n",
    "\n",
    "%matplotlib inline\n"
   ]
  },
  {
   "cell_type": "code",
   "execution_count": 2,
   "metadata": {},
   "outputs": [
    {
     "name": "stdout",
     "output_type": "stream",
     "text": [
      "Requirement already satisfied: psycopg2 in c:\\users\\marcos\\anaconda3\\lib\\site-packages (2.8.1)\n",
      "Requirement already satisfied: sqlalchemy in c:\\users\\marcos\\anaconda3\\lib\\site-packages (1.2.15)\n"
     ]
    }
   ],
   "source": [
    "#!pip install psycopg2\n",
    "#!pip install sqlalchemy"
   ]
  },
  {
   "cell_type": "code",
   "execution_count": 2,
   "metadata": {
    "ExecuteTime": {
     "end_time": "2019-09-17T15:03:33.478999Z",
     "start_time": "2019-09-17T15:03:33.357920Z"
    }
   },
   "outputs": [],
   "source": [
    "df = pd.read_csv(r'./dados/5regressaosalarios.csv') #importando o arquivo"
   ]
  },
  {
   "cell_type": "code",
   "execution_count": 3,
   "metadata": {
    "ExecuteTime": {
     "end_time": "2019-09-17T15:03:34.952871Z",
     "start_time": "2019-09-17T15:03:34.933859Z"
    }
   },
   "outputs": [
    {
     "data": {
      "text/html": [
       "<div>\n",
       "<style scoped>\n",
       "    .dataframe tbody tr th:only-of-type {\n",
       "        vertical-align: middle;\n",
       "    }\n",
       "\n",
       "    .dataframe tbody tr th {\n",
       "        vertical-align: top;\n",
       "    }\n",
       "\n",
       "    .dataframe thead th {\n",
       "        text-align: right;\n",
       "    }\n",
       "</style>\n",
       "<table border=\"1\" class=\"dataframe\">\n",
       "  <thead>\n",
       "    <tr style=\"text-align: right;\">\n",
       "      <th></th>\n",
       "      <th>Unnamed: 0</th>\n",
       "      <th>id</th>\n",
       "      <th>idade</th>\n",
       "      <th>sexo</th>\n",
       "      <th>anos_estudo</th>\n",
       "      <th>cor/raca</th>\n",
       "      <th>salario</th>\n",
       "      <th>estado_civil</th>\n",
       "      <th>regiao</th>\n",
       "    </tr>\n",
       "  </thead>\n",
       "  <tbody>\n",
       "    <tr>\n",
       "      <th>0</th>\n",
       "      <td>0</td>\n",
       "      <td>1.100190e+10</td>\n",
       "      <td>53</td>\n",
       "      <td>homem</td>\n",
       "      <td>5.0</td>\n",
       "      <td>Parda</td>\n",
       "      <td>63600.000000</td>\n",
       "      <td>1.0</td>\n",
       "      <td>norte</td>\n",
       "    </tr>\n",
       "    <tr>\n",
       "      <th>1</th>\n",
       "      <td>1</td>\n",
       "      <td>1.100190e+10</td>\n",
       "      <td>49</td>\n",
       "      <td>mulher</td>\n",
       "      <td>8.0</td>\n",
       "      <td>Amarela</td>\n",
       "      <td>NaN</td>\n",
       "      <td>1.0</td>\n",
       "      <td>norte</td>\n",
       "    </tr>\n",
       "    <tr>\n",
       "      <th>2</th>\n",
       "      <td>2</td>\n",
       "      <td>1.100190e+10</td>\n",
       "      <td>22</td>\n",
       "      <td>mulher</td>\n",
       "      <td>11.0</td>\n",
       "      <td>Indigena</td>\n",
       "      <td>4352.400391</td>\n",
       "      <td>0.0</td>\n",
       "      <td>nordeste</td>\n",
       "    </tr>\n",
       "    <tr>\n",
       "      <th>3</th>\n",
       "      <td>3</td>\n",
       "      <td>1.100190e+10</td>\n",
       "      <td>55</td>\n",
       "      <td>homem</td>\n",
       "      <td>15.0</td>\n",
       "      <td>Amarela</td>\n",
       "      <td>96600.000000</td>\n",
       "      <td>1.0</td>\n",
       "      <td>norte</td>\n",
       "    </tr>\n",
       "    <tr>\n",
       "      <th>4</th>\n",
       "      <td>4</td>\n",
       "      <td>1.100190e+10</td>\n",
       "      <td>56</td>\n",
       "      <td>mulher</td>\n",
       "      <td>15.0</td>\n",
       "      <td>Amarela</td>\n",
       "      <td>157800.000000</td>\n",
       "      <td>1.0</td>\n",
       "      <td>norte</td>\n",
       "    </tr>\n",
       "  </tbody>\n",
       "</table>\n",
       "</div>"
      ],
      "text/plain": [
       "   Unnamed: 0            id  idade    sexo  anos_estudo  cor/raca  \\\n",
       "0           0  1.100190e+10     53   homem          5.0     Parda   \n",
       "1           1  1.100190e+10     49  mulher          8.0   Amarela   \n",
       "2           2  1.100190e+10     22  mulher         11.0  Indigena   \n",
       "3           3  1.100190e+10     55   homem         15.0   Amarela   \n",
       "4           4  1.100190e+10     56  mulher         15.0   Amarela   \n",
       "\n",
       "         salario  estado_civil    regiao  \n",
       "0   63600.000000           1.0     norte  \n",
       "1            NaN           1.0     norte  \n",
       "2    4352.400391           0.0  nordeste  \n",
       "3   96600.000000           1.0     norte  \n",
       "4  157800.000000           1.0     norte  "
      ]
     },
     "execution_count": 3,
     "metadata": {},
     "output_type": "execute_result"
    }
   ],
   "source": [
    "df.head() #verificando os dados"
   ]
  },
  {
   "cell_type": "code",
   "execution_count": 4,
   "metadata": {
    "ExecuteTime": {
     "end_time": "2019-09-17T15:03:42.273198Z",
     "start_time": "2019-09-17T15:03:42.240178Z"
    }
   },
   "outputs": [
    {
     "data": {
      "text/html": [
       "<div>\n",
       "<style scoped>\n",
       "    .dataframe tbody tr th:only-of-type {\n",
       "        vertical-align: middle;\n",
       "    }\n",
       "\n",
       "    .dataframe tbody tr th {\n",
       "        vertical-align: top;\n",
       "    }\n",
       "\n",
       "    .dataframe thead th {\n",
       "        text-align: right;\n",
       "    }\n",
       "</style>\n",
       "<table border=\"1\" class=\"dataframe\">\n",
       "  <thead>\n",
       "    <tr style=\"text-align: right;\">\n",
       "      <th></th>\n",
       "      <th>Unnamed: 0</th>\n",
       "      <th>id</th>\n",
       "      <th>idade</th>\n",
       "      <th>anos_estudo</th>\n",
       "      <th>salario</th>\n",
       "      <th>estado_civil</th>\n",
       "    </tr>\n",
       "  </thead>\n",
       "  <tbody>\n",
       "    <tr>\n",
       "      <th>Unnamed: 0</th>\n",
       "      <td>1.000000</td>\n",
       "      <td>0.970360</td>\n",
       "      <td>0.044996</td>\n",
       "      <td>0.017342</td>\n",
       "      <td>0.018171</td>\n",
       "      <td>0.035717</td>\n",
       "    </tr>\n",
       "    <tr>\n",
       "      <th>id</th>\n",
       "      <td>0.970360</td>\n",
       "      <td>1.000000</td>\n",
       "      <td>0.051951</td>\n",
       "      <td>0.035653</td>\n",
       "      <td>0.022322</td>\n",
       "      <td>0.029462</td>\n",
       "    </tr>\n",
       "    <tr>\n",
       "      <th>idade</th>\n",
       "      <td>0.044996</td>\n",
       "      <td>0.051951</td>\n",
       "      <td>1.000000</td>\n",
       "      <td>-0.223166</td>\n",
       "      <td>0.122228</td>\n",
       "      <td>0.209986</td>\n",
       "    </tr>\n",
       "    <tr>\n",
       "      <th>anos_estudo</th>\n",
       "      <td>0.017342</td>\n",
       "      <td>0.035653</td>\n",
       "      <td>-0.223166</td>\n",
       "      <td>1.000000</td>\n",
       "      <td>0.101445</td>\n",
       "      <td>-0.118830</td>\n",
       "    </tr>\n",
       "    <tr>\n",
       "      <th>salario</th>\n",
       "      <td>0.018171</td>\n",
       "      <td>0.022322</td>\n",
       "      <td>0.122228</td>\n",
       "      <td>0.101445</td>\n",
       "      <td>1.000000</td>\n",
       "      <td>0.031017</td>\n",
       "    </tr>\n",
       "    <tr>\n",
       "      <th>estado_civil</th>\n",
       "      <td>0.035717</td>\n",
       "      <td>0.029462</td>\n",
       "      <td>0.209986</td>\n",
       "      <td>-0.118830</td>\n",
       "      <td>0.031017</td>\n",
       "      <td>1.000000</td>\n",
       "    </tr>\n",
       "  </tbody>\n",
       "</table>\n",
       "</div>"
      ],
      "text/plain": [
       "              Unnamed: 0        id     idade  anos_estudo   salario  \\\n",
       "Unnamed: 0      1.000000  0.970360  0.044996     0.017342  0.018171   \n",
       "id              0.970360  1.000000  0.051951     0.035653  0.022322   \n",
       "idade           0.044996  0.051951  1.000000    -0.223166  0.122228   \n",
       "anos_estudo     0.017342  0.035653 -0.223166     1.000000  0.101445   \n",
       "salario         0.018171  0.022322  0.122228     0.101445  1.000000   \n",
       "estado_civil    0.035717  0.029462  0.209986    -0.118830  0.031017   \n",
       "\n",
       "              estado_civil  \n",
       "Unnamed: 0        0.035717  \n",
       "id                0.029462  \n",
       "idade             0.209986  \n",
       "anos_estudo      -0.118830  \n",
       "salario           0.031017  \n",
       "estado_civil      1.000000  "
      ]
     },
     "execution_count": 4,
     "metadata": {},
     "output_type": "execute_result"
    }
   ],
   "source": [
    "df.corr() #verificando a correlação e entre as variáveis"
   ]
  },
  {
   "cell_type": "code",
   "execution_count": 5,
   "metadata": {
    "ExecuteTime": {
     "end_time": "2019-09-17T15:04:20.376727Z",
     "start_time": "2019-09-17T15:04:20.128714Z"
    }
   },
   "outputs": [
    {
     "data": {
      "text/plain": [
       "<matplotlib.collections.PathCollection at 0x1f075386940>"
      ]
     },
     "execution_count": 5,
     "metadata": {},
     "output_type": "execute_result"
    },
    {
     "data": {
      "image/png": "[encoded data removed]",
      "text/plain": [
       "<Figure size 432x288 with 1 Axes>"
      ]
     },
     "metadata": {
      "needs_background": "light"
     },
     "output_type": "display_data"
    }
   ],
   "source": [
    "# imprimindo um gráfico scatter para tentar inferir alguma relação\n",
    "sample = df.dropna().sample(1000, random_state=7)\n",
    "plt.scatter(sample['anos_estudo'], sample['salario'])"
   ]
  },
  {
   "cell_type": "markdown",
   "metadata": {},
   "source": [
    "Dificil inferir algo desse grafico, mas já vemos que tem alguns outliners que não fazem muito sentido, vamos filtra-los."
   ]
  },
  {
   "cell_type": "code",
   "execution_count": 6,
   "metadata": {
    "ExecuteTime": {
     "end_time": "2019-09-17T15:04:33.358041Z",
     "start_time": "2019-09-17T15:04:33.327020Z"
    }
   },
   "outputs": [
    {
     "name": "stdout",
     "output_type": "stream",
     "text": [
      "<class 'pandas.core.frame.DataFrame'>\n",
      "RangeIndex: 66470 entries, 0 to 66469\n",
      "Data columns (total 9 columns):\n",
      "Unnamed: 0      66470 non-null int64\n",
      "id              66470 non-null float64\n",
      "idade           66470 non-null int64\n",
      "sexo            66470 non-null object\n",
      "anos_estudo     66036 non-null float64\n",
      "cor/raca        66228 non-null object\n",
      "salario         47878 non-null float64\n",
      "estado_civil    66470 non-null float64\n",
      "regiao          66470 non-null object\n",
      "dtypes: float64(4), int64(2), object(3)\n",
      "memory usage: 4.6+ MB\n"
     ]
    }
   ],
   "source": [
    "df.info()"
   ]
  },
  {
   "cell_type": "code",
   "execution_count": 7,
   "metadata": {
    "ExecuteTime": {
     "end_time": "2019-09-17T15:04:45.853992Z",
     "start_time": "2019-09-17T15:04:45.806962Z"
    }
   },
   "outputs": [
    {
     "data": {
      "text/html": [
       "<div>\n",
       "<style scoped>\n",
       "    .dataframe tbody tr th:only-of-type {\n",
       "        vertical-align: middle;\n",
       "    }\n",
       "\n",
       "    .dataframe tbody tr th {\n",
       "        vertical-align: top;\n",
       "    }\n",
       "\n",
       "    .dataframe thead th {\n",
       "        text-align: right;\n",
       "    }\n",
       "</style>\n",
       "<table border=\"1\" class=\"dataframe\">\n",
       "  <thead>\n",
       "    <tr style=\"text-align: right;\">\n",
       "      <th></th>\n",
       "      <th>Unnamed: 0</th>\n",
       "      <th>id</th>\n",
       "      <th>idade</th>\n",
       "      <th>sexo</th>\n",
       "      <th>anos_estudo</th>\n",
       "      <th>cor/raca</th>\n",
       "      <th>salario</th>\n",
       "      <th>estado_civil</th>\n",
       "      <th>regiao</th>\n",
       "      <th>coluna</th>\n",
       "    </tr>\n",
       "  </thead>\n",
       "  <tbody>\n",
       "    <tr>\n",
       "      <th>0</th>\n",
       "      <td>0</td>\n",
       "      <td>1.100190e+10</td>\n",
       "      <td>53</td>\n",
       "      <td>homem</td>\n",
       "      <td>5.0</td>\n",
       "      <td>Parda</td>\n",
       "      <td>63600.000000</td>\n",
       "      <td>1.0</td>\n",
       "      <td>norte</td>\n",
       "      <td>True</td>\n",
       "    </tr>\n",
       "    <tr>\n",
       "      <th>1</th>\n",
       "      <td>1</td>\n",
       "      <td>1.100190e+10</td>\n",
       "      <td>49</td>\n",
       "      <td>mulher</td>\n",
       "      <td>8.0</td>\n",
       "      <td>Amarela</td>\n",
       "      <td>NaN</td>\n",
       "      <td>1.0</td>\n",
       "      <td>norte</td>\n",
       "      <td>False</td>\n",
       "    </tr>\n",
       "    <tr>\n",
       "      <th>2</th>\n",
       "      <td>2</td>\n",
       "      <td>1.100190e+10</td>\n",
       "      <td>22</td>\n",
       "      <td>mulher</td>\n",
       "      <td>11.0</td>\n",
       "      <td>Indigena</td>\n",
       "      <td>4352.400391</td>\n",
       "      <td>0.0</td>\n",
       "      <td>nordeste</td>\n",
       "      <td>True</td>\n",
       "    </tr>\n",
       "    <tr>\n",
       "      <th>3</th>\n",
       "      <td>3</td>\n",
       "      <td>1.100190e+10</td>\n",
       "      <td>55</td>\n",
       "      <td>homem</td>\n",
       "      <td>15.0</td>\n",
       "      <td>Amarela</td>\n",
       "      <td>96600.000000</td>\n",
       "      <td>1.0</td>\n",
       "      <td>norte</td>\n",
       "      <td>True</td>\n",
       "    </tr>\n",
       "    <tr>\n",
       "      <th>4</th>\n",
       "      <td>4</td>\n",
       "      <td>1.100190e+10</td>\n",
       "      <td>56</td>\n",
       "      <td>mulher</td>\n",
       "      <td>15.0</td>\n",
       "      <td>Amarela</td>\n",
       "      <td>157800.000000</td>\n",
       "      <td>1.0</td>\n",
       "      <td>norte</td>\n",
       "      <td>True</td>\n",
       "    </tr>\n",
       "  </tbody>\n",
       "</table>\n",
       "</div>"
      ],
      "text/plain": [
       "   Unnamed: 0            id  idade    sexo  anos_estudo  cor/raca  \\\n",
       "0           0  1.100190e+10     53   homem          5.0     Parda   \n",
       "1           1  1.100190e+10     49  mulher          8.0   Amarela   \n",
       "2           2  1.100190e+10     22  mulher         11.0  Indigena   \n",
       "3           3  1.100190e+10     55   homem         15.0   Amarela   \n",
       "4           4  1.100190e+10     56  mulher         15.0   Amarela   \n",
       "\n",
       "         salario  estado_civil    regiao  coluna  \n",
       "0   63600.000000           1.0     norte    True  \n",
       "1            NaN           1.0     norte   False  \n",
       "2    4352.400391           0.0  nordeste    True  \n",
       "3   96600.000000           1.0     norte    True  \n",
       "4  157800.000000           1.0     norte    True  "
      ]
     },
     "execution_count": 7,
     "metadata": {},
     "output_type": "execute_result"
    }
   ],
   "source": [
    "mascara_salario = df.salario<500000\n",
    "sample = df[mascara_salario].dropna().sample(1000, random_state=7)\n",
    "df['coluna'] = mascara_salario\n",
    "\n",
    "df.head()"
   ]
  },
  {
   "cell_type": "code",
   "execution_count": 8,
   "metadata": {
    "ExecuteTime": {
     "end_time": "2019-09-17T15:04:49.238897Z",
     "start_time": "2019-09-17T15:04:49.020575Z"
    }
   },
   "outputs": [
    {
     "data": {
      "text/plain": [
       "<matplotlib.collections.PathCollection at 0x1f075439eb8>"
      ]
     },
     "execution_count": 8,
     "metadata": {},
     "output_type": "execute_result"
    },
    {
     "data": {
      "image/png": "[encoded data removed]",
      "text/plain": [
       "<Figure size 432x288 with 1 Axes>"
      ]
     },
     "metadata": {
      "needs_background": "light"
     },
     "output_type": "display_data"
    }
   ],
   "source": [
    "plt.scatter(sample['anos_estudo'], sample['salario'])"
   ]
  },
  {
   "cell_type": "code",
   "execution_count": 9,
   "metadata": {
    "ExecuteTime": {
     "end_time": "2019-09-17T15:05:05.937897Z",
     "start_time": "2019-09-17T15:05:05.933897Z"
    }
   },
   "outputs": [],
   "source": [
    "df['coluna'] = mascara_salario"
   ]
  },
  {
   "cell_type": "code",
   "execution_count": 10,
   "metadata": {
    "ExecuteTime": {
     "end_time": "2019-09-17T15:05:07.457745Z",
     "start_time": "2019-09-17T15:05:07.443734Z"
    }
   },
   "outputs": [
    {
     "data": {
      "text/html": [
       "<div>\n",
       "<style scoped>\n",
       "    .dataframe tbody tr th:only-of-type {\n",
       "        vertical-align: middle;\n",
       "    }\n",
       "\n",
       "    .dataframe tbody tr th {\n",
       "        vertical-align: top;\n",
       "    }\n",
       "\n",
       "    .dataframe thead th {\n",
       "        text-align: right;\n",
       "    }\n",
       "</style>\n",
       "<table border=\"1\" class=\"dataframe\">\n",
       "  <thead>\n",
       "    <tr style=\"text-align: right;\">\n",
       "      <th></th>\n",
       "      <th>anos_estudo</th>\n",
       "      <th>salario</th>\n",
       "    </tr>\n",
       "  </thead>\n",
       "  <tbody>\n",
       "    <tr>\n",
       "      <th>anos_estudo</th>\n",
       "      <td>1.00000</td>\n",
       "      <td>0.32395</td>\n",
       "    </tr>\n",
       "    <tr>\n",
       "      <th>salario</th>\n",
       "      <td>0.32395</td>\n",
       "      <td>1.00000</td>\n",
       "    </tr>\n",
       "  </tbody>\n",
       "</table>\n",
       "</div>"
      ],
      "text/plain": [
       "             anos_estudo  salario\n",
       "anos_estudo      1.00000  0.32395\n",
       "salario          0.32395  1.00000"
      ]
     },
     "execution_count": 10,
     "metadata": {},
     "output_type": "execute_result"
    }
   ],
   "source": [
    "sample[['anos_estudo','salario']].corr() #analisando a correlação"
   ]
  },
  {
   "cell_type": "markdown",
   "metadata": {},
   "source": [
    "Correlação de 0.3 responde nossa pergunta. Quanto mais estudo mais salario, além disso a taxa é de 30% de \"transferência\" entre estudo e salario. Está certo isso? Quais os problemas?\n",
    "\n",
    "Vamos rodar uma regressão para ver as diferenças."
   ]
  },
  {
   "cell_type": "code",
   "execution_count": 11,
   "metadata": {
    "ExecuteTime": {
     "end_time": "2019-09-17T15:08:34.411919Z",
     "start_time": "2019-09-17T15:08:34.349880Z"
    }
   },
   "outputs": [
    {
     "name": "stdout",
     "output_type": "stream",
     "text": [
      "Intercepto beta_0:  -3296.2637767190245\n",
      "Inclinação beta_1:  1707.8013864648758\n"
     ]
    }
   ],
   "source": [
    "model = LinearRegression(fit_intercept=True)\n",
    "\n",
    "model.fit(sample['anos_estudo'][:, np.newaxis], sample['salario'])\n",
    "\n",
    "xfit = np.linspace(0, 14, 1000)\n",
    "yhat = model.predict(xfit[:, np.newaxis])\n",
    "\n",
    "print(\"Intercepto beta_0: \", model.intercept_)\n",
    "print(\"Inclinação beta_1: \", model.coef_[0])"
   ]
  },
  {
   "cell_type": "code",
   "execution_count": 12,
   "metadata": {
    "ExecuteTime": {
     "end_time": "2019-09-17T15:08:56.967779Z",
     "start_time": "2019-09-17T15:08:56.960775Z"
    }
   },
   "outputs": [
    {
     "name": "stdout",
     "output_type": "stream",
     "text": [
      "R^2:  0.10494385916738314\n"
     ]
    }
   ],
   "source": [
    "print(\"R^2: \", model.score(sample['anos_estudo'][:, np.newaxis], sample['salario']))"
   ]
  },
  {
   "cell_type": "markdown",
   "metadata": {},
   "source": [
    "Utilizando o método Scipy.Stats.Linregress"
   ]
  },
  {
   "cell_type": "code",
   "execution_count": 13,
   "metadata": {
    "ExecuteTime": {
     "end_time": "2019-09-17T15:09:03.957433Z",
     "start_time": "2019-09-17T15:09:03.950429Z"
    }
   },
   "outputs": [],
   "source": [
    "# método Scipy.Stats.Linregress\n",
    "import scipy.stats\n",
    "slope, intercept, r_value, p_value, std_err = scipy.stats.linregress(sample['anos_estudo'], sample['salario'])"
   ]
  },
  {
   "cell_type": "code",
   "execution_count": 14,
   "metadata": {
    "ExecuteTime": {
     "end_time": "2019-09-17T15:09:14.558179Z",
     "start_time": "2019-09-17T15:09:14.552177Z"
    }
   },
   "outputs": [
    {
     "name": "stdout",
     "output_type": "stream",
     "text": [
      "Inclinação: 1707.8013864648765\n",
      "Intercepto: -3296.2637767190317\n",
      "R-quadrado: 0.10494385916738319\n"
     ]
    }
   ],
   "source": [
    "print ('Inclinação:', slope)\n",
    "print ('Intercepto:', intercept)\n",
    "print ('R-quadrado:', r_value**2)"
   ]
  },
  {
   "cell_type": "code",
   "execution_count": 15,
   "metadata": {
    "ExecuteTime": {
     "end_time": "2019-09-17T15:09:36.974470Z",
     "start_time": "2019-09-17T15:09:36.658319Z"
    }
   },
   "outputs": [
    {
     "data": {
      "image/png": "[encoded data removed]",
      "text/plain": [
       "<Figure size 432x288 with 1 Axes>"
      ]
     },
     "metadata": {
      "needs_background": "light"
     },
     "output_type": "display_data"
    }
   ],
   "source": [
    "# plotando os erros, diferença entre a realidade e a normalidade, o melhor modelo é aquele que os \n",
    "# resultados estão próximos de zero\n",
    "# o erro é y -yhat , o previsto e a realidade\n",
    "y = sample['salario']\n",
    "plt.hist(y - yhat,bins=50)\n",
    "\n",
    "plt.show()"
   ]
  },
  {
   "cell_type": "code",
   "execution_count": 16,
   "metadata": {
    "ExecuteTime": {
     "end_time": "2019-09-17T15:10:00.099248Z",
     "start_time": "2019-09-17T15:09:59.857599Z"
    }
   },
   "outputs": [
    {
     "data": {
      "text/plain": [
       "<matplotlib.collections.PathCollection at 0x1f075d47eb8>"
      ]
     },
     "execution_count": 16,
     "metadata": {},
     "output_type": "execute_result"
    },
    {
     "data": {
      "image/png": "[encoded data removed]",
      "text/plain": [
       "<Figure size 432x288 with 1 Axes>"
      ]
     },
     "metadata": {
      "needs_background": "light"
     },
     "output_type": "display_data"
    }
   ],
   "source": [
    "plt.scatter(xfit, y-yhat)"
   ]
  },
  {
   "cell_type": "markdown",
   "metadata": {},
   "source": [
    "## Estudar a relação entre idade e salário"
   ]
  },
  {
   "cell_type": "code",
   "execution_count": 17,
   "metadata": {
    "ExecuteTime": {
     "end_time": "2019-09-17T15:10:36.399839Z",
     "start_time": "2019-09-17T15:10:36.117788Z"
    }
   },
   "outputs": [],
   "source": [
    "import statsmodels.formula.api as smf\n",
    "\n",
    "import warnings\n",
    "warnings.filterwarnings(\"ignore\")"
   ]
  },
  {
   "cell_type": "code",
   "execution_count": 18,
   "metadata": {
    "ExecuteTime": {
     "end_time": "2019-09-17T15:10:48.685596Z",
     "start_time": "2019-09-17T15:10:48.679593Z"
    }
   },
   "outputs": [
    {
     "data": {
      "text/plain": [
       "['Unnamed: 0',\n",
       " 'id',\n",
       " 'idade',\n",
       " 'sexo',\n",
       " 'anos_estudo',\n",
       " 'cor/raca',\n",
       " 'salario',\n",
       " 'estado_civil',\n",
       " 'regiao',\n",
       " 'coluna']"
      ]
     },
     "execution_count": 18,
     "metadata": {},
     "output_type": "execute_result"
    }
   ],
   "source": [
    "list(df)"
   ]
  },
  {
   "cell_type": "code",
   "execution_count": 19,
   "metadata": {
    "ExecuteTime": {
     "end_time": "2019-09-17T15:10:51.978332Z",
     "start_time": "2019-09-17T15:10:51.564895Z"
    }
   },
   "outputs": [
    {
     "name": "stdout",
     "output_type": "stream",
     "text": [
      "Wall time: 395 ms\n"
     ]
    }
   ],
   "source": [
    "function = '''salario ~ anos_estudo + np.exp(anos_estudo) + np.sqrt(anos_estudo)'''\n",
    "\n",
    "%time model = smf.ols(function, df[df.salario<500000]).fit()"
   ]
  },
  {
   "cell_type": "code",
   "execution_count": 45,
   "metadata": {},
   "outputs": [
    {
     "data": {
      "text/html": [
       "<table class=\"simpletable\">\n",
       "<tr>\n",
       "        <td>Model:</td>               <td>OLS</td>         <td>Adj. R-squared:</td>       <td>0.159</td>   \n",
       "</tr>\n",
       "<tr>\n",
       "  <td>Dependent Variable:</td>      <td>salario</td>            <td>AIC:</td>         <td>1058692.4832</td>\n",
       "</tr>\n",
       "<tr>\n",
       "         <td>Date:</td>        <td>2019-05-06 14:07</td>        <td>BIC:</td>         <td>1058727.5288</td>\n",
       "</tr>\n",
       "<tr>\n",
       "   <td>No. Observations:</td>        <td>47165</td>        <td>Log-Likelihood:</td>    <td>-5.2934e+05</td>\n",
       "</tr>\n",
       "<tr>\n",
       "       <td>Df Model:</td>              <td>3</td>           <td>F-statistic:</td>         <td>2969.</td>   \n",
       "</tr>\n",
       "<tr>\n",
       "     <td>Df Residuals:</td>          <td>47161</td>      <td>Prob (F-statistic):</td>     <td>0.00</td>    \n",
       "</tr>\n",
       "<tr>\n",
       "      <td>R-squared:</td>            <td>0.159</td>            <td>Scale:</td>         <td>3.2803e+08</td> \n",
       "</tr>\n",
       "</table>\n",
       "<table class=\"simpletable\">\n",
       "<tr>\n",
       "            <td></td>              <th>Coef.</th>    <th>Std.Err.</th>     <th>t</th>     <th>P>|t|</th>   <th>[0.025</th>      <th>0.975]</th>   \n",
       "</tr>\n",
       "<tr>\n",
       "  <th>Intercept</th>            <td>39930.5385</td>  <td>5129.0525</td> <td>7.7852</td>  <td>0.0000</td> <td>29877.5223</td>  <td>49983.5548</td> \n",
       "</tr>\n",
       "<tr>\n",
       "  <th>anos_estudo</th>           <td>5241.2495</td>  <td>675.2191</td>  <td>7.7623</td>  <td>0.0000</td>  <td>3917.8105</td>   <td>6564.6885</td> \n",
       "</tr>\n",
       "<tr>\n",
       "  <th>np.exp(anos_estudo)</th>    <td>0.0053</td>     <td>0.0002</td>   <td>23.2666</td> <td>0.0000</td>   <td>0.0048</td>      <td>0.0057</td>   \n",
       "</tr>\n",
       "<tr>\n",
       "  <th>np.sqrt(anos_estudo)</th> <td>-26119.4560</td> <td>3775.3049</td> <td>-6.9185</td> <td>0.0000</td> <td>-33519.1076</td> <td>-18719.8045</td>\n",
       "</tr>\n",
       "</table>\n",
       "<table class=\"simpletable\">\n",
       "<tr>\n",
       "     <td>Omnibus:</td>    <td>58616.733</td>  <td>Durbin-Watson:</td>       <td>1.784</td>   \n",
       "</tr>\n",
       "<tr>\n",
       "  <td>Prob(Omnibus):</td>   <td>0.000</td>   <td>Jarque-Bera (JB):</td> <td>13361017.925</td>\n",
       "</tr>\n",
       "<tr>\n",
       "       <td>Skew:</td>       <td>6.669</td>       <td>Prob(JB):</td>         <td>0.000</td>   \n",
       "</tr>\n",
       "<tr>\n",
       "     <td>Kurtosis:</td>    <td>84.369</td>    <td>Condition No.:</td>     <td>79793661</td>  \n",
       "</tr>\n",
       "</table>"
      ],
      "text/plain": [
       "<class 'statsmodels.iolib.summary2.Summary'>\n",
       "\"\"\"\n",
       "                         Results: Ordinary least squares\n",
       "=================================================================================\n",
       "Model:                  OLS                  Adj. R-squared:         0.159       \n",
       "Dependent Variable:     salario              AIC:                    1058692.4832\n",
       "Date:                   2019-05-06 14:07     BIC:                    1058727.5288\n",
       "No. Observations:       47165                Log-Likelihood:         -5.2934e+05 \n",
       "Df Model:               3                    F-statistic:            2969.       \n",
       "Df Residuals:           47161                Prob (F-statistic):     0.00        \n",
       "R-squared:              0.159                Scale:                  3.2803e+08  \n",
       "---------------------------------------------------------------------------------\n",
       "                        Coef.     Std.Err.    t    P>|t|     [0.025      0.975]  \n",
       "---------------------------------------------------------------------------------\n",
       "Intercept             39930.5385 5129.0525  7.7852 0.0000  29877.5223  49983.5548\n",
       "anos_estudo            5241.2495  675.2191  7.7623 0.0000   3917.8105   6564.6885\n",
       "np.exp(anos_estudo)       0.0053    0.0002 23.2666 0.0000      0.0048      0.0057\n",
       "np.sqrt(anos_estudo) -26119.4560 3775.3049 -6.9185 0.0000 -33519.1076 -18719.8045\n",
       "---------------------------------------------------------------------------------\n",
       "Omnibus:                 58616.733         Durbin-Watson:            1.784       \n",
       "Prob(Omnibus):           0.000             Jarque-Bera (JB):         13361017.925\n",
       "Skew:                    6.669             Prob(JB):                 0.000       \n",
       "Kurtosis:                84.369            Condition No.:            79793661    \n",
       "=================================================================================\n",
       "* The condition number is large (8e+07). This might indicate             strong\n",
       "multicollinearity or other numerical problems.\n",
       "\"\"\""
      ]
     },
     "execution_count": 45,
     "metadata": {},
     "output_type": "execute_result"
    }
   ],
   "source": [
    "model.summary2()"
   ]
  },
  {
   "cell_type": "code",
   "execution_count": null,
   "metadata": {},
   "outputs": [],
   "source": []
  }
 ],
 "metadata": {
  "hide_input": false,
  "kernelspec": {
   "display_name": "Python 3",
   "language": "python",
   "name": "python3"
  },
  "language_info": {
   "codemirror_mode": {
    "name": "ipython",
    "version": 3
   },
   "file_extension": ".py",
   "mimetype": "text/x-python",
   "name": "python",
   "nbconvert_exporter": "python",
   "pygments_lexer": "ipython3",
   "version": "3.7.3"
  },
  "toc": {
   "base_numbering": 1,
   "nav_menu": {},
   "number_sections": true,
   "sideBar": true,
   "skip_h1_title": true,
   "title_cell": "",
   "title_sidebar": "",
   "toc_cell": false,
   "toc_position": {},
   "toc_section_display": true,
   "toc_window_display": true
  },
  "varInspector": {
   "cols": {
    "lenName": 16,
    "lenType": 16,
    "lenVar": 40
   },
   "kernels_config": {
    "python": {
     "delete_cmd_postfix": "",
     "delete_cmd_prefix": "del ",
     "library": "var_list.py",
     "varRefreshCmd": "print(var_dic_list())"
    },
    "r": {
     "delete_cmd_postfix": ") ",
     "delete_cmd_prefix": "rm(",
     "library": "var_list.r",
     "varRefreshCmd": "cat(var_dic_list()) "
    }
   },
   "types_to_exclude": [
    "module",
    "function",
    "builtin_function_or_method",
    "instance",
    "_Feature"
   ],
   "window_display": false
  }
 },
 "nbformat": 4,
 "nbformat_minor": 2
}
