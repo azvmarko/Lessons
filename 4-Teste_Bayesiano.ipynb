{
 "cells": [
  {
   "cell_type": "markdown",
   "metadata": {},
   "source": [
    "# Teste Bayesiano A / B com Python\n",
    "Vamos imaginar que temos uma experiência em execução, onde queremos saber se são as Alpacas (Llamas) ou os Ursos que apresentam melhor performance para a taxa de conversào de usuários na página de destino de nosso site.\n",
    "\n",
    "## A distribuição BETA\n",
    "\n",
    "Em teoria da probabilidade e estatística, a distribuição beta é uma família de distribuições de probabilidade contínuas definidas no intervalo [ 0 , 1 ] {\\displaystyle [0,1]} [0,1] parametrizado por dois parâmetros positivos, denotados por α {\\displaystyle \\alpha } \\alpha e β {\\displaystyle \\beta } \\beta, que aparecem como expoentes da variável aleatória e controlam o formato da distribuição.\n",
    "\n",
    "A distribuição beta tem sido aplicada para modelar o comportamento de variáveis aleatórias limitadas a intervalos de tamanho finito em uma grande quantidade de disciplinas.\n",
    "\n",
    "### Utilizando a distribuição Beta em nosso experimento\n",
    "\n",
    "A idéia geral por trás do teste de taxa de conversão bayesiana é gerar duas distribuições que verifiquem todas as taxas possíveis e atualizá-las com informações sobre o desempenho do teste, ajustando a nossa expectativa da taxa mais representativa de acordo com os resultados.\n",
    "\n",
    "Podemos representar isso com a distribuição Beta que possui dois parâmetros: α, que representa as conversões bem-sucedidas e β, que representa as pessoas que saíram sem converter.\n",
    "\n",
    "Podemos pensar em α e β como probabilidades: 10 pra 1, 2 pra 3, e assim por diante. A única diferença é que 4 pra 6 representa um resultado mais representativo que, na mesma taxa de conversão, 2 pra 3.\n",
    "\n",
    "Antes de iniciarmos o experimento, não temos idéia se, entre Llamas ou Ursos, qual das opções é melhor para conversão.\n",
    "\n",
    "Digamos que, se não temos ideia alguma sobre qual das opções é melhor, para ambas qualquer taxa de conversão seria igualmente provável. Podemos representar isso com uma única conversão e uma única saída ou Beta (α = 1, β = 1).\n",
    "\n",
    "Graficamente a distribuição que se parece com o gráfico abaixo, que nos permite entender melhor o código e como plotar uma distribuição Beta."
   ]
  },
  {
   "cell_type": "code",
   "execution_count": 1,
   "metadata": {},
   "outputs": [],
   "source": [
    "# importando as bilbiotecas\n",
    "\n",
    "from scipy.stats import beta\n",
    "import matplotlib.pyplot as plt\n",
    "import numpy as np\n",
    "import pandas as pd\n",
    "import seaborn as sns"
   ]
  },
  {
   "cell_type": "code",
   "execution_count": 2,
   "metadata": {},
   "outputs": [
    {
     "data": {
      "text/plain": [
       "[Text(0, 0.5, 'density'), Text(0.5, 0, 'conversion rate')]"
      ]
     },
     "execution_count": 2,
     "metadata": {},
     "output_type": "execute_result"
    },
    {
     "data": {
      "image/png": "[encoded data removed]",
      "text/plain": [
       "<Figure size 432x288 with 1 Axes>"
      ]
     },
     "metadata": {
      "needs_background": "light"
     },
     "output_type": "display_data"
    }
   ],
   "source": [
    "# Para o gráfico\n",
    "fig, ax = plt.subplots(1, 1) \n",
    "\n",
    "# Gerando a distribuição\n",
    "beta_distribution = beta(1,1)\n",
    "\n",
    "# Plotando a destribuição\n",
    "\n",
    "x = np.linspace(0., 0.5, 1000)\n",
    "\n",
    "ax.plot(x, beta_distribution.pdf(x),color='red')\n",
    "ax.set(xlabel='conversion rate', ylabel='density')"
   ]
  },
  {
   "cell_type": "markdown",
   "metadata": {},
   "source": [
    "## Exemplo de plotagem da distribuição BETA\n",
    "\n",
    "Na realidade, sabemos um pouco sobre as taxas de conversão prováveis. Podemos usar essa informação para descartar resultados improváveis e acelerar nosso teste!\n",
    "\n",
    "Digamos que experimentamos Alpacas antes e descobrimos que eles convertem cerca de 16% do tempo. Para representar isso, podemos usar a distribuição Beta (16, 100-16). No entanto, podemos ser um pouco céticos sobre o desempenho, então vamos reduzi-la para Beta (8, 50-8).\n",
    "\n",
    "Ambas as distribuições são mostradas abaixo. Vale a pena brincar com os parâmetros destas funções Beta para entender melhor o nosso estudo."
   ]
  },
  {
   "cell_type": "code",
   "execution_count": 3,
   "metadata": {},
   "outputs": [
    {
     "data": {
      "text/plain": [
       "<matplotlib.legend.Legend at 0x1c29dffd470>"
      ]
     },
     "execution_count": 3,
     "metadata": {},
     "output_type": "execute_result"
    },
    {
     "data": {
      "image/png": "[encoded data removed]",
      "text/plain": [
       "<Figure size 432x288 with 1 Axes>"
      ]
     },
     "metadata": {
      "needs_background": "light"
     },
     "output_type": "display_data"
    }
   ],
   "source": [
    "# Para o gráfico\n",
    "fig, ax = plt.subplots(1, 1) \n",
    "\n",
    "x = np.linspace(0.02, 0.3, 1000) \n",
    "\n",
    "# Gerando e plotando as distribuições\n",
    "alpacas1_distribution = beta(16, 100-16)  # conversão de 16 em 100 cliques\n",
    "alpacas2_distribution = beta(8, 50-8)     # conversão de 8 em 50 cliques\n",
    "\n",
    "ax.plot(x, alpacas1_distribution.pdf(x),label='Beta: 16 em 100',color='black')\n",
    "ax.plot(x, alpacas2_distribution.pdf(x),label='Beta: 8 em 50',color='red')\n",
    "\n",
    "plt.legend(bbox_to_anchor=(1.05, 1), loc='upper left', borderaxespad=0.)"
   ]
  },
  {
   "cell_type": "markdown",
   "metadata": {},
   "source": [
    "## Conduzindo o teste A/B\n",
    "\n",
    "Agora vamos adicionar dados \"reais\" à essa experiência, porém vamos vamos ter que assumir uma premissa que ainda é desconhecida, os Ursos têm melhor performance do que as Alpacas.\n",
    "\n",
    "Vamos simular esta modelagem gerando um pequeno número de resultados aleatórios entre 0 e 1, depois escolhendo valores abaixo de um certo ponto de corte.\n",
    "\n",
    "O corte representa nossa taxa de conversão real e os valores abaixo dela são nossas conversões."
   ]
  },
  {
   "cell_type": "code",
   "execution_count": 4,
   "metadata": {},
   "outputs": [],
   "source": [
    "# total de observações (número de pessoas do univeerso amostral)\n",
    "people_in_branch = 50\n",
    "\n",
    "# Dados de controle são Alpaca, e dados de experimento são Ursos\n",
    "np.random.seed(42)\n",
    "control, experiment = np.random.rand(2, people_in_branch)\n",
    "\n",
    "# Número de sucassos das Alpacas (controle) de 16%\n",
    "c_successes = sum(control < 0.16)\n",
    "\n",
    "# Vamos assumir uma premissa que os Ursos tem uma performance 10% melhor que as Alpacas\n",
    "delta=1.1\n",
    "e_successes = sum(experiment < 0.16*delta)\n",
    "\n",
    "c_failures = people_in_branch - c_successes\n",
    "e_failures = people_in_branch - e_successes\n",
    "\n",
    "# Nossos pontos de partida para resultados do experimento\n",
    "prior_successes = 8\n",
    "prior_failures = 42"
   ]
  },
  {
   "cell_type": "markdown",
   "metadata": {},
   "source": [
    "## Verificando o comportamento dos dados iniciais\n",
    "\n",
    "Vamos dar uma olhada nos resultados da nossa experiência. A primeira coisa que fazemos é pegar nossa pequena quantidade de dados iniciais e adicionar nossos pontos de partida aos dois grupos do teste (Alpacas=controle e Ursos=experimento). Depois disso, geramos as distribuições posteriores e fazemos alguns gráficos dos resultados."
   ]
  },
  {
   "cell_type": "code",
   "execution_count": 5,
   "metadata": {},
   "outputs": [
    {
     "data": {
      "text/plain": [
       "[Text(0, 0.5, 'density'), Text(0.5, 0, 'conversion rate')]"
      ]
     },
     "execution_count": 5,
     "metadata": {},
     "output_type": "execute_result"
    },
    {
     "data": {
      "image/png": "[encoded data removed]",
      "text/plain": [
       "<Figure size 432x288 with 1 Axes>"
      ]
     },
     "metadata": {
      "needs_background": "light"
     },
     "output_type": "display_data"
    }
   ],
   "source": [
    "# Para o gráfico\n",
    "fig, ax = plt.subplots(1, 1) \n",
    "\n",
    "# Controle\n",
    "c_alpha, c_beta = c_successes + prior_successes, c_failures + prior_failures\n",
    "# Experimento\n",
    "e_alpha, e_beta = e_successes + prior_successes, e_failures + prior_failures\n",
    "\n",
    "x = np.linspace(0., 0.5, 1000) \n",
    "\n",
    "# Gerando e plotando as distribuições\n",
    "c_distribution = beta(c_alpha, c_beta)  # controle representa as Alpacas\n",
    "e_distribution = beta(e_alpha, e_beta)  # experimento representa os Ursos\n",
    "\n",
    "ax.plot(x, c_distribution.pdf(x))\n",
    "ax.plot(x, e_distribution.pdf(x))\n",
    "\n",
    "ax.plot(x, c_distribution.pdf(x),label='controle: alpacas',color='black')\n",
    "ax.plot(x, e_distribution.pdf(x),label='experimento: ursos',color='red')\n",
    "\n",
    "plt.legend(bbox_to_anchor=(1.05, 1), loc='upper left', borderaxespad=0.)\n",
    "ax.set(xlabel='conversion rate', ylabel='density')"
   ]
  },
  {
   "cell_type": "markdown",
   "metadata": {},
   "source": [
    "## Aumentando o tamanho do espaço amostral\n",
    "\n",
    "O resultado do gráfico acima demonstra uma diferença entre os dois grupos, mas eles se sobrepõem, tanto que é difícil dizer se esta diferença é estatísticamente significativa.\n",
    "Precisamos de mais dados para poder tirar uma melhor conclusão, portanto vamos aumentar o tamanho do espaço amostral para 4000 pessoas."
   ]
  },
  {
   "cell_type": "code",
   "execution_count": 14,
   "metadata": {},
   "outputs": [],
   "source": [
    "more_people_in_branch = 4000\n",
    "\n",
    "# Controle são as Alpacas, experimento são os Ursos\n",
    "control, experiment = np.random.rand(2, more_people_in_branch)\n",
    "\n",
    "# Adicinando aos dados existentes\n",
    "# Performance das Alpacas (controle) de 16% ee a performance dos Ursos (experimento) é 10% superior\n",
    "\n",
    "c_successes += sum(control < 0.16)\n",
    "e_successes += sum(experiment < 0.16*delta)\n",
    "\n",
    "c_failures += more_people_in_branch - sum(control < 0.16)\n",
    "e_failures += more_people_in_branch - sum(experiment < 0.16*delta)"
   ]
  },
  {
   "cell_type": "markdown",
   "metadata": {},
   "source": [
    "## Verificando o comportamento dos dados\n",
    "\n",
    "Vamos plotar as curvas de distribuição Beta para o controle (Alpacas) e o experimento (Ursos), e observar se existe uma diferença significativa entre oss dados."
   ]
  },
  {
   "cell_type": "code",
   "execution_count": 15,
   "metadata": {},
   "outputs": [
    {
     "data": {
      "text/plain": [
       "[Text(0, 0.5, 'density'), Text(0.5, 0, 'conversion rate')]"
      ]
     },
     "execution_count": 15,
     "metadata": {},
     "output_type": "execute_result"
    },
    {
     "data": {
      "image/png": "[encoded data removed]",
      "text/plain": [
       "<Figure size 432x288 with 1 Axes>"
      ]
     },
     "metadata": {
      "needs_background": "light"
     },
     "output_type": "display_data"
    }
   ],
   "source": [
    "# Para o gráfico\n",
    "fig, ax = plt.subplots(1, 1) \n",
    "\n",
    "# Controle\n",
    "c_alpha, c_beta = c_successes + prior_successes, c_failures + prior_failures\n",
    "\n",
    "# Experimento\n",
    "e_alpha, e_beta = e_successes + prior_successes, e_failures + prior_failures\n",
    "\n",
    "\n",
    "# Gerando e plotando as distribuições\n",
    "\n",
    "x = np.linspace(0., 0.5, 1000)\n",
    "\n",
    "c_distribution = beta(c_alpha, c_beta)\n",
    "e_distribution = beta(e_alpha, e_beta)\n",
    "\n",
    "ax.plot(x, c_distribution.pdf(x),label='controle: alpacas',color='Black')\n",
    "ax.plot(x, e_distribution.pdf(x),label='experimento: ursos',color='red')\n",
    "\n",
    "plt.legend(bbox_to_anchor=(1.05, 1), loc='upper left', borderaxespad=0.)\n",
    "ax.set(xlabel='conversion rate', ylabel='density')"
   ]
  },
  {
   "cell_type": "markdown",
   "metadata": {},
   "source": [
    "## Confirmação da hipótese\n",
    "\n",
    "Agora podemos dizer que a performance dos Ursos (experimento) está claramente melhor do que a performance das Alpacas (controle), pois as curvas apresentam uma área comum bastante reduzida devido ao aumento no tamanho das amostras e a diminuição da variância dos dados.\n",
    "Vamos calcular o p-valor para verificar o limite da diferença entre os dois grupos"
   ]
  },
  {
   "cell_type": "code",
   "execution_count": 8,
   "metadata": {},
   "outputs": [
    {
     "name": "stdout",
     "output_type": "stream",
     "text": [
      "[0.15320328 0.16433567 0.17588731]\n",
      "[0.17005399 0.18165556 0.19365476]\n"
     ]
    }
   ],
   "source": [
    "# Arguments are x values so use ppf - the inverse of cdf\n",
    "print(c_distribution.ppf([0.025, 0.5, 0.975]))\n",
    "print(e_distribution.ppf([0.025, 0.5, 0.975]))\n",
    "\n",
    "# [ 0.14443947  0.15530981  0.16661068]\n",
    "# [ 0.15770843  0.16897057  0.18064618]"
   ]
  },
  {
   "cell_type": "code",
   "execution_count": 9,
   "metadata": {},
   "outputs": [
    {
     "data": {
      "text/plain": [
       "0.020299999999999985"
      ]
     },
     "execution_count": 9,
     "metadata": {},
     "output_type": "execute_result"
    }
   ],
   "source": [
    "sample_size = 10000\n",
    "\n",
    "c_samples = pd.Series([c_distribution.rvs() for _ in range(sample_size)])\n",
    "e_samples = pd.Series([e_distribution.rvs() for _ in range(sample_size)])\n",
    "\n",
    "p_value = 1.0 - sum(e_samples > c_samples)/sample_size\n",
    "p_value"
   ]
  },
  {
   "cell_type": "code",
   "execution_count": 10,
   "metadata": {},
   "outputs": [
    {
     "data": {
      "text/plain": [
       "True"
      ]
     },
     "execution_count": 10,
     "metadata": {},
     "output_type": "execute_result"
    }
   ],
   "source": [
    "p_value < 0.05"
   ]
  },
  {
   "cell_type": "markdown",
   "metadata": {},
   "source": [
    "Como o p-valor é menos que o limite de 0.05, podemos rejeitar a hipótese de que os dois grupos performam igual, e dizer que temos 95% de confiança que os Ursos (experimento) performam melhor que as Alpacas (controle)."
   ]
  },
  {
   "cell_type": "markdown",
   "metadata": {},
   "source": [
    "## Curva da porcentagem acumulada dos dados do experimento divididos pelos dados de controle\n",
    "\n",
    "Esta curva revela o quanto a performance dos Ursos (experimento) é melhor em relação à performance das Alpacas (controle)."
   ]
  },
  {
   "cell_type": "code",
   "execution_count": 11,
   "metadata": {},
   "outputs": [
    {
     "data": {
      "text/plain": [
       "[Text(0, 0.5, 'CDF'), Text(0.5, 0, 'Bears / Alpacas')]"
      ]
     },
     "execution_count": 11,
     "metadata": {},
     "output_type": "execute_result"
    },
    {
     "data": {
      "image/png": "[encoded data removed]",
      "text/plain": [
       "<Figure size 432x288 with 1 Axes>"
      ]
     },
     "metadata": {
      "needs_background": "light"
     },
     "output_type": "display_data"
    }
   ],
   "source": [
    "fig, ax = plt.subplots(1, 1)\n",
    "\n",
    "ser = pd.Series(e_samples/c_samples)\n",
    "\n",
    "# Make the CDF\n",
    "ser = ser.sort_values()\n",
    "ser[len(ser)] = ser.iloc[-1] \n",
    "cum_dist = np.linspace(0., 1., len(ser))\n",
    "ser_cdf = pd.Series(cum_dist, index=ser)\n",
    "\n",
    "ax.plot(ser_cdf, color='red')\n",
    "ax.set(xlabel='Bears / Alpacas', ylabel='CDF')"
   ]
  },
  {
   "cell_type": "code",
   "execution_count": null,
   "metadata": {},
   "outputs": [],
   "source": []
  }
 ],
 "metadata": {
  "kernelspec": {
   "display_name": "Python 3",
   "language": "python",
   "name": "python3"
  },
  "language_info": {
   "codemirror_mode": {
    "name": "ipython",
    "version": 3
   },
   "file_extension": ".py",
   "mimetype": "text/x-python",
   "name": "python",
   "nbconvert_exporter": "python",
   "pygments_lexer": "ipython3",
   "version": "3.7.1"
  }
 },
 "nbformat": 4,
 "nbformat_minor": 2
}
