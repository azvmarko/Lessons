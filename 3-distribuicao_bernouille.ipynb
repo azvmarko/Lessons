{
 "cells": [
  {
   "cell_type": "markdown",
   "metadata": {},
   "source": [
    "# Distribuição de Bernoulli\n",
    "É a distribuição discreta de espaço amostral {0, 1}, que tem valor 1 com a probabilidade de sucesso p e valor 0 com a probabilidade de falha q = 1 − p. Exemplo clássico de uma experiência de Bernoulli é uma jogada única de uma moeda. A moeda pode dar \"coroa\" com probabilidade p e \"cara\" com probabilidade 1 − p. A experiência é dita justa se p = 0.5.\n",
    "Algumas aplicações:\n",
    "- Em medicina, indica os fatores que diferenciam um grupo de indivíduos doentes em relação a indivíduos sãos.\n",
    "- Em Seguros, permite representar fracções da clientela que sejam sensíveis a determinada política securitária em relação a um dado risco particular.\n",
    "- Em instituições financeiras, pode representar os grupos de risco para a subscrição de um crédito.\n",
    "- Em econometria, permite representar uma variável discreta, como por exemplo as intenções de voto em atos eleitorais.\n",
    "\n",
    "Na distribuição de Bernoulli, a __média__ é a própria probabilidade.\n",
    "\n",
    "Exemplo: Vamos trabalhar com uma distribuição de Bernoulli, com ```p = 0.6```, e observar a convergência dos resultados conforme o tamanho da amostra é incremementada."
   ]
  },
  {
   "cell_type": "code",
   "execution_count": 2,
   "metadata": {},
   "outputs": [],
   "source": [
    "import matplotlib.pyplot as plt\n",
    "%matplotlib inline\n",
    "import numpy as np\n",
    "import pandas as pd\n",
    "from scipy import stats\n",
    "import seaborn as sns\n",
    "\n",
    "import warnings\n",
    "warnings.filterwarnings(\"ignore\")"
   ]
  },
  {
   "cell_type": "code",
   "execution_count": 3,
   "metadata": {},
   "outputs": [
    {
     "data": {
      "image/png": "[encoded data removed]",
      "text/plain": [
       "<Figure size 432x288 with 1 Axes>"
      ]
     },
     "metadata": {
      "needs_background": "light"
     },
     "output_type": "display_data"
    }
   ],
   "source": [
    "from scipy.stats import bernoulli\n",
    "bern = bernoulli.rvs(p=0.6, size=1000)\n",
    "\n",
    "plt.title('Bernoulli: variáveis dicotômicas')\n",
    "plt.hist(bern);"
   ]
  },
  {
   "cell_type": "code",
   "execution_count": null,
   "metadata": {},
   "outputs": [],
   "source": [
    "bern[:10]"
   ]
  },
  {
   "cell_type": "code",
   "execution_count": 6,
   "metadata": {},
   "outputs": [
    {
     "name": "stdout",
     "output_type": "stream",
     "text": [
      "Média empírica:  0.574\n",
      "Variância:  0.24452399999999996\n",
      "Desvio padrão:  0.24452399999999996\n"
     ]
    }
   ],
   "source": [
    "print(\"Média empírica: \", bern.sum()/len(bern))\n",
    "print(\"Variância 1: \",bern.std()**2 )\n",
    "print(\"Variância 2: \", bern.std() * bern.std() )"
   ]
  },
  {
   "cell_type": "code",
   "execution_count": 7,
   "metadata": {},
   "outputs": [
    {
     "name": "stdout",
     "output_type": "stream",
     "text": [
      "Média Verdadeira: 0.6, Variância Verdadeira: 0.21\n",
      "\n",
      "amostra: 3\n",
      "média: 0.6666666666666666\n",
      "var: 0.2222222222222222\n",
      "\n",
      "amostra: 10\n",
      "média: 0.7\n",
      "var: 0.21000000000000005\n",
      "\n",
      "amostra: 100\n",
      "média: 0.55\n",
      "var: 0.24750000000000005\n"
     ]
    }
   ],
   "source": [
    "print('Média Verdadeira: 0.6, Variância Verdadeira: 0.21')\n",
    "for n in [3,10,100]:\n",
    "    bern = bernoulli.rvs(p=0.6, size=n)\n",
    "    print('\\namostra:',n)\n",
    "    print('média:', bern.sum()/len(bern))\n",
    "    print('var:', bern.std()**2)   "
   ]
  },
  {
   "cell_type": "code",
   "execution_count": 8,
   "metadata": {},
   "outputs": [
    {
     "data": {
      "text/plain": [
       "(100,)"
      ]
     },
     "execution_count": 8,
     "metadata": {},
     "output_type": "execute_result"
    }
   ],
   "source": [
    "bern.shape"
   ]
  },
  {
   "cell_type": "code",
   "execution_count": 9,
   "metadata": {},
   "outputs": [
    {
     "data": {
      "text/plain": [
       "0.55"
      ]
     },
     "execution_count": 9,
     "metadata": {},
     "output_type": "execute_result"
    }
   ],
   "source": [
    "bern.mean()"
   ]
  },
  {
   "cell_type": "code",
   "execution_count": 10,
   "metadata": {},
   "outputs": [
    {
     "data": {
      "text/plain": [
       "array([1, 0, 0, 0, 0, 0, 1, 1, 1, 1, 1, 0, 0, 0, 0, 0, 0, 1, 0, 1, 0, 1,\n",
       "       1, 1, 1, 0, 0, 1, 0, 1, 1, 0, 1, 1, 1, 1, 0, 0, 1, 1, 0, 1, 1, 1,\n",
       "       1, 1, 1, 0, 0, 0, 1, 1, 0, 1, 1, 0, 0, 0, 0, 1, 1, 1, 0, 1, 0, 0,\n",
       "       1, 0, 1, 1, 0, 0, 1, 1, 0, 1, 0, 0, 1, 1, 1, 0, 0, 1, 1, 0, 0, 1,\n",
       "       1, 0, 1, 1, 0, 1, 0, 0, 1, 1, 1, 1])"
      ]
     },
     "execution_count": 10,
     "metadata": {},
     "output_type": "execute_result"
    }
   ],
   "source": [
    "rate=0.6\n",
    "n = np.arange(0,100)\n",
    "y=bern\n",
    "y"
   ]
  },
  {
   "cell_type": "code",
   "execution_count": 11,
   "metadata": {},
   "outputs": [
    {
     "data": {
      "image/png": "[encoded data removed]",
      "text/plain": [
       "<Figure size 432x288 with 1 Axes>"
      ]
     },
     "metadata": {
      "needs_background": "light"
     },
     "output_type": "display_data"
    }
   ],
   "source": [
    "plt.plot(n,y,'o')\n",
    "plt.title('Bernoulli')\n",
    "plt.xlabel('Dispersion')\n",
    "plt.show()"
   ]
  },
  {
   "cell_type": "markdown",
   "metadata": {},
   "source": [
    "### Calculando a CDF - Cumulative Distribution Function"
   ]
  },
  {
   "cell_type": "code",
   "execution_count": 12,
   "metadata": {},
   "outputs": [
    {
     "data": {
      "text/html": [
       "<div>\n",
       "<style scoped>\n",
       "    .dataframe tbody tr th:only-of-type {\n",
       "        vertical-align: middle;\n",
       "    }\n",
       "\n",
       "    .dataframe tbody tr th {\n",
       "        vertical-align: top;\n",
       "    }\n",
       "\n",
       "    .dataframe thead th {\n",
       "        text-align: right;\n",
       "    }\n",
       "</style>\n",
       "<table border=\"1\" class=\"dataframe\">\n",
       "  <thead>\n",
       "    <tr style=\"text-align: right;\">\n",
       "      <th></th>\n",
       "      <th>bernoulli</th>\n",
       "      <th>CDF</th>\n",
       "    </tr>\n",
       "  </thead>\n",
       "  <tbody>\n",
       "    <tr>\n",
       "      <th>0</th>\n",
       "      <td>1</td>\n",
       "      <td>0</td>\n",
       "    </tr>\n",
       "    <tr>\n",
       "      <th>1</th>\n",
       "      <td>0</td>\n",
       "      <td>0</td>\n",
       "    </tr>\n",
       "    <tr>\n",
       "      <th>2</th>\n",
       "      <td>0</td>\n",
       "      <td>0</td>\n",
       "    </tr>\n",
       "    <tr>\n",
       "      <th>3</th>\n",
       "      <td>0</td>\n",
       "      <td>0</td>\n",
       "    </tr>\n",
       "    <tr>\n",
       "      <th>4</th>\n",
       "      <td>0</td>\n",
       "      <td>0</td>\n",
       "    </tr>\n",
       "  </tbody>\n",
       "</table>\n",
       "</div>"
      ],
      "text/plain": [
       "   bernoulli  CDF\n",
       "0          1    0\n",
       "1          0    0\n",
       "2          0    0\n",
       "3          0    0\n",
       "4          0    0"
      ]
     },
     "execution_count": 12,
     "metadata": {},
     "output_type": "execute_result"
    }
   ],
   "source": [
    "df_bern = pd.DataFrame(bern,columns=['bernoulli'])\n",
    "df_bern['CDF'] = df_bern.bernoulli.sort_values(ascending=True).values\n",
    "df_bern.head()"
   ]
  },
  {
   "cell_type": "code",
   "execution_count": 13,
   "metadata": {},
   "outputs": [
    {
     "data": {
      "text/plain": [
       "<matplotlib.axes._subplots.AxesSubplot at 0x2073de51550>"
      ]
     },
     "execution_count": 13,
     "metadata": {},
     "output_type": "execute_result"
    },
    {
     "data": {
      "image/png": "[encoded data removed]",
      "text/plain": [
       "<Figure size 432x288 with 1 Axes>"
      ]
     },
     "metadata": {
      "needs_background": "light"
     },
     "output_type": "display_data"
    }
   ],
   "source": [
    "sns.distplot(df_bern['CDF'])"
   ]
  },
  {
   "cell_type": "code",
   "execution_count": 14,
   "metadata": {},
   "outputs": [
    {
     "data": {
      "image/png": "[encoded data removed]",
      "text/plain": [
       "<Figure size 432x288 with 1 Axes>"
      ]
     },
     "metadata": {
      "needs_background": "light"
     },
     "output_type": "display_data"
    }
   ],
   "source": [
    "rate=0.6\n",
    "n = np.arange(0,100)\n",
    "y=df_bern['CDF']\n",
    "\n",
    "plt.plot(n,y,'o-')\n",
    "plt.title('Bernoulli')\n",
    "plt.xlabel('Despersion')\n",
    "plt.show()"
   ]
  },
  {
   "cell_type": "markdown",
   "metadata": {},
   "source": [
    "### Distribuição Binomial\n",
    "Distribuição de probabilidade discreta do número de sucessos numa sequência de n tentativas tais que:\n",
    "\n",
    "- Cada tentativa tem exclusivamente como resultado duas possibilidades, sucesso ou fracasso (binomial, a que se chama de tentativa de Bernoulli);\n",
    "- Cada tentativa é independente das demais;\n",
    "- A probabilidade de sucesso p a cada tentativa permanece constante independente das demais;\n",
    "- A variável de interesse, ou pretendida, é o número de sucessos k nas n tentativas.\n",
    "\n",
    "Vamos simular o lançamento de uma moeda 8 vezes por ensaio, onde a probabilidade de sucesso (obter cara) será 0,5."
   ]
  },
  {
   "cell_type": "code",
   "execution_count": 15,
   "metadata": {},
   "outputs": [
    {
     "data": {
      "image/png": "[encoded data removed]",
      "text/plain": [
       "<Figure size 432x288 with 1 Axes>"
      ]
     },
     "metadata": {
      "needs_background": "light"
     },
     "output_type": "display_data"
    }
   ],
   "source": [
    "# definimos a quantidade de ensaios.\n",
    "quantidade_ensaios = 10000\n",
    "\n",
    "# definimos a quantidade de lançamentos por ensaio.\n",
    "lançamentos = 8\n",
    "\n",
    "# definimos a probabilidade de obter cara em cada lançamento.\n",
    "probabilidade_sucesso = 0.4\n",
    "\n",
    "# binomial retorna o número de sucessos de cada vez que se realizou um ensaio de 8 lançamentos.\n",
    "samples_binomial = np.random.binomial(n = lançamentos, p = probabilidade_sucesso, size = quantidade_ensaios)\n",
    "\n",
    "# construímos um gráfico.\n",
    "eixo_x = 'Número de acertos por ensaio de 8 lançamentos'\n",
    "sns.distplot(samples_binomial, axlabel = eixo_x, kde = False);"
   ]
  },
  {
   "cell_type": "code",
   "execution_count": 16,
   "metadata": {},
   "outputs": [
    {
     "data": {
      "text/plain": [
       "array([3, 3, 4, 5, 3, 2, 5, 5, 2, 2, 3, 2, 6, 3, 3, 0, 1, 4, 6, 3, 6, 2,\n",
       "       5, 2, 5, 3, 3, 2, 5, 1, 3, 2, 3, 5, 1, 4, 3, 2, 2, 2, 5, 6, 3, 1,\n",
       "       5, 3, 1, 5, 3, 4, 3, 4, 2, 4, 4, 3, 2, 3, 2, 1, 2, 3, 1, 5, 3, 4,\n",
       "       6, 4, 1, 2, 5, 1, 3, 5, 2, 2, 3, 2, 4, 4, 3, 1, 3, 5, 4, 2, 4, 4,\n",
       "       2, 6, 5, 6, 3, 3, 3, 5, 5, 3, 4, 7])"
      ]
     },
     "execution_count": 16,
     "metadata": {},
     "output_type": "execute_result"
    }
   ],
   "source": [
    "samples_binomial[:100]"
   ]
  },
  {
   "cell_type": "code",
   "execution_count": 17,
   "metadata": {},
   "outputs": [
    {
     "data": {
      "text/plain": [
       "10000"
      ]
     },
     "execution_count": 17,
     "metadata": {},
     "output_type": "execute_result"
    }
   ],
   "source": [
    "samples_binomial.size"
   ]
  },
  {
   "cell_type": "markdown",
   "metadata": {},
   "source": [
    "### Densidade de Probabilidade\n",
    "Qual é a probabilidade de se obter 2 caras de 10 lançamentos de uma moeda?\n",
    "\n",
    "Neste experimento, a probabilidade de se obter uma cara é de 0,3, o que significa que, em média, podemos esperar que 3 viradas de moeda sejam caras."
   ]
  },
  {
   "cell_type": "code",
   "execution_count": 18,
   "metadata": {},
   "outputs": [
    {
     "name": "stdout",
     "output_type": "stream",
     "text": [
      "mean: 4.0119\n",
      "SD: 1.55395\n"
     ]
    },
    {
     "data": {
      "image/png": "[encoded data removed]",
      "text/plain": [
       "<Figure size 432x288 with 1 Axes>"
      ]
     },
     "metadata": {
      "needs_background": "light"
     },
     "output_type": "display_data"
    }
   ],
   "source": [
    "from scipy.stats import binom\n",
    "\n",
    "binomial_simulation = data = stats.binom.rvs(n=10,p=0.4,size=10000) # Random Variates\n",
    "print('mean: %g'% np.mean(binomial_simulation))\n",
    "print('SD: %g' % np.std(binomial_simulation))\n",
    "plt.hist(binomial_simulation, bins=10, normed=True,histtype='barstacked')\n",
    "plt.xlabel ('x')\n",
    "plt.ylabel('density')\n",
    "plt.show()"
   ]
  },
  {
   "cell_type": "code",
   "execution_count": 19,
   "metadata": {},
   "outputs": [
    {
     "data": {
      "text/plain": [
       "array([0.00604662, 0.04031078, 0.12093235, 0.21499085, 0.25082266,\n",
       "       0.20065812, 0.11147674, 0.04246733, 0.01061683, 0.00157286])"
      ]
     },
     "execution_count": 19,
     "metadata": {},
     "output_type": "execute_result"
    }
   ],
   "source": [
    "n=10\n",
    "p=0.4\n",
    "k=np.arange(0,10)\n",
    "binomial = stats.binom.pmf(k,n,p)  #Função Densidade de Probabilidade\n",
    "binomial"
   ]
  },
  {
   "cell_type": "code",
   "execution_count": 20,
   "metadata": {},
   "outputs": [
    {
     "data": {
      "image/png": "[encoded data removed]",
      "text/plain": [
       "<Figure size 432x288 with 1 Axes>"
      ]
     },
     "metadata": {
      "needs_background": "light"
     },
     "output_type": "display_data"
    }
   ],
   "source": [
    "plt.plot(k,binomial,'o-')\n",
    "plt.title('Binomial: n=%i , p=%.2f' %(n,p),fontsize=15)\n",
    "plt.xlabel('Number of Successes',fontsize=15)\n",
    "plt.ylabel('Probability of Successes',fontsize=15)\n",
    "plt.show()"
   ]
  },
  {
   "cell_type": "code",
   "execution_count": null,
   "metadata": {},
   "outputs": [],
   "source": []
  },
  {
   "cell_type": "code",
   "execution_count": null,
   "metadata": {},
   "outputs": [],
   "source": []
  },
  {
   "cell_type": "code",
   "execution_count": null,
   "metadata": {},
   "outputs": [],
   "source": []
  },
  {
   "cell_type": "code",
   "execution_count": null,
   "metadata": {},
   "outputs": [],
   "source": []
  }
 ],
 "metadata": {
  "kernelspec": {
   "display_name": "Python 3",
   "language": "python",
   "name": "python3"
  },
  "language_info": {
   "codemirror_mode": {
    "name": "ipython",
    "version": 3
   },
   "file_extension": ".py",
   "mimetype": "text/x-python",
   "name": "python",
   "nbconvert_exporter": "python",
   "pygments_lexer": "ipython3",
   "version": "3.7.1"
  }
 },
 "nbformat": 4,
 "nbformat_minor": 2
}
