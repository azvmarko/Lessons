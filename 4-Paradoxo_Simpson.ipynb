{
 "cells": [
  {
   "cell_type": "markdown",
   "metadata": {},
   "source": [
    "# Paradoxo de Simpson\n",
    "O paradoxo de Simpson é um fenômeno em probabilidade e estatística, no qual uma tendência aparece em vários grupos diferentes de dados, mas desaparece ou reverte quando esses grupos são combinados.\n",
    "\n",
    "Este resultado é freqüentemente encontrado em estatísticas de ciências sociais e ciências médicas. Os elementos paradoxais desaparecem quando as relações causais são levadas em consideração. Ele tem sido usado para tentar informar o público não especialista ou público sobre o tipo de resultados enganosos que estatísticas erradas podem gerar. \n",
    "\n",
    "Este é um exemplo da vida real de um estudo médico comparando as taxas de sucesso de dois tratamentos para cálculos renais.\n",
    "\n",
    "A tabela abaixo mostra as taxas de sucesso e o número de tratamentos para tratamentos envolvendo cálculos renais pequenos e grandes, onde o Tratamento A inclui todos os procedimentos cirúrgicos abertos e o Tratamento B é a nefrolitotomia percutânea (que envolve apenas uma pequena punção). Os números entre parênteses indicam o número de casos de sucesso sobre o tamanho total do grupo.\n",
    "\n",
    "<br>\n",
    "<img src=\"img/simpson_kidney.png\" width=\"450\" />\n",
    "<br>\n",
    "\n",
    "A conclusão paradoxal é que o tratamento A é mais eficaz quando usado em pedras pequenas, e também quando usado em pedras grandes, mas o tratamento B é mais eficaz quando se considera os dois tamanhos ao mesmo tempo. Neste exemplo, a variável \"à espreita\" (ou variável de confusão) é a gravidade do caso (representada pela tendência da decisão de tratamento dos médicos de favorecer B para casos menos graves), que não era previamente conhecida como importante até que seus efeitos fossem incluído.\n",
    "\n",
    "Qual tratamento é considerado melhor é determinado por uma desigualdade entre duas razões (sucessos / total). A inversão da desigualdade entre as razões, que cria o paradoxo de Simpson, acontece porque dois efeitos ocorrem juntos:\n",
    "\n",
    "Os tamanhos dos grupos, que são combinados quando a variável oculta é ignorada, são muito diferentes. Os médicos tendem a dar aos casos graves (pedras grandes) o melhor tratamento (A), e os casos mais leves (pedras pequenas) ao tratamento inferior (B). Portanto, os totais são dominados pelos grupos 3 e 2, e não pelos dois grupos muito menores 1 e 4.\n"
   ]
  },
  {
   "cell_type": "code",
   "execution_count": 1,
   "metadata": {},
   "outputs": [],
   "source": [
    "import matplotlib.pyplot as plt\n",
    "import numpy as np\n",
    "import pandas as pd\n",
    "\n",
    "import warnings\n",
    "warnings.filterwarnings(\"ignore\")"
   ]
  },
  {
   "cell_type": "code",
   "execution_count": 2,
   "metadata": {},
   "outputs": [
    {
     "data": {
      "text/html": [
       "<div>\n",
       "<style scoped>\n",
       "    .dataframe tbody tr th:only-of-type {\n",
       "        vertical-align: middle;\n",
       "    }\n",
       "\n",
       "    .dataframe tbody tr th {\n",
       "        vertical-align: top;\n",
       "    }\n",
       "\n",
       "    .dataframe thead th {\n",
       "        text-align: right;\n",
       "    }\n",
       "</style>\n",
       "<table border=\"1\" class=\"dataframe\">\n",
       "  <thead>\n",
       "    <tr style=\"text-align: right;\">\n",
       "      <th></th>\n",
       "      <th>kidney_stone_size</th>\n",
       "      <th>treatment</th>\n",
       "      <th>recovery</th>\n",
       "      <th>total</th>\n",
       "    </tr>\n",
       "  </thead>\n",
       "  <tbody>\n",
       "    <tr>\n",
       "      <th>0</th>\n",
       "      <td>A</td>\n",
       "      <td>small</td>\n",
       "      <td>81</td>\n",
       "      <td>87</td>\n",
       "    </tr>\n",
       "    <tr>\n",
       "      <th>1</th>\n",
       "      <td>A</td>\n",
       "      <td>large</td>\n",
       "      <td>192</td>\n",
       "      <td>263</td>\n",
       "    </tr>\n",
       "    <tr>\n",
       "      <th>2</th>\n",
       "      <td>B</td>\n",
       "      <td>small</td>\n",
       "      <td>234</td>\n",
       "      <td>270</td>\n",
       "    </tr>\n",
       "    <tr>\n",
       "      <th>3</th>\n",
       "      <td>B</td>\n",
       "      <td>large</td>\n",
       "      <td>55</td>\n",
       "      <td>80</td>\n",
       "    </tr>\n",
       "  </tbody>\n",
       "</table>\n",
       "</div>"
      ],
      "text/plain": [
       "  kidney_stone_size treatment  recovery  total\n",
       "0                 A     small        81     87\n",
       "1                 A     large       192    263\n",
       "2                 B     small       234    270\n",
       "3                 B     large        55     80"
      ]
     },
     "execution_count": 2,
     "metadata": {},
     "output_type": "execute_result"
    }
   ],
   "source": [
    "df = pd.DataFrame([['A','small', 81, 87],\n",
    "                   ['A','large', 192, 263],\n",
    "                   ['B','small', 234, 270],\n",
    "                   ['B','large', 55, 80],], columns=['kidney_stone_size', 'treatment', 'recovery', 'total'])   \n",
    "df\n",
    "#simpsons_paradox( df, 'recovery', 'total', 'treatment', 'kidney_stone_size' )"
   ]
  },
  {
   "cell_type": "code",
   "execution_count": 3,
   "metadata": {},
   "outputs": [
    {
     "data": {
      "image/png": "[encoded data removed]",
      "text/plain": [
       "<Figure size 288x288 with 1 Axes>"
      ]
     },
     "metadata": {
      "needs_background": "light"
     },
     "output_type": "display_data"
    }
   ],
   "source": [
    "# Analisando os valores totais, podemos concluir que o tratamento B é mais bem sucedido que o tratamento A.\n",
    "\n",
    "df_stone_size = df.groupby('kidney_stone_size').sum()\n",
    "df_stone_size['rate'] = df_stone_size.recovery/df_stone_size.total\n",
    "\n",
    "list = df_stone_size['rate'].tolist()\n",
    "rounded_list = [round(elem, 2) for elem in list]\n",
    "\n",
    "plt.figure(figsize=(4,4))\n",
    "ax = df_stone_size['rate'].plot(kind='bar')\n",
    "ax.set_title('Total')\n",
    "ax.set_xlabel('Tratment Type')\n",
    "ax.set_ylabel('Sucess Rate')\n",
    "\n",
    "rects = ax.patches\n",
    "\n",
    "# Make some labels.\n",
    "labels = [rounded_list[i] for i in range(len(rounded_list))]\n",
    "for rect, label in zip(rects, labels):\n",
    "    height = rect.get_height()\n",
    "    ax.text(rect.get_x() + rect.get_width()/2, height, label,\n",
    "            ha='center', va='bottom')"
   ]
  },
  {
   "cell_type": "code",
   "execution_count": 5,
   "metadata": {},
   "outputs": [
    {
     "data": {
      "image/png": "[encoded data removed]",
      "text/plain": [
       "<Figure size 288x288 with 1 Axes>"
      ]
     },
     "metadata": {
      "needs_background": "light"
     },
     "output_type": "display_data"
    },
    {
     "data": {
      "image/png": "[encoded data removed]",
      "text/plain": [
       "<Figure size 288x288 with 1 Axes>"
      ]
     },
     "metadata": {
      "needs_background": "light"
     },
     "output_type": "display_data"
    }
   ],
   "source": [
    "#Por outro lado, analisando as parciais para os tipos de tamanho de pedra, constatamos que o tratamento A é mais bem sucedido que o tratamento B.\n",
    "\n",
    "df_large = df[df.treatment == 'large']\n",
    "df_large = df_large.set_index('kidney_stone_size')\n",
    "df_large['rate'] = df_large.recovery/df_large.total\n",
    "\n",
    "list = df_large['rate'].tolist()\n",
    "rounded_list = [round(elem, 2) for elem in list]\n",
    "\n",
    "plt.figure(figsize=(4,4))\n",
    "ax = df_large['rate'].plot(kind='bar')\n",
    "ax.set_title('Large')\n",
    "ax.set_xlabel('Large')\n",
    "ax.set_ylabel('Sucess Rate')\n",
    "\n",
    "rects = ax.patches\n",
    "\n",
    "# Make some labels.\n",
    "labels = [rounded_list[i] for i in range(len(rounded_list))]\n",
    "for rect, label in zip(rects, labels):\n",
    "    height = rect.get_height()\n",
    "    ax.text(rect.get_x() + rect.get_width()/2, height, label,\n",
    "            ha='center', va='bottom')\n",
    "    \n",
    "df_small = df[df.treatment == 'small']\n",
    "df_small = df_small.set_index('kidney_stone_size')\n",
    "df_small['rate'] = df_small.recovery/df_small.total\n",
    "\n",
    "list = df_small['rate'].tolist()\n",
    "rounded_list = [round(elem, 2) for elem in list]\n",
    "\n",
    "plt.figure(figsize=(4,4))\n",
    "ax = df_small['rate'].plot(kind='bar')\n",
    "ax.set_title('Small')\n",
    "ax.set_xlabel('Small')\n",
    "ax.set_ylabel('Sucess Rate')\n",
    "\n",
    "rects = ax.patches\n",
    "\n",
    "# Make some labels.\n",
    "labels = [rounded_list[i] for i in range(len(rounded_list))]\n",
    "for rect, label in zip(rects, labels):\n",
    "    height = rect.get_height()\n",
    "    ax.text(rect.get_x() + rect.get_width()/2, height, label,\n",
    "            ha='center', va='bottom')"
   ]
  },
  {
   "cell_type": "markdown",
   "metadata": {},
   "source": [
    "## Modelo para detecção do Paradoxo de Simpson, para o tratamento de pedras nos rins"
   ]
  },
  {
   "cell_type": "code",
   "execution_count": 7,
   "metadata": {},
   "outputs": [],
   "source": [
    "# detect simpson's paradox\n",
    "import numpy as np\n",
    "import pandas as pd\n",
    "\n",
    "\n",
    "def aggregate_data(df, conversion_col, treatment_col, segment_col):\n",
    "    \"\"\"\n",
    "    takes table of individual level data and aggregates it for simpsons paradox detection.\n",
    "    conversion_col is 1 if success, 0 else. \n",
    "    ex:\n",
    "    pd.DataFrame([\n",
    "        ['small', 'A', 1],\n",
    "        ['small', 'B', 0],\n",
    "        ['large', 'A', 1],\n",
    "        ['small', 'A', 1],\n",
    "        ['large', 'B', 0],\n",
    "        ['large', 'B', 0],\n",
    "    ], columns=['kidney_stone_size', 'treatment', 'recovery'])   \n",
    "    \"\"\"\n",
    "    df_ = df[[conversion_col, treatment_col, segment_col]]\n",
    "    gb = df_.groupby([segment_col, treatment_col]).agg(\n",
    "        [np.sum, lambda x: len(x)])\n",
    "    gb.columns = [conversion_col, \"total\"]\n",
    "\n",
    "    return gb.reset_index()\n",
    "\n",
    "\n",
    "def simpsons_paradox(df, conversion_col, total_col, treatment_col, segment_col):\n",
    "    \"\"\"\n",
    "    given a dataframe like:\n",
    "        pd.DataFrame([\n",
    "            ['small', 'A', 81, 87],\n",
    "            ['small', 'B', 234, 270],\n",
    "            ['large', 'A', 192, 263],\n",
    "            ['large', 'B', 55, 80],\n",
    "        ], columns=['kidney_stone_size', 'treatment', 'recovery', 'total'])   \n",
    "    will determine if simpsons paradox exists. Non Bayesian!\n",
    "    > simpsons_paradox( df, 'recovery', 'total', 'treatment', 'kidney_stone_size' )    \n",
    "    \"\"\"\n",
    "\n",
    "    # find global optimal:\n",
    "    gbs = df.groupby(treatment_col).sum()\n",
    "    print (\"## Global rates: \")\n",
    "    print (gbs[conversion_col] / gbs[total_col])\n",
    "    print\n",
    "    global_optimal = (gbs[conversion_col] / gbs[total_col]).argmax()\n",
    "\n",
    "    # check optimal via segments\n",
    "    df_ = df.set_index([segment_col, treatment_col])\n",
    "    rates = (df_[conversion_col] / df_[total_col]).unstack(-1)\n",
    "    print (\"## Local rates:\")\n",
    "    print (rates)\n",
    "    print\n",
    "    # find the local optimals\n",
    "    local_optimals = rates.apply(lambda x: x.argmax(), 1)\n",
    "\n",
    "    if local_optimals.unique().shape[0] > 1:\n",
    "        print (\"## Simpsons paradox not detected.\")\n",
    "        print (\"## Segmented rates do not have a consistent optimal choice\")\n",
    "        print (\"## Local optimals:\")\n",
    "        print (local_optimals)\n",
    "        print (\"## Global optimal: \", global_optimal)\n",
    "        return False\n",
    "\n",
    "    local_optimal = local_optimals.unique()[0]\n",
    "\n",
    "    print (\"## Global optimal: \", global_optimal)\n",
    "    print (\"## Local optimal: \", local_optimal)\n",
    "    if local_optimal != global_optimal:\n",
    "        print (\"## Simpsons Paradox detected.\")\n",
    "        return True\n",
    "\n",
    "    else:\n",
    "        print (\"## Simpsons paradox not detected.\")\n",
    "        return False\n",
    "\n",
    "\n",
    "if __name__ == \"__main__\":\n",
    "    # create some data, indentical to the data at\n",
    "    # http://en.wikipedia.org/wiki/Simpsons_paradox\n",
    "    d = []\n",
    "    d += ([('A', 'small', 1)] * 81)\n",
    "    d += ([('A', 'small', 0)] * (87 - 81))\n",
    "    d += ([('B', 'small', 0)] * (270 - 234))\n",
    "    d += ([('B', 'small', 1)] * (234))\n",
    "    d += ([('B', 'large', 1)] * (55))\n",
    "    d += ([('B', 'large', 0)] * (80 - 55))\n",
    "    d += ([('A', 'large', 0)] * (263 - 192))\n",
    "    d += ([('A', 'large', 1)] * (192))\n",
    "\n",
    "    df = pd.DataFrame(\n",
    "        d, columns=['treatment', 'kidney_stone_size', 'recovery'])\n",
    "    gb = aggregate_data(df, 'recovery', 'treatment', 'kidney_stone_size')"
   ]
  },
  {
   "cell_type": "code",
   "execution_count": 8,
   "metadata": {},
   "outputs": [
    {
     "name": "stdout",
     "output_type": "stream",
     "text": [
      "## Global rates: \n",
      "treatment\n",
      "A    0.780000\n",
      "B    0.825714\n",
      "dtype: float64\n",
      "## Local rates:\n",
      "treatment                 A         B\n",
      "kidney_stone_size                    \n",
      "large              0.730038  0.687500\n",
      "small              0.931034  0.866667\n",
      "## Global optimal:  B\n",
      "## Local optimal:  A\n",
      "## Simpsons Paradox detected.\n"
     ]
    },
    {
     "data": {
      "text/plain": [
       "True"
      ]
     },
     "execution_count": 8,
     "metadata": {},
     "output_type": "execute_result"
    }
   ],
   "source": [
    "simpsons_paradox(gb, 'recovery', 'total', 'treatment', 'kidney_stone_size')"
   ]
  },
  {
   "cell_type": "code",
   "execution_count": null,
   "metadata": {},
   "outputs": [],
   "source": []
  }
 ],
 "metadata": {
  "kernelspec": {
   "display_name": "Python 3",
   "language": "python",
   "name": "python3"
  },
  "language_info": {
   "codemirror_mode": {
    "name": "ipython",
    "version": 3
   },
   "file_extension": ".py",
   "mimetype": "text/x-python",
   "name": "python",
   "nbconvert_exporter": "python",
   "pygments_lexer": "ipython3",
   "version": "3.7.1"
  }
 },
 "nbformat": 4,
 "nbformat_minor": 2
}
