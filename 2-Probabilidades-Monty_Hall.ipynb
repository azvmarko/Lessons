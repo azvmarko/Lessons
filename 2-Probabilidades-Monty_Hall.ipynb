{
 "cells": [
  {
   "cell_type": "markdown",
   "metadata": {},
   "source": [
    "## Paradoxo de Monty Hall\n",
    "\n",
    "O problema de Monty Hall, também conhecido por paradoxo de Monty Hall é um problema matemático e paradoxo que surgiu a partir de um concurso televisivo dos Estados Unidos chamado Let’s Make a Deal, exibido na década de 1970.\n",
    "\n",
    "O jogo consistia no seguinte: Monty Hall, o apresentador, apresentava três portas aos concorrentes. Atrás de uma delas estava um prêmio (um carro) e as outras duas dois bodes.\n",
    "\n",
    "- Na 1.ª etapa o concorrente escolhe uma das três portas (que ainda não é aberta);\n",
    "- Na 2.ª etapa, Monty abre uma das outras duas portas que o concorrente não escolheu, revelando que o carro não se encontra nessa porta e revelando um dos bodes;\n",
    "- Na 3.ª etapa Monty pergunta ao concorrente se quer decidir permanecer com a porta que escolheu no início do jogo ou se ele pretende mudar para a outra porta que ainda está fechada para então a abrir.\n",
    "\n",
    "Agora, com duas portas apenas para escolher — pois uma delas já se viu, na 2.ª etapa, que não tinha o prêmio — e sabendo que o carro está atrás de uma das duas restantes, o concorrente tem que tomar a decisão.\n",
    "\n",
    "\n",
    "Qual é a estratégia mais lógica? Ficar com a porta escolhida inicialmente ou mudar de porta? Com qual das duas portas ainda fechadas o concorrente tem mais probabilidades de ganhar? Por quê?\n",
    "\n",
    "<br>\n",
    "<img src=\"img/bode.png\" width=\"450\" />\n",
    "<br>"
   ]
  },
  {
   "cell_type": "markdown",
   "metadata": {},
   "source": [
    "## Função do Paradoxo"
   ]
  },
  {
   "cell_type": "code",
   "execution_count": 1,
   "metadata": {
    "ExecuteTime": {
     "end_time": "2019-09-11T19:45:34.855476Z",
     "start_time": "2019-09-11T19:45:17.761791Z"
    }
   },
   "outputs": [
    {
     "name": "stdout",
     "output_type": "stream",
     "text": [
      "\n",
      "This is the Monty Hall problem.\n",
      "There are 3 doors in front of you, and there is a prize behind one of them.\n",
      "Once you select a door, I will open one of the two you had not selected which does not have a prize behind it.\n",
      "You will then have the opportunity to switch from the door you originally selected to an alternate door..\n",
      "\n",
      "Select door 'A', 'B', or 'C': c\n",
      "\n",
      "This problem relies on conditional probabilities.\n",
      "It is suggested that you switch doors, you will have a higher probability of winning of you do.\n",
      "The door I will now open is: 'B'\n",
      "Would you like to select the third door? Type 'Yes' or 'No': no\n",
      "You decided to keep your initial door, 'c'\n",
      "Sorry, the prize was behind the alternate door, 'A'\n",
      "This is a check:\n",
      "Prize: 'A'\n",
      "Selection: 'c' \n",
      "Alternate: 'C' \n",
      "Door opened: 'B' \n"
     ]
    }
   ],
   "source": [
    "import random\n",
    "print(\"\"\"\n",
    "This is the Monty Hall problem.\n",
    "There are 3 doors in front of you, and there is a prize behind one of them.\n",
    "Once you select a door, I will open one of the two you had not selected which does not have a prize behind it.\n",
    "You will then have the opportunity to switch from the door you originally selected to an alternate door..\n",
    "\"\"\")\n",
    "\n",
    "A = \"A\"\n",
    "B = \"B\"\n",
    "C = \"C\"\n",
    "\n",
    "doors = [\"A\", \"B\", \"C\"]\n",
    "\n",
    "prize = random.choice(doors)\n",
    "\n",
    "selection = str(input(\"Select door 'A', 'B', or 'C': \"))\n",
    "\n",
    "print(\"\"\"\n",
    "This problem relies on conditional probabilities.\n",
    "It is suggested that you switch doors, you will have a higher probability of winning of you do.\"\"\")\n",
    "\n",
    "\n",
    "if selection == prize:\n",
    "    remaining = list(set(doors) - set(prize))\n",
    "    open_door = random.choice(list(set(doors) - set(random.choice(remaining))))\n",
    "    alternate = random.choice(list(set(doors) - set(open_door) - set(prize)))\n",
    "\n",
    "else:\n",
    "    open_door = random.choice(list(set(doors) - set(selection) - set(prize)))\n",
    "    alternate = random.choice(list(set(doors) - set(open_door) - set(selection)))\n",
    "\n",
    "print(\"The door I will now open is: %r\" % open_door)\n",
    "\n",
    "second_chance = str(input(\"Would you like to select the third door? Type 'Yes' or 'No': \"))\n",
    "\n",
    "if second_chance == \"Yes\":\n",
    "    print(\"The door you will switch to is: %r \" % alternate)\n",
    "\n",
    "    if alternate == prize:\n",
    "        print(\"Congrats, you win! The prize was behind the alternate, %r\" % alternate)\n",
    "    else:\n",
    "        print (\"Sorry, the prize was behind the original door %r\" % prize)\n",
    "\n",
    "\n",
    "if second_chance != \"Yes\":\n",
    "    print(\"\"\"You decided to keep your initial door, %r\"\"\" % selection)\n",
    "    if selection != prize:\n",
    "        print(\"\"\"Sorry, the prize was behind the alternate door, %r\"\"\" % prize)\n",
    "    else:\n",
    "        print(\"Congrats, you win! The prize was behind your original selection, %r\" % selection)\n",
    "\n",
    "\n",
    "print(\"This is a check:\")\n",
    "\n",
    "print (\"Prize: %r\" % prize)\n",
    "print (\"Selection: %r \" % selection)\n",
    "print (\"Alternate: %r \" % alternate)\n",
    "\n",
    "print (\"Door opened: %r \" % open_door)"
   ]
  },
  {
   "cell_type": "markdown",
   "metadata": {},
   "source": [
    "## O Paradoxo de Mounty Hall\n",
    "\n",
    "<br>\n",
    "<img src=\"img/mounty_hall_solution.png\" width=\"450\" />\n",
    "<br>\n",
    "\n",
    "Na realidade não é assim tão indiferente mudar ou ficar na mesma porta. No início, quando se escolheu uma das portas, havia 1/3 de probabilidade de ganhar o carro. Não existe razão nenhuma aparente para essa probabilidade mudar após o Monty Hall ter aberto uma das portas que não era premiada. As outras duas portas não escolhidas tinham em conjunto 2/3 de probabilidade de ocultarem o carro, e quando uma dessa portas é aberta (por não ter prêmio) a porta não escolhida que continua fechada passa a ter 2/3 de probabilidade de ser a porta do carro.\n",
    "\n",
    "A confusão é feita seguindo o raciocínio que parece mais lógico: \"mas a porta escolhida também continua fechada... então cada uma das portas fechadas passa a ter 1/2 de chance de ter o carro?\"\n",
    "\n",
    "- Sem trocar portas:\n",
    "$ P(E)= \\dfrac{1}{3} $ ; $ \\bar P (E)= \\dfrac{2}{3} $\n",
    "<br>\n",
    "\n",
    "- Trocando as portas:\n",
    " $ P(E)= \\dfrac{2}{3} $ ; $ \\bar P (E)= \\dfrac{1}{3} $\n",
    "<br>"
   ]
  },
  {
   "cell_type": "markdown",
   "metadata": {},
   "source": [
    "## Comparando os resultados da simulação com a probabilidade nominal"
   ]
  },
  {
   "cell_type": "code",
   "execution_count": 4,
   "metadata": {
    "ExecuteTime": {
     "end_time": "2019-09-11T19:52:46.380167Z",
     "start_time": "2019-09-11T19:52:46.359153Z"
    }
   },
   "outputs": [],
   "source": [
    "import argparse, random\n",
    "\n",
    "def simulate(num_doors, switch, verbose):\n",
    "    \"\"\"(int, bool): bool\n",
    "\n",
    "    Carry out the game for one contestant.  If 'switch' is True,\n",
    "    the contestant will switch their chosen door when offered the chance.\n",
    "    Returns a Boolean value telling whether the simulated contestant won.\n",
    "    \"\"\"\n",
    "\n",
    "    # Doors are numbered from 0 up to num_doors-1 (inclusive).\n",
    "\n",
    "    # Randomly choose the door hiding the prize.\n",
    "    winning_door = random.randint(0, num_doors-1)\n",
    "    if verbose:\n",
    "        print('Prize is behind door {}'.format(winning_door+1))\n",
    "\n",
    "    # The contestant picks a random door, too.\n",
    "    choice = random.randint(0, num_doors-1)\n",
    "    if verbose:\n",
    "        print('Contestant chooses door {}'.format(choice+1))\n",
    "\n",
    "    # The host opens all but two doors.\n",
    "    closed_doors = list(range(num_doors))\n",
    "    while len(closed_doors) > 2:\n",
    "        # Randomly choose a door to open.\n",
    "        door_to_remove = random.choice(closed_doors)\n",
    "\n",
    "        # The host will never open the winning door, or the door\n",
    "        # chosen by the contestant.\n",
    "        if door_to_remove == winning_door or door_to_remove == choice:\n",
    "            continue\n",
    "\n",
    "        # Remove the door from the list of closed doors.\n",
    "        closed_doors.remove(door_to_remove)\n",
    "        if verbose:\n",
    "            print('Host opens door {}'.format(door_to_remove+1))\n",
    "\n",
    "    # There are always two doors remaining.\n",
    "    assert len(closed_doors) == 2\n",
    "\n",
    "    # Does the contestant want to switch their choice?\n",
    "    if switch:\n",
    "        if verbose:\n",
    "            print('Contestant switches from door {} '.format(choice+1), end='')\n",
    "\n",
    "        # There are two closed doors left.  The contestant will never\n",
    "        # choose the same door, so we'll remove that door as a choice.\n",
    "        available_doors = list(closed_doors) # Make a copy of the list.\n",
    "        available_doors.remove(choice)\n",
    "\n",
    "        # Change choice to the only door available.\n",
    "        choice = available_doors.pop()\n",
    "        if verbose:\n",
    "            print('to {}'.format(choice+1))\n",
    "\n",
    "    # Did the contestant win?\n",
    "    won = (choice == winning_door)\n",
    "    if verbose:\n",
    "        if won:\n",
    "            print('Contestant WON', end='\\n\\n')\n",
    "        else:\n",
    "            print('Contestant LOST', end='\\n\\n')\n",
    "    return won\n",
    "\n",
    "\n",
    "def monty_hall(doors=3, trials=1000,verbose=False):\n",
    "\n",
    "    print('Simulating {} trials...'.format(trials))\n",
    "\n",
    "    # Carry out the trials\n",
    "    winning_non_switchers = 0\n",
    "    winning_switchers = 0\n",
    "    for i in range(trials):\n",
    "        # First, do a trial where the contestant never switches.\n",
    "        won = simulate(doors, switch=False, verbose=verbose)\n",
    "        if won:\n",
    "            winning_non_switchers += 1\n",
    "\n",
    "        # Next, try one where the contestant switches.\n",
    "        won = simulate(doors, switch=True, verbose=verbose)\n",
    "        if won:\n",
    "            winning_switchers += 1\n",
    "\n",
    "    print('    Switching won {0:5} times out of {1} ({2}% of the time)'.format(\n",
    "            winning_switchers, trials,\n",
    "            (winning_switchers / trials * 100 ) ))\n",
    "    print('Not switching won {0:5} times out of {1} ({2}% of the time)'.format(\n",
    "            winning_non_switchers, trials,\n",
    "            (winning_non_switchers / trials * 100 ) ))"
   ]
  },
  {
   "cell_type": "code",
   "execution_count": 5,
   "metadata": {
    "ExecuteTime": {
     "end_time": "2019-09-11T19:53:15.276560Z",
     "start_time": "2019-09-11T19:53:15.247533Z"
    }
   },
   "outputs": [
    {
     "name": "stdout",
     "output_type": "stream",
     "text": [
      "Simulating 1000 trials...\n",
      "    Switching won   675 times out of 1000 (67.5% of the time)\n",
      "Not switching won   300 times out of 1000 (30.0% of the time)\n"
     ]
    }
   ],
   "source": [
    "monty_hall(3, 1000)"
   ]
  },
  {
   "cell_type": "code",
   "execution_count": null,
   "metadata": {},
   "outputs": [],
   "source": []
  }
 ],
 "metadata": {
  "hide_input": false,
  "kernelspec": {
   "display_name": "Python 3",
   "language": "python",
   "name": "python3"
  },
  "language_info": {
   "codemirror_mode": {
    "name": "ipython",
    "version": 3
   },
   "file_extension": ".py",
   "mimetype": "text/x-python",
   "name": "python",
   "nbconvert_exporter": "python",
   "pygments_lexer": "ipython3",
   "version": "3.7.3"
  },
  "toc": {
   "base_numbering": 1,
   "nav_menu": {},
   "number_sections": true,
   "sideBar": true,
   "skip_h1_title": true,
   "title_cell": "",
   "title_sidebar": "",
   "toc_cell": false,
   "toc_position": {},
   "toc_section_display": true,
   "toc_window_display": true
  },
  "varInspector": {
   "cols": {
    "lenName": 16,
    "lenType": 16,
    "lenVar": 40
   },
   "kernels_config": {
    "python": {
     "delete_cmd_postfix": "",
     "delete_cmd_prefix": "del ",
     "library": "var_list.py",
     "varRefreshCmd": "print(var_dic_list())"
    },
    "r": {
     "delete_cmd_postfix": ") ",
     "delete_cmd_prefix": "rm(",
     "library": "var_list.r",
     "varRefreshCmd": "cat(var_dic_list()) "
    }
   },
   "types_to_exclude": [
    "module",
    "function",
    "builtin_function_or_method",
    "instance",
    "_Feature"
   ],
   "window_display": false
  }
 },
 "nbformat": 4,
 "nbformat_minor": 2
}
