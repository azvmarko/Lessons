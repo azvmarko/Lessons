{
 "cells": [
  {
   "cell_type": "markdown",
   "metadata": {},
   "source": [
    "# Clusterização"
   ]
  },
  {
   "cell_type": "markdown",
   "metadata": {},
   "source": [
    "Identificando transações fraudulentas a partir de vários algoritmos de classificação"
   ]
  },
  {
   "cell_type": "markdown",
   "metadata": {},
   "source": [
    "### 1 - Importando as bibliotecas"
   ]
  },
  {
   "cell_type": "code",
   "execution_count": 26,
   "metadata": {},
   "outputs": [],
   "source": [
    "import numpy as np\n",
    "import matplotlib.pyplot as plt\n",
    "from matplotlib.colors import ListedColormap\n",
    "from sklearn.model_selection import train_test_split\n",
    "from sklearn.preprocessing import StandardScaler\n",
    "from sklearn.datasets import make_moons, make_circles, make_classification\n",
    "from sklearn.neural_network import MLPClassifier\n",
    "from sklearn.neighbors import KNeighborsClassifier\n",
    "from sklearn.svm import SVC\n",
    "from sklearn.gaussian_process import GaussianProcessClassifier\n",
    "from sklearn.gaussian_process.kernels import RBF\n",
    "from sklearn.tree import DecisionTreeClassifier\n",
    "from sklearn.ensemble import RandomForestClassifier, AdaBoostClassifier\n",
    "from sklearn.naive_bayes import GaussianNB\n",
    "from sklearn.discriminant_analysis import QuadraticDiscriminantAnalysis\n",
    "\n",
    "%matplotlib inline\n",
    "\n",
    "import pandas as pd\n",
    "\n",
    "import warnings\n",
    "warnings.filterwarnings(\"ignore\")"
   ]
  },
  {
   "cell_type": "markdown",
   "metadata": {},
   "source": [
    "### 2 - Importando os dados"
   ]
  },
  {
   "cell_type": "code",
   "execution_count": 5,
   "metadata": {},
   "outputs": [],
   "source": [
    "data_path =  'C:\\\\Users\\\\Marcos\\\\Documents\\\\datascience_course\\\\Resumo_Aulas\\\\dados\\\\creditcard.csv'\n",
    "\n",
    "df = pd.read_csv(data_path)"
   ]
  },
  {
   "cell_type": "code",
   "execution_count": 6,
   "metadata": {},
   "outputs": [
    {
     "data": {
      "text/html": [
       "<div>\n",
       "<style scoped>\n",
       "    .dataframe tbody tr th:only-of-type {\n",
       "        vertical-align: middle;\n",
       "    }\n",
       "\n",
       "    .dataframe tbody tr th {\n",
       "        vertical-align: top;\n",
       "    }\n",
       "\n",
       "    .dataframe thead th {\n",
       "        text-align: right;\n",
       "    }\n",
       "</style>\n",
       "<table border=\"1\" class=\"dataframe\">\n",
       "  <thead>\n",
       "    <tr style=\"text-align: right;\">\n",
       "      <th></th>\n",
       "      <th>Time</th>\n",
       "      <th>V1</th>\n",
       "      <th>V2</th>\n",
       "      <th>V3</th>\n",
       "      <th>V4</th>\n",
       "      <th>V5</th>\n",
       "      <th>V6</th>\n",
       "      <th>V7</th>\n",
       "      <th>V8</th>\n",
       "      <th>V9</th>\n",
       "      <th>...</th>\n",
       "      <th>V21</th>\n",
       "      <th>V22</th>\n",
       "      <th>V23</th>\n",
       "      <th>V24</th>\n",
       "      <th>V25</th>\n",
       "      <th>V26</th>\n",
       "      <th>V27</th>\n",
       "      <th>V28</th>\n",
       "      <th>Amount</th>\n",
       "      <th>Class</th>\n",
       "    </tr>\n",
       "  </thead>\n",
       "  <tbody>\n",
       "    <tr>\n",
       "      <th>0</th>\n",
       "      <td>0.0</td>\n",
       "      <td>-1.359807</td>\n",
       "      <td>-0.072781</td>\n",
       "      <td>2.536347</td>\n",
       "      <td>1.378155</td>\n",
       "      <td>-0.338321</td>\n",
       "      <td>0.462388</td>\n",
       "      <td>0.239599</td>\n",
       "      <td>0.098698</td>\n",
       "      <td>0.363787</td>\n",
       "      <td>...</td>\n",
       "      <td>-0.018307</td>\n",
       "      <td>0.277838</td>\n",
       "      <td>-0.110474</td>\n",
       "      <td>0.066928</td>\n",
       "      <td>0.128539</td>\n",
       "      <td>-0.189115</td>\n",
       "      <td>0.133558</td>\n",
       "      <td>-0.021053</td>\n",
       "      <td>149.62</td>\n",
       "      <td>0</td>\n",
       "    </tr>\n",
       "    <tr>\n",
       "      <th>1</th>\n",
       "      <td>0.0</td>\n",
       "      <td>1.191857</td>\n",
       "      <td>0.266151</td>\n",
       "      <td>0.166480</td>\n",
       "      <td>0.448154</td>\n",
       "      <td>0.060018</td>\n",
       "      <td>-0.082361</td>\n",
       "      <td>-0.078803</td>\n",
       "      <td>0.085102</td>\n",
       "      <td>-0.255425</td>\n",
       "      <td>...</td>\n",
       "      <td>-0.225775</td>\n",
       "      <td>-0.638672</td>\n",
       "      <td>0.101288</td>\n",
       "      <td>-0.339846</td>\n",
       "      <td>0.167170</td>\n",
       "      <td>0.125895</td>\n",
       "      <td>-0.008983</td>\n",
       "      <td>0.014724</td>\n",
       "      <td>2.69</td>\n",
       "      <td>0</td>\n",
       "    </tr>\n",
       "    <tr>\n",
       "      <th>2</th>\n",
       "      <td>1.0</td>\n",
       "      <td>-1.358354</td>\n",
       "      <td>-1.340163</td>\n",
       "      <td>1.773209</td>\n",
       "      <td>0.379780</td>\n",
       "      <td>-0.503198</td>\n",
       "      <td>1.800499</td>\n",
       "      <td>0.791461</td>\n",
       "      <td>0.247676</td>\n",
       "      <td>-1.514654</td>\n",
       "      <td>...</td>\n",
       "      <td>0.247998</td>\n",
       "      <td>0.771679</td>\n",
       "      <td>0.909412</td>\n",
       "      <td>-0.689281</td>\n",
       "      <td>-0.327642</td>\n",
       "      <td>-0.139097</td>\n",
       "      <td>-0.055353</td>\n",
       "      <td>-0.059752</td>\n",
       "      <td>378.66</td>\n",
       "      <td>0</td>\n",
       "    </tr>\n",
       "    <tr>\n",
       "      <th>3</th>\n",
       "      <td>1.0</td>\n",
       "      <td>-0.966272</td>\n",
       "      <td>-0.185226</td>\n",
       "      <td>1.792993</td>\n",
       "      <td>-0.863291</td>\n",
       "      <td>-0.010309</td>\n",
       "      <td>1.247203</td>\n",
       "      <td>0.237609</td>\n",
       "      <td>0.377436</td>\n",
       "      <td>-1.387024</td>\n",
       "      <td>...</td>\n",
       "      <td>-0.108300</td>\n",
       "      <td>0.005274</td>\n",
       "      <td>-0.190321</td>\n",
       "      <td>-1.175575</td>\n",
       "      <td>0.647376</td>\n",
       "      <td>-0.221929</td>\n",
       "      <td>0.062723</td>\n",
       "      <td>0.061458</td>\n",
       "      <td>123.50</td>\n",
       "      <td>0</td>\n",
       "    </tr>\n",
       "    <tr>\n",
       "      <th>4</th>\n",
       "      <td>2.0</td>\n",
       "      <td>-1.158233</td>\n",
       "      <td>0.877737</td>\n",
       "      <td>1.548718</td>\n",
       "      <td>0.403034</td>\n",
       "      <td>-0.407193</td>\n",
       "      <td>0.095921</td>\n",
       "      <td>0.592941</td>\n",
       "      <td>-0.270533</td>\n",
       "      <td>0.817739</td>\n",
       "      <td>...</td>\n",
       "      <td>-0.009431</td>\n",
       "      <td>0.798278</td>\n",
       "      <td>-0.137458</td>\n",
       "      <td>0.141267</td>\n",
       "      <td>-0.206010</td>\n",
       "      <td>0.502292</td>\n",
       "      <td>0.219422</td>\n",
       "      <td>0.215153</td>\n",
       "      <td>69.99</td>\n",
       "      <td>0</td>\n",
       "    </tr>\n",
       "  </tbody>\n",
       "</table>\n",
       "<p>5 rows × 31 columns</p>\n",
       "</div>"
      ],
      "text/plain": [
       "   Time        V1        V2        V3        V4        V5        V6        V7  \\\n",
       "0   0.0 -1.359807 -0.072781  2.536347  1.378155 -0.338321  0.462388  0.239599   \n",
       "1   0.0  1.191857  0.266151  0.166480  0.448154  0.060018 -0.082361 -0.078803   \n",
       "2   1.0 -1.358354 -1.340163  1.773209  0.379780 -0.503198  1.800499  0.791461   \n",
       "3   1.0 -0.966272 -0.185226  1.792993 -0.863291 -0.010309  1.247203  0.237609   \n",
       "4   2.0 -1.158233  0.877737  1.548718  0.403034 -0.407193  0.095921  0.592941   \n",
       "\n",
       "         V8        V9  ...         V21       V22       V23       V24  \\\n",
       "0  0.098698  0.363787  ...   -0.018307  0.277838 -0.110474  0.066928   \n",
       "1  0.085102 -0.255425  ...   -0.225775 -0.638672  0.101288 -0.339846   \n",
       "2  0.247676 -1.514654  ...    0.247998  0.771679  0.909412 -0.689281   \n",
       "3  0.377436 -1.387024  ...   -0.108300  0.005274 -0.190321 -1.175575   \n",
       "4 -0.270533  0.817739  ...   -0.009431  0.798278 -0.137458  0.141267   \n",
       "\n",
       "        V25       V26       V27       V28  Amount  Class  \n",
       "0  0.128539 -0.189115  0.133558 -0.021053  149.62      0  \n",
       "1  0.167170  0.125895 -0.008983  0.014724    2.69      0  \n",
       "2 -0.327642 -0.139097 -0.055353 -0.059752  378.66      0  \n",
       "3  0.647376 -0.221929  0.062723  0.061458  123.50      0  \n",
       "4 -0.206010  0.502292  0.219422  0.215153   69.99      0  \n",
       "\n",
       "[5 rows x 31 columns]"
      ]
     },
     "execution_count": 6,
     "metadata": {},
     "output_type": "execute_result"
    }
   ],
   "source": [
    "df.head()"
   ]
  },
  {
   "cell_type": "markdown",
   "metadata": {},
   "source": [
    "### 3 - Verificando os dados"
   ]
  },
  {
   "cell_type": "code",
   "execution_count": 7,
   "metadata": {},
   "outputs": [],
   "source": [
    "import seaborn as sns"
   ]
  },
  {
   "cell_type": "code",
   "execution_count": 8,
   "metadata": {},
   "outputs": [
    {
     "data": {
      "text/plain": [
       "<function seaborn.axisgrid.jointplot(x, y, data=None, kind='scatter', stat_func=None, color=None, height=6, ratio=5, space=0.2, dropna=True, xlim=None, ylim=None, joint_kws=None, marginal_kws=None, annot_kws=None, **kwargs)>"
      ]
     },
     "execution_count": 8,
     "metadata": {},
     "output_type": "execute_result"
    }
   ],
   "source": [
    "sns.jointplot"
   ]
  },
  {
   "cell_type": "code",
   "execution_count": 9,
   "metadata": {},
   "outputs": [
    {
     "data": {
      "text/plain": [
       "<matplotlib.axes._subplots.AxesSubplot at 0x223801f1780>"
      ]
     },
     "execution_count": 9,
     "metadata": {},
     "output_type": "execute_result"
    },
    {
     "data": {
      "image/png": "[encoded data removed]",
      "text/plain": [
       "<Figure size 432x288 with 1 Axes>"
      ]
     },
     "metadata": {
      "needs_background": "light"
     },
     "output_type": "display_data"
    }
   ],
   "source": [
    "df['Amount'].plot()"
   ]
  },
  {
   "cell_type": "code",
   "execution_count": 11,
   "metadata": {},
   "outputs": [
    {
     "data": {
      "text/plain": [
       "0    284315\n",
       "1       492\n",
       "Name: Class, dtype: int64"
      ]
     },
     "execution_count": 11,
     "metadata": {},
     "output_type": "execute_result"
    }
   ],
   "source": [
    "df['Class'].value_counts()"
   ]
  },
  {
   "cell_type": "code",
   "execution_count": 12,
   "metadata": {},
   "outputs": [
    {
     "data": {
      "text/plain": [
       "Time      0\n",
       "V1        0\n",
       "V2        0\n",
       "V3        0\n",
       "V4        0\n",
       "V5        0\n",
       "V6        0\n",
       "V7        0\n",
       "V8        0\n",
       "V9        0\n",
       "V10       0\n",
       "V11       0\n",
       "V12       0\n",
       "V13       0\n",
       "V14       0\n",
       "V15       0\n",
       "V16       0\n",
       "V17       0\n",
       "V18       0\n",
       "V19       0\n",
       "V20       0\n",
       "V21       0\n",
       "V22       0\n",
       "V23       0\n",
       "V24       0\n",
       "V25       0\n",
       "V26       0\n",
       "V27       0\n",
       "V28       0\n",
       "Amount    0\n",
       "Class     0\n",
       "dtype: int64"
      ]
     },
     "execution_count": 12,
     "metadata": {},
     "output_type": "execute_result"
    }
   ],
   "source": [
    "df.isnull().sum()"
   ]
  },
  {
   "cell_type": "markdown",
   "metadata": {},
   "source": [
    "### 4 - Verificando as frequências de fraudes e não-fraudes"
   ]
  },
  {
   "cell_type": "code",
   "execution_count": 15,
   "metadata": {},
   "outputs": [
    {
     "data": {
      "image/png": "[encoded data removed]",
      "text/plain": [
       "<Figure size 864x288 with 2 Axes>"
      ]
     },
     "metadata": {
      "needs_background": "light"
     },
     "output_type": "display_data"
    }
   ],
   "source": [
    "f, (ax1, ax2) = plt.subplots(2, 1, sharex=True, figsize=(12,4))\n",
    "\n",
    "bins = 50\n",
    "\n",
    "ax1.hist(df.Time[df.Class == 1], bins = bins)\n",
    "ax1.set_title('Frauds')\n",
    "\n",
    "ax2.hist(df.Time[df.Class == 0], bins = bins)\n",
    "ax2.set_title('Non Frauds')\n",
    "\n",
    "plt.xlabel('Time (in Seconds)')\n",
    "plt.ylabel('Number of Transactions')\n",
    "plt.show()"
   ]
  },
  {
   "cell_type": "markdown",
   "metadata": {},
   "source": [
    "### 5 - Separando em duas dimensões apenas para visualização"
   ]
  },
  {
   "cell_type": "code",
   "execution_count": 16,
   "metadata": {},
   "outputs": [
    {
     "name": "stderr",
     "output_type": "stream",
     "text": [
      "C:\\Users\\Marcos\\Anaconda3\\lib\\site-packages\\sklearn\\preprocessing\\data.py:625: DataConversionWarning: Data with input dtype int64, float64 were all converted to float64 by StandardScaler.\n",
      "  return self.partial_fit(X, y)\n",
      "C:\\Users\\Marcos\\Anaconda3\\lib\\site-packages\\sklearn\\base.py:462: DataConversionWarning: Data with input dtype int64, float64 were all converted to float64 by StandardScaler.\n",
      "  return self.fit(X, **fit_params).transform(X)\n",
      "C:\\Users\\Marcos\\Anaconda3\\lib\\site-packages\\ipykernel_launcher.py:11: DeprecationWarning: \n",
      ".ix is deprecated. Please use\n",
      ".loc for label based indexing or\n",
      ".iloc for positional indexing\n",
      "\n",
      "See the documentation here:\n",
      "http://pandas.pydata.org/pandas-docs/stable/indexing.html#ix-indexer-is-deprecated\n",
      "  # This is added back by InteractiveShellApp.init_path()\n"
     ]
    },
    {
     "data": {
      "image/png": "[encoded data removed]",
      "text/plain": [
       "<Figure size 432x288 with 1 Axes>"
      ]
     },
     "metadata": {
      "needs_background": "light"
     },
     "output_type": "display_data"
    }
   ],
   "source": [
    "from sklearn.manifold import TSNE\n",
    "\n",
    "df2 = df[df.Class == 1]\n",
    "df2 = pd.concat([df2, df[df.Class == 0].sample(n = 10000)], axis = 0)\n",
    "\n",
    "#Scale features to improve the training ability of TSNE.\n",
    "standard_scaler = StandardScaler()\n",
    "df2_std = standard_scaler.fit_transform(df2)\n",
    "\n",
    "#Set y equal to the target values.\n",
    "y = df2.ix[:,-1].values\n",
    "\n",
    "tsne = TSNE(n_components=2, random_state=0)\n",
    "x_test_2d = tsne.fit_transform(df2_std)\n",
    "\n",
    "#Build the scatter plot with the two types of transactions.\n",
    "color_map = {0:'red', 1:'blue'}\n",
    "plt.figure()\n",
    "for idx, cl in enumerate(np.unique(y)):\n",
    "    plt.scatter(x = x_test_2d[y==cl,0], \n",
    "                y = x_test_2d[y==cl,1], \n",
    "                c = color_map[idx], \n",
    "                label = cl)\n",
    "plt.xlabel('X in t-SNE')\n",
    "plt.ylabel('Y in t-SNE')\n",
    "plt.legend(loc='upper left')\n",
    "plt.title('t-SNE visualization of test data')\n",
    "plt.show()"
   ]
  },
  {
   "cell_type": "markdown",
   "metadata": {},
   "source": [
    "### 6 - Criando os dados de treino e teste"
   ]
  },
  {
   "cell_type": "code",
   "execution_count": 17,
   "metadata": {},
   "outputs": [],
   "source": [
    "def generate_XY_train_test(data, test_size, target_column, mult):\n",
    "    data=data.reset_index(drop=True)\n",
    "    data_target = data[data[target_column] == 1]\n",
    "    data_non_target = data[data[target_column] == 0]\n",
    "    non_target_index = data_non_target.index\n",
    "    np.random.seed(27)\n",
    "    random_indices = np.random.choice(non_target_index, len(data_target)*mult, replace=False)\n",
    "    data_non_target_sample = data.loc[random_indices]\n",
    "    final_df = pd.concat([data_target, data_non_target_sample])\n",
    "    Y=final_df[target_column]\n",
    "    X=pd.get_dummies(final_df)\n",
    "    X_train, X_test, Y_train, Y_test = train_test_split(X, Y, test_size=test_size, random_state=12345, stratify=Y)\n",
    "    return X_train, X_test, Y_train, Y_test"
   ]
  },
  {
   "cell_type": "code",
   "execution_count": 18,
   "metadata": {},
   "outputs": [
    {
     "name": "stdout",
     "output_type": "stream",
     "text": [
      "659\n",
      "325\n"
     ]
    }
   ],
   "source": [
    "X_train, X_test, Y_train, Y_Y_test.sum()test = generate_XY_train_test(df, 0.33, 'Class', 1)\n",
    "\n",
    "print(len(X_train))\n",
    "print(len(X_test))"
   ]
  },
  {
   "cell_type": "code",
   "execution_count": 23,
   "metadata": {},
   "outputs": [
    {
     "name": "stdout",
     "output_type": "stream",
     "text": [
      "330\n",
      "162\n"
     ]
    }
   ],
   "source": [
    "print(Y_train.sum())\n",
    "print(Y_test.sum())"
   ]
  },
  {
   "cell_type": "markdown",
   "metadata": {},
   "source": [
    "### 7 - Rodando os modelos"
   ]
  },
  {
   "cell_type": "markdown",
   "metadata": {},
   "source": [
    "#### 7.1 Instanciando os modelos"
   ]
  },
  {
   "cell_type": "code",
   "execution_count": 24,
   "metadata": {},
   "outputs": [],
   "source": [
    "model_knn = KNeighborsClassifier()\n",
    "model_svc = SVC(probability=True)\n",
    "model_dtc = DecisionTreeClassifier()\n",
    "model_rfc = RandomForestClassifier()\n",
    "model_gnb = GaussianNB()\n",
    "model_nn = MLPClassifier(hidden_layer_sizes=(100,100,50))"
   ]
  },
  {
   "cell_type": "markdown",
   "metadata": {},
   "source": [
    "#### 7.2 Treinando os modelos"
   ]
  },
  {
   "cell_type": "code",
   "execution_count": 27,
   "metadata": {},
   "outputs": [
    {
     "name": "stdout",
     "output_type": "stream",
     "text": [
      "Wall time: 15.6 ms\n",
      "Wall time: 228 ms\n",
      "Wall time: 4 ms\n",
      "Wall time: 7.38 ms\n",
      "Wall time: 15.6 ms\n",
      "Wall time: 358 ms\n"
     ]
    },
    {
     "data": {
      "text/plain": [
       "MLPClassifier(activation='relu', alpha=0.0001, batch_size='auto', beta_1=0.9,\n",
       "       beta_2=0.999, early_stopping=False, epsilon=1e-08,\n",
       "       hidden_layer_sizes=(100, 100, 50), learning_rate='constant',\n",
       "       learning_rate_init=0.001, max_iter=200, momentum=0.9,\n",
       "       n_iter_no_change=10, nesterovs_momentum=True, power_t=0.5,\n",
       "       random_state=None, shuffle=True, solver='adam', tol=0.0001,\n",
       "       validation_fraction=0.1, verbose=False, warm_start=False)"
      ]
     },
     "execution_count": 27,
     "metadata": {},
     "output_type": "execute_result"
    }
   ],
   "source": [
    "%time model_knn.fit(X_train, Y_train)\n",
    "%time model_svc.fit(X_train, Y_train)\n",
    "%time model_dtc.fit(X_train, Y_train)\n",
    "%time model_rfc.fit(X_train, Y_train)\n",
    "%time model_gnb.fit(X_train, Y_train)\n",
    "%time model_nn.fit(X_train, Y_train)"
   ]
  },
  {
   "cell_type": "markdown",
   "metadata": {},
   "source": [
    "#### 7.3 Fazendo as predições"
   ]
  },
  {
   "cell_type": "code",
   "execution_count": 28,
   "metadata": {},
   "outputs": [],
   "source": [
    "yhat_knn = model_knn.predict(X_test)\n",
    "yhat_svc = model_svc.predict(X_test)\n",
    "yhat_dtc = model_dtc.predict(X_test)\n",
    "yhat_rfc = model_rfc.predict(X_test)\n",
    "yhat_gnb = model_gnb.predict(X_test)\n",
    "yhat_nn = model_nn.predict(X_test)"
   ]
  },
  {
   "cell_type": "markdown",
   "metadata": {},
   "source": [
    "#### 7.4 Fazendo as predicções com o .predict_proba"
   ]
  },
  {
   "cell_type": "code",
   "execution_count": 29,
   "metadata": {},
   "outputs": [],
   "source": [
    "yhat_knn_prob = model_knn.predict_proba(X_test)\n",
    "yhat_svc_prob = model_svc.predict_proba(X_test)\n",
    "yhat_dtc_prob = model_dtc.predict_proba(X_test)\n",
    "yhat_rfc_prob = model_rfc.predict_proba(X_test)\n",
    "yhat_gnb_prob = model_gnb.predict_proba(X_test)\n",
    "yhat_nn_prob = model_nn.predict_proba(X_test)"
   ]
  },
  {
   "cell_type": "markdown",
   "metadata": {},
   "source": [
    "#### 7.5 Calculando a ACURÁCIA, RECALL, PRECISION e F1 de cada modelo"
   ]
  },
  {
   "cell_type": "code",
   "execution_count": 32,
   "metadata": {},
   "outputs": [],
   "source": [
    "classifiers=[[model_knn,'knn'],\n",
    "             [model_svc,'svc'],\n",
    "             [model_dtc,'dtc'],\n",
    "             [model_rfc,'rtc'],\n",
    "             [model_gnb,'gnb'],\n",
    "             [model_nn, 'nn']]"
   ]
  },
  {
   "cell_type": "code",
   "execution_count": 33,
   "metadata": {},
   "outputs": [
    {
     "name": "stdout",
     "output_type": "stream",
     "text": [
      "knn\n",
      "Acc: 0.5938461538461538\n",
      "Precision: 0.5914634146341463\n",
      "Recall: 0.5987654320987654\n",
      "F1: 0.5950920245398773\n"
     ]
    },
    {
     "data": {
      "image/png": "[encoded data removed]",
      "text/plain": [
       "<Figure size 432x288 with 2 Axes>"
      ]
     },
     "metadata": {
      "needs_background": "light"
     },
     "output_type": "display_data"
    },
    {
     "name": "stdout",
     "output_type": "stream",
     "text": [
      "----------------------------------------\n",
      "svc\n",
      "Acc: 0.5415384615384615\n",
      "Precision: 0.9333333333333333\n",
      "Recall: 0.08641975308641975\n",
      "F1: 0.15819209039548024\n"
     ]
    },
    {
     "data": {
      "image/png": "[encoded data removed]",
      "text/plain": [
       "<Figure size 432x288 with 2 Axes>"
      ]
     },
     "metadata": {
      "needs_background": "light"
     },
     "output_type": "display_data"
    },
    {
     "name": "stdout",
     "output_type": "stream",
     "text": [
      "----------------------------------------\n",
      "dtc\n",
      "Acc: 1.0\n",
      "Precision: 1.0\n",
      "Recall: 1.0\n",
      "F1: 1.0\n"
     ]
    },
    {
     "data": {
      "image/png": "[encoded data removed]",
      "text/plain": [
       "<Figure size 432x288 with 2 Axes>"
      ]
     },
     "metadata": {
      "needs_background": "light"
     },
     "output_type": "display_data"
    },
    {
     "name": "stdout",
     "output_type": "stream",
     "text": [
      "----------------------------------------\n",
      "rtc\n",
      "Acc: 1.0\n",
      "Precision: 1.0\n",
      "Recall: 1.0\n",
      "F1: 1.0\n"
     ]
    },
    {
     "data": {
      "image/png": "[encoded data removed]",
      "text/plain": [
       "<Figure size 432x288 with 2 Axes>"
      ]
     },
     "metadata": {
      "needs_background": "light"
     },
     "output_type": "display_data"
    },
    {
     "name": "stdout",
     "output_type": "stream",
     "text": [
      "----------------------------------------\n",
      "gnb\n",
      "Acc: 0.8892307692307693\n",
      "Precision: 1.0\n",
      "Recall: 0.7777777777777778\n",
      "F1: 0.8750000000000001\n"
     ]
    },
    {
     "data": {
      "image/png": "[encoded data removed]",
      "text/plain": [
       "<Figure size 432x288 with 2 Axes>"
      ]
     },
     "metadata": {
      "needs_background": "light"
     },
     "output_type": "display_data"
    },
    {
     "name": "stdout",
     "output_type": "stream",
     "text": [
      "----------------------------------------\n",
      "nn\n",
      "Acc: 0.5046153846153846\n",
      "Precision: 0.6\n",
      "Recall: 0.018518518518518517\n",
      "F1: 0.03592814371257485\n"
     ]
    },
    {
     "data": {
      "image/png": "[encoded data removed]",
      "text/plain": [
       "<Figure size 432x288 with 2 Axes>"
      ]
     },
     "metadata": {
      "needs_background": "light"
     },
     "output_type": "display_data"
    },
    {
     "name": "stdout",
     "output_type": "stream",
     "text": [
      "----------------------------------------\n"
     ]
    }
   ],
   "source": [
    "from sklearn import metrics\n",
    "import seaborn as sns\n",
    "\n",
    "# Recebe os valores reais e os valores preditos e calcula as métricas que estudamos. \n",
    "def print_metrics(ytrue, yhat, yhat_prob):\n",
    "    m1 = metrics.accuracy_score(ytrue, yhat)\n",
    "    m2 = metrics.precision_score(ytrue, yhat)\n",
    "    m3 = metrics.recall_score(ytrue, yhat)\n",
    "    m4 = metrics.f1_score(ytrue, yhat)\n",
    "    \n",
    "    print('Acc:', m1)\n",
    "    print('Precision:', m2 )\n",
    "    print('Recall:', m3)\n",
    "    print('F1:', m4)\n",
    "    \n",
    "    sns.heatmap(metrics.confusion_matrix(ytrue, yhat, labels=[0,1]),\n",
    "                annot=True,\n",
    "                cmap=\"YlGnBu\")\n",
    "    plt.show()\n",
    "    \n",
    "    return [m1,m2,m3,m4]\n",
    "\n",
    "\n",
    "def train_model(Xtrain, Ytrain, Xtest, model):\n",
    "    model.fit(Xtrain, Ytrain)\n",
    "    yhat = model.predict(Xtest)\n",
    "    yhat_prob = model.predict_proba(Xtest)[:,1]\n",
    "    return yhat, yhat_prob\n",
    "\n",
    "\n",
    "metricas = []\n",
    "probabilidades = []\n",
    "\n",
    "for classifier, name in classifiers:\n",
    "    print(name)\n",
    "    yhat, yhat_prob = train_model(X_train, Y_train, X_test, classifier)\n",
    "    row = print_metrics(Y_test, yhat, yhat_prob)\n",
    "    row.append(name)\n",
    "    metricas.append(row)\n",
    "    probabilidades.append(yhat_prob)\n",
    "    print('-'*40)"
   ]
  },
  {
   "cell_type": "code",
   "execution_count": 34,
   "metadata": {},
   "outputs": [
    {
     "data": {
      "text/html": [
       "<div>\n",
       "<style scoped>\n",
       "    .dataframe tbody tr th:only-of-type {\n",
       "        vertical-align: middle;\n",
       "    }\n",
       "\n",
       "    .dataframe tbody tr th {\n",
       "        vertical-align: top;\n",
       "    }\n",
       "\n",
       "    .dataframe thead th {\n",
       "        text-align: right;\n",
       "    }\n",
       "</style>\n",
       "<table border=\"1\" class=\"dataframe\">\n",
       "  <thead>\n",
       "    <tr style=\"text-align: right;\">\n",
       "      <th></th>\n",
       "      <th>acc</th>\n",
       "      <th>precision</th>\n",
       "      <th>recall</th>\n",
       "      <th>f1</th>\n",
       "    </tr>\n",
       "    <tr>\n",
       "      <th>classifier</th>\n",
       "      <th></th>\n",
       "      <th></th>\n",
       "      <th></th>\n",
       "      <th></th>\n",
       "    </tr>\n",
       "  </thead>\n",
       "  <tbody>\n",
       "    <tr>\n",
       "      <th>knn</th>\n",
       "      <td>0.593846</td>\n",
       "      <td>0.591463</td>\n",
       "      <td>0.598765</td>\n",
       "      <td>0.595092</td>\n",
       "    </tr>\n",
       "    <tr>\n",
       "      <th>svc</th>\n",
       "      <td>0.541538</td>\n",
       "      <td>0.933333</td>\n",
       "      <td>0.086420</td>\n",
       "      <td>0.158192</td>\n",
       "    </tr>\n",
       "    <tr>\n",
       "      <th>dtc</th>\n",
       "      <td>1.000000</td>\n",
       "      <td>1.000000</td>\n",
       "      <td>1.000000</td>\n",
       "      <td>1.000000</td>\n",
       "    </tr>\n",
       "    <tr>\n",
       "      <th>rtc</th>\n",
       "      <td>1.000000</td>\n",
       "      <td>1.000000</td>\n",
       "      <td>1.000000</td>\n",
       "      <td>1.000000</td>\n",
       "    </tr>\n",
       "    <tr>\n",
       "      <th>gnb</th>\n",
       "      <td>0.889231</td>\n",
       "      <td>1.000000</td>\n",
       "      <td>0.777778</td>\n",
       "      <td>0.875000</td>\n",
       "    </tr>\n",
       "    <tr>\n",
       "      <th>nn</th>\n",
       "      <td>0.504615</td>\n",
       "      <td>0.600000</td>\n",
       "      <td>0.018519</td>\n",
       "      <td>0.035928</td>\n",
       "    </tr>\n",
       "  </tbody>\n",
       "</table>\n",
       "</div>"
      ],
      "text/plain": [
       "                 acc  precision    recall        f1\n",
       "classifier                                         \n",
       "knn         0.593846   0.591463  0.598765  0.595092\n",
       "svc         0.541538   0.933333  0.086420  0.158192\n",
       "dtc         1.000000   1.000000  1.000000  1.000000\n",
       "rtc         1.000000   1.000000  1.000000  1.000000\n",
       "gnb         0.889231   1.000000  0.777778  0.875000\n",
       "nn          0.504615   0.600000  0.018519  0.035928"
      ]
     },
     "execution_count": 34,
     "metadata": {},
     "output_type": "execute_result"
    }
   ],
   "source": [
    "df_metrics = pd.DataFrame(metricas, columns=['acc',\n",
    "                                             'precision',\n",
    "                                             'recall',\n",
    "                                             'f1',\n",
    "                                             'classifier'])\n",
    "\n",
    "df_metrics.set_index('classifier', inplace=True)\n",
    "df_metrics"
   ]
  },
  {
   "cell_type": "markdown",
   "metadata": {},
   "source": [
    "### 8 - Lendo o Resultado"
   ]
  },
  {
   "cell_type": "code",
   "execution_count": 35,
   "metadata": {},
   "outputs": [],
   "source": [
    "n = pd.DataFrame(probabilidades).shape[1]"
   ]
  },
  {
   "cell_type": "code",
   "execution_count": 43,
   "metadata": {},
   "outputs": [
    {
     "data": {
      "text/plain": [
       "[array([0.8, 0.2, 0.8, 0.2, 0.8, 0.4, 0.6, 0.4, 0.4, 1. , 1. , 0.6, 1. ,\n",
       "        0.8, 0.6, 0.4, 0.6, 1. , 0.6, 0.2, 0.2, 0.4, 0.6, 0.4, 1. , 0.2,\n",
       "        0.6, 0. , 0.2, 0.2, 0.8, 0.8, 0. , 0.4, 0. , 0.8, 0.2, 0.6, 0.8,\n",
       "        1. , 0.8, 0.2, 0.4, 0.6, 1. , 0.6, 0.6, 0.8, 0.6, 0.2, 0.6, 0.6,\n",
       "        0.2, 0.6, 1. , 0.4, 0.6, 0.6, 0.8, 0.6, 0.4, 0.4, 0.6, 0.8, 0.6,\n",
       "        0.8, 0.8, 0. , 0.8, 0.4, 0.2, 0.4, 0.4, 0.8, 0.6, 0.2, 0.6, 1. ,\n",
       "        0.8, 0.8, 0.4, 1. , 0.4, 0.4, 0.8, 1. , 0.6, 0. , 1. , 0.2, 0.2,\n",
       "        0. , 0.2, 0.6, 0. , 0.4, 0.4, 0. , 0.2, 1. , 0.8, 0.4, 0. , 0. ,\n",
       "        0.4, 0.2, 0.8, 0.2, 0.6, 0.4, 0. , 0.4, 1. , 1. , 1. , 0.6, 0.2,\n",
       "        0.2, 0.2, 0.8, 1. , 0.6, 0.8, 0.4, 0.6, 0.4, 0.6, 0.4, 1. , 0.8,\n",
       "        0.2, 0.6, 0.6, 0.2, 0.6, 0.6, 0.8, 0.2, 0.2, 0.6, 0.2, 0.4, 0.2,\n",
       "        0.4, 1. , 1. , 0.4, 1. , 0.4, 0.2, 0.2, 0. , 0.6, 0.6, 0.6, 0.2,\n",
       "        0.2, 0.8, 0. , 1. , 0.8, 0.2, 0. , 0.4, 1. , 0.6, 0.6, 0.4, 0.4,\n",
       "        0.2, 0.2, 0. , 0.6, 0.4, 0. , 0.4, 0.4, 0.8, 1. , 0.2, 0.2, 0.8,\n",
       "        0.2, 0.2, 0.4, 0. , 0.4, 1. , 0.2, 0.2, 0.8, 0.2, 0.2, 0.6, 0.6,\n",
       "        0.8, 0.2, 0.6, 0.4, 0.8, 0.6, 0. , 1. , 0. , 0.4, 0.6, 1. , 0.8,\n",
       "        0.8, 0.4, 0. , 0.2, 0.6, 0.6, 0.2, 1. , 0.2, 0.2, 0.6, 0.2, 0.2,\n",
       "        0.4, 0.8, 0.6, 0.4, 0.4, 1. , 0.2, 0.6, 0.6, 0.6, 1. , 0.4, 0.8,\n",
       "        1. , 0.8, 0. , 0.4, 0.8, 1. , 1. , 0.4, 0.6, 0.6, 0.6, 0.4, 0. ,\n",
       "        0. , 0.2, 0.2, 0.2, 0.8, 0. , 0.8, 0.4, 0.6, 0.2, 0.4, 0.2, 0. ,\n",
       "        0. , 1. , 1. , 0.6, 0.6, 1. , 0.4, 0.2, 0.6, 0.2, 0.2, 0.2, 0.8,\n",
       "        0.4, 0.6, 0.6, 0.4, 1. , 0.6, 0.8, 0.6, 0.4, 1. , 0.6, 0.6, 0.6,\n",
       "        0.8, 0.6, 0.4, 0.2, 0.4, 0.4, 0.8, 0.4, 0.2, 0.8, 0.6, 0.6, 0.8,\n",
       "        0.8, 0.6, 0.4, 0. , 0.6, 0.8, 0.8, 0. , 1. , 0.4, 0.8, 0.4, 0.2,\n",
       "        0. , 0.4, 0.4, 0.8, 0.2, 0.8, 0.4, 0. , 0.4, 0. , 0. , 1. , 0.6]),\n",
       " array([0.48467154, 0.48467154, 0.48467154, 0.48467154, 0.48467154,\n",
       "        0.48467154, 0.48467154, 0.96827872, 0.48467154, 0.48467154,\n",
       "        0.48467154, 0.48467154, 0.48467154, 0.48467154, 0.48467154,\n",
       "        0.48467154, 0.48467154, 0.48467154, 0.55029822, 0.48467154,\n",
       "        0.48467154, 0.48467161, 0.48467152, 0.48467154, 0.48467154,\n",
       "        0.48467154, 0.48467154, 0.48467154, 0.48467154, 0.48467154,\n",
       "        0.48467154, 0.48467154, 0.47527627, 0.48467154, 0.48467154,\n",
       "        0.48467154, 0.48467154, 0.48467154, 0.48467154, 0.48467154,\n",
       "        0.9711274 , 0.48467154, 0.48467154, 0.48467154, 0.48467154,\n",
       "        0.48467154, 0.48467154, 0.48467154, 0.48467154, 0.48467154,\n",
       "        0.96827872, 0.48467154, 0.48467154, 0.48467154, 0.48467154,\n",
       "        0.48467154, 0.4846716 , 0.48467154, 0.48467154, 0.48467154,\n",
       "        0.48467154, 0.48467154, 0.48467154, 0.48467154, 0.96827872,\n",
       "        0.48467154, 0.48467154, 0.48467154, 0.48467154, 0.48467154,\n",
       "        0.48467154, 0.48467154, 0.48467154, 0.48467154, 0.48467154,\n",
       "        0.48467154, 0.48467154, 0.48467154, 0.48467154, 0.48467154,\n",
       "        0.48467154, 0.49397507, 0.48467154, 0.48467154, 0.48467154,\n",
       "        0.594284  , 0.48467154, 0.48467154, 0.48467154, 0.48467154,\n",
       "        0.48467154, 0.48467154, 0.48467154, 0.48467154, 0.48467154,\n",
       "        0.48467152, 0.48467154, 0.48467154, 0.48467154, 0.48467154,\n",
       "        0.48467154, 0.48467154, 0.48467154, 0.48467154, 0.48467154,\n",
       "        0.48467154, 0.48467154, 0.48467105, 0.48467154, 0.48467154,\n",
       "        0.48467154, 0.48466364, 0.48467154, 0.48467154, 0.48467154,\n",
       "        0.48467154, 0.48467154, 0.48467154, 0.48467154, 0.48467154,\n",
       "        0.48467154, 0.48467154, 0.48467154, 0.48467154, 0.48467154,\n",
       "        0.48467153, 0.48467154, 0.48467154, 0.48467154, 0.48467154,\n",
       "        0.48467154, 0.48467154, 0.48467154, 0.48467154, 0.48467154,\n",
       "        0.48467154, 0.48467154, 0.48467154, 0.48467154, 0.48467154,\n",
       "        0.48467154, 0.48467154, 0.43119762, 0.48467154, 0.48467154,\n",
       "        0.96827872, 0.48467154, 0.48467154, 0.48467154, 0.48467096,\n",
       "        0.48467154, 0.48467154, 0.48467154, 0.48467154, 0.48467153,\n",
       "        0.48467154, 0.48467154, 0.48467154, 0.48467154, 0.48467154,\n",
       "        0.48467154, 0.48467154, 0.48467154, 0.48467154, 0.48467154,\n",
       "        0.48467154, 0.48467154, 0.48467154, 0.48467154, 0.48467154,\n",
       "        0.48467154, 0.48467154, 0.48467154, 0.48467154, 0.48467154,\n",
       "        0.48467154, 0.48467154, 0.48467154, 0.48467154, 0.48467154,\n",
       "        0.30956487, 0.48467154, 0.48467154, 0.48467154, 0.48467154,\n",
       "        0.48467154, 0.48467154, 0.96827872, 0.48467154, 0.48467154,\n",
       "        0.48467154, 0.48467154, 0.48467154, 0.48467154, 0.48467154,\n",
       "        0.48467154, 0.48467154, 0.48467154, 0.48467154, 0.48467154,\n",
       "        0.48467154, 0.48467154, 0.48467154, 0.48464834, 0.48467154,\n",
       "        0.48467154, 0.48766026, 0.48467154, 0.48467154, 0.48467154,\n",
       "        0.48467154, 0.48467154, 0.48467154, 0.48467154, 0.48467154,\n",
       "        0.48467154, 0.48467154, 0.48467154, 0.48471177, 0.48467154,\n",
       "        0.48467154, 0.48467154, 0.48467154, 0.48467154, 0.48467154,\n",
       "        0.48467154, 0.96827872, 0.48467154, 0.48467154, 0.48467154,\n",
       "        0.48467154, 0.48467154, 0.48467154, 0.48467154, 0.48467154,\n",
       "        0.48467154, 0.48465767, 0.48467154, 0.48467154, 0.48467154,\n",
       "        0.48467154, 0.48467154, 0.48467154, 0.48467154, 0.48467154,\n",
       "        0.48467154, 0.48467154, 0.48467154, 0.48467154, 0.54430187,\n",
       "        0.48467154, 0.48467154, 0.48467154, 0.48467154, 0.48467154,\n",
       "        0.48467154, 0.48466388, 0.48467154, 0.48467154, 0.48467154,\n",
       "        0.48467154, 0.48480757, 0.97112876, 0.48467154, 0.48467154,\n",
       "        0.53439498, 0.48467154, 0.40337922, 0.48467154, 0.48467154,\n",
       "        0.48467154, 0.48467154, 0.48619866, 0.48467154, 0.48467154,\n",
       "        0.48488359, 0.48467154, 0.62189657, 0.48467154, 0.48467163,\n",
       "        0.48467154, 0.48467154, 0.48467154, 0.48467154, 0.48467154,\n",
       "        0.48467154, 0.48467154, 0.48467154, 0.48467154, 0.48467154,\n",
       "        0.48467154, 0.48467154, 0.48467154, 0.48467154, 0.48467154,\n",
       "        0.48467154, 0.48467154, 0.48467154, 0.9711274 , 0.48467154,\n",
       "        0.48467154, 0.48467154, 0.48467154, 0.48467154, 0.48467154,\n",
       "        0.48467154, 0.48467154, 0.48467154, 0.48467154, 0.48467154,\n",
       "        0.48467154, 0.48467154, 0.48467154, 0.48467154, 0.48467154,\n",
       "        0.48467154, 0.48467154, 0.5       , 0.48467154, 0.48467154,\n",
       "        0.48467154, 0.48467154, 0.48467154, 0.96827872, 0.48467154]),\n",
       " array([1., 0., 0., 0., 1., 0., 0., 1., 0., 0., 1., 0., 1., 1., 0., 1., 1.,\n",
       "        1., 1., 0., 0., 1., 0., 1., 1., 1., 1., 1., 0., 1., 0., 0., 0., 1.,\n",
       "        0., 0., 1., 0., 1., 1., 1., 0., 1., 0., 0., 1., 0., 1., 0., 0., 1.,\n",
       "        1., 0., 0., 1., 0., 1., 1., 0., 1., 1., 0., 0., 1., 1., 0., 1., 1.,\n",
       "        0., 0., 0., 1., 1., 1., 0., 0., 1., 1., 0., 0., 0., 1., 0., 1., 1.,\n",
       "        1., 1., 1., 1., 0., 0., 0., 1., 0., 0., 0., 1., 1., 1., 1., 1., 0.,\n",
       "        0., 1., 0., 1., 0., 1., 1., 0., 0., 0., 1., 1., 0., 0., 1., 0., 0.,\n",
       "        1., 1., 0., 1., 0., 0., 0., 0., 0., 1., 1., 0., 0., 0., 1., 1., 1.,\n",
       "        1., 0., 0., 0., 1., 1., 0., 1., 1., 1., 0., 1., 0., 0., 0., 0., 1.,\n",
       "        1., 0., 1., 1., 0., 0., 1., 1., 0., 1., 1., 1., 1., 0., 1., 0., 0.,\n",
       "        0., 1., 0., 1., 1., 0., 0., 1., 1., 1., 0., 1., 0., 0., 1., 0., 0.,\n",
       "        1., 0., 0., 0., 1., 1., 0., 0., 1., 0., 0., 1., 1., 1., 0., 1., 0.,\n",
       "        0., 0., 1., 1., 0., 0., 1., 1., 1., 0., 1., 1., 1., 0., 0., 1., 0.,\n",
       "        1., 0., 1., 1., 0., 1., 0., 0., 0., 0., 1., 1., 0., 1., 1., 0., 1.,\n",
       "        1., 0., 1., 1., 1., 1., 1., 1., 0., 0., 0., 0., 0., 0., 0., 1., 0.,\n",
       "        1., 1., 0., 0., 1., 0., 1., 1., 1., 0., 1., 0., 0., 0., 0., 1., 1.,\n",
       "        1., 1., 0., 1., 1., 1., 0., 1., 0., 0., 1., 1., 1., 0., 0., 0., 0.,\n",
       "        0., 1., 0., 0., 1., 1., 0., 0., 1., 1., 1., 0., 1., 0., 0., 0., 0.,\n",
       "        0., 1., 1., 1., 0., 0., 0., 0., 0., 1., 0., 1., 1., 0., 1., 0., 0.,\n",
       "        1., 0.]),\n",
       " array([1. , 0. , 0.1, 0.3, 1. , 0.1, 0.1, 1. , 0. , 0. , 1. , 0.2, 1. ,\n",
       "        1. , 0.2, 0.9, 1. , 1. , 1. , 0. , 0. , 1. , 0.1, 0.9, 1. , 1. ,\n",
       "        1. , 1. , 0. , 1. , 0.1, 0.2, 0. , 1. , 0.1, 0. , 0.8, 0. , 0.8,\n",
       "        0.9, 1. , 0. , 1. , 0.1, 0.1, 1. , 0. , 1. , 0. , 0.1, 1. , 1. ,\n",
       "        0. , 0. , 1. , 0. , 0.8, 1. , 0. , 1. , 0.8, 0. , 0. , 0.9, 1. ,\n",
       "        0. , 1. , 1. , 0. , 0. , 0. , 1. , 1. , 1. , 0. , 0. , 1. , 1. ,\n",
       "        0. , 0. , 0. , 1. , 0. , 1. , 1. , 1. , 1. , 0.9, 1. , 0.1, 0. ,\n",
       "        0. , 1. , 0. , 0. , 0. , 0.9, 1. , 0.8, 1. , 1. , 0. , 0. , 1. ,\n",
       "        0. , 1. , 0. , 1. , 0.9, 0. , 0. , 0.1, 1. , 1. , 0. , 0. , 1. ,\n",
       "        0. , 0. , 1. , 1. , 0. , 1. , 0. , 0. , 0. , 0. , 0. , 1. , 1. ,\n",
       "        0. , 0. , 0. , 1. , 1. , 0.7, 1. , 0. , 0. , 0.2, 0.8, 0.9, 0.1,\n",
       "        1. , 1. , 1. , 0.1, 1. , 0.2, 0. , 0. , 0. , 1. , 0.8, 0. , 1. ,\n",
       "        1. , 0. , 0. , 1. , 1. , 0. , 0.6, 1. , 1. , 1. , 0. , 1. , 0. ,\n",
       "        0.1, 0. , 1. , 0. , 1. , 1. , 0.3, 0. , 1. , 0.9, 1. , 0. , 1. ,\n",
       "        0. , 0.5, 1. , 0. , 0. , 1. , 0.1, 0.2, 0. , 0.9, 0.9, 0.1, 0. ,\n",
       "        1. , 0. , 0.1, 1. , 1. , 1. , 0. , 1. , 0. , 0. , 0. , 1. , 1. ,\n",
       "        0. , 0. , 1. , 1. , 1. , 0. , 1. , 1. , 0.7, 0. , 0. , 1. , 0. ,\n",
       "        1. , 0.1, 1. , 1. , 0. , 1. , 0. , 0. , 0.1, 0. , 1. , 0.8, 0. ,\n",
       "        1. , 1. , 0. , 1. , 1. , 0. , 1. , 1. , 1. , 1. , 1. , 1. , 0.3,\n",
       "        0.2, 0. , 0. , 0. , 0. , 0. , 1. , 0. , 1. , 0.8, 0. , 0. , 1. ,\n",
       "        0. , 1. , 1. , 1. , 0. , 1. , 0.1, 0. , 0. , 0. , 1. , 1. , 1. ,\n",
       "        0.8, 0.1, 1. , 0.9, 1. , 0.1, 1. , 0. , 0. , 1. , 1. , 1. , 0. ,\n",
       "        0. , 0.1, 0. , 0.1, 1. , 0.2, 0. , 0.8, 0.8, 0. , 0.2, 1. , 1. ,\n",
       "        0.9, 0. , 1. , 0.1, 0.1, 0.5, 0. , 0.1, 0.8, 1. , 1. , 0. , 0. ,\n",
       "        0. , 0. , 0. , 0.9, 0.1, 1. , 1. , 0. , 1. , 0. , 0.3, 1. , 0. ]),\n",
       " array([9.98399927e-01, 1.67070004e-10, 1.25915491e-10, 2.59955690e-02,\n",
       "        1.00000000e+00, 6.10121935e-10, 3.16899957e-09, 9.99749485e-01,\n",
       "        9.43128447e-10, 3.84725007e-10, 1.00000000e+00, 1.40535893e-10,\n",
       "        1.00000000e+00, 1.00000000e+00, 2.71805593e-10, 1.71732257e-07,\n",
       "        1.00000000e+00, 1.00000000e+00, 9.87661456e-06, 4.85523512e-11,\n",
       "        2.86052766e-10, 9.99998503e-01, 1.18842904e-10, 4.92476927e-08,\n",
       "        1.00000000e+00, 7.65944985e-01, 7.78480314e-01, 9.99448348e-01,\n",
       "        2.99429927e-10, 5.09356473e-05, 8.00873380e-09, 5.03481298e-10,\n",
       "        1.34841788e-10, 9.99999991e-01, 1.48947045e-09, 4.34228939e-11,\n",
       "        1.96879081e-09, 5.11401253e-09, 6.39527463e-09, 1.00000000e+00,\n",
       "        1.00000000e+00, 1.36658253e-10, 5.35414217e-01, 6.16805155e-10,\n",
       "        1.51098271e-10, 9.65569006e-01, 1.26786623e-09, 1.00000000e+00,\n",
       "        6.57771471e-11, 3.47725498e-10, 1.00000000e+00, 9.77025401e-01,\n",
       "        2.83785031e-10, 3.13518352e-09, 1.00000000e+00, 1.01059102e-09,\n",
       "        5.48577661e-01, 1.00000000e+00, 1.38578266e-10, 9.91247372e-01,\n",
       "        3.32575473e-09, 2.96925975e-10, 1.88124602e-10, 3.82585348e-09,\n",
       "        1.00000000e+00, 4.66205477e-10, 1.00000000e+00, 9.99926791e-01,\n",
       "        3.00972017e-10, 1.65600810e-10, 5.45940403e-11, 2.41446721e-08,\n",
       "        9.82701225e-01, 1.00000000e+00, 3.88060837e-10, 2.00281322e-10,\n",
       "        1.00000000e+00, 1.00000000e+00, 4.49451021e-10, 2.38310080e-10,\n",
       "        9.79432482e-10, 1.00000000e+00, 2.93370346e-10, 9.99999995e-01,\n",
       "        1.00000000e+00, 1.00000000e+00, 1.00000000e+00, 8.17406273e-01,\n",
       "        1.00000000e+00, 1.77039556e-10, 2.25057659e-10, 2.57071740e-10,\n",
       "        5.39088323e-04, 4.43373743e-09, 1.78945601e-10, 1.69133666e-10,\n",
       "        2.67509454e-07, 9.99999991e-01, 3.91011894e-10, 1.00000000e+00,\n",
       "        1.00000000e+00, 1.18071831e-10, 7.26768149e-08, 9.99999996e-01,\n",
       "        2.54240010e-10, 1.00000000e+00, 3.40755361e-10, 1.08505844e-05,\n",
       "        9.99999996e-01, 3.18058992e-10, 1.21549870e-10, 1.09008166e-09,\n",
       "        1.00000000e+00, 1.00000000e+00, 1.17350123e-10, 2.70997771e-10,\n",
       "        1.00000000e+00, 2.43003423e-10, 2.03565841e-10, 1.00000000e+00,\n",
       "        1.00000000e+00, 4.00914599e-08, 1.00000000e+00, 3.17890156e-10,\n",
       "        9.25437339e-10, 3.47425188e-10, 2.00976563e-09, 3.67997414e-11,\n",
       "        1.00000000e+00, 1.00000000e+00, 1.96011540e-10, 6.87630786e-10,\n",
       "        5.72092298e-11, 1.00000000e+00, 1.00000000e+00, 1.12808346e-07,\n",
       "        9.99999989e-01, 2.07196979e-10, 4.34514475e-10, 8.36738885e-10,\n",
       "        1.00000000e+00, 1.42072269e-02, 5.57344291e-09, 1.00000000e+00,\n",
       "        1.00000000e+00, 1.00000000e+00, 6.59544381e-09, 1.00000000e+00,\n",
       "        2.67420289e-07, 2.28913401e-10, 2.87017625e-10, 2.58959815e-10,\n",
       "        1.00000000e+00, 2.63567564e-09, 2.19943880e-10, 1.00000000e+00,\n",
       "        8.84160532e-06, 1.77189191e-10, 1.30579808e-10, 1.00000000e+00,\n",
       "        1.00000000e+00, 1.73723197e-10, 9.87721840e-10, 1.00000000e+00,\n",
       "        1.00000000e+00, 3.40730825e-01, 2.72175599e-10, 1.00000000e+00,\n",
       "        1.07414088e-07, 4.14771237e-10, 6.59710964e-10, 9.99997027e-01,\n",
       "        2.44735232e-09, 4.39531115e-01, 1.00000000e+00, 5.87995231e-10,\n",
       "        4.46332594e-11, 1.00000000e+00, 1.00000000e+00, 1.00000000e+00,\n",
       "        1.03675151e-10, 1.00000000e+00, 4.00656630e-10, 3.96498452e-07,\n",
       "        1.00000000e+00, 5.61977526e-10, 1.09276942e-10, 1.00000000e+00,\n",
       "        1.69199013e-08, 4.07479557e-10, 5.38069561e-10, 7.88076801e-01,\n",
       "        6.96713837e-01, 1.70959505e-09, 2.75281445e-10, 1.00000000e+00,\n",
       "        2.00790108e-05, 3.42263674e-10, 6.70698129e-01, 1.00000000e+00,\n",
       "        1.00000000e+00, 2.01370432e-10, 1.00000000e+00, 3.19347745e-10,\n",
       "        9.62029976e-11, 5.76842393e-10, 1.00000000e+00, 1.00000000e+00,\n",
       "        3.49907298e-10, 1.14061490e-10, 4.65276025e-01, 1.00000000e+00,\n",
       "        9.60675011e-01, 2.69105691e-10, 1.99761521e-09, 1.00000000e+00,\n",
       "        2.78442238e-08, 1.99743665e-10, 1.11196795e-10, 9.99847912e-01,\n",
       "        7.27613161e-11, 9.99999997e-01, 2.42156828e-10, 1.00000000e+00,\n",
       "        1.00000000e+00, 2.69831111e-09, 1.00000000e+00, 1.55667154e-10,\n",
       "        2.42662863e-10, 3.26408742e-10, 1.65859903e-10, 1.00000000e+00,\n",
       "        5.22463023e-10, 7.06288946e-11, 1.00000000e+00, 1.00000000e+00,\n",
       "        2.88365160e-10, 1.00000000e+00, 1.00000000e+00, 4.83504555e-10,\n",
       "        1.00000000e+00, 8.50485246e-04, 1.00000000e+00, 1.00000000e+00,\n",
       "        1.00000000e+00, 7.73596667e-01, 1.09733542e-09, 1.62122312e-09,\n",
       "        5.53764011e-10, 2.30383684e-10, 1.75388675e-10, 2.08912686e-10,\n",
       "        3.43859106e-09, 1.00000000e+00, 2.74152737e-10, 1.00000000e+00,\n",
       "        4.42122762e-03, 7.71801359e-10, 8.67739287e-11, 1.66925341e-01,\n",
       "        1.75073501e-10, 1.00000000e+00, 1.00000000e+00, 1.00000000e+00,\n",
       "        2.99337299e-10, 1.00000000e+00, 1.42584462e-10, 2.08970223e-10,\n",
       "        1.71930070e-10, 8.79821672e-11, 9.99999997e-01, 2.86253999e-06,\n",
       "        1.00000000e+00, 2.06014176e-10, 8.28127267e-10, 1.00000000e+00,\n",
       "        8.11720407e-07, 1.00000000e+00, 5.90577677e-09, 1.00000000e+00,\n",
       "        3.53670432e-10, 4.21449356e-10, 1.00000000e+00, 1.00000000e+00,\n",
       "        1.00000000e+00, 1.14844871e-09, 2.35502848e-10, 8.03640235e-10,\n",
       "        1.03118048e-09, 3.63238351e-10, 1.00000000e+00, 3.65165768e-10,\n",
       "        1.11842244e-10, 9.03950624e-10, 6.30635332e-02, 9.40485943e-10,\n",
       "        2.77247317e-09, 7.71191251e-02, 1.00000000e+00, 2.05678256e-09,\n",
       "        2.70732687e-07, 9.99999999e-01, 2.18235938e-10, 9.30930121e-09,\n",
       "        5.28367155e-10, 6.83727964e-11, 2.30260272e-10, 7.48810517e-10,\n",
       "        8.63182832e-01, 1.00000000e+00, 2.27695189e-10, 8.64551057e-11,\n",
       "        3.00134019e-10, 1.39647321e-10, 5.35353324e-10, 1.00000000e+00,\n",
       "        3.37227966e-10, 1.00000000e+00, 5.04990403e-09, 4.25103618e-10,\n",
       "        9.99481271e-01, 1.50259387e-10, 3.58625959e-10, 1.00000000e+00,\n",
       "        1.85803782e-10]),\n",
       " array([2.76194722e-098, 1.28820232e-174, 5.71328501e-182, 3.46157027e-142,\n",
       "        3.95961739e-012, 8.36119890e-062, 1.59311961e-096, 2.17198856e-160,\n",
       "        6.43482714e-055, 9.73640909e-045, 1.00000000e+000, 2.68409747e-149,\n",
       "        1.18174985e-020, 3.13683956e-164, 1.89346903e-157, 1.66368082e-101,\n",
       "        3.15453124e-095, 5.95773810e-107, 2.51469272e-084, 5.52190914e-162,\n",
       "        9.42810877e-182, 1.50159937e-160, 3.43299997e-154, 4.42407583e-164,\n",
       "        2.15269347e-016, 3.53937880e-045, 4.34100759e-048, 8.37828827e-133,\n",
       "        7.14415116e-138, 7.28601396e-180, 1.46742037e-170, 9.16674446e-075,\n",
       "        9.01165358e-088, 3.01281644e-161, 1.02349637e-158, 2.78763076e-177,\n",
       "        1.08939491e-156, 3.06065435e-083, 1.86784147e-103, 2.89462055e-005,\n",
       "        3.83617893e-093, 3.53169825e-087, 1.52210368e-053, 2.80286566e-133,\n",
       "        9.88827140e-097, 1.39130202e-091, 2.07319322e-083, 1.05858763e-033,\n",
       "        2.04554927e-162, 9.52394834e-001, 4.48719842e-079, 1.02909081e-061,\n",
       "        1.17677534e-065, 2.16563319e-062, 1.76982609e-005, 1.32218648e-143,\n",
       "        2.91144172e-100, 9.81865406e-042, 1.60801503e-171, 2.90861581e-026,\n",
       "        4.68500139e-134, 4.53560247e-075, 1.37990047e-091, 9.38265491e-053,\n",
       "        3.31117871e-087, 4.64967345e-075, 2.51626165e-161, 6.81301825e-123,\n",
       "        1.98049938e-040, 2.13316892e-070, 1.98129906e-179, 5.73052611e-071,\n",
       "        1.60769202e-068, 9.10341543e-031, 1.46880548e-032, 4.48890761e-133,\n",
       "        9.94016529e-102, 2.23135674e-005, 2.88110565e-031, 2.78537063e-040,\n",
       "        4.29723986e-068, 3.25454775e-093, 1.77354949e-083, 6.91239456e-116,\n",
       "        1.39883939e-011, 4.67763140e-005, 2.68641910e-166, 6.05889361e-128,\n",
       "        2.37710581e-016, 6.64347930e-090, 4.56784006e-138, 3.55762193e-135,\n",
       "        4.87658519e-042, 3.51768403e-071, 6.21691816e-126, 7.26379578e-059,\n",
       "        4.85386639e-138, 2.16100670e-144, 1.33904121e-166, 1.40161710e-032,\n",
       "        8.80149408e-094, 4.42877083e-137, 6.05160618e-129, 6.06935471e-124,\n",
       "        5.63478490e-128, 6.41583911e-055, 6.01771433e-051, 8.59656262e-153,\n",
       "        2.53007336e-139, 1.84822722e-071, 1.58794369e-123, 1.03102063e-079,\n",
       "        2.57237533e-016, 2.59657561e-016, 7.29057144e-043, 2.58574947e-073,\n",
       "        8.66266806e-064, 9.11839404e-056, 2.34481903e-178, 1.21887528e-002,\n",
       "        9.55797483e-095, 9.23934790e-158, 5.03159919e-163, 4.44327342e-163,\n",
       "        1.59145413e-082, 3.27389471e-107, 6.69747452e-023, 4.92895772e-190,\n",
       "        3.24211150e-035, 2.51598720e-092, 6.82224732e-002, 6.14457563e-034,\n",
       "        2.57744893e-172, 4.14345271e-077, 9.87843911e-030, 3.13739734e-031,\n",
       "        1.39021864e-139, 5.48979782e-144, 6.24114417e-161, 6.12975474e-142,\n",
       "        7.59178233e-182, 3.35696933e-156, 7.46460557e-061, 9.79446856e-159,\n",
       "        1.22100186e-005, 5.14337606e-089, 2.27343984e-049, 5.60278375e-034,\n",
       "        1.00000000e+000, 6.30176212e-180, 8.91738619e-082, 2.80594706e-039,\n",
       "        1.70623102e-005, 3.12446666e-064, 1.77393588e-082, 2.09441695e-044,\n",
       "        1.92285713e-068, 1.08644509e-177, 3.26462828e-122, 1.00000000e+000,\n",
       "        4.55847877e-012, 1.48392734e-082, 8.91252319e-061, 9.27486816e-055,\n",
       "        6.77441402e-033, 2.29621384e-165, 4.67799288e-064, 3.34934486e-055,\n",
       "        7.78185517e-155, 7.81112213e-061, 1.00847396e-091, 1.31578283e-038,\n",
       "        9.66902107e-045, 1.96824011e-163, 1.35698662e-128, 1.61033475e-061,\n",
       "        4.16656137e-139, 5.61877932e-034, 1.00393879e-103, 6.25048481e-020,\n",
       "        4.56119690e-083, 6.05779700e-034, 8.40214540e-136, 5.77662064e-082,\n",
       "        2.47404365e-056, 7.66688191e-087, 3.14009300e-130, 1.46678489e-091,\n",
       "        2.35543622e-002, 7.03200916e-117, 8.15351348e-040, 7.50099408e-070,\n",
       "        5.50815087e-077, 4.34712759e-142, 2.25679500e-073, 5.01040385e-037,\n",
       "        1.35241824e-173, 6.96298175e-173, 1.03758757e-048, 3.55325287e-016,\n",
       "        8.75091580e-172, 9.82627578e-123, 8.91031022e-103, 4.49982717e-087,\n",
       "        3.36079206e-081, 8.97660246e-076, 6.06500150e-093, 5.69348585e-167,\n",
       "        3.59261273e-084, 1.96637143e-161, 1.72902954e-101, 2.15168961e-155,\n",
       "        7.06809944e-155, 2.37282323e-110, 3.23662076e-168, 2.83130126e-005,\n",
       "        1.00000000e+000, 4.14495409e-049, 5.54702222e-161, 1.90652695e-065,\n",
       "        9.77358345e-147, 3.79588776e-132, 1.05339335e-173, 1.10546489e-116,\n",
       "        1.61763393e-096, 2.85056549e-090, 6.37966085e-083, 1.16307173e-151,\n",
       "        4.71919600e-164, 2.85509746e-141, 4.17717220e-149, 2.22829590e-016,\n",
       "        2.86045112e-154, 1.38899365e-169, 1.05948745e-005, 8.74419430e-012,\n",
       "        2.29634339e-126, 1.88015951e-100, 9.46361938e-036, 9.18812853e-046,\n",
       "        3.70158676e-096, 4.96927193e-066, 4.73333592e-172, 6.60249768e-088,\n",
       "        2.44003868e-075, 2.90523599e-049, 1.83742431e-135, 4.65552323e-149,\n",
       "        3.55252774e-068, 2.76601746e-082, 2.73566954e-133, 8.86979284e-050,\n",
       "        4.21920635e-042, 1.38208394e-012, 6.73915932e-162, 6.52916970e-087,\n",
       "        2.85686595e-161, 4.13303711e-130, 2.54451594e-180, 4.20396193e-141,\n",
       "        4.01705246e-152, 2.40624963e-035, 3.70537828e-069, 1.18060242e-101,\n",
       "        2.20465011e-140, 1.95634220e-004, 7.71569007e-150, 9.60460733e-002,\n",
       "        1.37514136e-053, 2.30982235e-152, 9.29523565e-150, 3.54990337e-165,\n",
       "        9.36769466e-154, 2.02257120e-071, 1.48932475e-160, 5.88193631e-060,\n",
       "        8.26526206e-052, 8.85220005e-005, 1.33289645e-027, 1.77723702e-162,\n",
       "        1.16562149e-032, 2.71753912e-130, 1.21904670e-089, 4.67886535e-047,\n",
       "        8.10097127e-156, 3.31756688e-016, 2.46721202e-029, 4.42387595e-042,\n",
       "        1.01882579e-011, 2.59062173e-045, 9.96731986e-100, 5.02884218e-090,\n",
       "        7.07897566e-185, 4.92993654e-183, 1.10673908e-134, 3.78446097e-111,\n",
       "        3.72645447e-028, 4.33901994e-174, 3.83617893e-093, 1.95107226e-038,\n",
       "        2.71035288e-025, 5.37355876e-146, 5.22802740e-136, 9.50634997e-017,\n",
       "        2.19094172e-043, 6.86323965e-172, 2.93402135e-179, 4.27592245e-075,\n",
       "        4.72377883e-075, 4.48481686e-015, 7.80223693e-145, 8.95378974e-087,\n",
       "        1.29692380e-054, 3.17300637e-071, 1.00993346e-042, 1.64048854e-043,\n",
       "        3.75965559e-004, 8.20616554e-034, 2.14696610e-078, 4.03054717e-037,\n",
       "        1.88595249e-153, 9.30026719e-126, 1.44702926e-056, 6.96994514e-090,\n",
       "        3.25764185e-070])]"
      ]
     },
     "execution_count": 43,
     "metadata": {},
     "output_type": "execute_result"
    }
   ],
   "source": [
    "list(probabilidades)"
   ]
  },
  {
   "cell_type": "markdown",
   "metadata": {},
   "source": [
    "#### 8.1 Transpondo as colunas do frame 'probabilidades' para facilitar a leitura"
   ]
  },
  {
   "cell_type": "code",
   "execution_count": 44,
   "metadata": {},
   "outputs": [],
   "source": [
    "probabilidades_transposto = np.reshape(probabilidades,(n,6))"
   ]
  },
  {
   "cell_type": "code",
   "execution_count": 45,
   "metadata": {},
   "outputs": [
    {
     "data": {
      "text/html": [
       "<div>\n",
       "<style scoped>\n",
       "    .dataframe tbody tr th:only-of-type {\n",
       "        vertical-align: middle;\n",
       "    }\n",
       "\n",
       "    .dataframe tbody tr th {\n",
       "        vertical-align: top;\n",
       "    }\n",
       "\n",
       "    .dataframe thead th {\n",
       "        text-align: right;\n",
       "    }\n",
       "</style>\n",
       "<table border=\"1\" class=\"dataframe\">\n",
       "  <thead>\n",
       "    <tr style=\"text-align: right;\">\n",
       "      <th>classifier</th>\n",
       "      <th>knn</th>\n",
       "      <th>svc</th>\n",
       "      <th>dtc</th>\n",
       "      <th>rtc</th>\n",
       "      <th>gnb</th>\n",
       "      <th>nn</th>\n",
       "    </tr>\n",
       "  </thead>\n",
       "  <tbody>\n",
       "    <tr>\n",
       "      <th>0</th>\n",
       "      <td>0.8</td>\n",
       "      <td>0.2</td>\n",
       "      <td>0.8</td>\n",
       "      <td>0.2</td>\n",
       "      <td>0.8</td>\n",
       "      <td>0.4</td>\n",
       "    </tr>\n",
       "    <tr>\n",
       "      <th>1</th>\n",
       "      <td>0.6</td>\n",
       "      <td>0.4</td>\n",
       "      <td>0.4</td>\n",
       "      <td>1.0</td>\n",
       "      <td>1.0</td>\n",
       "      <td>0.6</td>\n",
       "    </tr>\n",
       "    <tr>\n",
       "      <th>2</th>\n",
       "      <td>1.0</td>\n",
       "      <td>0.8</td>\n",
       "      <td>0.6</td>\n",
       "      <td>0.4</td>\n",
       "      <td>0.6</td>\n",
       "      <td>1.0</td>\n",
       "    </tr>\n",
       "    <tr>\n",
       "      <th>3</th>\n",
       "      <td>0.6</td>\n",
       "      <td>0.2</td>\n",
       "      <td>0.2</td>\n",
       "      <td>0.4</td>\n",
       "      <td>0.6</td>\n",
       "      <td>0.4</td>\n",
       "    </tr>\n",
       "    <tr>\n",
       "      <th>4</th>\n",
       "      <td>1.0</td>\n",
       "      <td>0.2</td>\n",
       "      <td>0.6</td>\n",
       "      <td>0.0</td>\n",
       "      <td>0.2</td>\n",
       "      <td>0.2</td>\n",
       "    </tr>\n",
       "    <tr>\n",
       "      <th>5</th>\n",
       "      <td>0.8</td>\n",
       "      <td>0.8</td>\n",
       "      <td>0.0</td>\n",
       "      <td>0.4</td>\n",
       "      <td>0.0</td>\n",
       "      <td>0.8</td>\n",
       "    </tr>\n",
       "    <tr>\n",
       "      <th>6</th>\n",
       "      <td>0.2</td>\n",
       "      <td>0.6</td>\n",
       "      <td>0.8</td>\n",
       "      <td>1.0</td>\n",
       "      <td>0.8</td>\n",
       "      <td>0.2</td>\n",
       "    </tr>\n",
       "    <tr>\n",
       "      <th>7</th>\n",
       "      <td>0.4</td>\n",
       "      <td>0.6</td>\n",
       "      <td>1.0</td>\n",
       "      <td>0.6</td>\n",
       "      <td>0.6</td>\n",
       "      <td>0.8</td>\n",
       "    </tr>\n",
       "    <tr>\n",
       "      <th>8</th>\n",
       "      <td>0.6</td>\n",
       "      <td>0.2</td>\n",
       "      <td>0.6</td>\n",
       "      <td>0.6</td>\n",
       "      <td>0.2</td>\n",
       "      <td>0.6</td>\n",
       "    </tr>\n",
       "    <tr>\n",
       "      <th>9</th>\n",
       "      <td>1.0</td>\n",
       "      <td>0.4</td>\n",
       "      <td>0.6</td>\n",
       "      <td>0.6</td>\n",
       "      <td>0.8</td>\n",
       "      <td>0.6</td>\n",
       "    </tr>\n",
       "  </tbody>\n",
       "</table>\n",
       "</div>"
      ],
      "text/plain": [
       "classifier  knn  svc  dtc  rtc  gnb   nn\n",
       "0           0.8  0.2  0.8  0.2  0.8  0.4\n",
       "1           0.6  0.4  0.4  1.0  1.0  0.6\n",
       "2           1.0  0.8  0.6  0.4  0.6  1.0\n",
       "3           0.6  0.2  0.2  0.4  0.6  0.4\n",
       "4           1.0  0.2  0.6  0.0  0.2  0.2\n",
       "5           0.8  0.8  0.0  0.4  0.0  0.8\n",
       "6           0.2  0.6  0.8  1.0  0.8  0.2\n",
       "7           0.4  0.6  1.0  0.6  0.6  0.8\n",
       "8           0.6  0.2  0.6  0.6  0.2  0.6\n",
       "9           1.0  0.4  0.6  0.6  0.8  0.6"
      ]
     },
     "execution_count": 45,
     "metadata": {},
     "output_type": "execute_result"
    }
   ],
   "source": [
    "df_probs = pd.DataFrame(probabilidades_transposto, columns=df_metrics.index)\n",
    "df_probs.head(10)"
   ]
  },
  {
   "cell_type": "markdown",
   "metadata": {},
   "source": [
    "### 9 - Calculando a média das probabilidades\n",
    "\n",
    "Calculando a média da probabilidade de cada algoritmo = ensamble"
   ]
  },
  {
   "cell_type": "code",
   "execution_count": 46,
   "metadata": {},
   "outputs": [],
   "source": [
    "# para calcular a média das colunas axis=0, \n",
    "# para calcular a média das linhas axis=1\n",
    "\n",
    "df_probs['media_modelos'] = df_probs.mean(axis=1)"
   ]
  },
  {
   "cell_type": "code",
   "execution_count": 47,
   "metadata": {},
   "outputs": [
    {
     "data": {
      "text/html": [
       "<div>\n",
       "<style scoped>\n",
       "    .dataframe tbody tr th:only-of-type {\n",
       "        vertical-align: middle;\n",
       "    }\n",
       "\n",
       "    .dataframe tbody tr th {\n",
       "        vertical-align: top;\n",
       "    }\n",
       "\n",
       "    .dataframe thead th {\n",
       "        text-align: right;\n",
       "    }\n",
       "</style>\n",
       "<table border=\"1\" class=\"dataframe\">\n",
       "  <thead>\n",
       "    <tr style=\"text-align: right;\">\n",
       "      <th>classifier</th>\n",
       "      <th>knn</th>\n",
       "      <th>svc</th>\n",
       "      <th>dtc</th>\n",
       "      <th>rtc</th>\n",
       "      <th>gnb</th>\n",
       "      <th>nn</th>\n",
       "      <th>media_modelos</th>\n",
       "    </tr>\n",
       "  </thead>\n",
       "  <tbody>\n",
       "    <tr>\n",
       "      <th>0</th>\n",
       "      <td>0.8</td>\n",
       "      <td>0.2</td>\n",
       "      <td>0.8</td>\n",
       "      <td>0.2</td>\n",
       "      <td>0.8</td>\n",
       "      <td>0.4</td>\n",
       "      <td>0.533333</td>\n",
       "    </tr>\n",
       "    <tr>\n",
       "      <th>1</th>\n",
       "      <td>0.6</td>\n",
       "      <td>0.4</td>\n",
       "      <td>0.4</td>\n",
       "      <td>1.0</td>\n",
       "      <td>1.0</td>\n",
       "      <td>0.6</td>\n",
       "      <td>0.666667</td>\n",
       "    </tr>\n",
       "    <tr>\n",
       "      <th>2</th>\n",
       "      <td>1.0</td>\n",
       "      <td>0.8</td>\n",
       "      <td>0.6</td>\n",
       "      <td>0.4</td>\n",
       "      <td>0.6</td>\n",
       "      <td>1.0</td>\n",
       "      <td>0.733333</td>\n",
       "    </tr>\n",
       "    <tr>\n",
       "      <th>3</th>\n",
       "      <td>0.6</td>\n",
       "      <td>0.2</td>\n",
       "      <td>0.2</td>\n",
       "      <td>0.4</td>\n",
       "      <td>0.6</td>\n",
       "      <td>0.4</td>\n",
       "      <td>0.400000</td>\n",
       "    </tr>\n",
       "    <tr>\n",
       "      <th>4</th>\n",
       "      <td>1.0</td>\n",
       "      <td>0.2</td>\n",
       "      <td>0.6</td>\n",
       "      <td>0.0</td>\n",
       "      <td>0.2</td>\n",
       "      <td>0.2</td>\n",
       "      <td>0.366667</td>\n",
       "    </tr>\n",
       "    <tr>\n",
       "      <th>5</th>\n",
       "      <td>0.8</td>\n",
       "      <td>0.8</td>\n",
       "      <td>0.0</td>\n",
       "      <td>0.4</td>\n",
       "      <td>0.0</td>\n",
       "      <td>0.8</td>\n",
       "      <td>0.466667</td>\n",
       "    </tr>\n",
       "    <tr>\n",
       "      <th>6</th>\n",
       "      <td>0.2</td>\n",
       "      <td>0.6</td>\n",
       "      <td>0.8</td>\n",
       "      <td>1.0</td>\n",
       "      <td>0.8</td>\n",
       "      <td>0.2</td>\n",
       "      <td>0.600000</td>\n",
       "    </tr>\n",
       "    <tr>\n",
       "      <th>7</th>\n",
       "      <td>0.4</td>\n",
       "      <td>0.6</td>\n",
       "      <td>1.0</td>\n",
       "      <td>0.6</td>\n",
       "      <td>0.6</td>\n",
       "      <td>0.8</td>\n",
       "      <td>0.666667</td>\n",
       "    </tr>\n",
       "    <tr>\n",
       "      <th>8</th>\n",
       "      <td>0.6</td>\n",
       "      <td>0.2</td>\n",
       "      <td>0.6</td>\n",
       "      <td>0.6</td>\n",
       "      <td>0.2</td>\n",
       "      <td>0.6</td>\n",
       "      <td>0.466667</td>\n",
       "    </tr>\n",
       "    <tr>\n",
       "      <th>9</th>\n",
       "      <td>1.0</td>\n",
       "      <td>0.4</td>\n",
       "      <td>0.6</td>\n",
       "      <td>0.6</td>\n",
       "      <td>0.8</td>\n",
       "      <td>0.6</td>\n",
       "      <td>0.666667</td>\n",
       "    </tr>\n",
       "  </tbody>\n",
       "</table>\n",
       "</div>"
      ],
      "text/plain": [
       "classifier  knn  svc  dtc  rtc  gnb   nn  media_modelos\n",
       "0           0.8  0.2  0.8  0.2  0.8  0.4       0.533333\n",
       "1           0.6  0.4  0.4  1.0  1.0  0.6       0.666667\n",
       "2           1.0  0.8  0.6  0.4  0.6  1.0       0.733333\n",
       "3           0.6  0.2  0.2  0.4  0.6  0.4       0.400000\n",
       "4           1.0  0.2  0.6  0.0  0.2  0.2       0.366667\n",
       "5           0.8  0.8  0.0  0.4  0.0  0.8       0.466667\n",
       "6           0.2  0.6  0.8  1.0  0.8  0.2       0.600000\n",
       "7           0.4  0.6  1.0  0.6  0.6  0.8       0.666667\n",
       "8           0.6  0.2  0.6  0.6  0.2  0.6       0.466667\n",
       "9           1.0  0.4  0.6  0.6  0.8  0.6       0.666667"
      ]
     },
     "execution_count": 47,
     "metadata": {},
     "output_type": "execute_result"
    }
   ],
   "source": [
    "df_probs.head(10)"
   ]
  },
  {
   "cell_type": "code",
   "execution_count": 48,
   "metadata": {},
   "outputs": [],
   "source": [
    "# acrescentando o Y verdadeiro:\n",
    "df_probs['ytrue'] = Y_test.values"
   ]
  },
  {
   "cell_type": "code",
   "execution_count": 49,
   "metadata": {},
   "outputs": [
    {
     "data": {
      "text/html": [
       "<div>\n",
       "<style scoped>\n",
       "    .dataframe tbody tr th:only-of-type {\n",
       "        vertical-align: middle;\n",
       "    }\n",
       "\n",
       "    .dataframe tbody tr th {\n",
       "        vertical-align: top;\n",
       "    }\n",
       "\n",
       "    .dataframe thead th {\n",
       "        text-align: right;\n",
       "    }\n",
       "</style>\n",
       "<table border=\"1\" class=\"dataframe\">\n",
       "  <thead>\n",
       "    <tr style=\"text-align: right;\">\n",
       "      <th>classifier</th>\n",
       "      <th>knn</th>\n",
       "      <th>svc</th>\n",
       "      <th>dtc</th>\n",
       "      <th>rtc</th>\n",
       "      <th>gnb</th>\n",
       "      <th>nn</th>\n",
       "      <th>media_modelos</th>\n",
       "      <th>ytrue</th>\n",
       "      <th>yhat_media</th>\n",
       "    </tr>\n",
       "  </thead>\n",
       "  <tbody>\n",
       "    <tr>\n",
       "      <th>0</th>\n",
       "      <td>0.8</td>\n",
       "      <td>0.2</td>\n",
       "      <td>0.8</td>\n",
       "      <td>0.2</td>\n",
       "      <td>0.8</td>\n",
       "      <td>0.4</td>\n",
       "      <td>0.533333</td>\n",
       "      <td>1</td>\n",
       "      <td>True</td>\n",
       "    </tr>\n",
       "    <tr>\n",
       "      <th>1</th>\n",
       "      <td>0.6</td>\n",
       "      <td>0.4</td>\n",
       "      <td>0.4</td>\n",
       "      <td>1.0</td>\n",
       "      <td>1.0</td>\n",
       "      <td>0.6</td>\n",
       "      <td>0.666667</td>\n",
       "      <td>0</td>\n",
       "      <td>True</td>\n",
       "    </tr>\n",
       "    <tr>\n",
       "      <th>2</th>\n",
       "      <td>1.0</td>\n",
       "      <td>0.8</td>\n",
       "      <td>0.6</td>\n",
       "      <td>0.4</td>\n",
       "      <td>0.6</td>\n",
       "      <td>1.0</td>\n",
       "      <td>0.733333</td>\n",
       "      <td>0</td>\n",
       "      <td>True</td>\n",
       "    </tr>\n",
       "    <tr>\n",
       "      <th>3</th>\n",
       "      <td>0.6</td>\n",
       "      <td>0.2</td>\n",
       "      <td>0.2</td>\n",
       "      <td>0.4</td>\n",
       "      <td>0.6</td>\n",
       "      <td>0.4</td>\n",
       "      <td>0.400000</td>\n",
       "      <td>0</td>\n",
       "      <td>False</td>\n",
       "    </tr>\n",
       "    <tr>\n",
       "      <th>4</th>\n",
       "      <td>1.0</td>\n",
       "      <td>0.2</td>\n",
       "      <td>0.6</td>\n",
       "      <td>0.0</td>\n",
       "      <td>0.2</td>\n",
       "      <td>0.2</td>\n",
       "      <td>0.366667</td>\n",
       "      <td>1</td>\n",
       "      <td>False</td>\n",
       "    </tr>\n",
       "  </tbody>\n",
       "</table>\n",
       "</div>"
      ],
      "text/plain": [
       "classifier  knn  svc  dtc  rtc  gnb   nn  media_modelos  ytrue  yhat_media\n",
       "0           0.8  0.2  0.8  0.2  0.8  0.4       0.533333      1        True\n",
       "1           0.6  0.4  0.4  1.0  1.0  0.6       0.666667      0        True\n",
       "2           1.0  0.8  0.6  0.4  0.6  1.0       0.733333      0        True\n",
       "3           0.6  0.2  0.2  0.4  0.6  0.4       0.400000      0       False\n",
       "4           1.0  0.2  0.6  0.0  0.2  0.2       0.366667      1       False"
      ]
     },
     "execution_count": 49,
     "metadata": {},
     "output_type": "execute_result"
    }
   ],
   "source": [
    "# Ajustando a media dos modelos para classificar como fraude (1) ou não fraude(0)\n",
    "\n",
    "df_probs['yhat_media'] = df_probs['media_modelos']>0.5\n",
    "df_probs.head()"
   ]
  },
  {
   "cell_type": "code",
   "execution_count": 50,
   "metadata": {},
   "outputs": [
    {
     "data": {
      "text/html": [
       "<div>\n",
       "<style scoped>\n",
       "    .dataframe tbody tr th:only-of-type {\n",
       "        vertical-align: middle;\n",
       "    }\n",
       "\n",
       "    .dataframe tbody tr th {\n",
       "        vertical-align: top;\n",
       "    }\n",
       "\n",
       "    .dataframe thead th {\n",
       "        text-align: right;\n",
       "    }\n",
       "</style>\n",
       "<table border=\"1\" class=\"dataframe\">\n",
       "  <thead>\n",
       "    <tr style=\"text-align: right;\">\n",
       "      <th>classifier</th>\n",
       "      <th>knn</th>\n",
       "      <th>svc</th>\n",
       "      <th>dtc</th>\n",
       "      <th>rtc</th>\n",
       "      <th>gnb</th>\n",
       "      <th>nn</th>\n",
       "      <th>media_modelos</th>\n",
       "      <th>ytrue</th>\n",
       "      <th>yhat_media</th>\n",
       "    </tr>\n",
       "  </thead>\n",
       "  <tbody>\n",
       "    <tr>\n",
       "      <th>0</th>\n",
       "      <td>0.8</td>\n",
       "      <td>0.2</td>\n",
       "      <td>0.8</td>\n",
       "      <td>0.2</td>\n",
       "      <td>0.8</td>\n",
       "      <td>0.4</td>\n",
       "      <td>0.533333</td>\n",
       "      <td>1</td>\n",
       "      <td>1</td>\n",
       "    </tr>\n",
       "    <tr>\n",
       "      <th>1</th>\n",
       "      <td>0.6</td>\n",
       "      <td>0.4</td>\n",
       "      <td>0.4</td>\n",
       "      <td>1.0</td>\n",
       "      <td>1.0</td>\n",
       "      <td>0.6</td>\n",
       "      <td>0.666667</td>\n",
       "      <td>0</td>\n",
       "      <td>1</td>\n",
       "    </tr>\n",
       "    <tr>\n",
       "      <th>2</th>\n",
       "      <td>1.0</td>\n",
       "      <td>0.8</td>\n",
       "      <td>0.6</td>\n",
       "      <td>0.4</td>\n",
       "      <td>0.6</td>\n",
       "      <td>1.0</td>\n",
       "      <td>0.733333</td>\n",
       "      <td>0</td>\n",
       "      <td>1</td>\n",
       "    </tr>\n",
       "    <tr>\n",
       "      <th>3</th>\n",
       "      <td>0.6</td>\n",
       "      <td>0.2</td>\n",
       "      <td>0.2</td>\n",
       "      <td>0.4</td>\n",
       "      <td>0.6</td>\n",
       "      <td>0.4</td>\n",
       "      <td>0.400000</td>\n",
       "      <td>0</td>\n",
       "      <td>0</td>\n",
       "    </tr>\n",
       "    <tr>\n",
       "      <th>4</th>\n",
       "      <td>1.0</td>\n",
       "      <td>0.2</td>\n",
       "      <td>0.6</td>\n",
       "      <td>0.0</td>\n",
       "      <td>0.2</td>\n",
       "      <td>0.2</td>\n",
       "      <td>0.366667</td>\n",
       "      <td>1</td>\n",
       "      <td>0</td>\n",
       "    </tr>\n",
       "  </tbody>\n",
       "</table>\n",
       "</div>"
      ],
      "text/plain": [
       "classifier  knn  svc  dtc  rtc  gnb   nn  media_modelos  ytrue  yhat_media\n",
       "0           0.8  0.2  0.8  0.2  0.8  0.4       0.533333      1           1\n",
       "1           0.6  0.4  0.4  1.0  1.0  0.6       0.666667      0           1\n",
       "2           1.0  0.8  0.6  0.4  0.6  1.0       0.733333      0           1\n",
       "3           0.6  0.2  0.2  0.4  0.6  0.4       0.400000      0           0\n",
       "4           1.0  0.2  0.6  0.0  0.2  0.2       0.366667      1           0"
      ]
     },
     "execution_count": 50,
     "metadata": {},
     "output_type": "execute_result"
    }
   ],
   "source": [
    "# transformando a coluna yhat_media em número - função nativa do pandas para booleandos\n",
    "\n",
    "df_probs['yhat_media'] = df_probs['yhat_media'].astype(int)\n",
    "df_probs.head()"
   ]
  },
  {
   "cell_type": "markdown",
   "metadata": {},
   "source": [
    "### 10 - Verificando a ACURÁCIA, RECALL, PRECISION e F1 do modelo final"
   ]
  },
  {
   "cell_type": "code",
   "execution_count": 51,
   "metadata": {},
   "outputs": [
    {
     "name": "stdout",
     "output_type": "stream",
     "text": [
      "Acc: 0.5107692307692308\n",
      "Precision: 0.5172413793103449\n",
      "Recall: 0.2777777777777778\n",
      "F1: 0.3614457831325302\n"
     ]
    },
    {
     "data": {
      "image/png": "[encoded data removed]",
      "text/plain": [
       "<Figure size 432x288 with 2 Axes>"
      ]
     },
     "metadata": {
      "needs_background": "light"
     },
     "output_type": "display_data"
    }
   ],
   "source": [
    "result = print_metrics(ytrue = df_probs['ytrue'],\n",
    "                        yhat = df_probs['yhat_media'],\n",
    "                        yhat_prob = df_probs['media_modelos'])"
   ]
  },
  {
   "cell_type": "markdown",
   "metadata": {},
   "source": [
    "### 11. Analisando a curva ROC"
   ]
  },
  {
   "cell_type": "code",
   "execution_count": 53,
   "metadata": {},
   "outputs": [
    {
     "data": {
      "text/html": [
       "<div>\n",
       "<style scoped>\n",
       "    .dataframe tbody tr th:only-of-type {\n",
       "        vertical-align: middle;\n",
       "    }\n",
       "\n",
       "    .dataframe tbody tr th {\n",
       "        vertical-align: top;\n",
       "    }\n",
       "\n",
       "    .dataframe thead th {\n",
       "        text-align: right;\n",
       "    }\n",
       "</style>\n",
       "<table border=\"1\" class=\"dataframe\">\n",
       "  <thead>\n",
       "    <tr style=\"text-align: right;\">\n",
       "      <th>classifier</th>\n",
       "      <th>knn</th>\n",
       "      <th>svc</th>\n",
       "      <th>dtc</th>\n",
       "      <th>rtc</th>\n",
       "      <th>gnb</th>\n",
       "      <th>nn</th>\n",
       "      <th>media_modelos</th>\n",
       "      <th>ytrue</th>\n",
       "      <th>yhat_media</th>\n",
       "    </tr>\n",
       "  </thead>\n",
       "  <tbody>\n",
       "    <tr>\n",
       "      <th>count</th>\n",
       "      <td>3.250000e+02</td>\n",
       "      <td>3.250000e+02</td>\n",
       "      <td>3.250000e+02</td>\n",
       "      <td>3.250000e+02</td>\n",
       "      <td>3.250000e+02</td>\n",
       "      <td>3.250000e+02</td>\n",
       "      <td>3.250000e+02</td>\n",
       "      <td>325.000000</td>\n",
       "      <td>325.000000</td>\n",
       "    </tr>\n",
       "    <tr>\n",
       "      <th>mean</th>\n",
       "      <td>4.039232e-01</td>\n",
       "      <td>3.962719e-01</td>\n",
       "      <td>3.954467e-01</td>\n",
       "      <td>4.003450e-01</td>\n",
       "      <td>3.854910e-01</td>\n",
       "      <td>4.239348e-01</td>\n",
       "      <td>4.009021e-01</td>\n",
       "      <td>0.498462</td>\n",
       "      <td>0.267692</td>\n",
       "    </tr>\n",
       "    <tr>\n",
       "      <th>std</th>\n",
       "      <td>4.103928e-01</td>\n",
       "      <td>4.082884e-01</td>\n",
       "      <td>4.097955e-01</td>\n",
       "      <td>4.073143e-01</td>\n",
       "      <td>4.030069e-01</td>\n",
       "      <td>4.149985e-01</td>\n",
       "      <td>2.169225e-01</td>\n",
       "      <td>0.500769</td>\n",
       "      <td>0.443439</td>\n",
       "    </tr>\n",
       "    <tr>\n",
       "      <th>min</th>\n",
       "      <td>0.000000e+00</td>\n",
       "      <td>0.000000e+00</td>\n",
       "      <td>0.000000e+00</td>\n",
       "      <td>0.000000e+00</td>\n",
       "      <td>0.000000e+00</td>\n",
       "      <td>0.000000e+00</td>\n",
       "      <td>4.191155e-85</td>\n",
       "      <td>0.000000</td>\n",
       "      <td>0.000000</td>\n",
       "    </tr>\n",
       "    <tr>\n",
       "      <th>25%</th>\n",
       "      <td>4.275922e-75</td>\n",
       "      <td>5.634785e-128</td>\n",
       "      <td>5.776621e-82</td>\n",
       "      <td>2.073193e-83</td>\n",
       "      <td>1.483927e-82</td>\n",
       "      <td>1.522104e-53</td>\n",
       "      <td>3.267792e-01</td>\n",
       "      <td>0.000000</td>\n",
       "      <td>0.000000</td>\n",
       "    </tr>\n",
       "    <tr>\n",
       "      <th>50%</th>\n",
       "      <td>4.000000e-01</td>\n",
       "      <td>4.000000e-01</td>\n",
       "      <td>4.000000e-01</td>\n",
       "      <td>4.000000e-01</td>\n",
       "      <td>3.000000e-01</td>\n",
       "      <td>4.000000e-01</td>\n",
       "      <td>4.846714e-01</td>\n",
       "      <td>0.000000</td>\n",
       "      <td>0.000000</td>\n",
       "    </tr>\n",
       "    <tr>\n",
       "      <th>75%</th>\n",
       "      <td>9.000000e-01</td>\n",
       "      <td>8.000000e-01</td>\n",
       "      <td>8.000000e-01</td>\n",
       "      <td>8.000000e-01</td>\n",
       "      <td>8.000000e-01</td>\n",
       "      <td>9.999268e-01</td>\n",
       "      <td>5.000000e-01</td>\n",
       "      <td>1.000000</td>\n",
       "      <td>1.000000</td>\n",
       "    </tr>\n",
       "    <tr>\n",
       "      <th>max</th>\n",
       "      <td>1.000000e+00</td>\n",
       "      <td>1.000000e+00</td>\n",
       "      <td>1.000000e+00</td>\n",
       "      <td>1.000000e+00</td>\n",
       "      <td>1.000000e+00</td>\n",
       "      <td>1.000000e+00</td>\n",
       "      <td>8.333333e-01</td>\n",
       "      <td>1.000000</td>\n",
       "      <td>1.000000</td>\n",
       "    </tr>\n",
       "  </tbody>\n",
       "</table>\n",
       "</div>"
      ],
      "text/plain": [
       "classifier           knn            svc           dtc           rtc  \\\n",
       "count       3.250000e+02   3.250000e+02  3.250000e+02  3.250000e+02   \n",
       "mean        4.039232e-01   3.962719e-01  3.954467e-01  4.003450e-01   \n",
       "std         4.103928e-01   4.082884e-01  4.097955e-01  4.073143e-01   \n",
       "min         0.000000e+00   0.000000e+00  0.000000e+00  0.000000e+00   \n",
       "25%         4.275922e-75  5.634785e-128  5.776621e-82  2.073193e-83   \n",
       "50%         4.000000e-01   4.000000e-01  4.000000e-01  4.000000e-01   \n",
       "75%         9.000000e-01   8.000000e-01  8.000000e-01  8.000000e-01   \n",
       "max         1.000000e+00   1.000000e+00  1.000000e+00  1.000000e+00   \n",
       "\n",
       "classifier           gnb            nn  media_modelos       ytrue  yhat_media  \n",
       "count       3.250000e+02  3.250000e+02   3.250000e+02  325.000000  325.000000  \n",
       "mean        3.854910e-01  4.239348e-01   4.009021e-01    0.498462    0.267692  \n",
       "std         4.030069e-01  4.149985e-01   2.169225e-01    0.500769    0.443439  \n",
       "min         0.000000e+00  0.000000e+00   4.191155e-85    0.000000    0.000000  \n",
       "25%         1.483927e-82  1.522104e-53   3.267792e-01    0.000000    0.000000  \n",
       "50%         3.000000e-01  4.000000e-01   4.846714e-01    0.000000    0.000000  \n",
       "75%         8.000000e-01  9.999268e-01   5.000000e-01    1.000000    1.000000  \n",
       "max         1.000000e+00  1.000000e+00   8.333333e-01    1.000000    1.000000  "
      ]
     },
     "execution_count": 53,
     "metadata": {},
     "output_type": "execute_result"
    }
   ],
   "source": [
    "df_probs.describe()"
   ]
  },
  {
   "cell_type": "code",
   "execution_count": 66,
   "metadata": {},
   "outputs": [
    {
     "data": {
      "text/html": [
       "<div>\n",
       "<style scoped>\n",
       "    .dataframe tbody tr th:only-of-type {\n",
       "        vertical-align: middle;\n",
       "    }\n",
       "\n",
       "    .dataframe tbody tr th {\n",
       "        vertical-align: top;\n",
       "    }\n",
       "\n",
       "    .dataframe thead th {\n",
       "        text-align: right;\n",
       "    }\n",
       "</style>\n",
       "<table border=\"1\" class=\"dataframe\">\n",
       "  <thead>\n",
       "    <tr style=\"text-align: right;\">\n",
       "      <th>classifier</th>\n",
       "      <th>knn</th>\n",
       "      <th>svc</th>\n",
       "      <th>dtc</th>\n",
       "      <th>rtc</th>\n",
       "      <th>gnb</th>\n",
       "      <th>nn</th>\n",
       "      <th>media_modelos</th>\n",
       "      <th>ytrue</th>\n",
       "      <th>yhat_media</th>\n",
       "    </tr>\n",
       "  </thead>\n",
       "  <tbody>\n",
       "    <tr>\n",
       "      <th>0</th>\n",
       "      <td>0.8</td>\n",
       "      <td>0.2</td>\n",
       "      <td>0.8</td>\n",
       "      <td>0.2</td>\n",
       "      <td>0.8</td>\n",
       "      <td>0.4</td>\n",
       "      <td>0.533333</td>\n",
       "      <td>1</td>\n",
       "      <td>1</td>\n",
       "    </tr>\n",
       "    <tr>\n",
       "      <th>4</th>\n",
       "      <td>1.0</td>\n",
       "      <td>0.2</td>\n",
       "      <td>0.6</td>\n",
       "      <td>0.0</td>\n",
       "      <td>0.2</td>\n",
       "      <td>0.2</td>\n",
       "      <td>0.366667</td>\n",
       "      <td>1</td>\n",
       "      <td>0</td>\n",
       "    </tr>\n",
       "    <tr>\n",
       "      <th>7</th>\n",
       "      <td>0.4</td>\n",
       "      <td>0.6</td>\n",
       "      <td>1.0</td>\n",
       "      <td>0.6</td>\n",
       "      <td>0.6</td>\n",
       "      <td>0.8</td>\n",
       "      <td>0.666667</td>\n",
       "      <td>1</td>\n",
       "      <td>1</td>\n",
       "    </tr>\n",
       "    <tr>\n",
       "      <th>10</th>\n",
       "      <td>0.4</td>\n",
       "      <td>0.4</td>\n",
       "      <td>0.6</td>\n",
       "      <td>0.8</td>\n",
       "      <td>0.6</td>\n",
       "      <td>0.8</td>\n",
       "      <td>0.600000</td>\n",
       "      <td>1</td>\n",
       "      <td>1</td>\n",
       "    </tr>\n",
       "    <tr>\n",
       "      <th>12</th>\n",
       "      <td>0.4</td>\n",
       "      <td>0.8</td>\n",
       "      <td>0.6</td>\n",
       "      <td>0.2</td>\n",
       "      <td>0.6</td>\n",
       "      <td>1.0</td>\n",
       "      <td>0.600000</td>\n",
       "      <td>1</td>\n",
       "      <td>1</td>\n",
       "    </tr>\n",
       "  </tbody>\n",
       "</table>\n",
       "</div>"
      ],
      "text/plain": [
       "classifier  knn  svc  dtc  rtc  gnb   nn  media_modelos  ytrue  yhat_media\n",
       "0           0.8  0.2  0.8  0.2  0.8  0.4       0.533333      1           1\n",
       "4           1.0  0.2  0.6  0.0  0.2  0.2       0.366667      1           0\n",
       "7           0.4  0.6  1.0  0.6  0.6  0.8       0.666667      1           1\n",
       "10          0.4  0.4  0.6  0.8  0.6  0.8       0.600000      1           1\n",
       "12          0.4  0.8  0.6  0.2  0.6  1.0       0.600000      1           1"
      ]
     },
     "execution_count": 66,
     "metadata": {},
     "output_type": "execute_result"
    }
   ],
   "source": [
    "df_probs[df_probs.ytrue==1].head(5)"
   ]
  },
  {
   "cell_type": "code",
   "execution_count": 65,
   "metadata": {},
   "outputs": [
    {
     "data": {
      "image/png": "[encoded data removed]",
      "text/plain": [
       "<Figure size 864x576 with 1 Axes>"
      ]
     },
     "metadata": {
      "needs_background": "light"
     },
     "output_type": "display_data"
    }
   ],
   "source": [
    "plt.figure(figsize=(12,8))\n",
    "\n",
    "for model in list(df_probs):\n",
    "    if 'ytrue' in model or 'yhat_media' in model:\n",
    "        pass\n",
    "    else:\n",
    "        fpr, tpr, _ = metrics.roc_curve(df_probs['ytrue'], df_probs[model])\n",
    "        auc = metrics.roc_auc_score(df_probs['ytrue'], df_probs[model])\n",
    "        plt.plot([0, 1], [0, 1], 'k--')\n",
    "        plt.plot(fpr, tpr, label=model+', Area='+str(np.round(auc,4)))\n",
    "        plt.xlabel('False positive rate')\n",
    "        plt.ylabel('True positive rate')\n",
    "        plt.title('ROC curve')\n",
    "        plt.legend(bbox_to_anchor=(1.0, 1))\n",
    "\n",
    "plt.show()"
   ]
  },
  {
   "cell_type": "code",
   "execution_count": null,
   "metadata": {},
   "outputs": [],
   "source": []
  }
 ],
 "metadata": {
  "kernelspec": {
   "display_name": "Python 3",
   "language": "python",
   "name": "python3"
  },
  "language_info": {
   "codemirror_mode": {
    "name": "ipython",
    "version": 3
   },
   "file_extension": ".py",
   "mimetype": "text/x-python",
   "name": "python",
   "nbconvert_exporter": "python",
   "pygments_lexer": "ipython3",
   "version": "3.7.1"
  }
 },
 "nbformat": 4,
 "nbformat_minor": 2
}
