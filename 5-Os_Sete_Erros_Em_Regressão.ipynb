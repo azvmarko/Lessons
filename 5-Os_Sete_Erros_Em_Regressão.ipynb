{
 "cells": [
  {
   "cell_type": "markdown",
   "metadata": {},
   "source": [
    "# Os 7 erros comuns em Regressão"
   ]
  },
  {
   "cell_type": "markdown",
   "metadata": {},
   "source": [
    "Para uma regressão ser bem feita e bem estruturada é necessário atenção para os tópicos abaixo, pois geralmente são esses os erros mais comuns e que invariavelmente irão trazer um resultado bem longe da realidade estudada.\n",
    "\n",
    "_fonte: aula de Modelagem Estatística, Digital House, curso Ciências de Dados_"
   ]
  },
  {
   "cell_type": "markdown",
   "metadata": {},
   "source": [
    "# 1 - Viés da Variável Omitida"
   ]
  },
  {
   "cell_type": "markdown",
   "metadata": {},
   "source": [
    "Omitir uma variável de um modelo de regressão pode influenciar as estimativas de inclinação para as outras variáveis do modelo. O viés ocorre apenas quando a variável omitida está correlacionada com a variável dependente e com uma das variáveis independentes incluídas.\n",
    "\n",
    "<img src=\"img/7sins OVB.png\" width=\"450\" />"
   ]
  },
  {
   "cell_type": "markdown",
   "metadata": {},
   "source": [
    "\n",
    "## 2 - Viés de Heterogeneidade"
   ]
  },
  {
   "cell_type": "markdown",
   "metadata": {},
   "source": [
    "Também chamado de diferença de grupo, ocorre quando há estruturas de grupo naturais nos dados e há diferenças inatas nos grupos que estão correlacionados com a variável de estudo. Um grupo pode ser composto de muitas pessoas em um ou mais períodos de tempo. Um grupo também pode ser um indivíduo medido ao longo do tempo.\n",
    "\n",
    "Neste exemplo (um estudo médico de pressão arterial), uma regressão mostra uma tendência ascendente na pressão sanguínea à medida que a dosagem aumenta. Cada grupo de 4 itens são as pressões medidas de uma pessoa em um período de tempo.\n",
    "\n",
    "<img src=\"img/hetero1.png\" width=\"450\" />\n",
    "\n",
    "Mas quando o modelo considera as diferenças de grupo, o relacionamento é realmente invertido (isto é, agora há uma tendência de queda).\n",
    "\n",
    "<img src=\"img/hetero2.png\" width=\"450\" />\n",
    "\n",
    "Essencialmente, este é apenas um caso especial de viés de variável omitido, no qual a variável omitida é 'grupo'."
   ]
  },
  {
   "cell_type": "markdown",
   "metadata": {},
   "source": [
    "# 3 - Viés de Seleção"
   ]
  },
  {
   "cell_type": "markdown",
   "metadata": {},
   "source": [
    "O viés de seleção surge quando os indivíduos entram ou saem de grupos de formas não aleatórias. Por exemplo, avaliando o efeito de um programa de sexo somente para abstinência na gravidez na adolescência, se os indivíduos escolherem participar, os resultados serão diferentes de um cenário no qual os indivíduos são aleatoriamente designados para participar ou não.\n",
    "\n",
    "Essencialmente, este é apenas outro caso especial de viés de variável omitido no qual a variável omitida é 'propensão' para participar.\n",
    "\n",
    "### Seleção de Entrada x Saída de Seleção\n",
    "\n",
    "Se a propensão para sair de um estudo estiver correlacionada com as variáveis do estudo, então, o atrito cria um viés, mas  se o atrito é aleatório (não correlacionado), então isso não é um problema."
   ]
  },
  {
   "cell_type": "markdown",
   "metadata": {},
   "source": [
    "# 4 - Multicolineariedade"
   ]
  },
  {
   "cell_type": "markdown",
   "metadata": {},
   "source": [
    "A multicolinearidade ocorre quando as variáveis independentes em um modelo de regressão estão fortemente correlacionadas entre si. Isso torna difícil dizer sobre os efeitos independentes dessas variáveis e também inflaciona os erros-padrão de cada inclinação. Abaixo, vemos que quanto maior a multicolinearidade, menor será a área B, e maiores serão os erros-padrão. Quando os erros-padrão são maiores, os intervalos de confiança são maiores e é menos provável que a inclinação seja estatisticamente significativa.\n",
    "\n",
    "<img src=\"img/multicoll.png\" width=\"450\" />"
   ]
  },
  {
   "cell_type": "markdown",
   "metadata": {},
   "source": [
    "# 5 - Erro de Medição"
   ]
  },
  {
   "cell_type": "markdown",
   "metadata": {},
   "source": [
    "O erro de medição pode influenciar as estimativas de inclinação e alterar os erros-padrão na regressão.\n",
    "\n",
    "O erro de medição é sempre erro aleatório, não erro sistemático. Erro sistemático sempre empurra os resultados na mesma direção. Um exemplo de erro sistemático seria se estivessem medindo o peso de indivíduos com uma escala mal calibrada que adiciona cinco libras a cada leitura. Nesse caso, a média será diferente, mas a variação não será; o declive de regressão será idêntico, mas o intercepto será diferente. Assim, a inclinação não é influenciada pelo erro sistemático de medição.\n",
    "\n",
    "Os efeitos do erro de medição (aleatório) dependem de estar na variável dependente ou independente:\n",
    "\n",
    "### Na Variável Dependente\n",
    "O erro de medição na variável dependente causa variação adicional em Y. A introdução do erro de medição na variável dependente inflará o erro padrão, mas a estimativa de inclinação será idêntica. O erro padrão inflado, por sua vez, tornará menos provável que a inclinação seja estatisticamente significativa.\n",
    "\n",
    "\n",
    "<img src=\"img/dv measerror.png\" width=\"450\" />\n",
    "\n",
    "\n",
    "### Na Variável Independente\n",
    "O erro de medição na variável independente causa uma variância adicional em X. A introdução do erro de medição na variável independente causará o encolhimento da estimativa do declive (chamada atenuação) e reduz o erro padrão. A atenuação sempre empurra a inclinação para zero, não importa se a relação é positiva ou negativa.\n",
    "\n",
    "<img src=\"img/iv measerror.png\" width=\"450\" />"
   ]
  },
  {
   "cell_type": "markdown",
   "metadata": {},
   "source": [
    "# 6 - Viés de Especificação Incorreta"
   ]
  },
  {
   "cell_type": "markdown",
   "metadata": {},
   "source": [
    "O viés pode ser introduzido ao se usar uma forma inadequada do modelo de regressão para as variáveis sob análise. Isso pode ser ilustrado pelo quarteto de Anscombe, um grupo de quatro conjuntos de dados muito diferentes que possuem algumas propriedades estatísticas idênticas (média, variância, correlação e resultados de regressão).\n",
    "<img src=\"img/anscombe data.png\" width=\"450\" />\n",
    "\n",
    "As diferenças são ainda mais impressionantes nos gráficos de dispersão dos quatro conjuntos de dados.\n",
    "<img src=\"img/anscombe graphs.png\" width=\"450\" />\n"
   ]
  },
  {
   "cell_type": "markdown",
   "metadata": {},
   "source": [
    "# 7 - Simultaneidade"
   ]
  },
  {
   "cell_type": "markdown",
   "metadata": {},
   "source": [
    "A simultaneidade ocorre quando a estrutura causal forma um ciclo de feedback. Quando este é o caso, é muito difícil separar os efeitos independentes. Tal modelo causal é retratado abaixo.\n",
    "<img src=\"img/simult.png\" width=\"450\" />\n"
   ]
  },
  {
   "cell_type": "code",
   "execution_count": null,
   "metadata": {},
   "outputs": [],
   "source": []
  }
 ],
 "metadata": {
  "kernelspec": {
   "display_name": "Python 3",
   "language": "python",
   "name": "python3"
  },
  "language_info": {
   "codemirror_mode": {
    "name": "ipython",
    "version": 3
   },
   "file_extension": ".py",
   "mimetype": "text/x-python",
   "name": "python",
   "nbconvert_exporter": "python",
   "pygments_lexer": "ipython3",
   "version": "3.7.3"
  }
 },
 "nbformat": 4,
 "nbformat_minor": 2
}
