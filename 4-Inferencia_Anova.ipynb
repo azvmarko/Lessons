{
 "cells": [
  {
   "cell_type": "markdown",
   "metadata": {},
   "source": [
    "# Teste para Duas Médias - ANOVA (Analysis of Variance)\n",
    "\n",
    "Análise de variância é a técnica estatística que permite avaliar afirmações sobre as médias de populações. A análise visa, fundamentalmente, verificar se existe uma diferença significativa entre as médias e se os fatores exercem influência em alguma variável dependente, com $k$ populaçõess com médias $\\mu_i$ desconhecidas.\n",
    "\n",
    "Os pressupostos básicos da análise de variância são:\n",
    "\n",
    "- As amostras são aleatórias e independentes\n",
    "- As populações têm distribuição normal (o teste é paramétrico)\n",
    "- As variâncias populacionais são iguais\n",
    "\n",
    "Na prática, esses pressupostos não precisam ser todos rigorosamente satisfeitos. Os resultados são empiricamente verdadeiros sempre que as populações são aproximadamente normais (isso é, não muito assimétricas) e têm variâncias próximas. \n",
    "\n",
    "Queremos testar se as $k$ médias são iguais, para isto vamos utilizara tabela **ANOVA - Analysis of Variance**\n",
    "\n",
    "Variação dos dados:\n",
    "\n",
    "<br>\n",
    "$$SQT = \\sum_{i=1}^{k}\\sum_{j=1}^{n_i} (x_{ij}- \\overline x)^2 = \n",
    "        \\sum_{i=1}^{k}\\sum_{j=1}^{n_i} x_{ij}^2 - \n",
    "        \\frac{1}{n}\\Big(\\sum_{i=1}^{k}\\sum_{j=1}^{n_i} x_{ij}\\Big)^2 $$\n",
    "<br><br>\n",
    "$$SQE = \\sum_{i=1}^{k} n_i(\\overline x_{i}- \\overline x)^2 =\n",
    "        \\sum_{i=1}^{k} \\frac{1}{n_i}\\Big (\\sum_{j=1}^{n_i} x_{ij}\\Big)^2 -\n",
    "        \\frac{1}{n}\\Big(\\sum_{i=1}^{k}\\sum_{j=1}^{n_i} x_{ij}\\Big)^2 $$\n",
    "<br><br>\n",
    "$$SQR =  \\sum_{i=1}^{k}\\sum_{j=1}^{n_i} x_{ij}^2 -\n",
    "         \\sum_{i=1}^{k} \\frac{1}{n_i}\\Big (\\sum_{j=1}^{n_i} x_{ij}\\Big)^2$$\n",
    "<br><br>\n",
    "Verifica-se que:\n",
    "\n",
    "$$SQT=SQE+SQR$$\n",
    "\n",
    "onde:\n",
    "\n",
    "- SQT: Soma dos Quadrados Total\n",
    "- SQE: Soma dos Quadrados Explicada\n",
    "- SQR: Soma dos Quadrados dos Resíduos\n",
    "\n",
    "<br><br>\n",
    "<img src=\"img/anova.png\" width=\"450\" />\n",
    "<br><br>\n",
    "\n",
    "Dentro das premissas de variáveis aleatórias e independentes, o ideal é que cada uma das variáveis de um modelo explique uma determinada parte da variável dependente. Com isso, podemos imaginar como o *fit* desejado, variáveis independentes entre si conforme ilustrado na figura abaixo.\n"
   ]
  },
  {
   "cell_type": "markdown",
   "metadata": {
    "ExecuteTime": {
     "end_time": "2019-09-16T15:21:43.174640Z",
     "start_time": "2019-09-16T15:21:43.167638Z"
    }
   },
   "source": [
    "<br><br>\n",
    "<img src=\"img/anova_explicada.png\" width=\"350\" />\n",
    "<br><br>"
   ]
  },
  {
   "cell_type": "markdown",
   "metadata": {},
   "source": [
    "# Exemplo: DataSet de crescimento de dentes com duas terapias diferentes\n",
    "\n",
    "O DataSet representa o crescimento de dentes em animais submetidos a duas terapias alternativas, onde a resposta é o comprimento dos odontoblastos (células responsáveis pelo crescimento dentário) em 60 porquinhos-da-índia. Cada animal recebeu um dos três níveis de dose de vitamina C (0,5, 1 e 2 mg / dia) por um dos dois métodos de entrega (suco de laranja \"OJ\" ou ácido ascórbico (uma forma de vitamina C e codificada como \"CV\").\n",
    "\n",
    "Uma vantagem importante do ANOVA de duas vias é que ele é mais eficiente em comparação com o one-way. Existem duas fontes de variação designáveis supp e dose em nosso exemplo - e isso ajuda a reduzir a variação de erros, tornando esse design mais eficiente. A ANOVA bidirecional (fatorial) pode ser usada para, por exemplo, comparar as médias das populações que são diferentes de duas maneiras. Também pode ser usado para analisar as respostas médias em um experimento com dois fatores. Ao contrário do One-Way ANOVA, ele nos permite testar o efeito de dois fatores ao mesmo tempo. Pode-se também testar a independência dos fatores, desde que haja mais de uma observação em cada célula. A única restrição é que o número de observações em cada célula deve ser igual (não existe tal restrição no caso de ANOVA unidirecional).\n",
    "\n",
    "Discutimos modelos lineares mais cedo - e ANOVA é de fato um tipo de modelo linear - a diferença é que ANOVA é onde você tem fatores discretos cujo efeito em um resultado contínuo (variável) você quer entender."
   ]
  },
  {
   "cell_type": "markdown",
   "metadata": {},
   "source": [
    "## Importando as bibliotecas"
   ]
  },
  {
   "cell_type": "code",
   "execution_count": 2,
   "metadata": {
    "ExecuteTime": {
     "end_time": "2019-09-16T16:29:16.505915Z",
     "start_time": "2019-09-16T16:28:59.275880Z"
    }
   },
   "outputs": [],
   "source": [
    "import pandas as pd\n",
    "import statsmodels.api as sm\n",
    "from statsmodels.formula.api import ols\n",
    "from statsmodels.stats.anova import anova_lm\n",
    "from statsmodels.graphics.factorplots import interaction_plot\n",
    "import matplotlib.pyplot as plt\n",
    "from scipy import stats"
   ]
  },
  {
   "cell_type": "markdown",
   "metadata": {},
   "source": [
    "## Importando os dados"
   ]
  },
  {
   "cell_type": "code",
   "execution_count": 3,
   "metadata": {
    "ExecuteTime": {
     "end_time": "2019-09-16T16:29:36.838215Z",
     "start_time": "2019-09-16T16:29:36.634055Z"
    }
   },
   "outputs": [],
   "source": [
    "datafile = \"dados/ToothGrowth.csv\"\n",
    "data = pd.read_csv(datafile)"
   ]
  },
  {
   "cell_type": "code",
   "execution_count": 4,
   "metadata": {
    "ExecuteTime": {
     "end_time": "2019-09-16T16:29:39.723260Z",
     "start_time": "2019-09-16T16:29:39.667221Z"
    }
   },
   "outputs": [
    {
     "data": {
      "text/html": [
       "<div>\n",
       "<style scoped>\n",
       "    .dataframe tbody tr th:only-of-type {\n",
       "        vertical-align: middle;\n",
       "    }\n",
       "\n",
       "    .dataframe tbody tr th {\n",
       "        vertical-align: top;\n",
       "    }\n",
       "\n",
       "    .dataframe thead th {\n",
       "        text-align: right;\n",
       "    }\n",
       "</style>\n",
       "<table border=\"1\" class=\"dataframe\">\n",
       "  <thead>\n",
       "    <tr style=\"text-align: right;\">\n",
       "      <th></th>\n",
       "      <th>Unnamed: 0</th>\n",
       "      <th>len</th>\n",
       "      <th>supp</th>\n",
       "      <th>dose</th>\n",
       "    </tr>\n",
       "  </thead>\n",
       "  <tbody>\n",
       "    <tr>\n",
       "      <th>0</th>\n",
       "      <td>1</td>\n",
       "      <td>4.2</td>\n",
       "      <td>VC</td>\n",
       "      <td>0.5</td>\n",
       "    </tr>\n",
       "    <tr>\n",
       "      <th>1</th>\n",
       "      <td>2</td>\n",
       "      <td>11.5</td>\n",
       "      <td>VC</td>\n",
       "      <td>0.5</td>\n",
       "    </tr>\n",
       "    <tr>\n",
       "      <th>2</th>\n",
       "      <td>3</td>\n",
       "      <td>7.3</td>\n",
       "      <td>VC</td>\n",
       "      <td>0.5</td>\n",
       "    </tr>\n",
       "    <tr>\n",
       "      <th>3</th>\n",
       "      <td>4</td>\n",
       "      <td>5.8</td>\n",
       "      <td>VC</td>\n",
       "      <td>0.5</td>\n",
       "    </tr>\n",
       "    <tr>\n",
       "      <th>4</th>\n",
       "      <td>5</td>\n",
       "      <td>6.4</td>\n",
       "      <td>VC</td>\n",
       "      <td>0.5</td>\n",
       "    </tr>\n",
       "  </tbody>\n",
       "</table>\n",
       "</div>"
      ],
      "text/plain": [
       "   Unnamed: 0   len supp  dose\n",
       "0           1   4.2   VC   0.5\n",
       "1           2  11.5   VC   0.5\n",
       "2           3   7.3   VC   0.5\n",
       "3           4   5.8   VC   0.5\n",
       "4           5   6.4   VC   0.5"
      ]
     },
     "execution_count": 4,
     "metadata": {},
     "output_type": "execute_result"
    }
   ],
   "source": [
    "data.head()"
   ]
  },
  {
   "cell_type": "code",
   "execution_count": 9,
   "metadata": {
    "ExecuteTime": {
     "end_time": "2019-09-16T16:34:26.060125Z",
     "start_time": "2019-09-16T16:34:25.984076Z"
    }
   },
   "outputs": [
    {
     "data": {
      "text/plain": [
       "VC    30\n",
       "OJ    30\n",
       "Name: supp, dtype: int64"
      ]
     },
     "execution_count": 9,
     "metadata": {},
     "output_type": "execute_result"
    }
   ],
   "source": [
    "data['supp'].value_counts(dropna=False).nlargest()"
   ]
  },
  {
   "cell_type": "code",
   "execution_count": 11,
   "metadata": {
    "ExecuteTime": {
     "end_time": "2019-09-16T16:36:07.817179Z",
     "start_time": "2019-09-16T16:36:07.807173Z"
    }
   },
   "outputs": [
    {
     "data": {
      "text/plain": [
       "26.4    4\n",
       "14.5    3\n",
       "16.5    3\n",
       "9.7     2\n",
       "27.3    2\n",
       "Name: len, dtype: int64"
      ]
     },
     "execution_count": 11,
     "metadata": {},
     "output_type": "execute_result"
    }
   ],
   "source": [
    "data['len'].value_counts(dropna=False).head()"
   ]
  },
  {
   "cell_type": "code",
   "execution_count": 5,
   "metadata": {
    "ExecuteTime": {
     "end_time": "2019-09-16T16:29:46.529230Z",
     "start_time": "2019-09-16T16:29:46.519224Z"
    }
   },
   "outputs": [
    {
     "name": "stdout",
     "output_type": "stream",
     "text": [
      "<class 'pandas.core.frame.DataFrame'>\n",
      "RangeIndex: 60 entries, 0 to 59\n",
      "Data columns (total 4 columns):\n",
      "Unnamed: 0    60 non-null int64\n",
      "len           60 non-null float64\n",
      "supp          60 non-null object\n",
      "dose          60 non-null float64\n",
      "dtypes: float64(2), int64(1), object(1)\n",
      "memory usage: 2.0+ KB\n"
     ]
    }
   ],
   "source": [
    "data.info()"
   ]
  },
  {
   "cell_type": "code",
   "execution_count": 6,
   "metadata": {
    "ExecuteTime": {
     "end_time": "2019-09-16T16:29:49.724125Z",
     "start_time": "2019-09-16T16:29:49.656083Z"
    }
   },
   "outputs": [
    {
     "data": {
      "text/html": [
       "<div>\n",
       "<style scoped>\n",
       "    .dataframe tbody tr th:only-of-type {\n",
       "        vertical-align: middle;\n",
       "    }\n",
       "\n",
       "    .dataframe tbody tr th {\n",
       "        vertical-align: top;\n",
       "    }\n",
       "\n",
       "    .dataframe thead th {\n",
       "        text-align: right;\n",
       "    }\n",
       "</style>\n",
       "<table border=\"1\" class=\"dataframe\">\n",
       "  <thead>\n",
       "    <tr style=\"text-align: right;\">\n",
       "      <th></th>\n",
       "      <th>Unnamed: 0</th>\n",
       "      <th>len</th>\n",
       "      <th>dose</th>\n",
       "    </tr>\n",
       "  </thead>\n",
       "  <tbody>\n",
       "    <tr>\n",
       "      <th>count</th>\n",
       "      <td>60.000000</td>\n",
       "      <td>60.000000</td>\n",
       "      <td>60.000000</td>\n",
       "    </tr>\n",
       "    <tr>\n",
       "      <th>mean</th>\n",
       "      <td>30.500000</td>\n",
       "      <td>18.813333</td>\n",
       "      <td>1.166667</td>\n",
       "    </tr>\n",
       "    <tr>\n",
       "      <th>std</th>\n",
       "      <td>17.464249</td>\n",
       "      <td>7.649315</td>\n",
       "      <td>0.628872</td>\n",
       "    </tr>\n",
       "    <tr>\n",
       "      <th>min</th>\n",
       "      <td>1.000000</td>\n",
       "      <td>4.200000</td>\n",
       "      <td>0.500000</td>\n",
       "    </tr>\n",
       "    <tr>\n",
       "      <th>25%</th>\n",
       "      <td>15.750000</td>\n",
       "      <td>13.075000</td>\n",
       "      <td>0.500000</td>\n",
       "    </tr>\n",
       "    <tr>\n",
       "      <th>50%</th>\n",
       "      <td>30.500000</td>\n",
       "      <td>19.250000</td>\n",
       "      <td>1.000000</td>\n",
       "    </tr>\n",
       "    <tr>\n",
       "      <th>75%</th>\n",
       "      <td>45.250000</td>\n",
       "      <td>25.275000</td>\n",
       "      <td>2.000000</td>\n",
       "    </tr>\n",
       "    <tr>\n",
       "      <th>max</th>\n",
       "      <td>60.000000</td>\n",
       "      <td>33.900000</td>\n",
       "      <td>2.000000</td>\n",
       "    </tr>\n",
       "  </tbody>\n",
       "</table>\n",
       "</div>"
      ],
      "text/plain": [
       "       Unnamed: 0        len       dose\n",
       "count   60.000000  60.000000  60.000000\n",
       "mean    30.500000  18.813333   1.166667\n",
       "std     17.464249   7.649315   0.628872\n",
       "min      1.000000   4.200000   0.500000\n",
       "25%     15.750000  13.075000   0.500000\n",
       "50%     30.500000  19.250000   1.000000\n",
       "75%     45.250000  25.275000   2.000000\n",
       "max     60.000000  33.900000   2.000000"
      ]
     },
     "execution_count": 6,
     "metadata": {},
     "output_type": "execute_result"
    }
   ],
   "source": [
    "data.describe()"
   ]
  },
  {
   "cell_type": "code",
   "execution_count": 7,
   "metadata": {
    "ExecuteTime": {
     "end_time": "2019-09-16T16:30:12.917439Z",
     "start_time": "2019-09-16T16:30:12.304512Z"
    }
   },
   "outputs": [
    {
     "data": {
      "image/png": "[encoded data removed]",
      "text/plain": [
       "<Figure size 432x288 with 1 Axes>"
      ]
     },
     "metadata": {
      "needs_background": "light"
     },
     "output_type": "display_data"
    }
   ],
   "source": [
    "fig = interaction_plot(data.dose, data.supp, data.len,\n",
    "             colors=['red','blue'], markers=['D','^'], ms=10)"
   ]
  },
  {
   "cell_type": "markdown",
   "metadata": {},
   "source": [
    "## Calculando a soma dos quadrados\n",
    "\n",
    "<br>\n",
    "<img src=\"img/SS.png\">\n",
    "<br>"
   ]
  },
  {
   "cell_type": "markdown",
   "metadata": {},
   "source": [
    "## Graus de Liberdade, o que são?\n",
    "*fonte https://blog.minitab.com/pt/quais-sao-os-graus-de-liberdade-nas-estatisticas*"
   ]
  },
  {
   "cell_type": "markdown",
   "metadata": {},
   "source": [
    "Imagine que você é uma pessoa que gosta de diversão e adora usar chapéus. Você não dá a menor importância para os graus de liberdade. Você acredita que variedade é o tempero da vida. Infelizmente, você tem restrições. Você tem apenas 7 chapéus. No entanto, você quer usar um chapéu diferente todos os dias da semana.\n",
    "<br>\n",
    "<img src=\"img/chapeus.png\">\n",
    "<br>\n",
    "No primeiro dia, você pode usar qualquer um dos 7 chapéus. No segundo dia, você pode escolher entre os 6 chapéus restantes, no 3º dia você pode escolher entre 5 chapéus e assim por diante.\n",
    "\n",
    "Quando o sexto dia chega, você ainda pode escolher entre dois chapéus que ainda não usou naquela semana. Mas depois de escolher o seu chapéu para o 6º dia, você não tem escolha para o chapéu que você usa no 7º dia. Você deverá usar o único chapéu restante. Você tinha 7-1 = 6 dias de liberdade de “chapéu” — em que o chapéu que você usava poderia variar!\n",
    "\n",
    "Esse é o tipo de ideia que há por trás dos graus de liberdade na estatística. Em geral, os graus de liberdade são definidos como o número de \"observações\" (pontos de dados individuais) nos dados que são livres para variar quando é feita a estimativa dos parâmetros estatísticos.\n",
    "Graus de liberdade: Teste t para 1 amostra\n",
    "Agora imagine que você não gosta de chapéus. Você gosta de análise de dados.\n",
    "\n",
    "Você tem um conjunto de dados com 10 valores. Se você não está estimando nada, cada valor pode receber qualquer número, certo? Cada valor é totalmente livre para variar.\n",
    "\n",
    "Mas suponha que você queira testar a média populacional com uma amostra de 10 valores, e que utilize um teste t para 1 amostra. Agora você tem uma restrição — a estimativa da média. O que é essa restrição, exatamente? Para a definição de média, a seguinte relação deve ser mantida: A soma de todos os valores nos dados deve ser igual a n x a média, em que n é o número de valores no conjunto de dados.\n",
    "\n",
    "Portanto, se um conjunto de dados tiver 10 valores, a soma dos 10 valores deverá ser igual à média x 10. Se a média dos 10 valores for 3.5 (você pode escolher qualquer número), essa restrição exige que a soma dos 10 valores seja igual a 10 x 3.5 = 35.\n",
    "\n",
    "Com essa restrição, o primeiro valor no conjunto de dados é livre para variar. Seja qual for o valor, ainda é possível que a soma de todos os 10 números tenha o valor de 35. O segundo valor também é livre para variar, porque não importa o valor escolhido, ele ainda possibilita que a soma de todos os valores seja 35.\n",
    "\n",
    "De fato, os primeiros 9 valores podem ser qualquer coisa, incluindo estes dois exemplos:\n",
    "\n",
    "34, -8,3, -37, -92, -1, 0, 1, -22, 99\n",
    "0.1, 0.2, 0.3, 0.4, 0.5, 0.6, 0.7, 0.8, 0.9\n",
    "\n",
    "Mas para que todos os 10 valores sejam somados a 35 e tenham uma média de 3.5, o 10º valor não pode variar. Ele deve ser um número específico:\n",
    "\n",
    "34, -8,3, -37, -92, -1, 0, 1, -22, 99  -----> o 10o valor deve ser 61.3\n",
    "0.1, 0.2, 0.3, 0.4, 0.5, 0.6, 0.7, 0.8, 0.9 ----> o 10o valor deve ser 30.5\n",
    "\n",
    "Portanto, você tem 10 - 1 = 9 graus de liberdade. Não importa qual tamanho amostral você usa, ou que valor da media você usa — o último valor da amostra não está livre para variar. Você termina com n - 1 graus de liberdade, em que n é o tamanho amostral.\n",
    "\n",
    "Outra maneira de dizer isso é que o número de graus de liberdade é igual ao número de “observações” menos o número de relacionamentos necessários entre as observações (por exemplo, o número de estimativas de parâmetros). Para um teste t para 1 amostra, um grau de liberdade é utilizado na estimativa da média, e os restantes n - 1 graus de liberdade estimam a variabilidade.\n",
    "\n",
    "Então, os graus para liberdade definem a distribuição t específica que é usada para calcular os valores-p e os valores-t para o teste t.\n"
   ]
  },
  {
   "cell_type": "code",
   "execution_count": 14,
   "metadata": {
    "ExecuteTime": {
     "end_time": "2019-09-16T16:38:46.253125Z",
     "start_time": "2019-09-16T16:38:46.244120Z"
    }
   },
   "outputs": [],
   "source": [
    "# Graus de liberdade\n",
    "\n",
    "N = len(data.len)\n",
    "df_a = len(data.supp.unique()) - 1\n",
    "df_b = len(data.dose.unique()) - 1\n",
    "df_axb = df_a*df_b \n",
    "df_w = N - (len(data.supp.unique())*len(data.dose.unique()))"
   ]
  },
  {
   "cell_type": "code",
   "execution_count": 32,
   "metadata": {
    "ExecuteTime": {
     "end_time": "2019-09-16T16:55:59.546929Z",
     "start_time": "2019-09-16T16:55:59.539927Z"
    }
   },
   "outputs": [
    {
     "name": "stdout",
     "output_type": "stream",
     "text": [
      "N =  60\n",
      "df_a =  1\n",
      "df_b =  2\n",
      "df_axb =  2\n",
      "df_w =  54\n"
     ]
    }
   ],
   "source": [
    "print(\"N = \", N)\n",
    "print(\"df_a = \",df_a)\n",
    "print(\"df_b = \", df_b)\n",
    "print(\"df_axb = \", df_axb)\n",
    "print(\"df_w = \", df_w)"
   ]
  },
  {
   "cell_type": "code",
   "execution_count": 27,
   "metadata": {
    "ExecuteTime": {
     "end_time": "2019-09-16T16:52:50.134885Z",
     "start_time": "2019-09-16T16:52:50.129884Z"
    }
   },
   "outputs": [],
   "source": [
    "grand_mean = data['len'].mean()"
   ]
  },
  {
   "cell_type": "code",
   "execution_count": 33,
   "metadata": {
    "ExecuteTime": {
     "end_time": "2019-09-16T16:57:06.227975Z",
     "start_time": "2019-09-16T16:57:06.222972Z"
    }
   },
   "outputs": [
    {
     "name": "stdout",
     "output_type": "stream",
     "text": [
      "grand_mean =  18.813333333333336\n"
     ]
    }
   ],
   "source": [
    "print(\"grand_mean = \", grand_mean)"
   ]
  },
  {
   "cell_type": "code",
   "execution_count": 34,
   "metadata": {
    "ExecuteTime": {
     "end_time": "2019-09-16T16:57:16.815636Z",
     "start_time": "2019-09-16T16:57:16.347659Z"
    }
   },
   "outputs": [],
   "source": [
    "# SS para o fator A\n",
    "ssq_a = sum([(data[data.supp ==l].len.mean()-grand_mean)**2 for l in data.supp])\n",
    "\n",
    "# SS para o fator B\n",
    "ssq_b = sum([(data[data.dose ==l].len.mean()-grand_mean)**2 for l in data.dose])\n",
    "\n",
    "# SS total\n",
    "ssq_t = sum((data.len - grand_mean)**2)\n",
    "\n",
    "## SS do resíduo\n",
    "vc = data[data.supp == 'VC']\n",
    "oj = data[data.supp == 'OJ']\n",
    "vc_dose_means = [vc[vc.dose == d].len.mean() for d in vc.dose]\n",
    "oj_dose_means = [oj[oj.dose == d].len.mean() for d in oj.dose]\n",
    "ssq_w = sum((oj.len - oj_dose_means)**2) +sum((vc.len - vc_dose_means)**2)\n",
    "\n",
    "# SS de AxB (iterativa)\n",
    "ssq_axb = ssq_t-ssq_a-ssq_b-ssq_w"
   ]
  },
  {
   "cell_type": "markdown",
   "metadata": {},
   "source": [
    "## Média dos Quadrados"
   ]
  },
  {
   "cell_type": "code",
   "execution_count": 35,
   "metadata": {
    "ExecuteTime": {
     "end_time": "2019-09-16T16:57:25.915429Z",
     "start_time": "2019-09-16T16:57:25.910425Z"
    }
   },
   "outputs": [],
   "source": [
    "# MQ da A\n",
    "ms_a = ssq_a/df_a\n",
    "\n",
    "# MQ de B\n",
    "ms_b = ssq_b/df_b\n",
    "\n",
    "# MQ de AxB\n",
    "ms_axb = ssq_axb/df_axb\n",
    "\n",
    "# MQ do resíduo\n",
    "ms_w = ssq_w/df_w"
   ]
  },
  {
   "cell_type": "markdown",
   "metadata": {},
   "source": [
    "## F-Score"
   ]
  },
  {
   "cell_type": "code",
   "execution_count": 36,
   "metadata": {
    "ExecuteTime": {
     "end_time": "2019-09-16T16:57:29.191649Z",
     "start_time": "2019-09-16T16:57:29.186647Z"
    }
   },
   "outputs": [],
   "source": [
    "# F-Score de A\n",
    "f_a = ms_a/ms_w\n",
    "\n",
    "# F-Score de B\n",
    "f_b = ms_b/ms_w\n",
    "\n",
    "# F-Score de C\n",
    "f_axb = ms_axb/ms_w"
   ]
  },
  {
   "cell_type": "markdown",
   "metadata": {},
   "source": [
    "## p-Value"
   ]
  },
  {
   "cell_type": "code",
   "execution_count": 37,
   "metadata": {
    "ExecuteTime": {
     "end_time": "2019-09-16T16:57:32.617314Z",
     "start_time": "2019-09-16T16:57:32.547322Z"
    }
   },
   "outputs": [],
   "source": [
    "# p-Value de A\n",
    "p_a = stats.f.sf(f_a, df_a, df_w)\n",
    "\n",
    "# p-Value de B\n",
    "p_b = stats.f.sf(f_b, df_b, df_w)\n",
    "\n",
    "# p-Value de C\n",
    "p_axb = stats.f.sf(f_axb, df_axb, df_w)"
   ]
  },
  {
   "cell_type": "markdown",
   "metadata": {},
   "source": [
    "## Resultados"
   ]
  },
  {
   "cell_type": "code",
   "execution_count": 38,
   "metadata": {
    "ExecuteTime": {
     "end_time": "2019-09-16T16:57:35.326158Z",
     "start_time": "2019-09-16T16:57:35.316151Z"
    }
   },
   "outputs": [],
   "source": [
    "# Colocando os resultados em um DataFrame\n",
    "\n",
    "results = {'sum_sq':[ssq_a, ssq_b, ssq_axb, ssq_w],\n",
    "           'df':[df_a, df_b, df_axb, df_w],\n",
    "           'F':[f_a, f_b, f_axb, 'NaN'],\n",
    "            'PR(>F)':[p_a, p_b, p_axb, 'NaN']}\n",
    "columns=['sum_sq', 'df', 'F', 'PR(>F)']\n",
    " \n",
    "aov_table1 = pd.DataFrame(results, columns=columns,\n",
    "                          index=['supp', 'dose', \n",
    "                          'supp:dose', 'Residual'])"
   ]
  },
  {
   "cell_type": "code",
   "execution_count": 39,
   "metadata": {
    "ExecuteTime": {
     "end_time": "2019-09-16T16:57:37.302184Z",
     "start_time": "2019-09-16T16:57:37.240143Z"
    }
   },
   "outputs": [
    {
     "name": "stdout",
     "output_type": "stream",
     "text": [
      "                sum_sq  df        F       PR(>F)    eta_sq  omega_sq\n",
      "supp        205.350000   1   15.572  0.000231183  0.059484  0.055452\n",
      "dose       2426.434333   2       92  4.04629e-18  0.702864  0.692579\n",
      "supp:dose   108.319000   2  4.10699    0.0218603  0.031377  0.023647\n",
      "Residual    712.106000  54      NaN          NaN       NaN       NaN\n"
     ]
    }
   ],
   "source": [
    "# Calculando Eta-Squared e Omega-Squared, e imprimindo a tabela\n",
    "\n",
    "def eta_squared(aov):\n",
    "    aov['eta_sq'] = 'NaN'\n",
    "    aov['eta_sq'] = aov[:-1]['sum_sq']/sum(aov['sum_sq'])\n",
    "    return aov\n",
    " \n",
    "def omega_squared(aov):\n",
    "    mse = aov['sum_sq'][-1]/aov['df'][-1]\n",
    "    aov['omega_sq'] = 'NaN'\n",
    "    aov['omega_sq'] = (aov[:-1]['sum_sq']-(aov[:-1]['df']*mse))/(sum(aov['sum_sq'])+mse)\n",
    "    return aov\n",
    " \n",
    " \n",
    "eta_squared(aov_table1)\n",
    "omega_squared(aov_table1)\n",
    "print(aov_table1)"
   ]
  },
  {
   "cell_type": "markdown",
   "metadata": {},
   "source": [
    "### Comentários\n",
    "\n",
    "Os resultados da variável dose tem a maior distância do valor médio (sum_sq) e portanto a maior variância relativa (F-Score). Isto pode ser comprovado pelo Eta-Squared e Omega-Squared (definição abaixo).\n",
    "\n",
    "### Mais sobre Eta-Squared e Omega-Squared\n",
    "\n",
    "Outro conjunto de medidas de tamanho de efeito para variáveis independentes categóricas tem uma interpretação mais intuitiva e é mais fácil de avaliar. Eles incluem o Eta Squared, o Parcial Eta Squared e o Omega Squared. Como a estatística R Squared, todos eles têm a interpretação intuitiva da proporção da variância contabilizada.\n",
    "\n",
    "Eta Squared é calculado da mesma forma que R Squared, e tem a interpretação mais equivalente: da variação total em Y, a proporção que pode ser atribuída a um X específico.\n",
    "\n",
    "O Eta Squared, no entanto, é usado especificamente em modelos ANOVA. Cada efeito categórico no modelo tem seu próprio Eta Squared, de modo que você obtenha uma medida específica e intuitiva do efeito dessa variável.\n",
    "\n",
    "A desvantagem do Eta Squared é que é uma medida tendenciosa da variância da população explicada (embora seja exata para a amostra), sempre superestima.\n",
    "\n",
    "Esse viés fica muito pequeno à medida que o tamanho da amostra aumenta, mas para amostras pequenas, uma medida de tamanho de efeito imparcial é Omega Squared. Omega Squared tem a mesma interpretação básica, mas usa medidas imparciais dos componentes de variância. Por ser uma estimativa imparcial das variâncias populacionais, o Omega Squared é sempre menor que o Eta Squared (ES).\n",
    "\n",
    "Não há padrões acordados sobre como interpretar um ES. A interpretação é basicamente subjetiva. Melhor abordagem é comparar com outros estudos.\n",
    "\n",
    "Cohen (1977):\n",
    "- 0.2 = pequeno\n",
    "- 0.5 = moderado\n",
    "- 0.8 = grande"
   ]
  },
  {
   "cell_type": "markdown",
   "metadata": {},
   "source": [
    "## ANOVA com Statsmodels"
   ]
  },
  {
   "cell_type": "code",
   "execution_count": 40,
   "metadata": {
    "ExecuteTime": {
     "end_time": "2019-09-16T16:59:07.404517Z",
     "start_time": "2019-09-16T16:59:06.554266Z"
    }
   },
   "outputs": [
    {
     "name": "stdout",
     "output_type": "stream",
     "text": [
      "                      sum_sq    df          F        PR(>F)    eta_sq  \\\n",
      "C(supp)           205.350000   1.0  15.571979  2.311828e-04  0.059484   \n",
      "C(dose)          2426.434333   2.0  91.999965  4.046291e-18  0.702864   \n",
      "C(supp):C(dose)   108.319000   2.0   4.106991  2.186027e-02  0.031377   \n",
      "Residual          712.106000  54.0        NaN           NaN       NaN   \n",
      "\n",
      "                 omega_sq  \n",
      "C(supp)          0.055452  \n",
      "C(dose)          0.692579  \n",
      "C(supp):C(dose)  0.023647  \n",
      "Residual              NaN  \n"
     ]
    }
   ],
   "source": [
    "formula = 'len ~ C(supp) + C(dose) + C(supp):C(dose)'\n",
    "model = ols(formula, data).fit()\n",
    "aov_table = anova_lm(model, typ=2)\n",
    "\n",
    "eta_squared(aov_table)\n",
    "omega_squared(aov_table)\n",
    "print(aov_table)"
   ]
  },
  {
   "cell_type": "markdown",
   "metadata": {},
   "source": [
    "## Quantile-Quantile (QQplot)"
   ]
  },
  {
   "cell_type": "code",
   "execution_count": 41,
   "metadata": {
    "ExecuteTime": {
     "end_time": "2019-09-16T16:59:38.685935Z",
     "start_time": "2019-09-16T16:59:38.392930Z"
    }
   },
   "outputs": [
    {
     "data": {
      "image/png": "[encoded data removed]",
      "text/plain": [
       "<Figure size 432x288 with 1 Axes>"
      ]
     },
     "metadata": {
      "needs_background": "light"
     },
     "output_type": "display_data"
    }
   ],
   "source": [
    "res = model.resid \n",
    "fig = sm.qqplot(res, line='s')\n",
    "plt.show()"
   ]
  },
  {
   "cell_type": "code",
   "execution_count": null,
   "metadata": {},
   "outputs": [],
   "source": []
  },
  {
   "cell_type": "code",
   "execution_count": null,
   "metadata": {},
   "outputs": [],
   "source": []
  }
 ],
 "metadata": {
  "hide_input": false,
  "kernelspec": {
   "display_name": "Python 3",
   "language": "python",
   "name": "python3"
  },
  "language_info": {
   "codemirror_mode": {
    "name": "ipython",
    "version": 3
   },
   "file_extension": ".py",
   "mimetype": "text/x-python",
   "name": "python",
   "nbconvert_exporter": "python",
   "pygments_lexer": "ipython3",
   "version": "3.7.3"
  },
  "toc": {
   "base_numbering": 1,
   "nav_menu": {},
   "number_sections": true,
   "sideBar": true,
   "skip_h1_title": true,
   "title_cell": "",
   "title_sidebar": "",
   "toc_cell": false,
   "toc_position": {},
   "toc_section_display": true,
   "toc_window_display": true
  },
  "varInspector": {
   "cols": {
    "lenName": 16,
    "lenType": 16,
    "lenVar": 40
   },
   "kernels_config": {
    "python": {
     "delete_cmd_postfix": "",
     "delete_cmd_prefix": "del ",
     "library": "var_list.py",
     "varRefreshCmd": "print(var_dic_list())"
    },
    "r": {
     "delete_cmd_postfix": ") ",
     "delete_cmd_prefix": "rm(",
     "library": "var_list.r",
     "varRefreshCmd": "cat(var_dic_list()) "
    }
   },
   "types_to_exclude": [
    "module",
    "function",
    "builtin_function_or_method",
    "instance",
    "_Feature"
   ],
   "window_display": false
  }
 },
 "nbformat": 4,
 "nbformat_minor": 2
}
