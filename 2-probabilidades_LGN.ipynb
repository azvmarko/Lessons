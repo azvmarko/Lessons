{
 "cells": [
  {
   "cell_type": "markdown",
   "metadata": {},
   "source": [
    "# Leis dos Grandes Números"
   ]
  },
  {
   "cell_type": "markdown",
   "metadata": {},
   "source": [
    "A LGN é um teorema fundamental da teoria da probabilidade, e descreve o resultado da realização da mesma experiência repetidas vezes. De acordo com a LGN, a média aritmética destes múltiplos resultados tende a se aproximar do valor esperado à medida que mais tentativas se sucederem. Ou seja, quanto mais tentativas são realizadas, mais a probabilidade da média aritmética dos resultados observados irá se aproximar da probabilidade real."
   ]
  },
  {
   "cell_type": "markdown",
   "metadata": {},
   "source": [
    "## Cálculo das probabilidades com uma MOEDA\n",
    "\n",
    "Num jogo de cara ou coroa, qual a probabilidade de a moeda cair do lado cara? \n",
    "\n",
    "O cálculo é : o número de resultados esperados (1) dividido pelo número de resultados possíveis (2, cara e coroa). \n",
    "\n",
    "Ou seja, a probabilidade é de 1/2, nesse caso, podemos dizer ainda que a probabilidade é de \"um para dois\", ou que temos \"50% de chance\".   \n"
   ]
  },
  {
   "cell_type": "code",
   "execution_count": 1,
   "metadata": {},
   "outputs": [],
   "source": [
    "import numpy as np\n",
    "import pandas as pd"
   ]
  },
  {
   "cell_type": "code",
   "execution_count": 2,
   "metadata": {},
   "outputs": [
    {
     "name": "stdout",
     "output_type": "stream",
     "text": [
      "Media com 10 moedas: 0.3\n",
      "Media com 20 moedas: 0.333333\n",
      "Media com 30 moedas: 0.35\n",
      "Media com 50 moedas: 0.418182\n",
      "Media com 100 moedas: 0.442857\n",
      "Media com 1000 moedas: 0.515702\n",
      "Media com 10000 moedas: 0.506512\n",
      "Media com 100000 moedas: 0.501412\n"
     ]
    }
   ],
   "source": [
    "lista_lancamentos = []\n",
    "\n",
    "for lancamentos in [10, 20, 30, 50, 100, 1000, 10000, 100000]: #lista de lançamentos\n",
    "    \n",
    "    for numero_lancamentos in range(lancamentos):\n",
    "        if np.random.randint(low=0, high=2) == 1:\n",
    "            lista_lancamentos.append(1)\n",
    "        else:\n",
    "            lista_lancamentos.append(0)\n",
    "        \n",
    "    df_media = pd.DataFrame(lista_lancamentos, columns = ['moeda'])  \n",
    "    media_calculada = df_media.moeda.mean()\n",
    "    \n",
    "    print(f'Media com {lancamentos} moedas: {round(media_calculada,6)}')"
   ]
  },
  {
   "cell_type": "code",
   "execution_count": 3,
   "metadata": {},
   "outputs": [],
   "source": [
    "df = pd.DataFrame(lista_lancamentos, columns = ['moeda']) #criando um dataframe para analisarmos os resultados"
   ]
  },
  {
   "cell_type": "code",
   "execution_count": 4,
   "metadata": {},
   "outputs": [
    {
     "data": {
      "text/plain": [
       "(111210, 1)"
      ]
     },
     "execution_count": 4,
     "metadata": {},
     "output_type": "execute_result"
    }
   ],
   "source": [
    "df.shape #quantidade de lançamentos - soma da lista de lançamentos"
   ]
  },
  {
   "cell_type": "code",
   "execution_count": 5,
   "metadata": {},
   "outputs": [
    {
     "data": {
      "text/plain": [
       "1    0.501412\n",
       "0    0.498588\n",
       "Name: moeda, dtype: float64"
      ]
     },
     "execution_count": 5,
     "metadata": {},
     "output_type": "execute_result"
    }
   ],
   "source": [
    "df['moeda'].value_counts(3) #quantidade de vezes que saiu cada lado da moeda"
   ]
  },
  {
   "cell_type": "code",
   "execution_count": 6,
   "metadata": {},
   "outputs": [
    {
     "data": {
      "text/plain": [
       "1    0.55762\n",
       "0    0.55448\n",
       "Name: moeda, dtype: float64"
      ]
     },
     "execution_count": 6,
     "metadata": {},
     "output_type": "execute_result"
    }
   ],
   "source": [
    "df['moeda'].value_counts()/lancamentos #em percentual"
   ]
  },
  {
   "cell_type": "markdown",
   "metadata": {},
   "source": [
    "## Cálculo das probabilidades com um DADO"
   ]
  },
  {
   "cell_type": "markdown",
   "metadata": {},
   "source": [
    "### Probabilidade de sair o número 1"
   ]
  },
  {
   "cell_type": "code",
   "execution_count": 10,
   "metadata": {},
   "outputs": [
    {
     "name": "stdout",
     "output_type": "stream",
     "text": [
      "Media com 10 dados: 0.2\n",
      "Media com 20 dados: 0.3\n",
      "Media com 1000 dados: 0.190291\n",
      "Media com 10000 dados: 0.170807\n",
      "Media com 500000 dados: 0.167\n"
     ]
    }
   ],
   "source": [
    "#probabilidade sair o número 1\n",
    "lista_lancamentos = []\n",
    "\n",
    "for lancamentos in [10, 20, 1000, 10000, 500000]:\n",
    "    \n",
    "    for numero_lancamentos in range(lancamentos):\n",
    "        if np.random.randint(low=1, high=7) == 1:\n",
    "            lista_lancamentos.append(1)\n",
    "        else:\n",
    "            lista_lancamentos.append(0)\n",
    "        \n",
    "        \n",
    "    df_media = pd.DataFrame(lista_lancamentos, columns = ['dados'])    \n",
    "    media_calculada = df_media.dados.mean()\n",
    "    \n",
    "    print(f'Media com {lancamentos} dados: {round(media_calculada,6)}')"
   ]
  },
  {
   "cell_type": "code",
   "execution_count": 11,
   "metadata": {},
   "outputs": [
    {
     "data": {
      "text/plain": [
       "0.16666666666666666"
      ]
     },
     "execution_count": 11,
     "metadata": {},
     "output_type": "execute_result"
    }
   ],
   "source": [
    "1/6 #probabilidade de sair um dos lados"
   ]
  },
  {
   "cell_type": "code",
   "execution_count": 12,
   "metadata": {},
   "outputs": [],
   "source": [
    "df = pd.DataFrame(lista_lancamentos, columns = ['dados']) #criando um dataframe para analisarmos os resultados"
   ]
  },
  {
   "cell_type": "code",
   "execution_count": 13,
   "metadata": {},
   "outputs": [
    {
     "data": {
      "text/plain": [
       "0    4256.88\n",
       "1     853.42\n",
       "Name: dados, dtype: float64"
      ]
     },
     "execution_count": 13,
     "metadata": {},
     "output_type": "execute_result"
    }
   ],
   "source": [
    "df['dados'].value_counts()/100 #quantas vezes saiu o número 1 - o 0 representa as outras faces de 2 à 6"
   ]
  },
  {
   "cell_type": "code",
   "execution_count": 16,
   "metadata": {},
   "outputs": [
    {
     "data": {
      "text/plain": [
       "dados    0.167\n",
       "dtype: float64"
      ]
     },
     "execution_count": 16,
     "metadata": {},
     "output_type": "execute_result"
    }
   ],
   "source": [
    "df.sum()/df.shape[0] #probabilidade"
   ]
  },
  {
   "cell_type": "markdown",
   "metadata": {},
   "source": [
    "### Probabilidade de sair o número 6 mais de uma vez em 3 dados "
   ]
  },
  {
   "cell_type": "code",
   "execution_count": 20,
   "metadata": {},
   "outputs": [
    {
     "name": "stdout",
     "output_type": "stream",
     "text": [
      "Wall time: 46.9 ms\n"
     ]
    },
    {
     "name": "stderr",
     "output_type": "stream",
     "text": [
      "C:\\Users\\Marcos\\Anaconda3\\lib\\site-packages\\scipy\\stats\\stats.py:1713: FutureWarning: Using a non-tuple sequence for multidimensional indexing is deprecated; use `arr[tuple(seq)]` instead of `arr[seq]`. In the future this will be interpreted as an array index, `arr[np.array(seq)]`, which will result either in an error or a different result.\n",
      "  return np.add.reduce(sorted[indexer] * weights, axis=axis) / sumval\n"
     ]
    },
    {
     "data": {
      "image/png": "[encoded data removed]",
      "text/plain": [
       "<Figure size 432x288 with 1 Axes>"
      ]
     },
     "metadata": {
      "needs_background": "light"
     },
     "output_type": "display_data"
    }
   ],
   "source": [
    "import numpy as np\n",
    "import pandas as pd\n",
    "import seaborn as sns\n",
    "%matplotlib inline\n",
    "\n",
    "# definimos a quantidade de ensaios.\n",
    "\n",
    "\n",
    "quantidade_ensaios = 10000\n",
    "\n",
    "# definimos a quantidade de lançamentos por ensaio.\n",
    "lançamentos = 3\n",
    "\n",
    "# definimos a probabilidade de obter cada em cada lançamento.\n",
    "probabilidade_sucesso = 1/6\n",
    "\n",
    "# binomial retorna o número de sucessos de cada vez que se realizou um ensaio de 8 lançamentos.\n",
    "%time samples_binomial = np.random.binomial(n = lançamentos, p = probabilidade_sucesso, size = quantidade_ensaios)\n",
    "\n",
    "# construímos um gráfico.\n",
    "eixo_x = 'Número de acertos por ensaio de 3 lançamentos'\n",
    "sns.distplot(samples_binomial, axlabel = eixo_x, kde = False);"
   ]
  },
  {
   "cell_type": "code",
   "execution_count": null,
   "metadata": {},
   "outputs": [],
   "source": [
    "# Lançando 3 dados por 1000 vezes: Probabilidade de se obter nenhum, um, dois e três dados com número seis (com 1/6 de probabilidade) \n",
    "pd.value_counts(samples_binomial)"
   ]
  },
  {
   "cell_type": "code",
   "execution_count": null,
   "metadata": {},
   "outputs": [],
   "source": [
    "len(samples_binomial)"
   ]
  },
  {
   "cell_type": "code",
   "execution_count": 26,
   "metadata": {},
   "outputs": [
    {
     "name": "stdout",
     "output_type": "stream",
     "text": [
      "Lançando 3 dados por 1000 vezes:\n",
      "Probabilidade de se obter nenhum dado com o número 6: 0.5789\n",
      "Probabilidade de se obter 1 dado com o número 6: 0.346\n",
      "Probabilidade de se obter 2 dados com o número 6: 0.0709\n",
      "Probabilidade de se obter 3 dados como número 6: 0.0042\n",
      "Probabilidade de se obter pelos menos 2 dados com o número 6: 0.0751\n"
     ]
    }
   ],
   "source": [
    "print(\"Lançando 3 dados por 1000 vezes:\")\n",
    "\n",
    "print(\"Probabilidade de se obter nenhum dado com o número 6:\",pd.value_counts(samples_binomial)[0]/len(samples_binomial))\n",
    "print(\"Probabilidade de se obter 1 dado com o número 6:\",pd.value_counts(samples_binomial)[1]/len(samples_binomial))\n",
    "print(\"Probabilidade de se obter 2 dados com o número 6:\",pd.value_counts(samples_binomial)[2]/len(samples_binomial))\n",
    "print(\"Probabilidade de se obter 3 dados como número 6:\",pd.value_counts(samples_binomial)[3]/len(samples_binomial))\n",
    "simulator = (pd.value_counts(samples_binomial)[2] + pd.value_counts(samples_binomial)[3])/len(samples_binomial)\n",
    "print(\"Probabilidade de se obter pelos menos 2 dados com o número 6:\", simulator)"
   ]
  },
  {
   "cell_type": "code",
   "execution_count": null,
   "metadata": {},
   "outputs": [],
   "source": []
  },
  {
   "cell_type": "code",
   "execution_count": null,
   "metadata": {},
   "outputs": [],
   "source": []
  },
  {
   "cell_type": "code",
   "execution_count": null,
   "metadata": {},
   "outputs": [],
   "source": []
  },
  {
   "cell_type": "code",
   "execution_count": null,
   "metadata": {},
   "outputs": [],
   "source": []
  },
  {
   "cell_type": "code",
   "execution_count": null,
   "metadata": {},
   "outputs": [],
   "source": []
  }
 ],
 "metadata": {
  "kernelspec": {
   "display_name": "Python 3",
   "language": "python",
   "name": "python3"
  },
  "language_info": {
   "codemirror_mode": {
    "name": "ipython",
    "version": 3
   },
   "file_extension": ".py",
   "mimetype": "text/x-python",
   "name": "python",
   "nbconvert_exporter": "python",
   "pygments_lexer": "ipython3",
   "version": "3.7.1"
  }
 },
 "nbformat": 4,
 "nbformat_minor": 2
}
