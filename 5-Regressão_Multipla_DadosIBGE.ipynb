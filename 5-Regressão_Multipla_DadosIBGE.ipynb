{
 "cells": [
  {
   "cell_type": "markdown",
   "metadata": {},
   "source": [
    "# Regressão Múltipla"
   ]
  },
  {
   "cell_type": "markdown",
   "metadata": {},
   "source": [
    "Para esse estudo será usado um dataset do IBGE com informações de 66.470 indivíduos da população brasileira.\n",
    "<br>\n",
    "Pontos de estudos:\n",
    "\n",
    "- Análise multivariada.\n",
    "- Transformações nas distribuições para serem usadas em uma regressão.\n",
    "- Tratamento de variáveis categóricas.\n",
    "- O que seria afinal uma variável categórica?\n",
    "\n",
    "Perguntas possíveis:\n",
    "\n",
    "- Pessoas casadas ganham mais que pessoas solteiras?\n",
    "- Existe diferença salarial entre as diferentes regiões do país?\n",
    "- O salário aumenta com a idade?\n",
    "- Vale a pena estudar mais para ganhar maiores salarios? Estudar até quando?"
   ]
  },
  {
   "cell_type": "code",
   "execution_count": 1,
   "metadata": {},
   "outputs": [],
   "source": [
    "import pandas as pd\n",
    "import numpy as np\n",
    "import statsmodels.formula.api as smf\n",
    "import matplotlib.pyplot as plt\n",
    "import seaborn as sns\n",
    "from scipy import stats\n",
    "\n",
    "import warnings\n",
    "warnings.filterwarnings(\"ignore\")\n",
    "\n",
    "%matplotlib inline"
   ]
  },
  {
   "cell_type": "markdown",
   "metadata": {},
   "source": [
    "# Importando o dataset"
   ]
  },
  {
   "cell_type": "code",
   "execution_count": 2,
   "metadata": {},
   "outputs": [],
   "source": [
    "caminho = 'C:\\\\Users\\\\Marcos\\\\Documents\\\\datascience_course\\\\Resumo_Aulas\\\\dados\\\\'\n",
    "df = pd.read_csv(caminho + '/ibge_data.csv')"
   ]
  },
  {
   "cell_type": "code",
   "execution_count": 3,
   "metadata": {},
   "outputs": [
    {
     "data": {
      "text/html": [
       "<div>\n",
       "<style scoped>\n",
       "    .dataframe tbody tr th:only-of-type {\n",
       "        vertical-align: middle;\n",
       "    }\n",
       "\n",
       "    .dataframe tbody tr th {\n",
       "        vertical-align: top;\n",
       "    }\n",
       "\n",
       "    .dataframe thead th {\n",
       "        text-align: right;\n",
       "    }\n",
       "</style>\n",
       "<table border=\"1\" class=\"dataframe\">\n",
       "  <thead>\n",
       "    <tr style=\"text-align: right;\">\n",
       "      <th></th>\n",
       "      <th>id</th>\n",
       "      <th>idade</th>\n",
       "      <th>sexo</th>\n",
       "      <th>anos_estudo</th>\n",
       "      <th>cor/raca</th>\n",
       "      <th>salario</th>\n",
       "      <th>estado_civil</th>\n",
       "      <th>regiao</th>\n",
       "    </tr>\n",
       "  </thead>\n",
       "  <tbody>\n",
       "    <tr>\n",
       "      <th>0</th>\n",
       "      <td>1.100190e+10</td>\n",
       "      <td>53</td>\n",
       "      <td>homem</td>\n",
       "      <td>5.0</td>\n",
       "      <td>Parda</td>\n",
       "      <td>63600.000000</td>\n",
       "      <td>1.0</td>\n",
       "      <td>norte</td>\n",
       "    </tr>\n",
       "    <tr>\n",
       "      <th>1</th>\n",
       "      <td>1.100190e+10</td>\n",
       "      <td>49</td>\n",
       "      <td>mulher</td>\n",
       "      <td>8.0</td>\n",
       "      <td>Amarela</td>\n",
       "      <td>NaN</td>\n",
       "      <td>1.0</td>\n",
       "      <td>norte</td>\n",
       "    </tr>\n",
       "    <tr>\n",
       "      <th>2</th>\n",
       "      <td>1.100190e+10</td>\n",
       "      <td>22</td>\n",
       "      <td>mulher</td>\n",
       "      <td>11.0</td>\n",
       "      <td>Indigena</td>\n",
       "      <td>4352.400391</td>\n",
       "      <td>0.0</td>\n",
       "      <td>nordeste</td>\n",
       "    </tr>\n",
       "    <tr>\n",
       "      <th>3</th>\n",
       "      <td>1.100190e+10</td>\n",
       "      <td>55</td>\n",
       "      <td>homem</td>\n",
       "      <td>15.0</td>\n",
       "      <td>Amarela</td>\n",
       "      <td>96600.000000</td>\n",
       "      <td>1.0</td>\n",
       "      <td>norte</td>\n",
       "    </tr>\n",
       "    <tr>\n",
       "      <th>4</th>\n",
       "      <td>1.100190e+10</td>\n",
       "      <td>56</td>\n",
       "      <td>mulher</td>\n",
       "      <td>15.0</td>\n",
       "      <td>Amarela</td>\n",
       "      <td>157800.000000</td>\n",
       "      <td>1.0</td>\n",
       "      <td>norte</td>\n",
       "    </tr>\n",
       "  </tbody>\n",
       "</table>\n",
       "</div>"
      ],
      "text/plain": [
       "             id  idade    sexo  anos_estudo  cor/raca        salario  \\\n",
       "0  1.100190e+10     53   homem          5.0     Parda   63600.000000   \n",
       "1  1.100190e+10     49  mulher          8.0   Amarela            NaN   \n",
       "2  1.100190e+10     22  mulher         11.0  Indigena    4352.400391   \n",
       "3  1.100190e+10     55   homem         15.0   Amarela   96600.000000   \n",
       "4  1.100190e+10     56  mulher         15.0   Amarela  157800.000000   \n",
       "\n",
       "   estado_civil    regiao  \n",
       "0           1.0     norte  \n",
       "1           1.0     norte  \n",
       "2           0.0  nordeste  \n",
       "3           1.0     norte  \n",
       "4           1.0     norte  "
      ]
     },
     "execution_count": 3,
     "metadata": {},
     "output_type": "execute_result"
    }
   ],
   "source": [
    "df.head()"
   ]
  },
  {
   "cell_type": "markdown",
   "metadata": {},
   "source": [
    "# Analisando os dados"
   ]
  },
  {
   "cell_type": "code",
   "execution_count": 4,
   "metadata": {},
   "outputs": [
    {
     "data": {
      "text/html": [
       "<div>\n",
       "<style scoped>\n",
       "    .dataframe tbody tr th:only-of-type {\n",
       "        vertical-align: middle;\n",
       "    }\n",
       "\n",
       "    .dataframe tbody tr th {\n",
       "        vertical-align: top;\n",
       "    }\n",
       "\n",
       "    .dataframe thead th {\n",
       "        text-align: right;\n",
       "    }\n",
       "</style>\n",
       "<table border=\"1\" class=\"dataframe\">\n",
       "  <thead>\n",
       "    <tr style=\"text-align: right;\">\n",
       "      <th></th>\n",
       "      <th>id</th>\n",
       "      <th>idade</th>\n",
       "      <th>anos_estudo</th>\n",
       "      <th>salario</th>\n",
       "      <th>estado_civil</th>\n",
       "    </tr>\n",
       "  </thead>\n",
       "  <tbody>\n",
       "    <tr>\n",
       "      <th>count</th>\n",
       "      <td>6.647000e+04</td>\n",
       "      <td>66470.000000</td>\n",
       "      <td>66036.000000</td>\n",
       "      <td>47878.000000</td>\n",
       "      <td>66470.000000</td>\n",
       "    </tr>\n",
       "    <tr>\n",
       "      <th>mean</th>\n",
       "      <td>3.445307e+10</td>\n",
       "      <td>37.634813</td>\n",
       "      <td>8.686065</td>\n",
       "      <td>19706.790323</td>\n",
       "      <td>0.587724</td>\n",
       "    </tr>\n",
       "    <tr>\n",
       "      <th>std</th>\n",
       "      <td>1.292491e+10</td>\n",
       "      <td>11.380158</td>\n",
       "      <td>3.374522</td>\n",
       "      <td>88627.532024</td>\n",
       "      <td>0.492248</td>\n",
       "    </tr>\n",
       "    <tr>\n",
       "      <th>min</th>\n",
       "      <td>1.100190e+10</td>\n",
       "      <td>20.000000</td>\n",
       "      <td>5.000000</td>\n",
       "      <td>-1.000000</td>\n",
       "      <td>0.000000</td>\n",
       "    </tr>\n",
       "    <tr>\n",
       "      <th>25%</th>\n",
       "      <td>3.110060e+10</td>\n",
       "      <td>28.000000</td>\n",
       "      <td>5.000000</td>\n",
       "      <td>3780.000000</td>\n",
       "      <td>0.000000</td>\n",
       "    </tr>\n",
       "    <tr>\n",
       "      <th>50%</th>\n",
       "      <td>3.316781e+10</td>\n",
       "      <td>37.000000</td>\n",
       "      <td>8.000000</td>\n",
       "      <td>7113.599609</td>\n",
       "      <td>1.000000</td>\n",
       "    </tr>\n",
       "    <tr>\n",
       "      <th>75%</th>\n",
       "      <td>4.310361e+10</td>\n",
       "      <td>47.000000</td>\n",
       "      <td>11.000000</td>\n",
       "      <td>12720.000000</td>\n",
       "      <td>1.000000</td>\n",
       "    </tr>\n",
       "    <tr>\n",
       "      <th>max</th>\n",
       "      <td>5.311702e+10</td>\n",
       "      <td>60.000000</td>\n",
       "      <td>15.000000</td>\n",
       "      <td>999999.000000</td>\n",
       "      <td>1.000000</td>\n",
       "    </tr>\n",
       "  </tbody>\n",
       "</table>\n",
       "</div>"
      ],
      "text/plain": [
       "                 id         idade   anos_estudo        salario  estado_civil\n",
       "count  6.647000e+04  66470.000000  66036.000000   47878.000000  66470.000000\n",
       "mean   3.445307e+10     37.634813      8.686065   19706.790323      0.587724\n",
       "std    1.292491e+10     11.380158      3.374522   88627.532024      0.492248\n",
       "min    1.100190e+10     20.000000      5.000000      -1.000000      0.000000\n",
       "25%    3.110060e+10     28.000000      5.000000    3780.000000      0.000000\n",
       "50%    3.316781e+10     37.000000      8.000000    7113.599609      1.000000\n",
       "75%    4.310361e+10     47.000000     11.000000   12720.000000      1.000000\n",
       "max    5.311702e+10     60.000000     15.000000  999999.000000      1.000000"
      ]
     },
     "execution_count": 4,
     "metadata": {},
     "output_type": "execute_result"
    }
   ],
   "source": [
    "df.describe()"
   ]
  },
  {
   "cell_type": "code",
   "execution_count": 5,
   "metadata": {},
   "outputs": [],
   "source": [
    "del df['id']"
   ]
  },
  {
   "cell_type": "markdown",
   "metadata": {},
   "source": [
    "### Campos Nulos"
   ]
  },
  {
   "cell_type": "code",
   "execution_count": 6,
   "metadata": {},
   "outputs": [
    {
     "data": {
      "text/plain": [
       "salario         18592\n",
       "anos_estudo       434\n",
       "cor/raca          242\n",
       "regiao              0\n",
       "estado_civil        0\n",
       "dtype: int64"
      ]
     },
     "execution_count": 6,
     "metadata": {},
     "output_type": "execute_result"
    }
   ],
   "source": [
    "df.isnull().sum().sort_values(ascending=False).head()"
   ]
  },
  {
   "cell_type": "code",
   "execution_count": 7,
   "metadata": {},
   "outputs": [
    {
     "data": {
      "text/plain": [
       "salario        0.279705\n",
       "anos_estudo    0.006529\n",
       "cor/raca       0.003641\n",
       "regiao         0.000000\n",
       "dtype: float64"
      ]
     },
     "execution_count": 7,
     "metadata": {},
     "output_type": "execute_result"
    }
   ],
   "source": [
    "(df.isnull().sum() / df.isnull().count()).sort_values( ascending=False ).head(4)"
   ]
  },
  {
   "cell_type": "code",
   "execution_count": 8,
   "metadata": {},
   "outputs": [
    {
     "data": {
      "text/plain": [
       " NaN         18592\n",
       " 0.0          1841\n",
       "-1.0          1101\n",
       " 999999.0      367\n",
       " 5229.0        277\n",
       " 7200.0        260\n",
       " 7560.0        244\n",
       "Name: salario, dtype: int64"
      ]
     },
     "execution_count": 8,
     "metadata": {},
     "output_type": "execute_result"
    }
   ],
   "source": [
    "df['salario'].value_counts(dropna=False).nlargest(7)"
   ]
  },
  {
   "cell_type": "code",
   "execution_count": 9,
   "metadata": {},
   "outputs": [],
   "source": [
    "df['salario'].fillna(0, inplace=True)"
   ]
  },
  {
   "cell_type": "code",
   "execution_count": 10,
   "metadata": {},
   "outputs": [],
   "source": [
    "df['salario']= df['salario'].replace(-1, 0) "
   ]
  },
  {
   "cell_type": "markdown",
   "metadata": {},
   "source": [
    "### Correlações com todas as variáveis"
   ]
  },
  {
   "cell_type": "code",
   "execution_count": 11,
   "metadata": {},
   "outputs": [
    {
     "data": {
      "text/html": [
       "<div>\n",
       "<style scoped>\n",
       "    .dataframe tbody tr th:only-of-type {\n",
       "        vertical-align: middle;\n",
       "    }\n",
       "\n",
       "    .dataframe tbody tr th {\n",
       "        vertical-align: top;\n",
       "    }\n",
       "\n",
       "    .dataframe thead th {\n",
       "        text-align: right;\n",
       "    }\n",
       "</style>\n",
       "<table border=\"1\" class=\"dataframe\">\n",
       "  <thead>\n",
       "    <tr style=\"text-align: right;\">\n",
       "      <th></th>\n",
       "      <th>idade</th>\n",
       "      <th>anos_estudo</th>\n",
       "      <th>salario</th>\n",
       "      <th>estado_civil</th>\n",
       "    </tr>\n",
       "  </thead>\n",
       "  <tbody>\n",
       "    <tr>\n",
       "      <th>idade</th>\n",
       "      <td>1.0000</td>\n",
       "      <td>-0.2232</td>\n",
       "      <td>0.0954</td>\n",
       "      <td>0.2100</td>\n",
       "    </tr>\n",
       "    <tr>\n",
       "      <th>anos_estudo</th>\n",
       "      <td>-0.2232</td>\n",
       "      <td>1.0000</td>\n",
       "      <td>0.0964</td>\n",
       "      <td>-0.1188</td>\n",
       "    </tr>\n",
       "    <tr>\n",
       "      <th>salario</th>\n",
       "      <td>0.0954</td>\n",
       "      <td>0.0964</td>\n",
       "      <td>1.0000</td>\n",
       "      <td>0.0353</td>\n",
       "    </tr>\n",
       "    <tr>\n",
       "      <th>estado_civil</th>\n",
       "      <td>0.2100</td>\n",
       "      <td>-0.1188</td>\n",
       "      <td>0.0353</td>\n",
       "      <td>1.0000</td>\n",
       "    </tr>\n",
       "  </tbody>\n",
       "</table>\n",
       "</div>"
      ],
      "text/plain": [
       "               idade  anos_estudo  salario  estado_civil\n",
       "idade         1.0000      -0.2232   0.0954        0.2100\n",
       "anos_estudo  -0.2232       1.0000   0.0964       -0.1188\n",
       "salario       0.0954       0.0964   1.0000        0.0353\n",
       "estado_civil  0.2100      -0.1188   0.0353        1.0000"
      ]
     },
     "execution_count": 11,
     "metadata": {},
     "output_type": "execute_result"
    }
   ],
   "source": [
    "df.corr().round(4)"
   ]
  },
  {
   "cell_type": "markdown",
   "metadata": {},
   "source": [
    "### Média salarial por gênero"
   ]
  },
  {
   "cell_type": "code",
   "execution_count": 12,
   "metadata": {},
   "outputs": [
    {
     "data": {
      "text/html": [
       "<div>\n",
       "<style scoped>\n",
       "    .dataframe tbody tr th:only-of-type {\n",
       "        vertical-align: middle;\n",
       "    }\n",
       "\n",
       "    .dataframe tbody tr th {\n",
       "        vertical-align: top;\n",
       "    }\n",
       "\n",
       "    .dataframe thead th {\n",
       "        text-align: right;\n",
       "    }\n",
       "</style>\n",
       "<table border=\"1\" class=\"dataframe\">\n",
       "  <thead>\n",
       "    <tr style=\"text-align: right;\">\n",
       "      <th></th>\n",
       "      <th>salario</th>\n",
       "    </tr>\n",
       "    <tr>\n",
       "      <th>sexo</th>\n",
       "      <th></th>\n",
       "    </tr>\n",
       "  </thead>\n",
       "  <tbody>\n",
       "    <tr>\n",
       "      <th>gestante</th>\n",
       "      <td>1271.102229</td>\n",
       "    </tr>\n",
       "    <tr>\n",
       "      <th>homem</th>\n",
       "      <td>19282.310466</td>\n",
       "    </tr>\n",
       "    <tr>\n",
       "      <th>mulher</th>\n",
       "      <td>9258.340413</td>\n",
       "    </tr>\n",
       "  </tbody>\n",
       "</table>\n",
       "</div>"
      ],
      "text/plain": [
       "               salario\n",
       "sexo                  \n",
       "gestante   1271.102229\n",
       "homem     19282.310466\n",
       "mulher     9258.340413"
      ]
     },
     "execution_count": 12,
     "metadata": {},
     "output_type": "execute_result"
    }
   ],
   "source": [
    "df.groupby(['sexo']).agg({'salario':'mean'})"
   ]
  },
  {
   "cell_type": "code",
   "execution_count": 13,
   "metadata": {},
   "outputs": [
    {
     "data": {
      "text/html": [
       "<div>\n",
       "<style scoped>\n",
       "    .dataframe tbody tr th:only-of-type {\n",
       "        vertical-align: middle;\n",
       "    }\n",
       "\n",
       "    .dataframe tbody tr th {\n",
       "        vertical-align: top;\n",
       "    }\n",
       "\n",
       "    .dataframe thead th {\n",
       "        text-align: right;\n",
       "    }\n",
       "</style>\n",
       "<table border=\"1\" class=\"dataframe\">\n",
       "  <thead>\n",
       "    <tr style=\"text-align: right;\">\n",
       "      <th></th>\n",
       "      <th>idade</th>\n",
       "      <th>anos_estudo</th>\n",
       "      <th>salario</th>\n",
       "      <th>estado_civil</th>\n",
       "    </tr>\n",
       "  </thead>\n",
       "  <tbody>\n",
       "    <tr>\n",
       "      <th>idade</th>\n",
       "      <td>1.000000</td>\n",
       "      <td>-0.223166</td>\n",
       "      <td>0.095396</td>\n",
       "      <td>0.209986</td>\n",
       "    </tr>\n",
       "    <tr>\n",
       "      <th>anos_estudo</th>\n",
       "      <td>-0.223166</td>\n",
       "      <td>1.000000</td>\n",
       "      <td>0.096395</td>\n",
       "      <td>-0.118830</td>\n",
       "    </tr>\n",
       "    <tr>\n",
       "      <th>salario</th>\n",
       "      <td>0.095396</td>\n",
       "      <td>0.096395</td>\n",
       "      <td>1.000000</td>\n",
       "      <td>0.035284</td>\n",
       "    </tr>\n",
       "    <tr>\n",
       "      <th>estado_civil</th>\n",
       "      <td>0.209986</td>\n",
       "      <td>-0.118830</td>\n",
       "      <td>0.035284</td>\n",
       "      <td>1.000000</td>\n",
       "    </tr>\n",
       "  </tbody>\n",
       "</table>\n",
       "</div>"
      ],
      "text/plain": [
       "                 idade  anos_estudo   salario  estado_civil\n",
       "idade         1.000000    -0.223166  0.095396      0.209986\n",
       "anos_estudo  -0.223166     1.000000  0.096395     -0.118830\n",
       "salario       0.095396     0.096395  1.000000      0.035284\n",
       "estado_civil  0.209986    -0.118830  0.035284      1.000000"
      ]
     },
     "execution_count": 13,
     "metadata": {},
     "output_type": "execute_result"
    }
   ],
   "source": [
    "df.corr()"
   ]
  },
  {
   "cell_type": "code",
   "execution_count": 14,
   "metadata": {},
   "outputs": [
    {
     "data": {
      "image/png": "[encoded data removed]",
      "text/plain": [
       "<Figure size 864x576 with 2 Axes>"
      ]
     },
     "metadata": {},
     "output_type": "display_data"
    }
   ],
   "source": [
    "corr = df.corr()\n",
    "mask = np.zeros_like(corr) # removendo valores zero\n",
    "mask[np.triu_indices_from(mask)] = True\n",
    "\n",
    "with sns.axes_style(\"white\"):\n",
    "    fig, ax = plt.subplots(figsize=(12, 8));\n",
    "    \n",
    "    sns.heatmap(\n",
    "        corr,\n",
    "        ax=ax,\n",
    "        annot=True,\n",
    "        mask=mask,\n",
    "        square=True\n",
    "    );"
   ]
  },
  {
   "cell_type": "code",
   "execution_count": 15,
   "metadata": {},
   "outputs": [
    {
     "data": {
      "text/plain": [
       "<seaborn.axisgrid.PairGrid at 0x1d6c97f5588>"
      ]
     },
     "execution_count": 15,
     "metadata": {},
     "output_type": "execute_result"
    },
    {
     "data": {
      "image/png": "[encoded data removed]",
      "text/plain": [
       "<Figure size 950.4x950.4 with 20 Axes>"
      ]
     },
     "metadata": {
      "needs_background": "light"
     },
     "output_type": "display_data"
    }
   ],
   "source": [
    "sns.pairplot(data=df.fillna(0).sample(200),size=3.3)"
   ]
  },
  {
   "cell_type": "markdown",
   "metadata": {},
   "source": [
    "### Não é possível estimar as relações com estes gráficos"
   ]
  },
  {
   "cell_type": "markdown",
   "metadata": {},
   "source": [
    "# Procurando uma relação entre idade e salário"
   ]
  },
  {
   "cell_type": "markdown",
   "metadata": {},
   "source": [
    "Gráfico de dispersão entre idade e salário. Definindo um novo DataFrame 'temp' sem outliers para o salário e sample com 1000 observações."
   ]
  },
  {
   "cell_type": "code",
   "execution_count": 16,
   "metadata": {},
   "outputs": [
    {
     "data": {
      "text/html": [
       "<div>\n",
       "<style scoped>\n",
       "    .dataframe tbody tr th:only-of-type {\n",
       "        vertical-align: middle;\n",
       "    }\n",
       "\n",
       "    .dataframe tbody tr th {\n",
       "        vertical-align: top;\n",
       "    }\n",
       "\n",
       "    .dataframe thead th {\n",
       "        text-align: right;\n",
       "    }\n",
       "</style>\n",
       "<table border=\"1\" class=\"dataframe\">\n",
       "  <thead>\n",
       "    <tr style=\"text-align: right;\">\n",
       "      <th></th>\n",
       "      <th>idade</th>\n",
       "      <th>sexo</th>\n",
       "      <th>anos_estudo</th>\n",
       "      <th>cor/raca</th>\n",
       "      <th>salario</th>\n",
       "      <th>estado_civil</th>\n",
       "      <th>regiao</th>\n",
       "    </tr>\n",
       "  </thead>\n",
       "  <tbody>\n",
       "    <tr>\n",
       "      <th>0</th>\n",
       "      <td>53</td>\n",
       "      <td>homem</td>\n",
       "      <td>5.0</td>\n",
       "      <td>Parda</td>\n",
       "      <td>63600.000000</td>\n",
       "      <td>1.0</td>\n",
       "      <td>norte</td>\n",
       "    </tr>\n",
       "    <tr>\n",
       "      <th>1</th>\n",
       "      <td>49</td>\n",
       "      <td>mulher</td>\n",
       "      <td>8.0</td>\n",
       "      <td>Amarela</td>\n",
       "      <td>0.000000</td>\n",
       "      <td>1.0</td>\n",
       "      <td>norte</td>\n",
       "    </tr>\n",
       "    <tr>\n",
       "      <th>2</th>\n",
       "      <td>22</td>\n",
       "      <td>mulher</td>\n",
       "      <td>11.0</td>\n",
       "      <td>Indigena</td>\n",
       "      <td>4352.400391</td>\n",
       "      <td>0.0</td>\n",
       "      <td>nordeste</td>\n",
       "    </tr>\n",
       "    <tr>\n",
       "      <th>3</th>\n",
       "      <td>55</td>\n",
       "      <td>homem</td>\n",
       "      <td>15.0</td>\n",
       "      <td>Amarela</td>\n",
       "      <td>96600.000000</td>\n",
       "      <td>1.0</td>\n",
       "      <td>norte</td>\n",
       "    </tr>\n",
       "    <tr>\n",
       "      <th>4</th>\n",
       "      <td>56</td>\n",
       "      <td>mulher</td>\n",
       "      <td>15.0</td>\n",
       "      <td>Amarela</td>\n",
       "      <td>157800.000000</td>\n",
       "      <td>1.0</td>\n",
       "      <td>norte</td>\n",
       "    </tr>\n",
       "  </tbody>\n",
       "</table>\n",
       "</div>"
      ],
      "text/plain": [
       "   idade    sexo  anos_estudo  cor/raca        salario  estado_civil    regiao\n",
       "0     53   homem          5.0     Parda   63600.000000           1.0     norte\n",
       "1     49  mulher          8.0   Amarela       0.000000           1.0     norte\n",
       "2     22  mulher         11.0  Indigena    4352.400391           0.0  nordeste\n",
       "3     55   homem         15.0   Amarela   96600.000000           1.0     norte\n",
       "4     56  mulher         15.0   Amarela  157800.000000           1.0     norte"
      ]
     },
     "execution_count": 16,
     "metadata": {},
     "output_type": "execute_result"
    }
   ],
   "source": [
    "df.head()"
   ]
  },
  {
   "cell_type": "code",
   "execution_count": 17,
   "metadata": {},
   "outputs": [],
   "source": [
    "temp = df[(df.salario>0) & (df.salario<999999)]"
   ]
  },
  {
   "cell_type": "code",
   "execution_count": 18,
   "metadata": {},
   "outputs": [
    {
     "data": {
      "text/html": [
       "<div>\n",
       "<style scoped>\n",
       "    .dataframe tbody tr th:only-of-type {\n",
       "        vertical-align: middle;\n",
       "    }\n",
       "\n",
       "    .dataframe tbody tr th {\n",
       "        vertical-align: top;\n",
       "    }\n",
       "\n",
       "    .dataframe thead th {\n",
       "        text-align: right;\n",
       "    }\n",
       "</style>\n",
       "<table border=\"1\" class=\"dataframe\">\n",
       "  <thead>\n",
       "    <tr style=\"text-align: right;\">\n",
       "      <th></th>\n",
       "      <th>idade</th>\n",
       "      <th>sexo</th>\n",
       "      <th>anos_estudo</th>\n",
       "      <th>cor/raca</th>\n",
       "      <th>salario</th>\n",
       "      <th>estado_civil</th>\n",
       "      <th>regiao</th>\n",
       "    </tr>\n",
       "  </thead>\n",
       "  <tbody>\n",
       "    <tr>\n",
       "      <th>0</th>\n",
       "      <td>53</td>\n",
       "      <td>homem</td>\n",
       "      <td>5.0</td>\n",
       "      <td>Parda</td>\n",
       "      <td>63600.000000</td>\n",
       "      <td>1.0</td>\n",
       "      <td>norte</td>\n",
       "    </tr>\n",
       "    <tr>\n",
       "      <th>2</th>\n",
       "      <td>22</td>\n",
       "      <td>mulher</td>\n",
       "      <td>11.0</td>\n",
       "      <td>Indigena</td>\n",
       "      <td>4352.400391</td>\n",
       "      <td>0.0</td>\n",
       "      <td>nordeste</td>\n",
       "    </tr>\n",
       "    <tr>\n",
       "      <th>3</th>\n",
       "      <td>55</td>\n",
       "      <td>homem</td>\n",
       "      <td>15.0</td>\n",
       "      <td>Amarela</td>\n",
       "      <td>96600.000000</td>\n",
       "      <td>1.0</td>\n",
       "      <td>norte</td>\n",
       "    </tr>\n",
       "    <tr>\n",
       "      <th>4</th>\n",
       "      <td>56</td>\n",
       "      <td>mulher</td>\n",
       "      <td>15.0</td>\n",
       "      <td>Amarela</td>\n",
       "      <td>157800.000000</td>\n",
       "      <td>1.0</td>\n",
       "      <td>norte</td>\n",
       "    </tr>\n",
       "    <tr>\n",
       "      <th>5</th>\n",
       "      <td>30</td>\n",
       "      <td>mulher</td>\n",
       "      <td>15.0</td>\n",
       "      <td>Amarela</td>\n",
       "      <td>88550.000000</td>\n",
       "      <td>0.0</td>\n",
       "      <td>nordeste</td>\n",
       "    </tr>\n",
       "  </tbody>\n",
       "</table>\n",
       "</div>"
      ],
      "text/plain": [
       "   idade    sexo  anos_estudo  cor/raca        salario  estado_civil    regiao\n",
       "0     53   homem          5.0     Parda   63600.000000           1.0     norte\n",
       "2     22  mulher         11.0  Indigena    4352.400391           0.0  nordeste\n",
       "3     55   homem         15.0   Amarela   96600.000000           1.0     norte\n",
       "4     56  mulher         15.0   Amarela  157800.000000           1.0     norte\n",
       "5     30  mulher         15.0   Amarela   88550.000000           0.0  nordeste"
      ]
     },
     "execution_count": 18,
     "metadata": {},
     "output_type": "execute_result"
    }
   ],
   "source": [
    "temp.head()"
   ]
  },
  {
   "cell_type": "code",
   "execution_count": 19,
   "metadata": {},
   "outputs": [
    {
     "data": {
      "image/png": "[encoded data removed]",
      "text/plain": [
       "<Figure size 432x432 with 3 Axes>"
      ]
     },
     "metadata": {
      "needs_background": "light"
     },
     "output_type": "display_data"
    }
   ],
   "source": [
    "sns.jointplot(x=\"idade\", y=\"salario\", data=temp, kind='reg') # hue='estado_civil'\n",
    "plt.ylabel('salario', fontsize=13)\n",
    "plt.xlabel('idade', fontsize=13)\n",
    "plt.show()"
   ]
  },
  {
   "cell_type": "markdown",
   "metadata": {},
   "source": [
    "### Agrupando as pessoas por idade e plotando os salários por esses grupos"
   ]
  },
  {
   "cell_type": "code",
   "execution_count": 20,
   "metadata": {},
   "outputs": [
    {
     "data": {
      "text/plain": [
       "<matplotlib.axes._subplots.AxesSubplot at 0x1d6ca6e95f8>"
      ]
     },
     "execution_count": 20,
     "metadata": {},
     "output_type": "execute_result"
    },
    {
     "data": {
      "image/png": "[encoded data removed]",
      "text/plain": [
       "<Figure size 432x288 with 1 Axes>"
      ]
     },
     "metadata": {
      "needs_background": "light"
     },
     "output_type": "display_data"
    }
   ],
   "source": [
    "df.groupby('idade')['salario'].mean().plot()"
   ]
  },
  {
   "cell_type": "markdown",
   "metadata": {},
   "source": [
    "A partir dos 35 anos a curva começa a apresentar uma variação maior."
   ]
  },
  {
   "cell_type": "markdown",
   "metadata": {},
   "source": [
    "### Verificando a quantidade de pessoas por idade"
   ]
  },
  {
   "cell_type": "code",
   "execution_count": 21,
   "metadata": {},
   "outputs": [
    {
     "data": {
      "text/plain": [
       "<matplotlib.axes._subplots.AxesSubplot at 0x1d6cb1d10f0>"
      ]
     },
     "execution_count": 21,
     "metadata": {},
     "output_type": "execute_result"
    },
    {
     "data": {
      "image/png": "[encoded data removed]",
      "text/plain": [
       "<Figure size 432x288 with 1 Axes>"
      ]
     },
     "metadata": {
      "needs_background": "light"
     },
     "output_type": "display_data"
    }
   ],
   "source": [
    "df.groupby('idade')['salario'].size().plot()"
   ]
  },
  {
   "cell_type": "markdown",
   "metadata": {},
   "source": [
    "A partir dos 32 anos (em torno de) o número de observações cai bastante."
   ]
  },
  {
   "cell_type": "markdown",
   "metadata": {},
   "source": [
    "# Rodando a regressão"
   ]
  },
  {
   "cell_type": "markdown",
   "metadata": {},
   "source": [
    "__Salário x Idade__"
   ]
  },
  {
   "cell_type": "code",
   "execution_count": 22,
   "metadata": {},
   "outputs": [
    {
     "name": "stdout",
     "output_type": "stream",
     "text": [
      "                   Results: Ordinary least squares\n",
      "=====================================================================\n",
      "Model:              OLS              Adj. R-squared:     0.009       \n",
      "Dependent Variable: salario          AIC:                1681611.8974\n",
      "Date:               2019-06-24 10:34 BIC:                1681630.1065\n",
      "No. Observations:   66470            Log-Likelihood:     -8.4080e+05 \n",
      "Df Model:           1                F-statistic:        610.4       \n",
      "Df Residuals:       66468            Prob (F-statistic): 3.63e-134   \n",
      "R-squared:          0.009            Scale:              5.6839e+09  \n",
      "---------------------------------------------------------------------\n",
      "             Coef.     Std.Err.    t    P>|t|     [0.025     0.975]  \n",
      "---------------------------------------------------------------------\n",
      "Intercept  -9698.5962 1010.3080 -9.5996 0.0000 -11678.7997 -7718.3928\n",
      "idade        634.8726   25.6960 24.7071 0.0000    584.5085   685.2367\n",
      "---------------------------------------------------------------------\n",
      "Omnibus:            113346.599     Durbin-Watson:        1.963       \n",
      "Prob(Omnibus):      0.000          Jarque-Bera (JB):     67585069.392\n",
      "Skew:               12.186         Prob(JB):             0.000       \n",
      "Kurtosis:           157.300        Condition No.:        136         \n",
      "=====================================================================\n",
      "\n"
     ]
    }
   ],
   "source": [
    "model = smf.ols('salario ~ idade', df).fit()\n",
    "print(model.summary2())"
   ]
  },
  {
   "cell_type": "markdown",
   "metadata": {},
   "source": [
    "__Para cada ano de estudo há um aumento de 634,87 aos salários__"
   ]
  },
  {
   "cell_type": "markdown",
   "metadata": {},
   "source": [
    "### Tirando os outliers e rodando a regressão por uma função"
   ]
  },
  {
   "cell_type": "code",
   "execution_count": 23,
   "metadata": {},
   "outputs": [],
   "source": [
    "def run_regression(df,function):\n",
    "    model = smf.ols(function, df).fit()\n",
    "    print(model.summary2())\n",
    "    return model "
   ]
  },
  {
   "cell_type": "code",
   "execution_count": 24,
   "metadata": {},
   "outputs": [
    {
     "name": "stdout",
     "output_type": "stream",
     "text": [
      "                   Results: Ordinary least squares\n",
      "=====================================================================\n",
      "Model:              OLS              Adj. R-squared:     0.007       \n",
      "Dependent Variable: salario          AIC:                1486172.3884\n",
      "Date:               2019-06-24 10:34 BIC:                1486190.5863\n",
      "No. Observations:   66103            Log-Likelihood:     -7.4308e+05 \n",
      "Df Model:           1                F-statistic:        444.2       \n",
      "Df Residuals:       66101            Prob (F-statistic): 2.75e-98    \n",
      "R-squared:          0.007            Scale:              3.4011e+08  \n",
      "----------------------------------------------------------------------\n",
      "              Coef.    Std.Err.     t     P>|t|     [0.025     0.975] \n",
      "----------------------------------------------------------------------\n",
      "Intercept   3712.9389  248.2289  14.9577  0.0000  3226.4102  4199.4676\n",
      "idade        133.3197    6.3255  21.0767  0.0000   120.9218   145.7176\n",
      "---------------------------------------------------------------------\n",
      "Omnibus:           103878.149     Durbin-Watson:        1.770        \n",
      "Prob(Omnibus):     0.000          Jarque-Bera (JB):     130696947.293\n",
      "Skew:              9.822          Prob(JB):             0.000        \n",
      "Kurtosis:          219.947        Condition No.:        136          \n",
      "=====================================================================\n",
      "\n"
     ]
    },
    {
     "data": {
      "text/plain": [
       "<statsmodels.regression.linear_model.RegressionResultsWrapper at 0x1d6cc2a8390>"
      ]
     },
     "execution_count": 24,
     "metadata": {},
     "output_type": "execute_result"
    }
   ],
   "source": [
    "\n",
    "mascara = df.salario < 999999\n",
    "run_regression(df[mascara],'salario ~ idade')"
   ]
  },
  {
   "cell_type": "markdown",
   "metadata": {},
   "source": [
    "__O R2 diminui para 0.007 e observamos pelo beta que o salário aumenta 133,31 por ano de estudo.__\n",
    "<br>\n",
    "__O beta é como um valor médio para uma distribuição normal formada com os resultados de Desvio-Padrão (std err), números de Desvios-Padrão até o zero (t), probabilidade de o coeficiente ser zero ou probabilidade de t (p>|t|), e o intervalo de confiança do Beta dentro do nível de significância de 95%. \n",
    "<br>\n",
    "A melhor estratégia é estudar o comportamento da variável salário.__"
   ]
  },
  {
   "cell_type": "markdown",
   "metadata": {},
   "source": [
    "# Plotando um histograma do salário"
   ]
  },
  {
   "cell_type": "code",
   "execution_count": 25,
   "metadata": {},
   "outputs": [
    {
     "data": {
      "text/plain": [
       "<matplotlib.axes._subplots.AxesSubplot at 0x1d6cadf51d0>"
      ]
     },
     "execution_count": 25,
     "metadata": {},
     "output_type": "execute_result"
    },
    {
     "data": {
      "image/png": "[encoded data removed]",
      "text/plain": [
       "<Figure size 432x288 with 1 Axes>"
      ]
     },
     "metadata": {
      "needs_background": "light"
     },
     "output_type": "display_data"
    }
   ],
   "source": [
    "temp[temp.salario<60000].salario.plot.hist(bins=50)"
   ]
  },
  {
   "cell_type": "markdown",
   "metadata": {},
   "source": [
    "__Normalizando com o LOG__"
   ]
  },
  {
   "cell_type": "markdown",
   "metadata": {},
   "source": [
    "__Distribuição da variável Salario__"
   ]
  },
  {
   "cell_type": "code",
   "execution_count": 29,
   "metadata": {},
   "outputs": [
    {
     "data": {
      "image/png": "[encoded data removed]",
      "text/plain": [
       "<Figure size 432x288 with 1 Axes>"
      ]
     },
     "metadata": {
      "needs_background": "light"
     },
     "output_type": "display_data"
    },
    {
     "data": {
      "image/png": "[encoded data removed]",
      "text/plain": [
       "<Figure size 432x288 with 1 Axes>"
      ]
     },
     "metadata": {
      "needs_background": "light"
     },
     "output_type": "display_data"
    }
   ],
   "source": [
    "sns.distplot(temp['salario'].fillna(0), fit=stats.norm);\n",
    "\n",
    "(mu, sigma) = stats.norm.fit(temp['salario'].fillna(0)) # para calcular a média e o desvio-padrão\n",
    "plt.legend([f'Normal dist. ($\\mu=$ {round(mu,0)} and $\\sigma=$ {round(sigma,0)} )'],loc='best')\n",
    "plt.ylabel('Frequencia')\n",
    "plt.title('Distribuição de Salarios')\n",
    "\n",
    "fig = plt.figure()\n",
    "res = stats.probplot(temp['salario'], plot=plt)\n",
    "plt.show()"
   ]
  },
  {
   "cell_type": "markdown",
   "metadata": {},
   "source": [
    "__Existem excessos de outliers ou HETEROCEDASTICIDADE, visíviel pela Probability Plot. Necessário um tratamento com a função log__"
   ]
  },
  {
   "cell_type": "markdown",
   "metadata": {},
   "source": [
    "__Normalizando e plotando__"
   ]
  },
  {
   "cell_type": "code",
   "execution_count": 34,
   "metadata": {},
   "outputs": [],
   "source": [
    "temp['log_do_salario'] = np.log1p(temp['salario'])"
   ]
  },
  {
   "cell_type": "code",
   "execution_count": 35,
   "metadata": {},
   "outputs": [
    {
     "data": {
      "text/plain": [
       "<matplotlib.axes._subplots.AxesSubplot at 0x1d6ce085198>"
      ]
     },
     "execution_count": 35,
     "metadata": {},
     "output_type": "execute_result"
    },
    {
     "data": {
      "image/png": "[encoded data removed]",
      "text/plain": [
       "<Figure size 432x288 with 1 Axes>"
      ]
     },
     "metadata": {
      "needs_background": "light"
     },
     "output_type": "display_data"
    }
   ],
   "source": [
    "temp[temp.salario<600000].log_do_salario.plot.hist(bins=50)"
   ]
  },
  {
   "cell_type": "code",
   "execution_count": 36,
   "metadata": {},
   "outputs": [
    {
     "data": {
      "image/png": "[encoded data removed]",
      "text/plain": [
       "<Figure size 432x288 with 1 Axes>"
      ]
     },
     "metadata": {
      "needs_background": "light"
     },
     "output_type": "display_data"
    },
    {
     "data": {
      "image/png": "[encoded data removed]",
      "text/plain": [
       "<Figure size 432x288 with 1 Axes>"
      ]
     },
     "metadata": {
      "needs_background": "light"
     },
     "output_type": "display_data"
    }
   ],
   "source": [
    "sns.distplot(temp['log_do_salario'].fillna(0), fit=stats.norm);\n",
    "\n",
    "(mu, sigma) = stats.norm.fit(temp['log_do_salario'].fillna(0))\n",
    "plt.legend([f'Normal dist. ($\\mu=$ {round(mu,0)} and $\\sigma=$ {round(sigma,0)} )'],loc='best')\n",
    "plt.ylabel('Frequencia')\n",
    "plt.title('Distribuição do Log dos Salarios')\n",
    "\n",
    "fig = plt.figure()\n",
    "res = stats.probplot(temp['log_do_salario'], plot=plt)\n",
    "plt.show()"
   ]
  },
  {
   "cell_type": "markdown",
   "metadata": {},
   "source": [
    "__Com a função LOG a variável salario agora apresenta uma distribuição mais normal.__"
   ]
  },
  {
   "cell_type": "markdown",
   "metadata": {},
   "source": [
    "# 1 - Qual a relação entre Educação e Salário?"
   ]
  },
  {
   "cell_type": "markdown",
   "metadata": {},
   "source": [
    "__Com a variável Salario__"
   ]
  },
  {
   "cell_type": "code",
   "execution_count": 38,
   "metadata": {},
   "outputs": [
    {
     "data": {
      "text/plain": [
       "<seaborn.axisgrid.JointGrid at 0x1d6cdf30898>"
      ]
     },
     "execution_count": 38,
     "metadata": {},
     "output_type": "execute_result"
    },
    {
     "data": {
      "image/png": "[encoded data removed]",
      "text/plain": [
       "<Figure size 432x432 with 3 Axes>"
      ]
     },
     "metadata": {
      "needs_background": "light"
     },
     "output_type": "display_data"
    }
   ],
   "source": [
    "sns.jointplot(x=\"anos_estudo\", y=\"salario\", data=temp, kind='reg')"
   ]
  },
  {
   "cell_type": "markdown",
   "metadata": {},
   "source": [
    "__Com a variável Log_do_salario__"
   ]
  },
  {
   "cell_type": "code",
   "execution_count": 41,
   "metadata": {},
   "outputs": [
    {
     "data": {
      "text/plain": [
       "<seaborn.axisgrid.JointGrid at 0x1d6d04f6240>"
      ]
     },
     "execution_count": 41,
     "metadata": {},
     "output_type": "execute_result"
    },
    {
     "data": {
      "image/png": "[encoded data removed]",
      "text/plain": [
       "<Figure size 432x432 with 3 Axes>"
      ]
     },
     "metadata": {
      "needs_background": "light"
     },
     "output_type": "display_data"
    }
   ],
   "source": [
    "sns.jointplot(x=\"anos_estudo\", y=\"log_do_salario\", data=temp, kind='reg') # hue='estado_civil'"
   ]
  },
  {
   "cell_type": "markdown",
   "metadata": {},
   "source": [
    "__Aparentemente há um aumento na curva do salário em relação à quantidade de anos de estudos. Mas será o fator anos de estudo ou por que as pessoas são mais velhas?__"
   ]
  },
  {
   "cell_type": "markdown",
   "metadata": {},
   "source": [
    "### Rodando uma Regressão Simples - apenas com anos de estudo"
   ]
  },
  {
   "cell_type": "markdown",
   "metadata": {},
   "source": [
    "__Com a variável salario - sem a função log.__"
   ]
  },
  {
   "cell_type": "code",
   "execution_count": 42,
   "metadata": {},
   "outputs": [
    {
     "name": "stdout",
     "output_type": "stream",
     "text": [
      "                   Results: Ordinary least squares\n",
      "=====================================================================\n",
      "Model:              OLS              Adj. R-squared:     0.086       \n",
      "Dependent Variable: salario          AIC:                1003684.5069\n",
      "Date:               2019-06-24 10:51 BIC:                1003701.9018\n",
      "No. Observations:   44243            Log-Likelihood:     -5.0184e+05 \n",
      "Df Model:           1                F-statistic:        4171.       \n",
      "Df Residuals:       44241            Prob (F-statistic): 0.00        \n",
      "R-squared:          0.086            Scale:              4.1667e+08  \n",
      "---------------------------------------------------------------------\n",
      "              Coef.    Std.Err.    t     P>|t|    [0.025     0.975]  \n",
      "---------------------------------------------------------------------\n",
      "Intercept   -3387.9726 271.1504 -12.4948 0.0000 -3919.4322 -2856.5130\n",
      "anos_estudo  1825.5288  28.2652  64.5856 0.0000  1770.1285  1880.9292\n",
      "---------------------------------------------------------------------\n",
      "Omnibus:             67998.305     Durbin-Watson:        1.718       \n",
      "Prob(Omnibus):       0.000         Jarque-Bera (JB):     73767164.333\n",
      "Skew:                9.420         Prob(JB):             0.000       \n",
      "Kurtosis:            202.150       Condition No.:        27          \n",
      "=====================================================================\n",
      "\n"
     ]
    },
    {
     "data": {
      "text/plain": [
       "<statsmodels.regression.linear_model.RegressionResultsWrapper at 0x1d6d06e3fd0>"
      ]
     },
     "execution_count": 42,
     "metadata": {},
     "output_type": "execute_result"
    }
   ],
   "source": [
    "run_regression(temp,'salario ~ anos_estudo')"
   ]
  },
  {
   "cell_type": "markdown",
   "metadata": {},
   "source": [
    "__Observações__\n",
    "<br>\n",
    "O R2 é de 0.086 e o beta é de 1825,52 reis a mais para cada ano de estudo."
   ]
  },
  {
   "cell_type": "markdown",
   "metadata": {},
   "source": [
    "Uma pessoa com 15 anos de estudos teria um salário de:"
   ]
  },
  {
   "cell_type": "code",
   "execution_count": 44,
   "metadata": {},
   "outputs": [
    {
     "data": {
      "text/plain": [
       "23994.9594"
      ]
     },
     "execution_count": 44,
     "metadata": {},
     "output_type": "execute_result"
    }
   ],
   "source": [
    "-3387.9726 + 15*1825.5288"
   ]
  },
  {
   "cell_type": "markdown",
   "metadata": {},
   "source": [
    "__Com a variável log_do_salario - salario com a função log.__"
   ]
  },
  {
   "cell_type": "code",
   "execution_count": 43,
   "metadata": {},
   "outputs": [
    {
     "name": "stdout",
     "output_type": "stream",
     "text": [
      "                  Results: Ordinary least squares\n",
      "====================================================================\n",
      "Model:              OLS              Adj. R-squared:     0.124      \n",
      "Dependent Variable: log_do_salario   AIC:                126631.3177\n",
      "Date:               2019-06-24 10:53 BIC:                126648.7126\n",
      "No. Observations:   44243            Log-Likelihood:     -63314.    \n",
      "Df Model:           1                F-statistic:        6240.      \n",
      "Df Residuals:       44241            Prob (F-statistic): 0.00       \n",
      "R-squared:          0.124            Scale:              1.0246     \n",
      "----------------------------------------------------------------------\n",
      "               Coef.    Std.Err.      t       P>|t|    [0.025   0.975]\n",
      "----------------------------------------------------------------------\n",
      "Intercept      7.9096     0.0134   588.2621   0.0000   7.8832   7.9359\n",
      "anos_estudo    0.1107     0.0014    78.9925   0.0000   0.1080   0.1135\n",
      "--------------------------------------------------------------------\n",
      "Omnibus:             4305.025       Durbin-Watson:          1.728   \n",
      "Prob(Omnibus):       0.000          Jarque-Bera (JB):       9489.766\n",
      "Skew:                -0.612         Prob(JB):               0.000   \n",
      "Kurtosis:            4.910          Condition No.:          27      \n",
      "====================================================================\n",
      "\n"
     ]
    },
    {
     "data": {
      "text/plain": [
       "<statsmodels.regression.linear_model.RegressionResultsWrapper at 0x1d6d06e3e10>"
      ]
     },
     "execution_count": 43,
     "metadata": {},
     "output_type": "execute_result"
    }
   ],
   "source": [
    "run_regression(temp,'log_do_salario ~ anos_estudo')"
   ]
  },
  {
   "cell_type": "markdown",
   "metadata": {},
   "source": [
    "__Observações:__\n",
    "<br>\n",
    "O R2 aumentou para 0,124, isso significa que a variável anos_estudo explica melhor a variação do salário com a função LOG.\n",
    "<br>\n",
    "O beta está em percentual, assim, para cada ano de estuo, há um aumento de 11,07 por cento na variação do salário."
   ]
  },
  {
   "cell_type": "markdown",
   "metadata": {},
   "source": [
    "### Rodando uma Regressão Múltipla - mais variáveis"
   ]
  },
  {
   "cell_type": "code",
   "execution_count": 45,
   "metadata": {},
   "outputs": [
    {
     "name": "stdout",
     "output_type": "stream",
     "text": [
      "                  Results: Ordinary least squares\n",
      "====================================================================\n",
      "Model:              OLS              Adj. R-squared:     0.165      \n",
      "Dependent Variable: log_do_salario   AIC:                124469.9434\n",
      "Date:               2019-06-24 11:02 BIC:                124496.0358\n",
      "No. Observations:   44243            Log-Likelihood:     -62232.    \n",
      "Df Model:           2                F-statistic:        4385.      \n",
      "Df Residuals:       44240            Prob (F-statistic): 0.00       \n",
      "R-squared:          0.165            Scale:              0.97568    \n",
      "----------------------------------------------------------------------\n",
      "               Coef.    Std.Err.      t       P>|t|    [0.025   0.975]\n",
      "----------------------------------------------------------------------\n",
      "Intercept      7.0095     0.0232   302.3320   0.0000   6.9641   7.0550\n",
      "anos_estudo    0.1240     0.0014    88.7804   0.0000   0.1212   0.1267\n",
      "idade          0.0210     0.0004    47.0849   0.0000   0.0201   0.0219\n",
      "--------------------------------------------------------------------\n",
      "Omnibus:              5063.898      Durbin-Watson:         1.731    \n",
      "Prob(Omnibus):        0.000         Jarque-Bera (JB):      11411.706\n",
      "Skew:                 -0.697        Prob(JB):              0.000    \n",
      "Kurtosis:             5.061         Condition No.:         196      \n",
      "====================================================================\n",
      "\n"
     ]
    },
    {
     "data": {
      "text/plain": [
       "<statsmodels.regression.linear_model.RegressionResultsWrapper at 0x1d6d05f6ba8>"
      ]
     },
     "execution_count": 45,
     "metadata": {},
     "output_type": "execute_result"
    }
   ],
   "source": [
    "run_regression(temp,'log_do_salario ~ anos_estudo + idade')"
   ]
  },
  {
   "cell_type": "markdown",
   "metadata": {},
   "source": [
    "__Observações:__\n",
    "<br>\n",
    "O R2 aumentou, isso significa que a relação anos de estudo e idade explicam melhor as variações salariais.\n",
    "<br>\n",
    "O beta para anos de estudos também aumentou, indo para 12,40% de aumento no salário"
   ]
  },
  {
   "cell_type": "code",
   "execution_count": 46,
   "metadata": {},
   "outputs": [
    {
     "name": "stdout",
     "output_type": "stream",
     "text": [
      "                    Results: Ordinary least squares\n",
      "========================================================================\n",
      "Model:               OLS               Adj. R-squared:      0.125       \n",
      "Dependent Variable:  salario           AIC:                 1001762.7213\n",
      "Date:                2019-06-24 11:06  BIC:                 1001788.8137\n",
      "No. Observations:    44243             Log-Likelihood:      -5.0088e+05 \n",
      "Df Model:            2                 F-statistic:         3161.       \n",
      "Df Residuals:        44240             Prob (F-statistic):  0.00        \n",
      "R-squared:           0.125             Scale:               3.9895e+08  \n",
      "------------------------------------------------------------------------\n",
      "               Coef.    Std.Err.    t     P>|t|     [0.025      0.975]  \n",
      "------------------------------------------------------------------------\n",
      "Intercept   -20526.6658 468.8243 -43.7833 0.0000 -21445.5696 -19607.7620\n",
      "anos_estudo   2078.0918  28.2381  73.5918 0.0000   2022.7446   2133.4390\n",
      "idade          400.2242   9.0261  44.3406 0.0000    382.5328    417.9155\n",
      "------------------------------------------------------------------------\n",
      "Omnibus:              68700.047      Durbin-Watson:         1.729       \n",
      "Prob(Omnibus):        0.000          Jarque-Bera (JB):      82409149.047\n",
      "Skew:                 9.585          Prob(JB):              0.000       \n",
      "Kurtosis:             213.561        Condition No.:         196         \n",
      "========================================================================\n",
      "\n"
     ]
    },
    {
     "data": {
      "text/plain": [
       "<statsmodels.regression.linear_model.RegressionResultsWrapper at 0x1d6d05c57b8>"
      ]
     },
     "execution_count": 46,
     "metadata": {},
     "output_type": "execute_result"
    }
   ],
   "source": [
    "run_regression(temp,'salario ~ anos_estudo + idade')"
   ]
  },
  {
   "cell_type": "markdown",
   "metadata": {},
   "source": [
    "Uma pessoa com 50 anos de idade e 15 anos de estudo teria o salário de:"
   ]
  },
  {
   "cell_type": "code",
   "execution_count": 48,
   "metadata": {},
   "outputs": [
    {
     "data": {
      "text/plain": [
       "30655.9212"
      ]
     },
     "execution_count": 48,
     "metadata": {},
     "output_type": "execute_result"
    }
   ],
   "source": [
    "-20526.6658 + (15*2078.0918)+(50*400.2242)"
   ]
  },
  {
   "cell_type": "markdown",
   "metadata": {},
   "source": [
    "# 2 - Qual a relação entre Salário e Estado Civil?"
   ]
  },
  {
   "cell_type": "code",
   "execution_count": 49,
   "metadata": {},
   "outputs": [
    {
     "data": {
      "text/html": [
       "<div>\n",
       "<style scoped>\n",
       "    .dataframe tbody tr th:only-of-type {\n",
       "        vertical-align: middle;\n",
       "    }\n",
       "\n",
       "    .dataframe tbody tr th {\n",
       "        vertical-align: top;\n",
       "    }\n",
       "\n",
       "    .dataframe thead th {\n",
       "        text-align: right;\n",
       "    }\n",
       "</style>\n",
       "<table border=\"1\" class=\"dataframe\">\n",
       "  <thead>\n",
       "    <tr style=\"text-align: right;\">\n",
       "      <th></th>\n",
       "      <th>idade</th>\n",
       "      <th>sexo</th>\n",
       "      <th>anos_estudo</th>\n",
       "      <th>cor/raca</th>\n",
       "      <th>salario</th>\n",
       "      <th>estado_civil</th>\n",
       "      <th>regiao</th>\n",
       "    </tr>\n",
       "  </thead>\n",
       "  <tbody>\n",
       "    <tr>\n",
       "      <th>0</th>\n",
       "      <td>53</td>\n",
       "      <td>homem</td>\n",
       "      <td>5.0</td>\n",
       "      <td>Parda</td>\n",
       "      <td>63600.000000</td>\n",
       "      <td>1.0</td>\n",
       "      <td>norte</td>\n",
       "    </tr>\n",
       "    <tr>\n",
       "      <th>1</th>\n",
       "      <td>49</td>\n",
       "      <td>mulher</td>\n",
       "      <td>8.0</td>\n",
       "      <td>Amarela</td>\n",
       "      <td>0.000000</td>\n",
       "      <td>1.0</td>\n",
       "      <td>norte</td>\n",
       "    </tr>\n",
       "    <tr>\n",
       "      <th>2</th>\n",
       "      <td>22</td>\n",
       "      <td>mulher</td>\n",
       "      <td>11.0</td>\n",
       "      <td>Indigena</td>\n",
       "      <td>4352.400391</td>\n",
       "      <td>0.0</td>\n",
       "      <td>nordeste</td>\n",
       "    </tr>\n",
       "    <tr>\n",
       "      <th>3</th>\n",
       "      <td>55</td>\n",
       "      <td>homem</td>\n",
       "      <td>15.0</td>\n",
       "      <td>Amarela</td>\n",
       "      <td>96600.000000</td>\n",
       "      <td>1.0</td>\n",
       "      <td>norte</td>\n",
       "    </tr>\n",
       "    <tr>\n",
       "      <th>4</th>\n",
       "      <td>56</td>\n",
       "      <td>mulher</td>\n",
       "      <td>15.0</td>\n",
       "      <td>Amarela</td>\n",
       "      <td>157800.000000</td>\n",
       "      <td>1.0</td>\n",
       "      <td>norte</td>\n",
       "    </tr>\n",
       "  </tbody>\n",
       "</table>\n",
       "</div>"
      ],
      "text/plain": [
       "   idade    sexo  anos_estudo  cor/raca        salario  estado_civil    regiao\n",
       "0     53   homem          5.0     Parda   63600.000000           1.0     norte\n",
       "1     49  mulher          8.0   Amarela       0.000000           1.0     norte\n",
       "2     22  mulher         11.0  Indigena    4352.400391           0.0  nordeste\n",
       "3     55   homem         15.0   Amarela   96600.000000           1.0     norte\n",
       "4     56  mulher         15.0   Amarela  157800.000000           1.0     norte"
      ]
     },
     "execution_count": 49,
     "metadata": {},
     "output_type": "execute_result"
    }
   ],
   "source": [
    "df.head()"
   ]
  },
  {
   "cell_type": "code",
   "execution_count": 65,
   "metadata": {},
   "outputs": [],
   "source": [
    "df1 = df[(df.salario>0) & (df.salario<999999)]"
   ]
  },
  {
   "cell_type": "code",
   "execution_count": 66,
   "metadata": {},
   "outputs": [
    {
     "data": {
      "image/png": "[encoded data removed]",
      "text/plain": [
       "<Figure size 432x288 with 1 Axes>"
      ]
     },
     "metadata": {
      "needs_background": "light"
     },
     "output_type": "display_data"
    }
   ],
   "source": [
    "fig, ax = plt.subplots()\n",
    "ax.scatter(x = df1['salario'], y = df1['estado_civil'])\n",
    "plt.ylabel('salario', fontsize=13)\n",
    "plt.xlabel('estado_civil', fontsize=13)\n",
    "plt.show()"
   ]
  },
  {
   "cell_type": "code",
   "execution_count": 67,
   "metadata": {},
   "outputs": [
    {
     "name": "stdout",
     "output_type": "stream",
     "text": [
      "A média de salários para os Casados é de R$ 14454.942522282703\n",
      "O desvio padrão de salários para os Casados é de R$ 23694.410729465733\n",
      "A média de salários para os Solteiros é de R$ 10605.294510782656\n",
      "A desvio padrão de salários para os Solteiros é de R$ 16689.781154857235\n"
     ]
    }
   ],
   "source": [
    "print(\"A média de salários para os Casados é de R$\", df1[df1.estado_civil == 1]['salario'].mean())\n",
    "print(\"O desvio padrão de salários para os Casados é de R$\",df1[df1.estado_civil == 1]['salario'].std())\n",
    "\n",
    "print(\"A média de salários para os Solteiros é de R$\",df1[df1.estado_civil == 0]['salario'].mean())\n",
    "print(\"A desvio padrão de salários para os Solteiros é de R$\",df1[df1.estado_civil == 0]['salario'].std())"
   ]
  },
  {
   "cell_type": "code",
   "execution_count": 68,
   "metadata": {},
   "outputs": [
    {
     "data": {
      "text/plain": [
       "<matplotlib.axes._subplots.AxesSubplot at 0x1d6d21b1f60>"
      ]
     },
     "execution_count": 68,
     "metadata": {},
     "output_type": "execute_result"
    },
    {
     "data": {
      "image/png": "[encoded data removed]",
      "text/plain": [
       "<Figure size 432x288 with 1 Axes>"
      ]
     },
     "metadata": {
      "needs_background": "light"
     },
     "output_type": "display_data"
    }
   ],
   "source": [
    "mask_salario = df1.salario<50000\n",
    "mask_casado = df1.estado_civil == 1\n",
    "mask_solteiro = df1.estado_civil == 0\n",
    "df1[(mask_salario) & (mask_casado)]['salario'].plot.hist(bins=60)"
   ]
  },
  {
   "cell_type": "code",
   "execution_count": 69,
   "metadata": {},
   "outputs": [
    {
     "data": {
      "image/png": "[encoded data removed]",
      "text/plain": [
       "<Figure size 432x288 with 1 Axes>"
      ]
     },
     "metadata": {
      "needs_background": "light"
     },
     "output_type": "display_data"
    }
   ],
   "source": [
    "df1[(mask_salario) & (mask_casado)]['salario'].plot.hist(bins=50,color='orange',label='casado')\n",
    "df1[(mask_salario) & (mask_solteiro)]['salario'].plot.hist(bins=50,color='blue',label='não casado')\n",
    "plt.legend()\n",
    "plt.show()"
   ]
  },
  {
   "cell_type": "markdown",
   "metadata": {},
   "source": [
    "__Função LOG na variável salario - em todo o dataframe.__"
   ]
  },
  {
   "cell_type": "code",
   "execution_count": 70,
   "metadata": {},
   "outputs": [],
   "source": [
    "df1['log_do_salario'] = np.log1p(df1['salario'])"
   ]
  },
  {
   "cell_type": "code",
   "execution_count": 72,
   "metadata": {},
   "outputs": [
    {
     "data": {
      "image/png": "[encoded data removed]",
      "text/plain": [
       "<Figure size 432x288 with 1 Axes>"
      ]
     },
     "metadata": {
      "needs_background": "light"
     },
     "output_type": "display_data"
    }
   ],
   "source": [
    "df1[(mask_salario) & (mask_casado)]['log_do_salario'].plot.hist(bins=40,color='orange',label='casado')\n",
    "df1[(mask_salario) & (mask_solteiro)]['log_do_salario'].plot.hist(bins=40,color='blue',label='não casado')\n",
    "plt.legend()\n",
    "plt.show()"
   ]
  },
  {
   "cell_type": "code",
   "execution_count": 80,
   "metadata": {},
   "outputs": [
    {
     "name": "stdout",
     "output_type": "stream",
     "text": [
      "                      Results: Ordinary least squares\n",
      "============================================================================\n",
      "Model:                 OLS                Adj. R-squared:       0.021       \n",
      "Dependent Variable:    salario            AIC:                  1013885.0737\n",
      "Date:                  2019-06-24 11:53   BIC:                  1013911.1881\n",
      "No. Observations:      44569              Log-Likelihood:       -5.0694e+05 \n",
      "Df Model:              2                  F-statistic:          482.2       \n",
      "Df Residuals:          44566              Prob (F-statistic):   6.28e-208   \n",
      "R-squared:             0.021              Scale:                4.4373e+08  \n",
      "----------------------------------------------------------------------------\n",
      "                         Coef.   Std.Err.    t    P>|t|    [0.025    0.975] \n",
      "----------------------------------------------------------------------------\n",
      "Intercept              2587.8528 361.6592  7.1555 0.0000 1878.9946 3296.7110\n",
      "C(estado_civil)[T.1.0] 2560.5018 210.7173 12.1514 0.0000 2147.4923 2973.5112\n",
      "idade                   236.7067   9.5929 24.6752 0.0000  217.9044  255.5090\n",
      "----------------------------------------------------------------------------\n",
      "Omnibus:              66926.035        Durbin-Watson:           1.569       \n",
      "Prob(Omnibus):        0.000            Jarque-Bera (JB):        59949706.636\n",
      "Skew:                 9.047            Prob(JB):                0.000       \n",
      "Kurtosis:             181.760          Condition No.:           141         \n",
      "============================================================================\n",
      "\n"
     ]
    },
    {
     "data": {
      "text/plain": [
       "<statsmodels.regression.linear_model.RegressionResultsWrapper at 0x1d6d28665f8>"
      ]
     },
     "execution_count": 80,
     "metadata": {},
     "output_type": "execute_result"
    }
   ],
   "source": [
    "run_regression(df1,'salario ~ idade + C(estado_civil)')"
   ]
  },
  {
   "cell_type": "code",
   "execution_count": 79,
   "metadata": {},
   "outputs": [
    {
     "name": "stdout",
     "output_type": "stream",
     "text": [
      "                  Results: Ordinary least squares\n",
      "====================================================================\n",
      "Model:              OLS              Adj. R-squared:     0.024      \n",
      "Dependent Variable: log_do_salario   AIC:                132292.0869\n",
      "Date:               2019-06-24 11:50 BIC:                132318.2013\n",
      "No. Observations:   44569            Log-Likelihood:     -66143.    \n",
      "Df Model:           2                F-statistic:        560.1      \n",
      "Df Residuals:       44566            Prob (F-statistic): 5.87e-241  \n",
      "R-squared:          0.025            Scale:              1.1392     \n",
      "--------------------------------------------------------------------\n",
      "                       Coef.  Std.Err.    t     P>|t|  [0.025 0.975]\n",
      "--------------------------------------------------------------------\n",
      "Intercept              8.3775   0.0183 457.1664 0.0000 8.3416 8.4134\n",
      "C(estado_civil)[T.1.0] 0.2001   0.0107  18.7460 0.0000 0.1792 0.2211\n",
      "idade                  0.0108   0.0005  22.2126 0.0000 0.0098 0.0117\n",
      "--------------------------------------------------------------------\n",
      "Omnibus:             3362.372       Durbin-Watson:          1.514   \n",
      "Prob(Omnibus):       0.000          Jarque-Bera (JB):       7457.498\n",
      "Skew:                -0.488         Prob(JB):               0.000   \n",
      "Kurtosis:            4.750          Condition No.:          141     \n",
      "====================================================================\n",
      "\n"
     ]
    },
    {
     "data": {
      "text/plain": [
       "<statsmodels.regression.linear_model.RegressionResultsWrapper at 0x1d6d2136a20>"
      ]
     },
     "execution_count": 79,
     "metadata": {},
     "output_type": "execute_result"
    }
   ],
   "source": [
    "run_regression(df1,'log_do_salario ~ idade + C(estado_civil)')"
   ]
  },
  {
   "cell_type": "markdown",
   "metadata": {},
   "source": [
    "__Observações:__\n",
    "<br>\n",
    "R2 em 0.024\n",
    "O salário normalizado LOG explica melhor a variação de salário com as variáveis estado civil e idade, mas ainda é um valor baixo.\n",
    "<br>\n",
    "O estado civil 1 (casado) tem impacto positivo de 0,2 nos salários e a idade 0.01 (para este estado civil).\n",
    "<br>\n",
    "O P>|t| é igual a 0 para ambas as variáveis, portanto, elas são relevantes nesta amostra."
   ]
  },
  {
   "cell_type": "markdown",
   "metadata": {},
   "source": [
    "# 3 - Vale a pena estudar mais para ganhar salários maiores?"
   ]
  },
  {
   "cell_type": "markdown",
   "metadata": {},
   "source": [
    "# Aplicando algumas Regressões Múltiplas"
   ]
  },
  {
   "cell_type": "code",
   "execution_count": 73,
   "metadata": {},
   "outputs": [
    {
     "name": "stdout",
     "output_type": "stream",
     "text": [
      "                            OLS Regression Results                            \n",
      "==============================================================================\n",
      "Dep. Variable:         log_do_salario   R-squared:                       0.179\n",
      "Model:                            OLS   Adj. R-squared:                  0.179\n",
      "Method:                 Least Squares   F-statistic:                     3224.\n",
      "Date:                Mon, 24 Jun 2019   Prob (F-statistic):               0.00\n",
      "Time:                        11:40:41   Log-Likelihood:                -61859.\n",
      "No. Observations:               44243   AIC:                         1.237e+05\n",
      "Df Residuals:                   44239   BIC:                         1.238e+05\n",
      "Df Model:                           3                                         \n",
      "Covariance Type:            nonrobust                                         \n",
      "================================================================================\n",
      "                   coef    std err          t      P>|t|      [0.025      0.975]\n",
      "--------------------------------------------------------------------------------\n",
      "Intercept        6.9252      0.023    298.562      0.000       6.880       6.971\n",
      "idade            0.0182      0.000     39.921      0.000       0.017       0.019\n",
      "anos_estudo      0.1270      0.001     91.419      0.000       0.124       0.130\n",
      "estado_civil     0.2707      0.010     27.440      0.000       0.251       0.290\n",
      "==============================================================================\n",
      "Omnibus:                     5243.203   Durbin-Watson:                   1.730\n",
      "Prob(Omnibus):                  0.000   Jarque-Bera (JB):            12046.238\n",
      "Skew:                          -0.713   Prob(JB):                         0.00\n",
      "Kurtosis:                       5.122   Cond. No.                         198.\n",
      "==============================================================================\n",
      "\n",
      "Warnings:\n",
      "[1] Standard Errors assume that the covariance matrix of the errors is correctly specified.\n"
     ]
    }
   ],
   "source": [
    "function1 = '''log_do_salario ~ idade + anos_estudo + estado_civil'''\n",
    "\n",
    "model1 = smf.ols(function1, df1).fit() \n",
    "\n",
    "print(model1.summary())"
   ]
  },
  {
   "cell_type": "markdown",
   "metadata": {},
   "source": [
    "__Observações:__\n",
    "<br>\n",
    "O R2 está em 0,179, ou seja, 17% da variação do salário é explicado pelas variáveis idade, anos de estudo e estado civil."
   ]
  },
  {
   "cell_type": "code",
   "execution_count": 74,
   "metadata": {},
   "outputs": [
    {
     "data": {
      "text/plain": [
       "homem       26481\n",
       "mulher      18065\n",
       "gestante       23\n",
       "Name: sexo, dtype: int64"
      ]
     },
     "execution_count": 74,
     "metadata": {},
     "output_type": "execute_result"
    }
   ],
   "source": [
    "df1.sexo.value_counts()"
   ]
  },
  {
   "cell_type": "code",
   "execution_count": 76,
   "metadata": {},
   "outputs": [
    {
     "name": "stdout",
     "output_type": "stream",
     "text": [
      "                            OLS Regression Results                            \n",
      "==============================================================================\n",
      "Dep. Variable:         log_do_salario   R-squared:                       0.247\n",
      "Model:                            OLS   Adj. R-squared:                  0.247\n",
      "Method:                 Least Squares   F-statistic:                     3620.\n",
      "Date:                Mon, 24 Jun 2019   Prob (F-statistic):               0.00\n",
      "Time:                        11:43:11   Log-Likelihood:                -59930.\n",
      "No. Observations:               44220   AIC:                         1.199e+05\n",
      "Df Residuals:                   44215   BIC:                         1.199e+05\n",
      "Df Model:                           4                                         \n",
      "Covariance Type:            nonrobust                                         \n",
      "=====================================================================================\n",
      "                        coef    std err          t      P>|t|      [0.025      0.975]\n",
      "-------------------------------------------------------------------------------------\n",
      "Intercept             7.0458      0.022    315.664      0.000       7.002       7.090\n",
      "C(sexo)[T.mulher]    -0.5807      0.009    -62.910      0.000      -0.599      -0.563\n",
      "idade                 0.0192      0.000     43.990      0.000       0.018       0.020\n",
      "anos_estudo           0.1391      0.001    103.396      0.000       0.136       0.142\n",
      "estado_civil          0.2180      0.009     22.966      0.000       0.199       0.237\n",
      "==============================================================================\n",
      "Omnibus:                     5149.240   Durbin-Watson:                   1.649\n",
      "Prob(Omnibus):                  0.000   Jarque-Bera (JB):            12768.780\n",
      "Skew:                          -0.679   Prob(JB):                         0.00\n",
      "Kurtosis:                       5.256   Cond. No.                         199.\n",
      "==============================================================================\n",
      "\n",
      "Warnings:\n",
      "[1] Standard Errors assume that the covariance matrix of the errors is correctly specified.\n"
     ]
    }
   ],
   "source": [
    "function1 = '''log_do_salario ~ idade + anos_estudo + estado_civil + C(sexo)'''\n",
    "\n",
    "model1 = smf.ols(function1, df1[df1.sexo!='gestante']).fit() #\n",
    "\n",
    "print(model1.summary())"
   ]
  },
  {
   "cell_type": "code",
   "execution_count": 84,
   "metadata": {},
   "outputs": [
    {
     "name": "stdout",
     "output_type": "stream",
     "text": [
      "                   Results: Ordinary least squares\n",
      "======================================================================\n",
      "Model:                OLS              Adj. R-squared:     0.255      \n",
      "Dependent Variable:   log_do_salario   AIC:                119461.8492\n",
      "Date:                 2019-06-24 12:00 BIC:                119548.8237\n",
      "No. Observations:     44243            Log-Likelihood:     -59721.    \n",
      "Df Model:             9                F-statistic:        1682.      \n",
      "Df Residuals:         44233            Prob (F-statistic): 0.00       \n",
      "R-squared:            0.255            Scale:              0.87112    \n",
      "----------------------------------------------------------------------\n",
      "                       Coef.  Std.Err.    t     P>|t|   [0.025  0.975]\n",
      "----------------------------------------------------------------------\n",
      "Intercept              6.6657   0.1954  34.1209 0.0000  6.2828  7.0486\n",
      "sexo[T.homem]          0.5033   0.1948   2.5832 0.0098  0.1214  0.8851\n",
      "sexo[T.mulher]        -0.0793   0.1949  -0.4071 0.6839 -0.4614  0.3027\n",
      "C(regiao)[T.nordeste]  0.9109   0.5390   1.6900 0.0910 -0.1455  1.9674\n",
      "C(regiao)[T.norte]    -0.2683   0.0135 -19.8725 0.0000 -0.2947 -0.2418\n",
      "C(regiao)[T.sudeste]  -0.0865   0.0119  -7.2788 0.0000 -0.1098 -0.0632\n",
      "C(regiao)[T.sul]      -0.0182   0.0140  -1.2973 0.1945 -0.0458  0.0093\n",
      "estado_civil           0.2139   0.0094  22.6355 0.0000  0.1953  0.2324\n",
      "anos_estudo            0.1376   0.0013 102.6267 0.0000  0.1350  0.1402\n",
      "idade                  0.0188   0.0004  43.3382 0.0000  0.0180  0.0197\n",
      "----------------------------------------------------------------------\n",
      "Omnibus:              5086.993       Durbin-Watson:          1.665    \n",
      "Prob(Omnibus):        0.000          Jarque-Bera (JB):       12820.999\n",
      "Skew:                 -0.666         Prob(JB):               0.000    \n",
      "Kurtosis:             5.276          Condition No.:          4814     \n",
      "======================================================================\n",
      "* The condition number is large (5e+03). This might indicate\n",
      "strong multicollinearity or other numerical problems.\n"
     ]
    },
    {
     "data": {
      "text/plain": [
       "<statsmodels.regression.linear_model.RegressionResultsWrapper at 0x1d6d22f6940>"
      ]
     },
     "execution_count": 84,
     "metadata": {},
     "output_type": "execute_result"
    }
   ],
   "source": [
    "run_regression(df1,'log_do_salario ~ sexo + estado_civil + anos_estudo + idade + C(regiao)')"
   ]
  },
  {
   "cell_type": "markdown",
   "metadata": {},
   "source": [
    "__Observações:__\n",
    "<br>\n",
    "Há impactos negativos na variação do salário de acordo com algumas regiões. \n",
    "<br>\n",
    "O gênero feminimo apresenta um P>|t| maior que 0,5, não sendo, portanto, relevante nesta amostra."
   ]
  },
  {
   "cell_type": "code",
   "execution_count": null,
   "metadata": {},
   "outputs": [],
   "source": []
  }
 ],
 "metadata": {
  "kernelspec": {
   "display_name": "Python 3",
   "language": "python",
   "name": "python3"
  },
  "language_info": {
   "codemirror_mode": {
    "name": "ipython",
    "version": 3
   },
   "file_extension": ".py",
   "mimetype": "text/x-python",
   "name": "python",
   "nbconvert_exporter": "python",
   "pygments_lexer": "ipython3",
   "version": "3.7.3"
  }
 },
 "nbformat": 4,
 "nbformat_minor": 2
}
