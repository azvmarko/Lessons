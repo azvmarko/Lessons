{
 "cells": [
  {
   "cell_type": "markdown",
   "metadata": {},
   "source": [
    "# Probabilidades"
   ]
  },
  {
   "cell_type": "markdown",
   "metadata": {},
   "source": [
    "### Cálculo da probabilidade\n",
    "\n",
    "Seja E um evento qualquer no espaço amostral Ω. A probabilidade de um evento A ocorrer é o número de elementos do evento dividido pelo número de elementos do espaço amostral a que ele pertence.\n",
    "\n",
    "$ P(E) = n(E)/n(Ω) $"
   ]
  },
  {
   "cell_type": "markdown",
   "metadata": {},
   "source": [
    "### Qual a probabilidade de retirarmos duas cartas de paus em um baralho de 52 cartas em 2 retiradas com reposição  - apos a retirada da carta, devolvemos ao baralho e reembaralhamos - ?\n",
    "\n",
    "52 cartas, 4 naipes, 13 cartas de cada naipe.\n",
    "Probabilidade de retirar apenas uma carta de paus é a proporção de paus no baralho 13/52 = 1/4.\n",
    "A probabilidade de retirar mais uma carta de paus do baralho, dado que foi reposta é 1/4 também.\n",
    "Como esses eventos são independentes (-> P(A∩B) = P(A) * P(B) <-) devemos multiplicar as duas probabilidades para ter a probabilidade final desses eventos acontecerem em sequência."
   ]
  },
  {
   "cell_type": "code",
   "execution_count": 9,
   "metadata": {},
   "outputs": [
    {
     "name": "stdout",
     "output_type": "stream",
     "text": [
      "uma possibilidade de um paus entre quatro naipes vezes duas retiradas:  0.0625\n",
      "uma possibilidade de uma carta entre 52 cartas, vezes duas retiradas:  0.0625\n",
      "uma possibilidade de um paus entre quatro naipes vezes duas retiradas (ao quadrado):  0.0625\n"
     ]
    }
   ],
   "source": [
    "#calculando a probabilidade descrita acimade três formas diferentes:\n",
    "\n",
    "print(\"uma possibilidade de um paus entre quatro naipes vezes duas retiradas: \" ,(1/4)*(1/4) )\n",
    "print(\"uma possibilidade de uma carta entre 52 cartas, vezes duas retiradas: \", (13/52)*(13/52) )\n",
    "print(\"uma possibilidade de um paus entre quatro naipes vezes duas retiradas (ao quadrado): \" ,(1/4)**2)"
   ]
  },
  {
   "cell_type": "markdown",
   "metadata": {},
   "source": [
    "### E se não devolvessemos a primeira carta ao baralho?\n",
    "\n",
    "a probabilidade de retirar a primeira carta de paus ainda é a mesma, 13/52. Mas dado que nosso espaço amostral muda em cada interação, quando formos retirar a segunda carta não mais estarão disponíveis as mesmas cartas e devemos ajustar isso nas contas:"
   ]
  },
  {
   "cell_type": "code",
   "execution_count": 10,
   "metadata": {},
   "outputs": [
    {
     "data": {
      "text/plain": [
       "0.058823529411764705"
      ]
     },
     "execution_count": 10,
     "metadata": {},
     "output_type": "execute_result"
    }
   ],
   "source": [
    "probabilidade_primeiro_paus = (13/52)\n",
    "# dado que saiu o primeiro paus, temos\n",
    "paus_restantes = 13-1\n",
    "cartas_restantes = 52-1\n",
    "\n",
    "probabilidade_segundo_paus = paus_restantes/cartas_restantes\n",
    "\n",
    "# como queremos a probabilidade de sair dois paus seguidos e esses eventos ainda são independentes:\n",
    "probabilidade_primeiro_paus * probabilidade_segundo_paus"
   ]
  },
  {
   "cell_type": "code",
   "execution_count": null,
   "metadata": {},
   "outputs": [],
   "source": []
  }
 ],
 "metadata": {
  "kernelspec": {
   "display_name": "Python 3",
   "language": "python",
   "name": "python3"
  },
  "language_info": {
   "codemirror_mode": {
    "name": "ipython",
    "version": 3
   },
   "file_extension": ".py",
   "mimetype": "text/x-python",
   "name": "python",
   "nbconvert_exporter": "python",
   "pygments_lexer": "ipython3",
   "version": "3.7.1"
  }
 },
 "nbformat": 4,
 "nbformat_minor": 2
}
