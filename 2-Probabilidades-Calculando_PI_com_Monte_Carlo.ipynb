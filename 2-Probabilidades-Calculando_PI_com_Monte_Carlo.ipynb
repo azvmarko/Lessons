{
 "cells": [
  {
   "cell_type": "markdown",
   "metadata": {},
   "source": [
    "## Calculando π com Monte Carlo\n",
    "\n",
    "<br>\n",
    "<img src=\"img/pi.png\">\n",
    "<br>\n",
    "\n",
    "Na matemática, o número __π__ é uma proporção numérica definida pela relação entre o perímetro de uma circunferência e seu diâmetro; por outras palavras, se uma circunferência tem perímetro P e diâmetro D, então \n",
    "\n",
    "```python\n",
    "π = P/D\n",
    "```\n",
    "\n",
    "É representado pela letra grega π. A letra grega π (lê-se: pi), foi adotada para o número a partir da palavra grega para perímetro, provavelmente por William Jones em 1706, e popularizada por Leonhard Euler alguns anos mais tarde. Outros nomes para esta constante são constante circular ou número de Ludolph. \n",
    "\n",
    "O valor de __π__ pertence aos números irracionais. \n",
    "\n",
    "Para a maioria dos cálculos simples é comum aproximar __π__ por 3,14. \n",
    "\n",
    "Uma boa parte das calculadoras científicas de 8 dígitos aproxima __π__ por 3,1415926. \n",
    "\n",
    "Para calcular rotas de navegações interplanetárias a NASA utiliza __π ≈ 3,141592653589793__ (com 15 casas decimais). Para calcular um círculo com 46 bilhões de anos-luz de raio em volta do universo observável seria suficiente uma aproximação de __π__ com apenas 40 casas decimais para garantir precisão de 1 átomo de hidrogênio.\n",
    "\n",
    "Um engenheiro japonês e um estudante americano de Ciência da computação calcularam, usando um computador com doze núcleos físicos, cinco trilhões de dígitos, o equivalente a 6 terabytes de dados.\n",
    "\n",
    "### Método Estatístico\n",
    "\n",
    "Um método interessante para o cálculo de __π__  pode ser realizado através de Monte Carlo, utilizando-se a estatística. Nesse método são sorteados aleatoriamente pontos num quadrado compreendido entre as coordenadas O=(0,0) e B=(1,1).\n",
    "\n",
    "Em seguida, calcula-se a distância dos pontos sorteados cn=(xn,yn) até a origem O=(0,0). __π__ pode ser aproximado através do número de pontos inscritos na circunferência de raio 1 em relação ao total de pontos sorteados no quadrado de lado 1."
   ]
  },
  {
   "cell_type": "code",
   "execution_count": 1,
   "metadata": {
    "ExecuteTime": {
     "end_time": "2019-09-11T19:57:30.474148Z",
     "start_time": "2019-09-11T19:57:30.100370Z"
    }
   },
   "outputs": [],
   "source": [
    "import matplotlib.pyplot as plt\n",
    "import random\n",
    "\n",
    "inside = 0\n",
    "n = 200\n",
    "\n",
    "x_inside = []\n",
    "y_inside = []\n",
    "x_outside = []\n",
    "y_outside = []\n",
    "\n",
    "for _ in range(n):\n",
    "    x = random.uniform(-1.0,1.0)\n",
    "    y = random.uniform(-1.0,1.0)\n",
    "    if x**2+y**2 <= 1:\n",
    "        inside += 1\n",
    "        x_inside.append(x)\n",
    "        y_inside.append(y)\n",
    "    else:\n",
    "        x_outside.append(x)\n",
    "        y_outside.append(y)"
   ]
  },
  {
   "cell_type": "code",
   "execution_count": 2,
   "metadata": {
    "ExecuteTime": {
     "end_time": "2019-09-11T19:57:36.019334Z",
     "start_time": "2019-09-11T19:57:36.014330Z"
    }
   },
   "outputs": [
    {
     "name": "stdout",
     "output_type": "stream",
     "text": [
      "3.0\n"
     ]
    }
   ],
   "source": [
    "pi = 4*inside/n\n",
    "print(pi)"
   ]
  },
  {
   "cell_type": "code",
   "execution_count": 3,
   "metadata": {
    "ExecuteTime": {
     "end_time": "2019-09-11T19:57:46.237081Z",
     "start_time": "2019-09-11T19:57:45.703181Z"
    }
   },
   "outputs": [
    {
     "data": {
      "image/png": "[encoded data removed]",
      "text/plain": [
       "<Figure size 432x288 with 1 Axes>"
      ]
     },
     "metadata": {
      "needs_background": "light"
     },
     "output_type": "display_data"
    }
   ],
   "source": [
    "import warnings\n",
    "warnings.filterwarnings(\"ignore\")\n",
    "\n",
    "fig, ax = plt.subplots()\n",
    "ax.set_aspect('equal')\n",
    "ax.scatter(x_inside, y_inside, color='b', marker='s')\n",
    "ax.scatter(x_outside, y_outside, color='r', marker='s')\n",
    "fig.show()"
   ]
  },
  {
   "cell_type": "code",
   "execution_count": null,
   "metadata": {},
   "outputs": [],
   "source": []
  },
  {
   "cell_type": "code",
   "execution_count": null,
   "metadata": {},
   "outputs": [],
   "source": []
  }
 ],
 "metadata": {
  "hide_input": false,
  "kernelspec": {
   "display_name": "Python 3",
   "language": "python",
   "name": "python3"
  },
  "language_info": {
   "codemirror_mode": {
    "name": "ipython",
    "version": 3
   },
   "file_extension": ".py",
   "mimetype": "text/x-python",
   "name": "python",
   "nbconvert_exporter": "python",
   "pygments_lexer": "ipython3",
   "version": "3.7.3"
  },
  "toc": {
   "base_numbering": 1,
   "nav_menu": {},
   "number_sections": true,
   "sideBar": true,
   "skip_h1_title": true,
   "title_cell": "",
   "title_sidebar": "",
   "toc_cell": false,
   "toc_position": {},
   "toc_section_display": true,
   "toc_window_display": true
  },
  "varInspector": {
   "cols": {
    "lenName": 16,
    "lenType": 16,
    "lenVar": 40
   },
   "kernels_config": {
    "python": {
     "delete_cmd_postfix": "",
     "delete_cmd_prefix": "del ",
     "library": "var_list.py",
     "varRefreshCmd": "print(var_dic_list())"
    },
    "r": {
     "delete_cmd_postfix": ") ",
     "delete_cmd_prefix": "rm(",
     "library": "var_list.r",
     "varRefreshCmd": "cat(var_dic_list()) "
    }
   },
   "types_to_exclude": [
    "module",
    "function",
    "builtin_function_or_method",
    "instance",
    "_Feature"
   ],
   "window_display": false
  }
 },
 "nbformat": 4,
 "nbformat_minor": 2
}
