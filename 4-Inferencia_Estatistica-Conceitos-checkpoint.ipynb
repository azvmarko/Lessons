{
 "cells": [
  {
   "cell_type": "markdown",
   "metadata": {},
   "source": [
    "# Introdução à Inferência Estatística"
   ]
  },
  {
   "cell_type": "markdown",
   "metadata": {},
   "source": [
    "*fonte: Wikipedia*\n",
    "\n",
    "Inferência estatística é um ramo da Estatística cujo objetivo é fazer afirmações a partir de um conjunto de valores representativos (amostra) sobre um universo (população), sendo que assume-se que a população é muito maior do que o conjunto de dados observados, a amostra. Tal tipo de afirmação deve sempre vir acompanhada de uma medida de precisão sobre sua veracidade. Para realizar este trabalho, o estatístico coleta informações de dois tipos, experimentais (as amostras) e aquelas que obtém na literatura. As duas principais escolas de inferência são a inferência frequencista (ou clássica) e a inferência bayesiana.\n",
    "\n",
    "A inferência estatística é geralmente distinta da estatística descritiva. A descrição estatística pode ser vista como a simples apresentação dos fatos, nos quais o modelo de decisões feito pelo analista tem pouca influência. É natural que análises estatísticas avancem, indo da descrição para a inferência de padrões. Essa última tarefa depende do modelo usado e/ou criado pelo analista dos dados. \n",
    "\n",
    "Na prática, a matemática é mais dedutiva e a inferência é indutiva.\n",
    "\n",
    "- Parâmetros -> População\n",
    "- Estatisticas -> Amostra\n",
    "\n",
    "<br>\n",
    "<img src=\"img/estatistica.png\" width=\"450\" />\n",
    "<br>\n",
    "\n",
    "## Conceitos fundamentais para a compreeensão da estatística\n",
    "\n",
    "- **Viés**: Viés ou erro sistemático é a distorção sistemática entre a medida de uma variável estatística e o valor real da grandeza a estimar. A introdução de um viés no cálculo estatístico pode estar ligada à imperfeição ou à deformação da amostra (estatística) que serve de base para a estimativa, ou ao próprio método de avaliação. \n",
    "\n",
    "- **Intervalos de confiança**:  Intervalo de confiança (IC) é um tipo de estimativa por intervalo de um parâmetro populacional desconhecido.\n",
    "\n",
    "- **Testes de hipóteses**: ou teste de significância é um procedimento estatístico que permite tomar uma decisão (aceitar ou rejeitar a hipótese).\n",
    "\n",
    "- **Curva Normal:**\n",
    "\n",
    "Distribuição De-Moivre-Laplace-Gauss\n",
    "\n",
    "Nos séculos dezoito e dezenove, alguns matemáticos e físicos desenvolveram uma função densidade de probabilidade que descrevia os erros experimentais obtidos em medidas físicas _Caire_, 2012. De certa forma todo e qualquer processo de mensuração está sujeito a um erro de medida. Esse erro pode ter diferentes fontes, desde a variação de tempertura, tempo, entre inúmeras outras características não identificáveis. Essa função densidade de probabilidade é conhecida como distribuição normal ou gaussina.\n",
    "\n",
    "A grande utilidade dessa distribuição está associada ao fato de que aproxima de forma bastante satisfatória as curvas de frequências de medidas físicas.\n",
    "\n",
    "<br>\n",
    "<img src=\"img/normal.png\" width=\"550\" />\n",
    "<br>"
   ]
  },
  {
   "cell_type": "markdown",
   "metadata": {},
   "source": [
    "## Intervalo de Confiança\n",
    "\n",
    "*fonte: Wikipedia*\n",
    "\n",
    "Em estatística, intervalo de confiança (IC) é um tipo de estimativa por intervalo de um parâmetro populacional desconhecido. Introduzido na estatística por Jerzy Neyman em 1937, é um intervalo observado (calculado a partir de observações) que pode variar de amostra para amostra e que com dada frequência (nível de confiança) inclui o parâmetro de interesse real não observável.\n",
    "\n",
    "Como os dados observados são amostras aleatórias da população, o intervalo de confiança construído a partir dos dados também é aleatório. Entretanto, o intervalo de confiança calculado a partir de uma amostra particular não inclui necessariamente o valor real do parâmetro. Quando se tem 99% de confiança de que o valor real do parâmetro está no intervalo de confiança, significa que 99% dos intervalos de confiança observados têm o valor real do parâmetro. Tomando–se qualquer amostra particular, o parâmetro populacional desconhecido pode ou não pode estar no intervalo de confiança observado.\n",
    "\n",
    "<br>\n",
    "<img src=\"img/intervalo_de_confianca.png\" width=\"700\" />\n",
    "<br>"
   ]
  },
  {
   "cell_type": "markdown",
   "metadata": {},
   "source": [
    "## Teste de Hipóteses\n",
    "\n",
    "Teste de hipóteses, teste estatístico ou teste de significância é um procedimento estatístico que permite tomar uma decisão (aceitar ou rejeitar a hipótese nula ${H_0}$ entre duas ou mais hipóteses (geralmente adota-se hipótese nula ${H_0}$ e hipótese alternativa ${H_1}$), utilizando os dados observados de um determinado experimento. Há diversos métodos para realizar o teste de hipóteses, que incluem Fisher (teste de significância), o método de Neyman–Pearson, método de Bayes, e o método t-Student.\n",
    "\n",
    "Por meio da teoria da probabilidade, é possível inferir sobre quantidades de interesse de uma população a partir de uma amostra observada de um experimento científico. Por exemplo, estimar pontualmente e de forma intervalar um parâmetro de interesse, testar se uma determinada teoria científica deve ser descartada, verificar se um lote de remédios deve ser devolvido por falta de qualidade, entre outros. Por meio do rigor matemático, a inferência estatística pode ser utilizada para auxiliar a tomada de decisões nas mais variadas áreas.\n",
    "\n",
    "<br>\n",
    "<img src=\"img/zona_aceitacao.png\" width=\"450\" />\n",
    "<br>\n",
    "\n",
    "Portanto, para um teste de hipóteses teremos geralmente:\n",
    "\n",
    "- Hipótese nula ${H_0}$: é a hipótese assumida como verdadeira para a construção do teste. É a teoria, o efeito ou a alternativa que se está interessado em testar e **não rejeitar**.\n",
    "\n",
    "- Hipótese alternativa ${H_1}$: é considerada quando a hipótese nula não tem evidência estatística.\n",
    "\n",
    "Os testes de hipóteses são utilizados para determinar quais resultados de um estudo científico podem levar à rejeição da hipótese nula ${H_0}$ a um nível de significância pré–estabelecido. O estudo da teoria das probabilidades e a determinação da estatística de teste correta são fundamentais para a coerência de um teste de hipótese. Se as hipóteses do teste de hipóteses não forem assumidas de maneira correta, o resultado será incorreto e a informação será incoerente com a questão do estudo científico. Os tipos conceituais de erro (erro do tipo I e erro do tipo II) e os limites paramétricos ajudam a distinguir entre a hipótese nula ${H_0}$ e a hipótese alternativa ${H_1}$.\n",
    "\n",
    "<br>\n",
    "<img src=\"img/erro_tabela.png\">\n",
    "<br>\n",
    "\n",
    "Graficamente temos:\n",
    "\n",
    "<br>\n",
    "<br>\n",
    "<img src=\"img/erros.png\" width=\"600\" />\n",
    "<br>\n",
    "<br>"
   ]
  },
  {
   "cell_type": "markdown",
   "metadata": {},
   "source": [
    "### Procedimentos para fazer um Teste de Hipótese com uma amostra\n",
    "\n",
    "É apropriado para comparar a amostra com a população a partir da hipótese. As características da população são conhecidas a partir da teoria ou são calculadas a partir da população.\n",
    "\n",
    "- (1) Escolher a hipótese a ser testada\n",
    "- (2) Dependendo do que se quer testar, escolher a estatística a ser usada na comparação dos valores na realização do teste de hipóteses\n",
    "\n",
    "Vamos ver agora os tipos de teste mais comuns para **mostragem alearórias simples - uma variável**.\n",
    "\n",
    "#### Teste da média ou t-Student\n",
    "\n",
    "Por exemplo, para se testar um certo valor $\\overline x$ como média da hipótese de uma população com média $\\mu_0$ e variância $\\sigma^2$ conhecida, devemos utilizar a transformação seguinte, com $n$ observações:\n",
    "\n",
    "<br>\n",
    "$$z=\\frac{\\overline x-\\mu_0}{\\sigma / \\sqrt{n}}$$\n",
    "<br>\n",
    "\n",
    "onde:\n",
    "\n",
    "- ${\\bar x}$ - valor médio da hipótese\n",
    "- ${\\mu_0}$ - valor medio da amostra\n",
    "- ${\\sigma}$ - desvio padrão da população\n",
    "- ${n}$ - tamanho da amostra\n",
    "\n",
    "Caso o desvio padrão da população seja desconhecido, utilizamos o desvio padrão da amostra ${s}$:\n",
    "\n",
    "<br>\n",
    "$$z=\\frac{\\overline x-\\mu_0}{s / \\sqrt{n}}$$\n",
    "<br>\n",
    "\n",
    "Para este caso, o desvio padrão amostral ${s}$ será:\n",
    "\n",
    "<br>\n",
    "$$s=\\sqrt{\\frac{\\sum(x_i-\\overline x)²}{n-1}}$$\n",
    "<br>\n",
    "\n",
    "Para melhor visualização do teste de hipóteses da média, a figura abaixo ilustra a média $\\mu_0$ da amostra com a grande região de não rejeição, e a média da hipótese à esquerda gerando uma segunda curva normal e as regiões de rejeição para o **erro tipo I** e o **erro tipo II** em destaque.\n",
    "\n",
    "<br>\n",
    "<br>\n",
    "<img src=\"img/Teste_T_Gráfico_bicaudal.gif\" width=\"450\" />\n",
    "<br>\n",
    "<br>\n",
    "\n",
    "#### Teste da variância\n",
    "\n",
    "Para se testar a variância, deveremos utilizar a estatística *Ki-Quadrado*, com $(n-1)$ graus de liberdade\n",
    "\n",
    "<br>\n",
    "$$\\chi^2 = \\frac{(n-1)s^2}{\\sigma_0}$$\n",
    "<br>\n",
    "\n",
    "#### Teste da proporção\n",
    "\n",
    "O teste a proporção é análogo ao teste das médias, só que para valores de proporção: \n",
    "\n",
    "<br>\n",
    "$$z=\\frac{p\\prime-p_0}{\\sqrt{\\frac{p_0-(1-p_0)}{n}}}$$\n",
    "<br>"
   ]
  },
  {
   "cell_type": "code",
   "execution_count": null,
   "metadata": {},
   "outputs": [],
   "source": []
  }
 ],
 "metadata": {
  "hide_input": false,
  "kernelspec": {
   "display_name": "Python 3",
   "language": "python",
   "name": "python3"
  },
  "language_info": {
   "codemirror_mode": {
    "name": "ipython",
    "version": 3
   },
   "file_extension": ".py",
   "mimetype": "text/x-python",
   "name": "python",
   "nbconvert_exporter": "python",
   "pygments_lexer": "ipython3",
   "version": "3.7.3"
  },
  "toc": {
   "base_numbering": 1,
   "nav_menu": {},
   "number_sections": true,
   "sideBar": true,
   "skip_h1_title": true,
   "title_cell": "",
   "title_sidebar": "",
   "toc_cell": false,
   "toc_position": {},
   "toc_section_display": true,
   "toc_window_display": true
  },
  "varInspector": {
   "cols": {
    "lenName": 16,
    "lenType": 16,
    "lenVar": 40
   },
   "kernels_config": {
    "python": {
     "delete_cmd_postfix": "",
     "delete_cmd_prefix": "del ",
     "library": "var_list.py",
     "varRefreshCmd": "print(var_dic_list())"
    },
    "r": {
     "delete_cmd_postfix": ") ",
     "delete_cmd_prefix": "rm(",
     "library": "var_list.r",
     "varRefreshCmd": "cat(var_dic_list()) "
    }
   },
   "types_to_exclude": [
    "module",
    "function",
    "builtin_function_or_method",
    "instance",
    "_Feature"
   ],
   "window_display": false
  }
 },
 "nbformat": 4,
 "nbformat_minor": 2
}
