{
 "cells": [
  {
   "cell_type": "markdown",
   "metadata": {},
   "source": [
    "# Inferência Estatística\n",
    "Tem por objetivo fazer afirmações a partir de um conjunto de valores ou uma amostra em relação a uma população (que representa o todos deste universo pesquisado). Para realizar esse trabalho, o estatístico coleta informações do tipo amostral mas também na literatura.\n",
    "\n",
    "Conceitos Fundamentais Implícitos:\n",
    "\n",
    "- **Viés**: Viés ou erro sistemático é a distorção entre a medida de uma variável estatística e o valor real da grandeza a estimar. A introdução de um viés no cálculo estatístico pode estar ligada quer a imperfeição ou deformação da amostra (estatística) que serve de base para a estimativa, quer ao próprio método de avaliação. \n",
    "\n",
    "- **Intervalos de confiança**:  Intervalo de confiança (IC) é um tipo de estimativa por intervalo de um parâmetro populacional desconhecido. Quando se tem 99% de confiança de que o valor real do parâmetro está no intervalo de confiança, significa que 99% dos intervalos de confiança observados têm o valor real do parâmetro.\n",
    "\n",
    "- **Testes de hipóteses**: ou teste de significância é um procedimento estatístico que permite tomar uma decisão (aceitar ou rejeitar a hipótese).\n",
    "\n",
    "- **Curva Normal:**\n",
    "\n",
    "<br>\n",
    "<img src=\"img/despad.png\" width=\"550\" />\n",
    "<br>"
   ]
  },
  {
   "cell_type": "markdown",
   "metadata": {},
   "source": [
    "## Exemplo (1): Fomos contratados por uma empresa de loteria para pesquisar a proporção de clientes que compra determinado produto. A empresa manterá seu atual planejamento de marketing se a sua participação de mercado for de 50% ou mais, caso contrário, ela triplicará seus gastos em publicidade. \n",
    "\n",
    "- Hipótese Nula ($H_0$): 50% ou mais do mercado compra na lotérica (sem investimento adicional em MKT)\n",
    "- Hipeotese Alternativa ($H_1$): menos de 50% do mercado compra na lotérica (triplicar o investimento em MKT)"
   ]
  },
  {
   "cell_type": "code",
   "execution_count": 1,
   "metadata": {},
   "outputs": [],
   "source": [
    "import numpy as np\n",
    "import pandas as pd\n",
    "import scipy.stats as st\n",
    "import matplotlib.pyplot as plt\n",
    "%matplotlib inline"
   ]
  },
  {
   "cell_type": "markdown",
   "metadata": {},
   "source": [
    "A base de dados será criada com o numpy.binomial como um teste de 120 observações aleatórias com valores 0 e 1 (que define se o cliente compra ou não na casa lotérica), com parâmetro de distribuição p=0.4 (que define o target da média).\n",
    "\n",
    "Estes dados teoricamente seriam obtidos pela realização de entrevistas com as pessoas nas imediações da casa lotérica para apurar quantas pessoas são clientes e quantas não são clientes."
   ]
  },
  {
   "cell_type": "code",
   "execution_count": 2,
   "metadata": {},
   "outputs": [
    {
     "data": {
      "text/html": [
       "<div>\n",
       "<style scoped>\n",
       "    .dataframe tbody tr th:only-of-type {\n",
       "        vertical-align: middle;\n",
       "    }\n",
       "\n",
       "    .dataframe tbody tr th {\n",
       "        vertical-align: top;\n",
       "    }\n",
       "\n",
       "    .dataframe thead th {\n",
       "        text-align: right;\n",
       "    }\n",
       "</style>\n",
       "<table border=\"1\" class=\"dataframe\">\n",
       "  <thead>\n",
       "    <tr style=\"text-align: right;\">\n",
       "      <th></th>\n",
       "      <th>compra_ou_não</th>\n",
       "    </tr>\n",
       "  </thead>\n",
       "  <tbody>\n",
       "    <tr>\n",
       "      <th>0</th>\n",
       "      <td>0</td>\n",
       "    </tr>\n",
       "    <tr>\n",
       "      <th>1</th>\n",
       "      <td>1</td>\n",
       "    </tr>\n",
       "    <tr>\n",
       "      <th>2</th>\n",
       "      <td>1</td>\n",
       "    </tr>\n",
       "    <tr>\n",
       "      <th>3</th>\n",
       "      <td>0</td>\n",
       "    </tr>\n",
       "    <tr>\n",
       "      <th>4</th>\n",
       "      <td>0</td>\n",
       "    </tr>\n",
       "    <tr>\n",
       "      <th>5</th>\n",
       "      <td>0</td>\n",
       "    </tr>\n",
       "    <tr>\n",
       "      <th>6</th>\n",
       "      <td>0</td>\n",
       "    </tr>\n",
       "    <tr>\n",
       "      <th>7</th>\n",
       "      <td>1</td>\n",
       "    </tr>\n",
       "    <tr>\n",
       "      <th>8</th>\n",
       "      <td>1</td>\n",
       "    </tr>\n",
       "    <tr>\n",
       "      <th>9</th>\n",
       "      <td>1</td>\n",
       "    </tr>\n",
       "  </tbody>\n",
       "</table>\n",
       "</div>"
      ],
      "text/plain": [
       "   compra_ou_não\n",
       "0              0\n",
       "1              1\n",
       "2              1\n",
       "3              0\n",
       "4              0\n",
       "5              0\n",
       "6              0\n",
       "7              1\n",
       "8              1\n",
       "9              1"
      ]
     },
     "execution_count": 2,
     "metadata": {},
     "output_type": "execute_result"
    }
   ],
   "source": [
    "p=0.4       # Definição do target (teórico)\n",
    "testes=1\n",
    "obs=120     # Número de Observações\n",
    "\n",
    "np.random.seed(seed=42)\n",
    "\n",
    "df = pd.DataFrame([int(n) for n in np.random.binomial(testes, p, obs, )], columns= ['compra_ou_não'])\n",
    "df.head(10)\n",
    "\n",
    "# soma de 1's / total de linhas = obs"
   ]
  },
  {
   "cell_type": "code",
   "execution_count": 3,
   "metadata": {},
   "outputs": [
    {
     "data": {
      "text/plain": [
       "<matplotlib.axes._subplots.AxesSubplot at 0x25b787dc8d0>"
      ]
     },
     "execution_count": 3,
     "metadata": {},
     "output_type": "execute_result"
    },
    {
     "data": {
      "image/png": "[encoded data removed]",
      "text/plain": [
       "<Figure size 432x288 with 1 Axes>"
      ]
     },
     "metadata": {
      "needs_background": "light"
     },
     "output_type": "display_data"
    }
   ],
   "source": [
    "df.plot.hist()"
   ]
  },
  {
   "cell_type": "code",
   "execution_count": 4,
   "metadata": {},
   "outputs": [
    {
     "data": {
      "text/html": [
       "<div>\n",
       "<style scoped>\n",
       "    .dataframe tbody tr th:only-of-type {\n",
       "        vertical-align: middle;\n",
       "    }\n",
       "\n",
       "    .dataframe tbody tr th {\n",
       "        vertical-align: top;\n",
       "    }\n",
       "\n",
       "    .dataframe thead th {\n",
       "        text-align: right;\n",
       "    }\n",
       "</style>\n",
       "<table border=\"1\" class=\"dataframe\">\n",
       "  <thead>\n",
       "    <tr style=\"text-align: right;\">\n",
       "      <th></th>\n",
       "      <th>compra_ou_não</th>\n",
       "    </tr>\n",
       "  </thead>\n",
       "  <tbody>\n",
       "    <tr>\n",
       "      <th>count</th>\n",
       "      <td>120.000000</td>\n",
       "    </tr>\n",
       "    <tr>\n",
       "      <th>mean</th>\n",
       "      <td>0.383333</td>\n",
       "    </tr>\n",
       "    <tr>\n",
       "      <th>std</th>\n",
       "      <td>0.488237</td>\n",
       "    </tr>\n",
       "    <tr>\n",
       "      <th>min</th>\n",
       "      <td>0.000000</td>\n",
       "    </tr>\n",
       "    <tr>\n",
       "      <th>25%</th>\n",
       "      <td>0.000000</td>\n",
       "    </tr>\n",
       "    <tr>\n",
       "      <th>50%</th>\n",
       "      <td>0.000000</td>\n",
       "    </tr>\n",
       "    <tr>\n",
       "      <th>75%</th>\n",
       "      <td>1.000000</td>\n",
       "    </tr>\n",
       "    <tr>\n",
       "      <th>max</th>\n",
       "      <td>1.000000</td>\n",
       "    </tr>\n",
       "  </tbody>\n",
       "</table>\n",
       "</div>"
      ],
      "text/plain": [
       "       compra_ou_não\n",
       "count     120.000000\n",
       "mean        0.383333\n",
       "std         0.488237\n",
       "min         0.000000\n",
       "25%         0.000000\n",
       "50%         0.000000\n",
       "75%         1.000000\n",
       "max         1.000000"
      ]
     },
     "execution_count": 4,
     "metadata": {},
     "output_type": "execute_result"
    }
   ],
   "source": [
    "df.describe()"
   ]
  },
  {
   "cell_type": "code",
   "execution_count": 5,
   "metadata": {},
   "outputs": [
    {
     "data": {
      "text/plain": [
       "0.24"
      ]
     },
     "execution_count": 5,
     "metadata": {},
     "output_type": "execute_result"
    }
   ],
   "source": [
    "variancia_teorica = p*(1-p)\n",
    "variancia_teorica"
   ]
  },
  {
   "cell_type": "code",
   "execution_count": 6,
   "metadata": {},
   "outputs": [
    {
     "data": {
      "text/plain": [
       "0.38333333333333336"
      ]
     },
     "execution_count": 6,
     "metadata": {},
     "output_type": "execute_result"
    }
   ],
   "source": [
    "# calculando a média\n",
    "market_share_amostral=df.compra_ou_não.sum()/len(df.compra_ou_não)\n",
    "market_share_amostral"
   ]
  },
  {
   "cell_type": "code",
   "execution_count": 7,
   "metadata": {},
   "outputs": [
    {
     "name": "stdout",
     "output_type": "stream",
     "text": [
      "Desvio-Padrão: compra_ou_não    0.488237\n",
      "dtype: float64\n",
      "Varância: compra_ou_não    0.238375\n",
      "dtype: float64\n"
     ]
    }
   ],
   "source": [
    "#calculando a variância e o desvio padrão\n",
    "std = df.std()\n",
    "var = df.std()**2\n",
    "print('Desvio-Padrão:',std)\n",
    "print('Varância:',var)"
   ]
  },
  {
   "cell_type": "markdown",
   "metadata": {},
   "source": [
    "### Formulando a hipótese a ser testada\n",
    "\n",
    "Segundo o teste de hipóteses, caso o market share da lotérica seja maior que 50% o investimento deve se manter o mesmo (não triplicar), ou seja, se $p(H_0) > 0.5$ não rejeitamos a hipótese. Neste caso conhecemos a média e a variância amostral.\n",
    "\n",
    "Será utilizada a média amostral padronizada do ponto anterior como estatístico de teste. Adotando o nível de significância de 0.95, está sendo buscada uma regra que deixe um valor de $p > 0.05$ de rejeição quando H0 for verdadeira."
   ]
  },
  {
   "cell_type": "code",
   "execution_count": 8,
   "metadata": {},
   "outputs": [
    {
     "data": {
      "text/plain": [
       "(0.2959766533226802, 0.4706900133439865)"
      ]
     },
     "execution_count": 8,
     "metadata": {},
     "output_type": "execute_result"
    }
   ],
   "source": [
    "# Calculando manualmente, com base na fórmula (utilizando o z-score nominal para população)\n",
    "mean = df.compra_ou_não.mean()\n",
    "sigma = df.compra_ou_não.std()\n",
    "n = len(df.compra_ou_não)\n",
    "\n",
    "mean - 1.96*sigma/np.sqrt(n), mean + 1.96*sigma/np.sqrt(n)\n",
    "# da tabela Z-Score: 0.95 / 2 = 0.4750 --> 1.96"
   ]
  },
  {
   "cell_type": "code",
   "execution_count": 9,
   "metadata": {},
   "outputs": [
    {
     "data": {
      "text/plain": [
       "(0.295978258522175, 0.4706884081444917)"
      ]
     },
     "execution_count": 9,
     "metadata": {},
     "output_type": "execute_result"
    }
   ],
   "source": [
    "# Calculando o intervalo de confiança pelo Scipy.Stats\n",
    "st.norm.interval(alpha=0.95, loc=mean, scale=sigma/np.sqrt(n))"
   ]
  },
  {
   "cell_type": "code",
   "execution_count": 10,
   "metadata": {},
   "outputs": [],
   "source": [
    "limite_inferior = st.norm.interval(alpha=0.95, loc=mean, scale=sigma/np.sqrt(n))[0]\n",
    "limite_superior = st.norm.interval(alpha=0.95, loc=mean, scale=sigma/np.sqrt(n))[1]"
   ]
  },
  {
   "cell_type": "code",
   "execution_count": 11,
   "metadata": {},
   "outputs": [
    {
     "data": {
      "text/plain": [
       "False"
      ]
     },
     "execution_count": 11,
     "metadata": {},
     "output_type": "execute_result"
    }
   ],
   "source": [
    "# Comparando com a hopótese\n",
    "\n",
    "p_H0 = 0.5\n",
    "\n",
    "limite_inferior < p_H0 < limite_superior"
   ]
  },
  {
   "cell_type": "markdown",
   "metadata": {},
   "source": [
    "Podemos perceber que o valor de p_Ho=0.5 também está fora do intervalo de confiança (zona de rejeição), o que nos faz rejeitar a hipótese Ho."
   ]
  },
  {
   "cell_type": "markdown",
   "metadata": {},
   "source": [
    "### p-value"
   ]
  },
  {
   "cell_type": "code",
   "execution_count": 16,
   "metadata": {},
   "outputs": [
    {
     "data": {
      "text/plain": [
       "0.004427256462693125"
      ]
     },
     "execution_count": 16,
     "metadata": {},
     "output_type": "execute_result"
    }
   ],
   "source": [
    "# p-value por Scipy.Stats para a normal\n",
    "p_value = st.norm(mean, sigma/np.sqrt(n)).sf(0.5)\n",
    "p_value"
   ]
  },
  {
   "cell_type": "code",
   "execution_count": 15,
   "metadata": {},
   "outputs": [
    {
     "data": {
      "text/plain": [
       "False"
      ]
     },
     "execution_count": 15,
     "metadata": {},
     "output_type": "execute_result"
    }
   ],
   "source": [
    "from math import fabs\n",
    "# Comparando\n",
    "fabs(p_value) > 0.05"
   ]
  },
  {
   "cell_type": "markdown",
   "metadata": {},
   "source": [
    "o p-value está fora do intervalo de confiança (menos que 0.05 em módulo), portanto reforçamos a mesma conclusão de rejeitar a hipótese Ho."
   ]
  },
  {
   "cell_type": "code",
   "execution_count": 17,
   "metadata": {},
   "outputs": [
    {
     "data": {
      "text/plain": [
       "Ttest_1sampResult(statistic=-2.617620846382675, pvalue=0.010004294006988495)"
      ]
     },
     "execution_count": 17,
     "metadata": {},
     "output_type": "execute_result"
    }
   ],
   "source": [
    "# Calculando as estatísticas por Scipy.Stats para t-student (retorna o Z-score amostral e o p-value)\n",
    "\n",
    "st.ttest_1samp(df.compra_ou_não, 0.5) "
   ]
  },
  {
   "cell_type": "code",
   "execution_count": 18,
   "metadata": {},
   "outputs": [
    {
     "data": {
      "text/plain": [
       "compra_ou_não   -2.617621\n",
       "dtype: float64"
      ]
     },
     "execution_count": 18,
     "metadata": {},
     "output_type": "execute_result"
    }
   ],
   "source": [
    "# Cálculo do Z-score para a amostra\n",
    "p_H0=0.5\n",
    "z_teste = (market_share_amostral-p_H0) / (std/(obs**(0.5)))\n",
    "z_teste"
   ]
  },
  {
   "cell_type": "code",
   "execution_count": 19,
   "metadata": {},
   "outputs": [
    {
     "data": {
      "text/plain": [
       "False"
      ]
     },
     "execution_count": 19,
     "metadata": {},
     "output_type": "execute_result"
    }
   ],
   "source": [
    "#A decisão é...\n",
    "\n",
    "z_score = 1.96 # Z score para a significância de 95% é de -1.96 a 1.96\n",
    "\n",
    "from math import fabs # fabs retorna o módulo do valor.\n",
    "fabs(z_teste) < fabs(z_score)"
   ]
  },
  {
   "cell_type": "markdown",
   "metadata": {},
   "source": [
    "O valor do z-score=-2.62 para a p_Ho=0.5 não está contido no intervalo de confiança com alpha=0.05, pois está fora do intervalo crítico(-1.96 <--> 1.96). Vamos confirmar esta condição pelos outros indicadores."
   ]
  },
  {
   "cell_type": "code",
   "execution_count": 20,
   "metadata": {},
   "outputs": [
    {
     "data": {
      "text/plain": [
       "0.9955727435373068"
      ]
     },
     "execution_count": 20,
     "metadata": {},
     "output_type": "execute_result"
    }
   ],
   "source": [
    "# calculando o alpha máximo para o valor da hipótese\n",
    "alpha_max = 1-st.norm(mean, sigma/np.sqrt(n)).sf(0.5)\n",
    "alpha_max"
   ]
  },
  {
   "cell_type": "code",
   "execution_count": 21,
   "metadata": {},
   "outputs": [
    {
     "data": {
      "text/plain": [
       "[Text(0, 0.5, 'density'), Text(0.5, 0, 'conversion rate')]"
      ]
     },
     "execution_count": 21,
     "metadata": {},
     "output_type": "execute_result"
    },
    {
     "data": {
      "image/png": "[encoded data removed]",
      "text/plain": [
       "<Figure size 432x288 with 1 Axes>"
      ]
     },
     "metadata": {
      "needs_background": "light"
     },
     "output_type": "display_data"
    }
   ],
   "source": [
    "# plotando a curva beta dos dados para verificar o comportamento da distribuição\n",
    "from scipy.stats import beta\n",
    "import matplotlib.pyplot as plt\n",
    "\n",
    "# Para o gráfico\n",
    "fig, ax = plt.subplots(1, 1) \n",
    "\n",
    "# Gerando a distribuição\n",
    "beta_distribution = beta(100*market_share_amostral,100-100*market_share_amostral)\n",
    "\n",
    "# Plotando a destribuição\n",
    "\n",
    "x = np.linspace(0., 1.0, 120)\n",
    "\n",
    "ax.plot(x, beta_distribution.pdf(x))\n",
    "\n",
    "ax.set(xlabel='conversion rate', ylabel='density')"
   ]
  },
  {
   "cell_type": "code",
   "execution_count": null,
   "metadata": {},
   "outputs": [],
   "source": []
  },
  {
   "cell_type": "code",
   "execution_count": null,
   "metadata": {},
   "outputs": [],
   "source": []
  }
 ],
 "metadata": {
  "kernelspec": {
   "display_name": "Python 3",
   "language": "python",
   "name": "python3"
  },
  "language_info": {
   "codemirror_mode": {
    "name": "ipython",
    "version": 3
   },
   "file_extension": ".py",
   "mimetype": "text/x-python",
   "name": "python",
   "nbconvert_exporter": "python",
   "pygments_lexer": "ipython3",
   "version": "3.7.1"
  }
 },
 "nbformat": 4,
 "nbformat_minor": 2
}
